{
 "cells": [
  {
   "cell_type": "markdown",
   "metadata": {},
   "source": [
    "<h1 align=center>矢量数据清洗1:获取元数据信息</h1>\n",
    "----\n",
    "* 作者: 吴立宗\n",
    "* 时间: 2016-7-2\n",
    "* 软件: QGIS(http://www.qgis.com/)\n",
    "* 参考：http://www.gdal.org/ogr2ogr.html\n",
    "* 目标:\n",
    " * 数据编码\n",
    " * 数据结构信息\n",
    " * 矢量数据类型信息\n",
    "\n",
    "* 相关工具：\n",
    " * ogrinfo\n",
    " * ogr2ogr\n",
    " * QGIS\n",
    " * 编码与字符集\n",
    " * 转换字符集\n",
    " * 地图投影转换\n",
    " * 图层合并\n",
    " * 地图切割\n",
    " * 字段名修改\n",
    " * 提取特定字段"
   ]
  },
  {
   "cell_type": "markdown",
   "metadata": {},
   "source": [
    "## 1.安装Geopandas"
   ]
  },
  {
   "cell_type": "raw",
   "metadata": {},
   "source": [
    "conda install -c ioos geopandas=0.2.0.dev0"
   ]
  },
  {
   "cell_type": "markdown",
   "metadata": {},
   "source": [
    "## 2.数据编码\n",
    "* 含有中文的数据，编码一般为gbk、gb2312或utf8\n",
    "* 可通过geopandas的enconding编码来验证编码的准确性"
   ]
  },
  {
   "cell_type": "code",
   "execution_count": 5,
   "metadata": {
    "collapsed": true
   },
   "outputs": [],
   "source": [
    "import geopandas as gp"
   ]
  },
  {
   "cell_type": "code",
   "execution_count": 4,
   "metadata": {
    "collapsed": true
   },
   "outputs": [],
   "source": [
    "shapefile_1='data/China_boundary_province.shp'\n",
    "shapefile_2='data/countypolygon_1986.shp'"
   ]
  },
  {
   "cell_type": "markdown",
   "metadata": {},
   "source": [
    "### 1.1查看数据编码\n",
    "#### 1）对编码为gb2312数据开展的试验"
   ]
  },
  {
   "cell_type": "markdown",
   "metadata": {},
   "source": [
    "* 不设置编码的情况下，中文显示乱码"
   ]
  },
  {
   "cell_type": "code",
   "execution_count": 9,
   "metadata": {
    "collapsed": false
   },
   "outputs": [
    {
     "data": {
      "text/html": [
       "<div>\n",
       "<table border=\"1\" class=\"dataframe\">\n",
       "  <thead>\n",
       "    <tr style=\"text-align: right;\">\n",
       "      <th></th>\n",
       "      <th>CLASID</th>\n",
       "      <th>CLASID92</th>\n",
       "      <th>CLASID_XM</th>\n",
       "      <th>ELEMID</th>\n",
       "      <th>ENTIID</th>\n",
       "      <th>NAME</th>\n",
       "      <th>OBJECTID</th>\n",
       "      <th>Shape_Area</th>\n",
       "      <th>Shape_Leng</th>\n",
       "      <th>geometry</th>\n",
       "    </tr>\n",
       "  </thead>\n",
       "  <tbody>\n",
       "    <tr>\n",
       "      <th>0</th>\n",
       "      <td>630100</td>\n",
       "      <td>460000</td>\n",
       "      <td>1160301000</td>\n",
       "      <td>None</td>\n",
       "      <td>1CHN460000000</td>\n",
       "      <td>º£ÄÏÊ¡</td>\n",
       "      <td>1</td>\n",
       "      <td>0.001854</td>\n",
       "      <td>0.156253</td>\n",
       "      <td>POLYGON ((112.0391921999012 3.834796428673201,...</td>\n",
       "    </tr>\n",
       "    <tr>\n",
       "      <th>1</th>\n",
       "      <td>630100</td>\n",
       "      <td>460000</td>\n",
       "      <td>1160301000</td>\n",
       "      <td>None</td>\n",
       "      <td>1CHN460000000</td>\n",
       "      <td>º£ÄÏÊ¡</td>\n",
       "      <td>2</td>\n",
       "      <td>0.001574</td>\n",
       "      <td>0.142934</td>\n",
       "      <td>POLYGON ((112.2505187987997 3.863619565713237,...</td>\n",
       "    </tr>\n",
       "    <tr>\n",
       "      <th>2</th>\n",
       "      <td>630100</td>\n",
       "      <td>460000</td>\n",
       "      <td>1160301000</td>\n",
       "      <td>None</td>\n",
       "      <td>1CHN460000000</td>\n",
       "      <td>º£ÄÏÊ¡</td>\n",
       "      <td>3</td>\n",
       "      <td>0.001124</td>\n",
       "      <td>0.120940</td>\n",
       "      <td>POLYGON ((112.2637710571373 3.939680814520955,...</td>\n",
       "    </tr>\n",
       "  </tbody>\n",
       "</table>\n",
       "</div>"
      ],
      "text/plain": [
       "   CLASID CLASID92   CLASID_XM ELEMID         ENTIID    NAME  OBJECTID  \\\n",
       "0  630100   460000  1160301000   None  1CHN460000000  º£ÄÏÊ¡         1   \n",
       "1  630100   460000  1160301000   None  1CHN460000000  º£ÄÏÊ¡         2   \n",
       "2  630100   460000  1160301000   None  1CHN460000000  º£ÄÏÊ¡         3   \n",
       "\n",
       "   Shape_Area  Shape_Leng                                           geometry  \n",
       "0    0.001854    0.156253  POLYGON ((112.0391921999012 3.834796428673201,...  \n",
       "1    0.001574    0.142934  POLYGON ((112.2505187987997 3.863619565713237,...  \n",
       "2    0.001124    0.120940  POLYGON ((112.2637710571373 3.939680814520955,...  "
      ]
     },
     "execution_count": 9,
     "metadata": {},
     "output_type": "execute_result"
    }
   ],
   "source": [
    "df_1=gp.read_file(shapefile_1)\n",
    "df_1.head(n=3)"
   ]
  },
  {
   "cell_type": "markdown",
   "metadata": {},
   "source": [
    "* 当设置编码为utf8编码时，读取过程发生错误"
   ]
  },
  {
   "cell_type": "code",
   "execution_count": 11,
   "metadata": {
    "collapsed": false
   },
   "outputs": [
    {
     "ename": "TypeError",
     "evalue": "function takes exactly 5 arguments (1 given)",
     "output_type": "error",
     "traceback": [
      "\u001b[1;31m---------------------------------------------------------------------------\u001b[0m",
      "\u001b[1;31mUnicodeDecodeError\u001b[0m                        Traceback (most recent call last)",
      "\u001b[1;32mfiona/ogrext.pyx\u001b[0m in \u001b[0;36mfiona.ogrext.FeatureBuilder.build (fiona/ogrext.c:3616)\u001b[1;34m()\u001b[0m\n",
      "\u001b[1;31mUnicodeDecodeError\u001b[0m: 'utf-8' codec can't decode byte 0xba in position 0: invalid start byte",
      "\nDuring handling of the above exception, another exception occurred:\n",
      "\u001b[1;31mTypeError\u001b[0m                                 Traceback (most recent call last)",
      "\u001b[1;32m<ipython-input-11-f81440588b63>\u001b[0m in \u001b[0;36m<module>\u001b[1;34m()\u001b[0m\n\u001b[1;32m----> 1\u001b[1;33m \u001b[0mdf_1\u001b[0m\u001b[1;33m=\u001b[0m\u001b[0mgp\u001b[0m\u001b[1;33m.\u001b[0m\u001b[0mread_file\u001b[0m\u001b[1;33m(\u001b[0m\u001b[0mshapefile_1\u001b[0m\u001b[1;33m,\u001b[0m\u001b[0mencoding\u001b[0m\u001b[1;33m=\u001b[0m\u001b[1;34m'utf8'\u001b[0m\u001b[1;33m)\u001b[0m\u001b[1;33m\u001b[0m\u001b[0m\n\u001b[0m\u001b[0;32m      2\u001b[0m \u001b[0mdf_1\u001b[0m\u001b[1;33m.\u001b[0m\u001b[0mhead\u001b[0m\u001b[1;33m(\u001b[0m\u001b[1;33m)\u001b[0m\u001b[1;33m\u001b[0m\u001b[0m\n",
      "\u001b[1;32mC:\\Anaconda3\\lib\\site-packages\\geopandas\\io\\file.py\u001b[0m in \u001b[0;36mread_file\u001b[1;34m(filename, **kwargs)\u001b[0m\n\u001b[0;32m     26\u001b[0m         \u001b[1;32melse\u001b[0m\u001b[1;33m:\u001b[0m\u001b[1;33m\u001b[0m\u001b[0m\n\u001b[0;32m     27\u001b[0m             \u001b[0mf_filt\u001b[0m \u001b[1;33m=\u001b[0m \u001b[0mf\u001b[0m\u001b[1;33m\u001b[0m\u001b[0m\n\u001b[1;32m---> 28\u001b[1;33m         \u001b[0mgdf\u001b[0m \u001b[1;33m=\u001b[0m \u001b[0mGeoDataFrame\u001b[0m\u001b[1;33m.\u001b[0m\u001b[0mfrom_features\u001b[0m\u001b[1;33m(\u001b[0m\u001b[0mf\u001b[0m\u001b[1;33m,\u001b[0m \u001b[0mcrs\u001b[0m\u001b[1;33m=\u001b[0m\u001b[0mcrs\u001b[0m\u001b[1;33m)\u001b[0m\u001b[1;33m\u001b[0m\u001b[0m\n\u001b[0m\u001b[0;32m     29\u001b[0m \u001b[1;33m\u001b[0m\u001b[0m\n\u001b[0;32m     30\u001b[0m     \u001b[1;32mreturn\u001b[0m \u001b[0mgdf\u001b[0m\u001b[1;33m\u001b[0m\u001b[0m\n",
      "\u001b[1;32mC:\\Anaconda3\\lib\\site-packages\\geopandas\\geodataframe.py\u001b[0m in \u001b[0;36mfrom_features\u001b[1;34m(cls, features, crs)\u001b[0m\n\u001b[0;32m    185\u001b[0m         \"\"\"\n\u001b[0;32m    186\u001b[0m         \u001b[0mrows\u001b[0m \u001b[1;33m=\u001b[0m \u001b[1;33m[\u001b[0m\u001b[1;33m]\u001b[0m\u001b[1;33m\u001b[0m\u001b[0m\n\u001b[1;32m--> 187\u001b[1;33m         \u001b[1;32mfor\u001b[0m \u001b[0mf\u001b[0m \u001b[1;32min\u001b[0m \u001b[0mfeatures\u001b[0m\u001b[1;33m:\u001b[0m\u001b[1;33m\u001b[0m\u001b[0m\n\u001b[0m\u001b[0;32m    188\u001b[0m             \u001b[1;32mif\u001b[0m \u001b[0mhasattr\u001b[0m\u001b[1;33m(\u001b[0m\u001b[0mf\u001b[0m\u001b[1;33m,\u001b[0m \u001b[1;34m\"__geo_interface__\"\u001b[0m\u001b[1;33m)\u001b[0m\u001b[1;33m:\u001b[0m\u001b[1;33m\u001b[0m\u001b[0m\n\u001b[0;32m    189\u001b[0m                 \u001b[0mf\u001b[0m \u001b[1;33m=\u001b[0m \u001b[0mf\u001b[0m\u001b[1;33m.\u001b[0m\u001b[0m__geo_interface__\u001b[0m\u001b[1;33m\u001b[0m\u001b[0m\n",
      "\u001b[1;32mfiona/ogrext.pyx\u001b[0m in \u001b[0;36mfiona.ogrext.Iterator.__next__ (fiona/ogrext.c:19067)\u001b[1;34m()\u001b[0m\n",
      "\u001b[1;32mfiona/ogrext.pyx\u001b[0m in \u001b[0;36mfiona.ogrext.FeatureBuilder.build (fiona/ogrext.c:3746)\u001b[1;34m()\u001b[0m\n",
      "\u001b[1;31mTypeError\u001b[0m: function takes exactly 5 arguments (1 given)"
     ]
    }
   ],
   "source": [
    "df_1=gp.read_file(shapefile_1,encoding='utf8')\n",
    "df_1.head()"
   ]
  },
  {
   "cell_type": "markdown",
   "metadata": {},
   "source": [
    "* 当设置编码为gb2312时，中文显示正确"
   ]
  },
  {
   "cell_type": "code",
   "execution_count": 21,
   "metadata": {
    "collapsed": false
   },
   "outputs": [
    {
     "data": {
      "text/html": [
       "<div>\n",
       "<table border=\"1\" class=\"dataframe\">\n",
       "  <thead>\n",
       "    <tr style=\"text-align: right;\">\n",
       "      <th></th>\n",
       "      <th>CLASID</th>\n",
       "      <th>CLASID92</th>\n",
       "      <th>CLASID_XM</th>\n",
       "      <th>ELEMID</th>\n",
       "      <th>ENTIID</th>\n",
       "      <th>NAME</th>\n",
       "      <th>OBJECTID</th>\n",
       "      <th>Shape_Area</th>\n",
       "      <th>Shape_Leng</th>\n",
       "      <th>geometry</th>\n",
       "    </tr>\n",
       "  </thead>\n",
       "  <tbody>\n",
       "    <tr>\n",
       "      <th>0</th>\n",
       "      <td>630100</td>\n",
       "      <td>460000</td>\n",
       "      <td>1160301000</td>\n",
       "      <td>None</td>\n",
       "      <td>1CHN460000000</td>\n",
       "      <td>海南省</td>\n",
       "      <td>1</td>\n",
       "      <td>0.001854</td>\n",
       "      <td>0.156253</td>\n",
       "      <td>POLYGON ((112.0391921999012 3.834796428673201,...</td>\n",
       "    </tr>\n",
       "    <tr>\n",
       "      <th>1</th>\n",
       "      <td>630100</td>\n",
       "      <td>460000</td>\n",
       "      <td>1160301000</td>\n",
       "      <td>None</td>\n",
       "      <td>1CHN460000000</td>\n",
       "      <td>海南省</td>\n",
       "      <td>2</td>\n",
       "      <td>0.001574</td>\n",
       "      <td>0.142934</td>\n",
       "      <td>POLYGON ((112.2505187987997 3.863619565713237,...</td>\n",
       "    </tr>\n",
       "    <tr>\n",
       "      <th>2</th>\n",
       "      <td>630100</td>\n",
       "      <td>460000</td>\n",
       "      <td>1160301000</td>\n",
       "      <td>None</td>\n",
       "      <td>1CHN460000000</td>\n",
       "      <td>海南省</td>\n",
       "      <td>3</td>\n",
       "      <td>0.001124</td>\n",
       "      <td>0.120940</td>\n",
       "      <td>POLYGON ((112.2637710571373 3.939680814520955,...</td>\n",
       "    </tr>\n",
       "  </tbody>\n",
       "</table>\n",
       "</div>"
      ],
      "text/plain": [
       "   CLASID CLASID92   CLASID_XM ELEMID         ENTIID NAME  OBJECTID  \\\n",
       "0  630100   460000  1160301000   None  1CHN460000000  海南省         1   \n",
       "1  630100   460000  1160301000   None  1CHN460000000  海南省         2   \n",
       "2  630100   460000  1160301000   None  1CHN460000000  海南省         3   \n",
       "\n",
       "   Shape_Area  Shape_Leng                                           geometry  \n",
       "0    0.001854    0.156253  POLYGON ((112.0391921999012 3.834796428673201,...  \n",
       "1    0.001574    0.142934  POLYGON ((112.2505187987997 3.863619565713237,...  \n",
       "2    0.001124    0.120940  POLYGON ((112.2637710571373 3.939680814520955,...  "
      ]
     },
     "execution_count": 21,
     "metadata": {},
     "output_type": "execute_result"
    }
   ],
   "source": [
    "df_1=gp.read_file(shapefile_1,encoding='gb2312')\n",
    "df_1.head(n=3)"
   ]
  },
  {
   "cell_type": "markdown",
   "metadata": {},
   "source": [
    "* 采用gbk编码时,显示也是正确的\n",
    "* 因为gbk是gb2312的扩展，向下兼容gb2312，所以该数据的编码是gb2312，但也可以设置为gbk"
   ]
  },
  {
   "cell_type": "code",
   "execution_count": 22,
   "metadata": {
    "collapsed": false
   },
   "outputs": [
    {
     "data": {
      "text/html": [
       "<div>\n",
       "<table border=\"1\" class=\"dataframe\">\n",
       "  <thead>\n",
       "    <tr style=\"text-align: right;\">\n",
       "      <th></th>\n",
       "      <th>CLASID</th>\n",
       "      <th>CLASID92</th>\n",
       "      <th>CLASID_XM</th>\n",
       "      <th>ELEMID</th>\n",
       "      <th>ENTIID</th>\n",
       "      <th>NAME</th>\n",
       "      <th>OBJECTID</th>\n",
       "      <th>Shape_Area</th>\n",
       "      <th>Shape_Leng</th>\n",
       "      <th>geometry</th>\n",
       "    </tr>\n",
       "  </thead>\n",
       "  <tbody>\n",
       "    <tr>\n",
       "      <th>0</th>\n",
       "      <td>630100</td>\n",
       "      <td>460000</td>\n",
       "      <td>1160301000</td>\n",
       "      <td>None</td>\n",
       "      <td>1CHN460000000</td>\n",
       "      <td>海南省</td>\n",
       "      <td>1</td>\n",
       "      <td>0.001854</td>\n",
       "      <td>0.156253</td>\n",
       "      <td>POLYGON ((112.0391921999012 3.834796428673201,...</td>\n",
       "    </tr>\n",
       "    <tr>\n",
       "      <th>1</th>\n",
       "      <td>630100</td>\n",
       "      <td>460000</td>\n",
       "      <td>1160301000</td>\n",
       "      <td>None</td>\n",
       "      <td>1CHN460000000</td>\n",
       "      <td>海南省</td>\n",
       "      <td>2</td>\n",
       "      <td>0.001574</td>\n",
       "      <td>0.142934</td>\n",
       "      <td>POLYGON ((112.2505187987997 3.863619565713237,...</td>\n",
       "    </tr>\n",
       "    <tr>\n",
       "      <th>2</th>\n",
       "      <td>630100</td>\n",
       "      <td>460000</td>\n",
       "      <td>1160301000</td>\n",
       "      <td>None</td>\n",
       "      <td>1CHN460000000</td>\n",
       "      <td>海南省</td>\n",
       "      <td>3</td>\n",
       "      <td>0.001124</td>\n",
       "      <td>0.120940</td>\n",
       "      <td>POLYGON ((112.2637710571373 3.939680814520955,...</td>\n",
       "    </tr>\n",
       "  </tbody>\n",
       "</table>\n",
       "</div>"
      ],
      "text/plain": [
       "   CLASID CLASID92   CLASID_XM ELEMID         ENTIID NAME  OBJECTID  \\\n",
       "0  630100   460000  1160301000   None  1CHN460000000  海南省         1   \n",
       "1  630100   460000  1160301000   None  1CHN460000000  海南省         2   \n",
       "2  630100   460000  1160301000   None  1CHN460000000  海南省         3   \n",
       "\n",
       "   Shape_Area  Shape_Leng                                           geometry  \n",
       "0    0.001854    0.156253  POLYGON ((112.0391921999012 3.834796428673201,...  \n",
       "1    0.001574    0.142934  POLYGON ((112.2505187987997 3.863619565713237,...  \n",
       "2    0.001124    0.120940  POLYGON ((112.2637710571373 3.939680814520955,...  "
      ]
     },
     "execution_count": 22,
     "metadata": {},
     "output_type": "execute_result"
    }
   ],
   "source": [
    "df_1=gp.read_file(shapefile_1,encoding='gbk')\n",
    "df_1.head(n=3)"
   ]
  },
  {
   "cell_type": "markdown",
   "metadata": {},
   "source": [
    "#### 2）对编码为gbk数据开展的试验"
   ]
  },
  {
   "cell_type": "markdown",
   "metadata": {},
   "source": [
    "* 不设置任何编码时，数据可以打开，但中文显示乱码"
   ]
  },
  {
   "cell_type": "code",
   "execution_count": 18,
   "metadata": {
    "collapsed": false
   },
   "outputs": [
    {
     "data": {
      "text/html": [
       "<div>\n",
       "<table border=\"1\" class=\"dataframe\">\n",
       "  <thead>\n",
       "    <tr style=\"text-align: right;\">\n",
       "      <th></th>\n",
       "      <th>CLASID</th>\n",
       "      <th>CNTY_CODE</th>\n",
       "      <th>FULLNAME</th>\n",
       "      <th>NAME</th>\n",
       "      <th>PYNAME</th>\n",
       "      <th>Shape_Area</th>\n",
       "      <th>Shape_Leng</th>\n",
       "      <th>code99</th>\n",
       "      <th>data_year</th>\n",
       "      <th>dq_name</th>\n",
       "      <th>geometry</th>\n",
       "      <th>note0</th>\n",
       "      <th>note1</th>\n",
       "      <th>note2</th>\n",
       "      <th>note3</th>\n",
       "      <th>prov_name</th>\n",
       "    </tr>\n",
       "  </thead>\n",
       "  <tbody>\n",
       "    <tr>\n",
       "      <th>0</th>\n",
       "      <td>622124</td>\n",
       "      <td>622124.0</td>\n",
       "      <td>Ëà±±ÃÉ¹Å×å×ÔÖÎÏØ(µ³³ÇÍåÕò)</td>\n",
       "      <td>Ëà±±ÃÉ¹Å×å×ÔÖÎÏØ</td>\n",
       "      <td>Subei Mongolzu Zizhixian</td>\n",
       "      <td>3.352901</td>\n",
       "      <td>8.306649</td>\n",
       "      <td>622124.0</td>\n",
       "      <td>1986</td>\n",
       "      <td>¾ÆÈªµØÇø</td>\n",
       "      <td>POLYGON ((-553643.3599347003 4421856.699268692...</td>\n",
       "      <td>None</td>\n",
       "      <td>None</td>\n",
       "      <td>None</td>\n",
       "      <td>None</td>\n",
       "      <td>¸ÊËàÊ¡</td>\n",
       "    </tr>\n",
       "    <tr>\n",
       "      <th>1</th>\n",
       "      <td>622126</td>\n",
       "      <td>622126.0</td>\n",
       "      <td>°²Î÷ÏØ(Ô¨ÈªÕò)</td>\n",
       "      <td>°²Î÷ÏØ</td>\n",
       "      <td>Anxi Xian</td>\n",
       "      <td>2.555585</td>\n",
       "      <td>7.202310</td>\n",
       "      <td>622126.0</td>\n",
       "      <td>1986</td>\n",
       "      <td>¾ÆÈªµØÇø</td>\n",
       "      <td>POLYGON ((-665979.8115049369 4414252.088622529...</td>\n",
       "      <td>None</td>\n",
       "      <td>None</td>\n",
       "      <td>None</td>\n",
       "      <td>None</td>\n",
       "      <td>¸ÊËàÊ¡</td>\n",
       "    </tr>\n",
       "    <tr>\n",
       "      <th>2</th>\n",
       "      <td>622122</td>\n",
       "      <td>622122.0</td>\n",
       "      <td>¶Ø»ÍÊÐ</td>\n",
       "      <td>¶Ø»ÍÏØ</td>\n",
       "      <td>Dunhuang Xian</td>\n",
       "      <td>2.701899</td>\n",
       "      <td>8.296685</td>\n",
       "      <td>622103.0</td>\n",
       "      <td>1986</td>\n",
       "      <td>¾ÆÈªµØÇø</td>\n",
       "      <td>POLYGON ((-796057.9179359551 4340951.159184634...</td>\n",
       "      <td>None</td>\n",
       "      <td>None</td>\n",
       "      <td>None</td>\n",
       "      <td>None</td>\n",
       "      <td>¸ÊËàÊ¡</td>\n",
       "    </tr>\n",
       "    <tr>\n",
       "      <th>3</th>\n",
       "      <td>622101</td>\n",
       "      <td>622101.0</td>\n",
       "      <td>¾ÆÈªµØÇø(¾ÆÈªÊÐ)</td>\n",
       "      <td>ÓñÃÅÊÐ</td>\n",
       "      <td>Yumen Shi</td>\n",
       "      <td>1.427713</td>\n",
       "      <td>5.581785</td>\n",
       "      <td>622101.0</td>\n",
       "      <td>1986</td>\n",
       "      <td>¾ÆÈªµØÇø</td>\n",
       "      <td>POLYGON ((-553643.3599347003 4421856.699268692...</td>\n",
       "      <td>None</td>\n",
       "      <td>None</td>\n",
       "      <td>None</td>\n",
       "      <td>None</td>\n",
       "      <td>¸ÊËàÊ¡</td>\n",
       "    </tr>\n",
       "    <tr>\n",
       "      <th>4</th>\n",
       "      <td>622123</td>\n",
       "      <td>622123.0</td>\n",
       "      <td>½ðËþÏØ(½ðËþÕò)</td>\n",
       "      <td>½ðËþÏØ</td>\n",
       "      <td>Jinta Xian</td>\n",
       "      <td>1.591146</td>\n",
       "      <td>6.382461</td>\n",
       "      <td>622123.0</td>\n",
       "      <td>1986</td>\n",
       "      <td>¾ÆÈªµØÇø</td>\n",
       "      <td>POLYGON ((-552314.8232637794 4421363.604625415...</td>\n",
       "      <td>None</td>\n",
       "      <td>None</td>\n",
       "      <td>None</td>\n",
       "      <td>None</td>\n",
       "      <td>¸ÊËàÊ¡</td>\n",
       "    </tr>\n",
       "  </tbody>\n",
       "</table>\n",
       "</div>"
      ],
      "text/plain": [
       "   CLASID  CNTY_CODE                    FULLNAME              NAME  \\\n",
       "0  622124   622124.0  Ëà±±ÃÉ¹Å×å×ÔÖÎÏØ(µ³³ÇÍåÕò)  Ëà±±ÃÉ¹Å×å×ÔÖÎÏØ   \n",
       "1  622126   622126.0              °²Î÷ÏØ(Ô¨ÈªÕò)            °²Î÷ÏØ   \n",
       "2  622122   622122.0                      ¶Ø»ÍÊÐ            ¶Ø»ÍÏØ   \n",
       "3  622101   622101.0            ¾ÆÈªµØÇø(¾ÆÈªÊÐ)            ÓñÃÅÊÐ   \n",
       "4  622123   622123.0              ½ðËþÏØ(½ðËþÕò)            ½ðËþÏØ   \n",
       "\n",
       "                     PYNAME  Shape_Area  Shape_Leng    code99  data_year  \\\n",
       "0  Subei Mongolzu Zizhixian    3.352901    8.306649  622124.0       1986   \n",
       "1                 Anxi Xian    2.555585    7.202310  622126.0       1986   \n",
       "2             Dunhuang Xian    2.701899    8.296685  622103.0       1986   \n",
       "3                 Yumen Shi    1.427713    5.581785  622101.0       1986   \n",
       "4                Jinta Xian    1.591146    6.382461  622123.0       1986   \n",
       "\n",
       "    dq_name                                           geometry note0 note1  \\\n",
       "0  ¾ÆÈªµØÇø  POLYGON ((-553643.3599347003 4421856.699268692...  None  None   \n",
       "1  ¾ÆÈªµØÇø  POLYGON ((-665979.8115049369 4414252.088622529...  None  None   \n",
       "2  ¾ÆÈªµØÇø  POLYGON ((-796057.9179359551 4340951.159184634...  None  None   \n",
       "3  ¾ÆÈªµØÇø  POLYGON ((-553643.3599347003 4421856.699268692...  None  None   \n",
       "4  ¾ÆÈªµØÇø  POLYGON ((-552314.8232637794 4421363.604625415...  None  None   \n",
       "\n",
       "  note2 note3 prov_name  \n",
       "0  None  None    ¸ÊËàÊ¡  \n",
       "1  None  None    ¸ÊËàÊ¡  \n",
       "2  None  None    ¸ÊËàÊ¡  \n",
       "3  None  None    ¸ÊËàÊ¡  \n",
       "4  None  None    ¸ÊËàÊ¡  "
      ]
     },
     "execution_count": 18,
     "metadata": {},
     "output_type": "execute_result"
    }
   ],
   "source": [
    "df_2=gp.read_file(shapefile_2)\n",
    "df_2.head()"
   ]
  },
  {
   "cell_type": "markdown",
   "metadata": {},
   "source": [
    "* 当设置编码为gb2312时，数据无法正常打开"
   ]
  },
  {
   "cell_type": "code",
   "execution_count": 27,
   "metadata": {
    "collapsed": false
   },
   "outputs": [
    {
     "ename": "TypeError",
     "evalue": "function takes exactly 5 arguments (1 given)",
     "output_type": "error",
     "traceback": [
      "\u001b[1;31m---------------------------------------------------------------------------\u001b[0m",
      "\u001b[1;31mUnicodeDecodeError\u001b[0m                        Traceback (most recent call last)",
      "\u001b[1;32mfiona/ogrext.pyx\u001b[0m in \u001b[0;36mfiona.ogrext.FeatureBuilder.build (fiona/ogrext.c:3616)\u001b[1;34m()\u001b[0m\n",
      "\u001b[1;31mUnicodeDecodeError\u001b[0m: 'gb2312' codec can't decode byte 0x88 in position 9: illegal multibyte sequence",
      "\nDuring handling of the above exception, another exception occurred:\n",
      "\u001b[1;31mTypeError\u001b[0m                                 Traceback (most recent call last)",
      "\u001b[1;32m<ipython-input-27-909314f65a81>\u001b[0m in \u001b[0;36m<module>\u001b[1;34m()\u001b[0m\n\u001b[1;32m----> 1\u001b[1;33m \u001b[0mdf_2\u001b[0m\u001b[1;33m=\u001b[0m\u001b[0mgp\u001b[0m\u001b[1;33m.\u001b[0m\u001b[0mread_file\u001b[0m\u001b[1;33m(\u001b[0m\u001b[0mshapefile_2\u001b[0m\u001b[1;33m,\u001b[0m\u001b[0mencoding\u001b[0m\u001b[1;33m=\u001b[0m\u001b[1;34m'gb2312'\u001b[0m\u001b[1;33m)\u001b[0m\u001b[1;33m\u001b[0m\u001b[0m\n\u001b[0m\u001b[0;32m      2\u001b[0m \u001b[0mdf_2\u001b[0m\u001b[1;33m.\u001b[0m\u001b[0mhead\u001b[0m\u001b[1;33m(\u001b[0m\u001b[1;33m)\u001b[0m\u001b[1;33m\u001b[0m\u001b[0m\n",
      "\u001b[1;32mC:\\Anaconda3\\lib\\site-packages\\geopandas\\io\\file.py\u001b[0m in \u001b[0;36mread_file\u001b[1;34m(filename, **kwargs)\u001b[0m\n\u001b[0;32m     26\u001b[0m         \u001b[1;32melse\u001b[0m\u001b[1;33m:\u001b[0m\u001b[1;33m\u001b[0m\u001b[0m\n\u001b[0;32m     27\u001b[0m             \u001b[0mf_filt\u001b[0m \u001b[1;33m=\u001b[0m \u001b[0mf\u001b[0m\u001b[1;33m\u001b[0m\u001b[0m\n\u001b[1;32m---> 28\u001b[1;33m         \u001b[0mgdf\u001b[0m \u001b[1;33m=\u001b[0m \u001b[0mGeoDataFrame\u001b[0m\u001b[1;33m.\u001b[0m\u001b[0mfrom_features\u001b[0m\u001b[1;33m(\u001b[0m\u001b[0mf\u001b[0m\u001b[1;33m,\u001b[0m \u001b[0mcrs\u001b[0m\u001b[1;33m=\u001b[0m\u001b[0mcrs\u001b[0m\u001b[1;33m)\u001b[0m\u001b[1;33m\u001b[0m\u001b[0m\n\u001b[0m\u001b[0;32m     29\u001b[0m \u001b[1;33m\u001b[0m\u001b[0m\n\u001b[0;32m     30\u001b[0m     \u001b[1;32mreturn\u001b[0m \u001b[0mgdf\u001b[0m\u001b[1;33m\u001b[0m\u001b[0m\n",
      "\u001b[1;32mC:\\Anaconda3\\lib\\site-packages\\geopandas\\geodataframe.py\u001b[0m in \u001b[0;36mfrom_features\u001b[1;34m(cls, features, crs)\u001b[0m\n\u001b[0;32m    185\u001b[0m         \"\"\"\n\u001b[0;32m    186\u001b[0m         \u001b[0mrows\u001b[0m \u001b[1;33m=\u001b[0m \u001b[1;33m[\u001b[0m\u001b[1;33m]\u001b[0m\u001b[1;33m\u001b[0m\u001b[0m\n\u001b[1;32m--> 187\u001b[1;33m         \u001b[1;32mfor\u001b[0m \u001b[0mf\u001b[0m \u001b[1;32min\u001b[0m \u001b[0mfeatures\u001b[0m\u001b[1;33m:\u001b[0m\u001b[1;33m\u001b[0m\u001b[0m\n\u001b[0m\u001b[0;32m    188\u001b[0m             \u001b[1;32mif\u001b[0m \u001b[0mhasattr\u001b[0m\u001b[1;33m(\u001b[0m\u001b[0mf\u001b[0m\u001b[1;33m,\u001b[0m \u001b[1;34m\"__geo_interface__\"\u001b[0m\u001b[1;33m)\u001b[0m\u001b[1;33m:\u001b[0m\u001b[1;33m\u001b[0m\u001b[0m\n\u001b[0;32m    189\u001b[0m                 \u001b[0mf\u001b[0m \u001b[1;33m=\u001b[0m \u001b[0mf\u001b[0m\u001b[1;33m.\u001b[0m\u001b[0m__geo_interface__\u001b[0m\u001b[1;33m\u001b[0m\u001b[0m\n",
      "\u001b[1;32mfiona/ogrext.pyx\u001b[0m in \u001b[0;36mfiona.ogrext.Iterator.__next__ (fiona/ogrext.c:19067)\u001b[1;34m()\u001b[0m\n",
      "\u001b[1;32mfiona/ogrext.pyx\u001b[0m in \u001b[0;36mfiona.ogrext.FeatureBuilder.build (fiona/ogrext.c:3746)\u001b[1;34m()\u001b[0m\n",
      "\u001b[1;31mTypeError\u001b[0m: function takes exactly 5 arguments (1 given)"
     ]
    }
   ],
   "source": [
    "df_2=gp.read_file(shapefile_2,encoding='gb2312')\n",
    "df_2.head()"
   ]
  },
  {
   "cell_type": "markdown",
   "metadata": {},
   "source": [
    "* 当设置编码为gbk时，数据可以正常打开，且中文显示正确。\n",
    "* 说明数据是采用gbk编码的"
   ]
  },
  {
   "cell_type": "code",
   "execution_count": 20,
   "metadata": {
    "collapsed": false
   },
   "outputs": [
    {
     "data": {
      "text/html": [
       "<div>\n",
       "<table border=\"1\" class=\"dataframe\">\n",
       "  <thead>\n",
       "    <tr style=\"text-align: right;\">\n",
       "      <th></th>\n",
       "      <th>CLASID</th>\n",
       "      <th>CNTY_CODE</th>\n",
       "      <th>FULLNAME</th>\n",
       "      <th>NAME</th>\n",
       "      <th>PYNAME</th>\n",
       "      <th>Shape_Area</th>\n",
       "      <th>Shape_Leng</th>\n",
       "      <th>code99</th>\n",
       "      <th>data_year</th>\n",
       "      <th>dq_name</th>\n",
       "      <th>geometry</th>\n",
       "      <th>note0</th>\n",
       "      <th>note1</th>\n",
       "      <th>note2</th>\n",
       "      <th>note3</th>\n",
       "      <th>prov_name</th>\n",
       "    </tr>\n",
       "  </thead>\n",
       "  <tbody>\n",
       "    <tr>\n",
       "      <th>0</th>\n",
       "      <td>622124</td>\n",
       "      <td>622124.0</td>\n",
       "      <td>肃北蒙古族自治县(党城湾镇)</td>\n",
       "      <td>肃北蒙古族自治县</td>\n",
       "      <td>Subei Mongolzu Zizhixian</td>\n",
       "      <td>3.352901</td>\n",
       "      <td>8.306649</td>\n",
       "      <td>622124.0</td>\n",
       "      <td>1986</td>\n",
       "      <td>酒泉地区</td>\n",
       "      <td>POLYGON ((-553643.3599347003 4421856.699268692...</td>\n",
       "      <td>None</td>\n",
       "      <td>None</td>\n",
       "      <td>None</td>\n",
       "      <td>None</td>\n",
       "      <td>甘肃省</td>\n",
       "    </tr>\n",
       "    <tr>\n",
       "      <th>1</th>\n",
       "      <td>622126</td>\n",
       "      <td>622126.0</td>\n",
       "      <td>安西县(渊泉镇)</td>\n",
       "      <td>安西县</td>\n",
       "      <td>Anxi Xian</td>\n",
       "      <td>2.555585</td>\n",
       "      <td>7.202310</td>\n",
       "      <td>622126.0</td>\n",
       "      <td>1986</td>\n",
       "      <td>酒泉地区</td>\n",
       "      <td>POLYGON ((-665979.8115049369 4414252.088622529...</td>\n",
       "      <td>None</td>\n",
       "      <td>None</td>\n",
       "      <td>None</td>\n",
       "      <td>None</td>\n",
       "      <td>甘肃省</td>\n",
       "    </tr>\n",
       "    <tr>\n",
       "      <th>2</th>\n",
       "      <td>622122</td>\n",
       "      <td>622122.0</td>\n",
       "      <td>敦煌市</td>\n",
       "      <td>敦煌县</td>\n",
       "      <td>Dunhuang Xian</td>\n",
       "      <td>2.701899</td>\n",
       "      <td>8.296685</td>\n",
       "      <td>622103.0</td>\n",
       "      <td>1986</td>\n",
       "      <td>酒泉地区</td>\n",
       "      <td>POLYGON ((-796057.9179359551 4340951.159184634...</td>\n",
       "      <td>None</td>\n",
       "      <td>None</td>\n",
       "      <td>None</td>\n",
       "      <td>None</td>\n",
       "      <td>甘肃省</td>\n",
       "    </tr>\n",
       "    <tr>\n",
       "      <th>3</th>\n",
       "      <td>622101</td>\n",
       "      <td>622101.0</td>\n",
       "      <td>酒泉地区(酒泉市)</td>\n",
       "      <td>玉门市</td>\n",
       "      <td>Yumen Shi</td>\n",
       "      <td>1.427713</td>\n",
       "      <td>5.581785</td>\n",
       "      <td>622101.0</td>\n",
       "      <td>1986</td>\n",
       "      <td>酒泉地区</td>\n",
       "      <td>POLYGON ((-553643.3599347003 4421856.699268692...</td>\n",
       "      <td>None</td>\n",
       "      <td>None</td>\n",
       "      <td>None</td>\n",
       "      <td>None</td>\n",
       "      <td>甘肃省</td>\n",
       "    </tr>\n",
       "    <tr>\n",
       "      <th>4</th>\n",
       "      <td>622123</td>\n",
       "      <td>622123.0</td>\n",
       "      <td>金塔县(金塔镇)</td>\n",
       "      <td>金塔县</td>\n",
       "      <td>Jinta Xian</td>\n",
       "      <td>1.591146</td>\n",
       "      <td>6.382461</td>\n",
       "      <td>622123.0</td>\n",
       "      <td>1986</td>\n",
       "      <td>酒泉地区</td>\n",
       "      <td>POLYGON ((-552314.8232637794 4421363.604625415...</td>\n",
       "      <td>None</td>\n",
       "      <td>None</td>\n",
       "      <td>None</td>\n",
       "      <td>None</td>\n",
       "      <td>甘肃省</td>\n",
       "    </tr>\n",
       "  </tbody>\n",
       "</table>\n",
       "</div>"
      ],
      "text/plain": [
       "   CLASID  CNTY_CODE        FULLNAME      NAME                    PYNAME  \\\n",
       "0  622124   622124.0  肃北蒙古族自治县(党城湾镇)  肃北蒙古族自治县  Subei Mongolzu Zizhixian   \n",
       "1  622126   622126.0        安西县(渊泉镇)       安西县                 Anxi Xian   \n",
       "2  622122   622122.0             敦煌市       敦煌县             Dunhuang Xian   \n",
       "3  622101   622101.0       酒泉地区(酒泉市)       玉门市                 Yumen Shi   \n",
       "4  622123   622123.0        金塔县(金塔镇)       金塔县                Jinta Xian   \n",
       "\n",
       "   Shape_Area  Shape_Leng    code99  data_year dq_name  \\\n",
       "0    3.352901    8.306649  622124.0       1986    酒泉地区   \n",
       "1    2.555585    7.202310  622126.0       1986    酒泉地区   \n",
       "2    2.701899    8.296685  622103.0       1986    酒泉地区   \n",
       "3    1.427713    5.581785  622101.0       1986    酒泉地区   \n",
       "4    1.591146    6.382461  622123.0       1986    酒泉地区   \n",
       "\n",
       "                                            geometry note0 note1 note2 note3  \\\n",
       "0  POLYGON ((-553643.3599347003 4421856.699268692...  None  None  None  None   \n",
       "1  POLYGON ((-665979.8115049369 4414252.088622529...  None  None  None  None   \n",
       "2  POLYGON ((-796057.9179359551 4340951.159184634...  None  None  None  None   \n",
       "3  POLYGON ((-553643.3599347003 4421856.699268692...  None  None  None  None   \n",
       "4  POLYGON ((-552314.8232637794 4421363.604625415...  None  None  None  None   \n",
       "\n",
       "  prov_name  \n",
       "0       甘肃省  \n",
       "1       甘肃省  \n",
       "2       甘肃省  \n",
       "3       甘肃省  \n",
       "4       甘肃省  "
      ]
     },
     "execution_count": 20,
     "metadata": {},
     "output_type": "execute_result"
    }
   ],
   "source": [
    "df_2=gp.read_file(shapefile_2,encoding='gbk')\n",
    "df_2.head()"
   ]
  },
  {
   "cell_type": "markdown",
   "metadata": {},
   "source": [
    "### 1.2 修改数据编码"
   ]
  },
  {
   "cell_type": "markdown",
   "metadata": {},
   "source": [
    "#### 1）利用GIS软件\n",
    "* 如利用QGIS，可在另存过程中修改文件编码"
   ]
  },
  {
   "cell_type": "markdown",
   "metadata": {},
   "source": [
    "![qgis_change_endcoding](img/qgis_change_encoding.png)"
   ]
  },
  {
   "cell_type": "markdown",
   "metadata": {},
   "source": [
    "#### 2）采用Geopandas方法"
   ]
  },
  {
   "cell_type": "code",
   "execution_count": 37,
   "metadata": {
    "collapsed": true
   },
   "outputs": [],
   "source": [
    "df_2.to_file('c:/temp/shapefile_utf8.shp',encoding='utf8')"
   ]
  },
  {
   "cell_type": "markdown",
   "metadata": {},
   "source": [
    "## 2.提取元信息的方法"
   ]
  },
  {
   "cell_type": "markdown",
   "metadata": {},
   "source": [
    "### 2.1 ogrinfo 方法"
   ]
  },
  {
   "cell_type": "markdown",
   "metadata": {},
   "source": [
    "#### 2.1.1前期准备"
   ]
  },
  {
   "cell_type": "markdown",
   "metadata": {},
   "source": [
    "* 安装QGIS软件\n",
    "* 下载地址：http://qgis.org/downloads/QGIS-OSGeo4W-2.14.3-2-Setup-x86_64.exe\n",
    "* 在OSGeo4W_Shell环境下运行相关命令"
   ]
  },
  {
   "cell_type": "markdown",
   "metadata": {},
   "source": [
    "\n",
    "![OSGeo4W_Shell](img/OSGeo4W_Shell.PNG)"
   ]
  },
  {
   "cell_type": "markdown",
   "metadata": {},
   "source": [
    "#### 2.1.2ogrinfo命令说明"
   ]
  },
  {
   "cell_type": "raw",
   "metadata": {},
   "source": [
    "ogrinfo [--help-general] [-ro] [-q] [-where restricted_where|@filename]\n",
    "        [-spat xmin ymin xmax ymax] [-geomfield field] [-fid fid]\n",
    "        [-sql statement|@filename] [-dialect dialect] [-al] [-so] [-fields={YES/NO}]\n",
    "        [-geom={YES/NO/SUMMARY/WKT/ISO_WKT}] [-formats] [[-oo NAME=VALUE] ...]\n",
    "        [-nomd] [-listmdd] [-mdd domain|`all`]*\n",
    "        [-nocount] [-noextent]\n",
    "        datasource_name [layer [layer ...]]"
   ]
  },
  {
   "cell_type": "markdown",
   "metadata": {},
   "source": [
    "* -ro 以只读方式打开数据源\n",
    "* -al 显示所有层的features。\n",
    "* -so 不显示feature，只显示摘要，如字段定义，投影信息，feature总数等。\n",
    "* -q 不显示一些冗余信息，如投影信息，feature总数等。\n",
    "* -where 接一个SQL的WHERE子句，用于记录过滤。\n",
    "* -sql 接一个完整的SQL表达，可以进行聚合，分组，排序等。\n",
    "* -dialect 接SQL dialect。\n",
    "* -spat 后面接xmin ymin xmax ymax，指定一个筛选范围。\n",
    "* -fid 选择指定id的feature，如果要输出多个fid，建议用-where \"fid in (1,3,5)\"\n",
    "* -fields 可以接YES或NO，如果为NO，则不显示字段的value，缺省是YES。\n",
    "* -geom 可以接YES或NO，如果为NO，则不显示feature的形状坐标信息，缺省是YES。\n",
    "* --formats 查看支持的数据源类型。\n",
    "* datasource_name 数据源，可以为文件名，目录或者虚拟名称，由支持的数据格式而定。\n",
    "layer 可以指定多个层，对于shp文件类型的datasource而言，layer只有一个，与文件名同名（不含扩展名）。"
   ]
  },
  {
   "cell_type": "markdown",
   "metadata": {},
   "source": [
    "* 查看帮助"
   ]
  },
  {
   "cell_type": "raw",
   "metadata": {},
   "source": [
    "ogrinfo --help"
   ]
  },
  {
   "cell_type": "markdown",
   "metadata": {},
   "source": [
    "![ogrinfo --help](img/ogrinfo_help.png)"
   ]
  },
  {
   "cell_type": "markdown",
   "metadata": {},
   "source": [
    "* 最简输出"
   ]
  },
  {
   "cell_type": "raw",
   "metadata": {},
   "source": [
    "ogrinfo China_boundary_province.shp"
   ]
  },
  {
   "cell_type": "markdown",
   "metadata": {},
   "source": [
    "![ogrinfo](img/ogrinfo.png)"
   ]
  },
  {
   "cell_type": "markdown",
   "metadata": {},
   "source": [
    "* 输出主要元数据信息"
   ]
  },
  {
   "cell_type": "raw",
   "metadata": {},
   "source": [
    "ogrinfo China_boundary_province.shp -al -so"
   ]
  },
  {
   "cell_type": "markdown",
   "metadata": {},
   "source": [
    "![ogrinfo_al_so](img/ogrinfo_al_so.png)"
   ]
  },
  {
   "cell_type": "code",
   "execution_count": 64,
   "metadata": {
    "collapsed": true
   },
   "outputs": [],
   "source": [
    "import subprocess\n",
    "import os\n",
    "def exec(cmd_str):\n",
    "    info=subprocess.check_output(cmd_str)\n",
    "    print(info.decode(\"utf-8\"))"
   ]
  },
  {
   "cell_type": "code",
   "execution_count": 65,
   "metadata": {
    "collapsed": true
   },
   "outputs": [],
   "source": [
    "filename='data/China_boundary_province.shp'\n",
    "fullname=os.path.abspath(filename)"
   ]
  },
  {
   "cell_type": "code",
   "execution_count": 67,
   "metadata": {
    "collapsed": false
   },
   "outputs": [
    {
     "name": "stdout",
     "output_type": "stream",
     "text": [
      "INFO: Open of `c:\\westcode\\Jupyter\\GeoData\\Day_3\\data\\China_boundary_province.shp'\r\n",
      "      using driver `ESRI Shapefile' successful.\r\n",
      "\r\n",
      "Layer name: China_boundary_province\r\n",
      "Geometry: Polygon\r\n",
      "Feature Count: 1311\r\n",
      "Extent: (73.498962, 3.833843) - (135.087387, 53.558498)\r\n",
      "Layer SRS WKT:\r\n",
      "GEOGCS[\"GCS_WGS_1984\",\r\n",
      "    DATUM[\"WGS_1984\",\r\n",
      "        SPHEROID[\"WGS_84\",6378137,298.257223563]],\r\n",
      "    PRIMEM[\"Greenwich\",0],\r\n",
      "    UNIT[\"Degree\",0.017453292519943295]]\r\n",
      "OBJECTID: Integer (9.0)\r\n",
      "ELEMID: String (30.0)\r\n",
      "ENTIID: String (30.0)\r\n",
      "CLASID: String (6.0)\r\n",
      "CLASID92: String (6.0)\r\n",
      "NAME: String (60.0)\r\n",
      "CLASID_XM: String (10.0)\r\n",
      "Shape_Leng: Real (19.11)\r\n",
      "Shape_Area: Real (19.11)\r\n",
      "\n"
     ]
    }
   ],
   "source": [
    "cmd_str=\"ogrinfo \" + fullname+\" -al -so\"\n",
    "exec(cmd_str)"
   ]
  },
  {
   "cell_type": "markdown",
   "metadata": {},
   "source": [
    "### 2.2 Fiona命令行方式\n",
    "* fiona已随着Anaconda安装了"
   ]
  },
  {
   "cell_type": "raw",
   "metadata": {},
   "source": [
    "Usage: fio [OPTIONS] COMMAND [ARGS]...\n",
    "\n",
    "  Fiona command line interface.\n",
    "\n",
    "Options:\n",
    "  -v, --verbose  Increase verbosity.\n",
    "  -q, --quiet    Decrease verbosity.\n",
    "  --version      Show the version and exit.\n",
    "  --help         Show this message and exit.\n",
    "\n",
    "Commands:\n",
    "  bounds   Print the extent of GeoJSON objects（空间范围）\n",
    "  buffer   Buffer geometries on all sides by a fixed distance.\n",
    "  cat      Concatenate and print the features of datasets\n",
    "  collect  Collect a sequence of features.\n",
    "  distrib  Distribute features from a collection\n",
    "  dump     Dump a dataset to GeoJSON.（转换为Geojson格式）\n",
    "  env      Print information about the fio environment.\n",
    "  filter   Filter GeoJSON features by python expression\n",
    "  info     Print information about a dataset.（显示基本信息）\n",
    "  insp     Open a dataset and start an interpreter.\n",
    "  load     Load GeoJSON to a dataset in another format.（geojson转换为其他格式）"
   ]
  },
  {
   "cell_type": "markdown",
   "metadata": {},
   "source": [
    "* info"
   ]
  },
  {
   "cell_type": "code",
   "execution_count": 68,
   "metadata": {
    "collapsed": false
   },
   "outputs": [
    {
     "name": "stdout",
     "output_type": "stream",
     "text": [
      "{\"bounds\": [73.49896240228901, 3.8338434692794294, 135.08738708493195, 53.55849778438244], \"crs\": \"EPSG:4326\", \"schema\": {\"properties\": {\"OBJECTID\": \"int:9\", \"ELEMID\": \"str:30\", \"ENTIID\": \"str:30\", \"CLASID\": \"str:6\", \"CLASID92\": \"str:6\", \"NAME\": \"str:60\", \"CLASID_XM\": \"str:10\", \"Shape_Leng\": \"float:19.11\", \"Shape_Area\": \"float:19.11\"}, \"geometry\": \"Polygon\"}, \"count\": 1311, \"crs_wkt\": \"GEOGCS[\\\"GCS_WGS_1984\\\",DATUM[\\\"WGS_1984\\\",SPHEROID[\\\"WGS_84\\\",6378137,298.257223563]],PRIMEM[\\\"Greenwich\\\",0],UNIT[\\\"Degree\\\",0.017453292519943295],AUTHORITY[\\\"EPSG\\\",\\\"4326\\\"]]\", \"driver\": \"ESRI Shapefile\"}\r\n",
      "\n"
     ]
    }
   ],
   "source": [
    "cmd_str=\"fio info \" + fullname+\"\"\n",
    "exec(cmd_str)"
   ]
  },
  {
   "cell_type": "markdown",
   "metadata": {},
   "source": [
    "### 3.编程方式"
   ]
  },
  {
   "cell_type": "markdown",
   "metadata": {},
   "source": [
    "### 3.1 Foina"
   ]
  },
  {
   "cell_type": "code",
   "execution_count": 75,
   "metadata": {
    "collapsed": false
   },
   "outputs": [],
   "source": [
    "import fiona\n",
    "from fiona.crs import to_string"
   ]
  },
  {
   "cell_type": "code",
   "execution_count": 105,
   "metadata": {
    "collapsed": false,
    "scrolled": true
   },
   "outputs": [
    {
     "name": "stdout",
     "output_type": "stream",
     "text": [
      "数据格式: ESRI Shapefile\n",
      "数据格式: Polygon\n",
      "地图投影:\n",
      "  wkt: PROJCS[\"WGS_1984_Albers\",GEOGCS[\"GCS_WGS_1984\",DATUM[\"WGS_1984\",SPHEROID[\"WGS_84\",6378137.0,298.257223563]],PRIMEM[\"Greenwich\",0.0],UNIT[\"Degree\",0.0174532925199433]],PROJECTION[\"Albers_Conic_Equal_Area\"],PARAMETER[\"false_easting\",0.0],PARAMETER[\"false_northing\",0.0],PARAMETER[\"longitude_of_center\",105.0],PARAMETER[\"standard_parallel_1\",25.0],PARAMETER[\"standard_parallel_2\",47.0],PARAMETER[\"latitude_of_center\",0.0],UNIT[\"Meter\",1.0]]\n",
      "  proj4: +datum=WGS84 +lat_0=0 +lat_1=25 +lat_2=47 +lon_0=105 +no_defs +proj=aea +units=m +x_0=0 +y_0=0\n",
      "要素数目: 3804\n",
      "属性信息:\n",
      "  CNTY_CODE float:19.11\n",
      "  NAME str:32\n",
      "  PYNAME str:50\n",
      "  code99 float:19.11\n",
      "  FULLNAME str:50\n",
      "  prov_name str:20\n",
      "  dq_name str:50\n",
      "  note1 str:254\n",
      "  note2 str:50\n",
      "  note3 str:200\n",
      "  note0 str:50\n",
      "  data_year int:9\n",
      "  CLASID str:7\n",
      "  Shape_Leng float:19.11\n",
      "  Shape_Area float:19.11\n",
      "空间范围:\n",
      "  min_x:-2625769.358575,min_y:406842.530943,max_x:2207315.564716,max_y:5921485.822266\n"
     ]
    }
   ],
   "source": [
    "shapefile='data/countypolygon_1986.shp'\n",
    "with fiona.open(shapefile,encoding='gbk') as source:\n",
    "    ##数据格式\n",
    "    print('数据格式:',source.driver)\n",
    "    ## 几何类型\n",
    "    print('数据格式:',source.schema['geometry'])\n",
    "    ## 地图投影\n",
    "    print('地图投影:')\n",
    "    print('  wkt:',source.crs_wkt)\n",
    "    print('  proj4:',to_string(source.crs))\n",
    "    ##要素数目\n",
    "    print('要素数目:',len(source))\n",
    "    ##属性信息\n",
    "    print('属性信息:')\n",
    "    for field in list(source.schema['properties']):\n",
    "        prop=source.schema['properties'][field] \n",
    "        print('  '+field,prop)\n",
    "    min_x,min_y,max_x,max_y=source.bounds\n",
    "    print('空间范围:')\n",
    "    print('  min_x:%f,min_y:%f,max_x:%f,max_y:%f'%(min_x,min_y,max_x,max_y))\n"
   ]
  },
  {
   "cell_type": "markdown",
   "metadata": {},
   "source": [
    "* 存在问题\n",
    " * 几何类型，只能判断出point，polyline和polygon三种类型，无法判断出multi-类型\n",
    " * 空间范围，无法显示经纬度范围"
   ]
  },
  {
   "cell_type": "code",
   "execution_count": 89,
   "metadata": {
    "collapsed": false
   },
   "outputs": [],
   "source": [
    "import geopandas as gp\n"
   ]
  },
  {
   "cell_type": "code",
   "execution_count": 110,
   "metadata": {
    "collapsed": false
   },
   "outputs": [
    {
     "data": {
      "text/plain": [
       "(-2625769.3585752752,\n",
       " 406842.53094334342,\n",
       " 2207315.5647158339,\n",
       " 5921485.8222655253)"
      ]
     },
     "execution_count": 110,
     "metadata": {},
     "output_type": "execute_result"
    }
   ],
   "source": [
    "df= gp.read_file(shapefile)\n",
    "df.total_bounds"
   ]
  },
  {
   "cell_type": "code",
   "execution_count": null,
   "metadata": {
    "collapsed": true
   },
   "outputs": [],
   "source": [
    "* 转换地图投影->至经纬度投影"
   ]
  },
  {
   "cell_type": "code",
   "execution_count": 111,
   "metadata": {
    "collapsed": true
   },
   "outputs": [],
   "source": [
    "df_geo=df.to_crs(epsg=4326)\n",
    "df_geo.total_bounds"
   ]
  },
  {
   "cell_type": "markdown",
   "metadata": {},
   "source": [
    "## 4.获取完整的元数据信息"
   ]
  },
  {
   "cell_type": "code",
   "execution_count": 126,
   "metadata": {
    "collapsed": true
   },
   "outputs": [],
   "source": [
    "import os,glob\n",
    "import fiona\n",
    "from fiona.crs import to_string\n",
    "import pandas as pd\n",
    "import geopandas as gp\n",
    "import hashlib"
   ]
  },
  {
   "cell_type": "code",
   "execution_count": 163,
   "metadata": {
    "collapsed": false
   },
   "outputs": [
    {
     "name": "stdout",
     "output_type": "stream",
     "text": [
      "数据基本信息:\n",
      " filename: countypolygon_1986.shp\n",
      " filepath: c:\\westcode\\Jupyter\\GeoData\\Day_3\\data\n",
      " 文件列表:\n",
      "    countypolygon_1986.dbf | 3154.4 kb | md5:ed5880c671a83bdac6160a20ecaee6cb\n",
      "    countypolygon_1986.prj | 3154.82 kb | md5:0a0b17df02c68ab9e1fbc0d94f900bb7\n",
      "    countypolygon_1986.sbn | 3189.7 kb | md5:e6f629c65b35a7830bdcabf9ef92e5e8\n",
      "    countypolygon_1986.sbx | 3191.35 kb | md5:0cb90c81c6dc0f85630cee6ebe061689\n",
      "    countypolygon_1986.shp | 20681.29 kb | md5:cc6fea20b927f5460374f1bdee450ce6\n",
      "    countypolygon_1986.shp.xml | 20695.41 kb | md5:d991706331dc142dbc2849f72d9d644d\n",
      "    countypolygon_1986.shx | 20725.23 kb | md5:06393882fb7db32484d52e5b4cca4de8\n",
      "数据结构信息:\n",
      "  文件编码: gbk\n",
      "  数据格式: ESRI Shapefile\n",
      "  几何类型: Polygon\n",
      " 要素数目: 3804\n",
      "  地图投影:\n",
      "    wkt格式: PROJCS[\"WGS_1984_Albers\",GEOGCS[\"GCS_WGS_1984\",DATUM[\"WGS_1984\",SPHEROID[\"WGS_84\",6378137.0,298.257223563]],PRIMEM[\"Greenwich\",0.0],UNIT[\"Degree\",0.0174532925199433]],PROJECTION[\"Albers_Conic_Equal_Area\"],PARAMETER[\"false_easting\",0.0],PARAMETER[\"false_northing\",0.0],PARAMETER[\"longitude_of_center\",105.0],PARAMETER[\"standard_parallel_1\",25.0],PARAMETER[\"standard_parallel_2\",47.0],PARAMETER[\"latitude_of_center\",0.0],UNIT[\"Meter\",1.0]]\n",
      "    proj4格式: +datum=WGS84 +lat_0=0 +lat_1=25 +lat_2=47 +lon_0=105 +no_defs +proj=aea +units=m +x_0=0 +y_0=0\n",
      "  空间范围:\n",
      "    本地坐标: (-2625769.358575275, 406842.5309433434, 2207315.564715834, 5921485.822265525)\n",
      "    经纬度: (73.498959652000053, 3.8338434240000687, 135.08738522400006, 53.5584987350001)\n",
      "  属性信息:\n",
      "    CNTY_CODE : float:19.11\n",
      "      valid_counts: 3804\n",
      "      min: 110100.0\n",
      "      max: 820000.0\n",
      "      mean: 402206.507360673\n",
      "      std: 151052.26464922453\n",
      "      none_counts: 0\n",
      "      first_valid_count_index: 0\n",
      "      last_valid_count_index: 3803\n",
      "    NAME : str:32\n",
      "      valid_count: 3804\n",
      "      min_length: 2\n",
      "      max_length: 15\n",
      "      value_counts: 2419\n",
      "      numeric_counts: 0\n",
      "      none_counts: 0\n",
      "    PYNAME : str:50\n",
      "      valid_count: 3804\n",
      "      min_length: 6\n",
      "      max_length: 47\n",
      "      value_counts: 2287\n",
      "      numeric_counts: 0\n",
      "      none_counts: 0\n",
      "    code99 : float:19.11\n",
      "      valid_counts: 3804\n",
      "      min: 110100.0\n",
      "      max: 820000.0\n",
      "      mean: 403189.396424816\n",
      "      std: 151508.33391790488\n",
      "      none_counts: 0\n",
      "      first_valid_count_index: 0\n",
      "      last_valid_count_index: 3803\n",
      "    FULLNAME : str:50\n",
      "      valid_count: 3804\n",
      "      min_length: 3\n",
      "      max_length: 21\n",
      "      value_counts: 2365\n",
      "      numeric_counts: 0\n",
      "      none_counts: 0\n",
      "    prov_name : str:20\n",
      "      valid_count: 3804\n",
      "      min_length: 3\n",
      "      max_length: 8\n",
      "      value_counts: 32\n",
      "      numeric_counts: 0\n",
      "      none_counts: 0\n",
      "    dq_name : str:50\n",
      "      valid_count: 3804\n",
      "      min_length: 3\n",
      "      max_length: 11\n",
      "      value_counts: 337\n",
      "      numeric_counts: 0\n",
      "      none_counts: 0\n",
      "    note1 : str:254\n",
      "      valid_count: 148\n",
      "      min_length: 8.0\n",
      "      max_length: 119.0\n",
      "      value_counts: 81\n",
      "      numeric_counts: 0\n",
      "      none_counts: 3656\n",
      "    note2 : str:50\n",
      "      valid_count: 140\n",
      "      min_length: 2.0\n",
      "      max_length: 2.0\n",
      "      value_counts: 6\n",
      "      numeric_counts: 0\n",
      "      none_counts: 3664\n",
      "    note3 : str:200\n",
      "      valid_count: 3\n",
      "      min_length: 19.0\n",
      "      max_length: 22.0\n",
      "      value_counts: 3\n",
      "      numeric_counts: 0\n",
      "      none_counts: 3801\n",
      "    note0 : str:50\n",
      "      valid_count: 91\n",
      "      min_length: 6.0\n",
      "      max_length: 14.0\n",
      "      value_counts: 77\n",
      "      numeric_counts: 90\n",
      "      none_counts: 3713\n",
      "    CLASID : str:7\n",
      "      valid_count: 3804\n",
      "      min_length: 6\n",
      "      max_length: 6\n",
      "      value_counts: 2395\n",
      "      numeric_counts: 3804\n",
      "      none_counts: 0\n",
      "    Shape_Leng : float:19.11\n",
      "      valid_counts: 3804\n",
      "      min: 0.000144161322585\n",
      "      max: 30.8393593292\n",
      "      mean: 1.9401492385260406\n",
      "      std: 2.326116302624383\n",
      "      none_counts: 0\n",
      "      first_valid_count_index: 0\n",
      "      last_valid_count_index: 3803\n",
      "    Shape_Area : float:19.11\n",
      "      valid_counts: 3804\n",
      "      min: 9.19136950784e-10\n",
      "      max: 20.8134173887\n",
      "      mean: 0.25286209339676974\n",
      "      std: 0.8136811430108434\n",
      "      none_counts: 0\n",
      "      first_valid_count_index: 0\n",
      "      last_valid_count_index: 3803\n"
     ]
    }
   ],
   "source": [
    "shapefile='data/countypolygon_1986.shp'\n",
    "fullname=os.path.abspath(shapefile)\n",
    "filepath=os.path.split(fullname)[0]\n",
    "basename=os.path.basename(fullname)\n",
    "filelist=glob.glob(os.path.join(filepath,basename.replace('.shp','.*')))\n",
    "file_list=[os.path.basename(filename) for filename in filelist]\n",
    "\n",
    "print('数据基本信息:')\n",
    "print(' filename:',basename)\n",
    "print(' filepath:',filepath)\n",
    "print(' 文件列表:')\n",
    "filesize=0\n",
    "for filename in filelist:\n",
    "    filesize=filesize+os.path.getsize(filename)/1024.0\n",
    "    basename=os.path.basename(filename)\n",
    "    md5=hashlib.md5(open(filename, 'rb').read()).hexdigest()\n",
    "    print('    '+basename+\" | \"+str(round(filesize,2))+' kb | '+ 'md5:'+md5)\n",
    "print('数据结构信息:')\n",
    "file_encoding='gbk'\n",
    "print('  文件编码:',file_encoding)\n",
    "df=gp.read_file(shapefile,encoding=file_encoding)\n",
    "df_geo.to_crs(epsg=4326)\n",
    "extent_geo=df_geo.total_bounds\n",
    "with fiona.open(shapefile,encoding=file_encoding) as source:\n",
    "    ## 数据格式 \n",
    "    print('  数据格式:',source.driver)\n",
    "    ## 几何类型\n",
    "    print('  几何类型:',source.schema['geometry'])\n",
    "    ##要素数目\n",
    "    print(' 要素数目:',len(source))\n",
    "    ## 地图投影\n",
    "    print('  地图投影:')\n",
    "    print('    wkt格式:',source.crs_wkt)\n",
    "    print('    proj4格式:',to_string(source.crs))\n",
    "\n",
    "    ##空间范围，需要转为为经纬度格式\n",
    "    extent = source.bounds\n",
    "    print('  空间范围:')\n",
    "    print('    本地坐标:',extent)\n",
    "    print('    经纬度:',extent_geo)\n",
    "    ##属性信息\n",
    "    field_name=[]\n",
    "    field_type=[]\n",
    "    print('  属性信息:')\n",
    "    for field in list(source.schema['properties']):\n",
    "        prop=source.schema['properties'][field]\n",
    "        field_name.append(field)\n",
    "        field_type.append(prop)\n",
    "        ds=df[field]\n",
    "        if prop.split(':')[0]=='str':\n",
    "            print('    '+field,':',prop)\n",
    "            print('      valid_count:', ds.count())\n",
    "            print('      min_length:', ds.str.len().min())\n",
    "            print('      max_length:', ds.str.len().max())\n",
    "            print('      value_counts:', len(ds.value_counts()))\n",
    "            print('      numeric_counts:', len(list(ds[ds.str.isdigit()==True])))\n",
    "            print('      none_counts:', ds.isnull().values.sum()) \n",
    "        if prop.split(':')[0]=='float':\n",
    "            print('    '+field,':',prop)\n",
    "            print('      valid_counts:',ds.count())\n",
    "            print('      min:',ds.min())\n",
    "            print('      max:',ds.max())\n",
    "            print('      mean:',ds.mean())\n",
    "            print('      std:',ds.std())\n",
    "            print('      none_counts:',ds.isnull().sum())\n",
    "            print('      first_valid_count_index:',ds.first_valid_index())\n",
    "            print('      last_valid_count_index:',ds.last_valid_index())\n",
    "\n",
    "    \n",
    "    \n"
   ]
  }
 ],
 "metadata": {
  "anaconda-cloud": {},
  "kernelspec": {
   "display_name": "Python [Root]",
   "language": "python",
   "name": "Python [Root]"
  },
  "language_info": {
   "codemirror_mode": {
    "name": "ipython",
    "version": 3
   },
   "file_extension": ".py",
   "mimetype": "text/x-python",
   "name": "python",
   "nbconvert_exporter": "python",
   "pygments_lexer": "ipython3",
   "version": "3.5.1"
  }
 },
 "nbformat": 4,
 "nbformat_minor": 0
}
