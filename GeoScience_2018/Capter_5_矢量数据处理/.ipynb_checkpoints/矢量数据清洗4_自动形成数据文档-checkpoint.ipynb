{
 "cells": [
  {
   "cell_type": "markdown",
   "metadata": {},
   "source": [
    "<h1 align=center>矢量数据清洗3：自动形成数据文档</h1>\n",
    "----\n",
    "* 作者：吴立宗\n",
    "* 日期：2016-7-3\n",
    "* 目标：自动提取信息，形成数据文档"
   ]
  },
  {
   "cell_type": "code",
   "execution_count": 28,
   "metadata": {
    "collapsed": true
   },
   "outputs": [],
   "source": [
    "#encoding=utf8\n",
    "import fiona\n",
    "import os\n",
    "from fiona.crs import to_string\n",
    "import geopandas as gpd\n",
    "import codecs\n",
    "import glob\n",
    "%matplotlib inline"
   ]
  },
  {
   "cell_type": "code",
   "execution_count": 2,
   "metadata": {
    "collapsed": true
   },
   "outputs": [],
   "source": [
    "shapefile='data/countypolygon_1986.shp'\n",
    "meta_path='meta/'"
   ]
  },
  {
   "cell_type": "markdown",
   "metadata": {},
   "source": [
    "## 1.基本文件信息"
   ]
  },
  {
   "cell_type": "code",
   "execution_count": 3,
   "metadata": {
    "collapsed": false
   },
   "outputs": [],
   "source": [
    "basename=os.path.basename(shapefile)\n",
    "meta_file=meta_path+basename.replace('shp','md')\n",
    "\n"
   ]
  },
  {
   "cell_type": "code",
   "execution_count": 74,
   "metadata": {
    "collapsed": true
   },
   "outputs": [],
   "source": [
    "title=u'中国1：400万县级行政区划数据集(1986年)'\n",
    "author=u'杨雅萍'\n",
    "org=u'中国科学院地理科学与资源研究所'\n",
    "address=u'北京朝阳区大屯路甲11号'\n",
    "postcode=u'100101'\n",
    "email=u'yangyp@igsnrr.ac.cn'\n",
    "publish_date='2008-10-13'\n",
    "\n",
    "abstract=u\"\"\"中国1：400万县级行政区划数据集（1986年）包括1986年县级行政区划数据和县级行政\n",
    "驻地点数据。县级行政区划数据包括了县级行政单元的名称、拼音、行政区划代码、变迁情况等信息；\n",
    "驻地点数据包括县级行政单元驻地的位置信息，驻地的级别、变迁情况等信息。\"\"\"\n",
    "keywords=u'行政区划,地理学,县级，1986年'\n",
    "purpose=u\"\"\"为研究历年国家行政机关所辖区域即政区的空间体系的变化, 包括其构成因素、影响要素、\n",
    "划分原则、组织体系及其对国家和区域的经济、社会、文化乃至自然环境等的影响, \n",
    "以及对行政区划的预测、规划和调控等研究提供基础数据。该数据仅供科学研究参考使用，\n",
    "不作为各级政区争议的依据。\"\"\"\n",
    "service_user=u\"\"\"该数据集为区域科学研究提供基础矢量行政区划数据，也为公众了解中国行政区划沿革历史、\n",
    "政区地名更迭提供参考信息。\"\"\"\n",
    "other_info=u\"\"\"应用该数据时，先仔细阅读本文档，了解编码含意。编码含意和图幅有关，\n",
    "同一编码在不同图幅中会有不同含意，使用时要参照编码说明文件。\n",
    "该数据仅供科学研究参考使用，不作为各级政区争议的依据。\n",
    "\"\"\"\n",
    "data_source=[u\"1988年《中华人民共和国行政区划简册》（民政部编著、中国地图出版社出版）\",\n",
    "u\"《中华人民共和国行政区划沿革地图集（1949-1999年）》（中国地图出版社）\",\n",
    "u\"《中华人民共和国行政区划代码》中华人民共和国国家标准GB/T2260\",\n",
    "u\"1：400万中国县级行政区划图（2000年）矢量数据及发布的邻近年份的中国县级行政区划矢量数据\"]\n",
    "\n",
    "data_process=u\"\"\"首先要根据不同数据源的特点对原始资料进行真实性、\n",
    "一致性的检查及规范化处理；然后根据数据源及资料进行分析，整理归纳出行政区划变更的形式；\n",
    "最后，根据行政区划变更形式运用ARCGIS软件进行地图资料的数字化、矢量地图的编辑、\n",
    "调整以及对应属性表的变更等。经过要素完整性、拓扑正确性等质量控制措施，\n",
    "最终形成时空一致的中国1：400万县级行政区划数据集。具体数据加工生产流程如下图所示。\"\"\"\n",
    "data_citation_zh=''\n",
    "data_citation_en=''\n",
    "acknowledgement_zh=u'感谢国家科技基础条件平台-国家地球系统科学数据共享平台(http://www.geodata.cn)提供数据支撑。'\n",
    "acknowledgement_en=u'Acknowledgement for the data support from \" National Earth System Science Data Sharing Infrastructure, National Science & Technology Infrastructure of China. (http://www.geodata.cn)'\n",
    "contact_group=u'数据服务组'\n",
    "contact_email=u'geodata@igsnrr.ac.cn'  \n",
    "contact_tel='010-6488-8143/45(转81)'\n",
    "language=u'中文'\n",
    "date_range='1986'\n",
    "map_scale=u'1:400万'\n",
    "data_quality=u\"\"\"制定数字加工操作规范。加工过程中，规定操作人员严格遵守操作规范，\n",
    "同时由专人负责质量审查。经多人复查审核，其数据完整性、逻辑一致性、位置精度、属性精度、\n",
    "接边精度、现势性均符合国家测绘局制定的有关技术规定和标准的要求，质量优良可靠。\"\"\"\n",
    "application_info=u'本数据集主要应用于地理学、测绘国土相关领域研究'"
   ]
  },
  {
   "cell_type": "code",
   "execution_count": 32,
   "metadata": {
    "collapsed": false
   },
   "outputs": [
    {
     "data": {
      "text/plain": [
       "20.24"
      ]
     },
     "execution_count": 32,
     "metadata": {},
     "output_type": "execute_result"
    }
   ],
   "source": [
    "filesize=0\n",
    "filelist=glob.glob(shapefile.replace('shp','*'))\n",
    "for filename in filelist:\n",
    "    filesize=filesize+os.path.getsize(filename)/1024.0/1024.0\n",
    "filesize=round(filesize,2)\n",
    "filesize"
   ]
  },
  {
   "cell_type": "code",
   "execution_count": 70,
   "metadata": {
    "collapsed": false
   },
   "outputs": [
    {
     "data": {
      "text/plain": [
       "['float:19.11',\n",
       " 'str:32',\n",
       " 'str:50',\n",
       " 'float:19.11',\n",
       " 'str:50',\n",
       " 'str:20',\n",
       " 'str:50',\n",
       " 'str:254',\n",
       " 'str:50',\n",
       " 'str:200',\n",
       " 'str:50',\n",
       " 'int:9',\n",
       " 'str:7',\n",
       " 'float:19.11',\n",
       " 'float:19.11']"
      ]
     },
     "execution_count": 70,
     "metadata": {},
     "output_type": "execute_result"
    }
   ],
   "source": [
    "## 获得数据的基本信息\n",
    "\n",
    "\n",
    "with fiona.open(shapefile,encoding='gbk') as source:\n",
    "    ## 数据格式 \n",
    "    file_format=source.driver\n",
    "    ## 几何类型\n",
    "    geom_type = source.schema['geometry']\n",
    "    ## 地图投影\n",
    "    crs_wkt = source.crs_wkt\n",
    "    crs_proj4 = to_string(source.crs)\n",
    "    ##要素数目\n",
    "    feature_count=len(source)\n",
    "    ##属性信息\n",
    "    field_name=[]\n",
    "    field_type=[]\n",
    "    for field in list(source.schema['properties']):\n",
    "        prop=source.schema['properties'][field]\n",
    "        \n",
    "        field_name.append(field)\n",
    "        field_type.append(prop)\n",
    "        #field_type = prop.split(':')[0]\n",
    "        #field_width = prop.split(':')[1]\n",
    "    ## 字符集\n",
    "    file_encoding=source.encoding\n",
    "    ##空间范围，需要转为为经纬度格式\n",
    "    min_x, min_y, max_x, max_y = source.bounds\n",
    "\n",
    "min_x, min_y, max_x, max_y\n",
    "field_type\n"
   ]
  },
  {
   "cell_type": "raw",
   "metadata": {},
   "source": [
    "df = gpd.read_file(shapefile,encoding='gbk')\n",
    "## 投影转换\n",
    "df_new=df.to_crs(epsg=4326)\n",
    "df_new.total_bound()\n"
   ]
  },
  {
   "cell_type": "code",
   "execution_count": 79,
   "metadata": {
    "collapsed": false
   },
   "outputs": [
    {
     "name": "stdout",
     "output_type": "stream",
     "text": [
      "float:19.11\n",
      "str:32\n",
      "str:50\n",
      "float:19.11\n",
      "str:50\n",
      "str:20\n",
      "str:50\n",
      "str:254\n",
      "str:50\n",
      "str:200\n",
      "str:50\n",
      "int:9\n",
      "str:7\n",
      "float:19.11\n",
      "float:19.11\n",
      "1988年《中华人民共和国行政区划简册》（民政部编著、中国地图出版社出版）\n",
      "《中华人民共和国行政区划沿革地图集（1949-1999年）》（中国地图出版社）\n",
      "《中华人民共和国行政区划代码》中华人民共和国国家标准GB/T2260\n",
      "1：400万中国县级行政区划图（2000年）矢量数据及发布的邻近年份的中国县级行政区划矢量数据\n"
     ]
    }
   ],
   "source": [
    "f=codecs.open(meta_file,'w',encoding='utf8')\n",
    "f.write('<h1 align=center>%s</h1>\\n'%(title))\n",
    "f.write('<div align=center>(%s,%s,%s,%s,%s,%s)\\n</div>'%(author,org,address,postcode,email,publish_date))\n",
    "f.write(u'### 1.概述:\\n')\n",
    "f.write('%s\\n\\n'%(abstract))\n",
    "\n",
    "f.write('### 2.建设目的:\\n')\n",
    "f.write('%s\\n\\n'%(purpose))\n",
    "f.write('### 3.服务对象:\\n')\n",
    "f.write('%s\\n\\n'%(service_user))\n",
    "f.write('### 4.其他信息:\\n')\n",
    "f.write('%s\\n\\n'%(other_info))\n",
    "f.write('### 5.数据基本信息:\\n')\n",
    "f.write(u'* 关键词:%s\\n'%(keywords))\n",
    "f.write('* 文件名:%s\\n'%(basename))\n",
    "f.write('* 数据格式:%s\\n'%(file_format))\n",
    "f.write('* 数据大小:%f Mb\\n'%(filesize))\n",
    "f.write('* 比例尺:%s\\n'%(map_scale))\n",
    "f.write('* 空间范围:%f-%f(西-东),%f-%f(南-北)\\n'%(min_x,max_x,min_y,max_y))\n",
    "f.write('* 时间范围:%s\\n'%(date_range))\n",
    "f.write('* 语言:%s\\n'%(language))\n",
    "f.write('* 字符集:%s\\n'%(file_encoding))\n",
    "f.write('\\n')\n",
    "f.write('### 6.数据内容信息:\\n')\n",
    "f.write('* 几何类型:%s\\n'%(geom_type))\n",
    "f.write('* 要素数量:%f\\n'%(feature_count))\n",
    "f.write('* 地图投影:\\n')\n",
    "f.write(' * wkt: \\n\\n')\n",
    "f.write('<pre>%s</pre>\\n\\n'%(crs_wkt))\n",
    "f.write(' * proj4: %s\\n\\n'%(crs_proj4))\n",
    "f.write('* 属性信息:\\n\\n')\n",
    "f.write('|字段名称|字段类型|字段宽度|备注|\\n')\n",
    "f.write('|----|----|----|----|\\n')\n",
    "for f_name,f_type in zip(field_name,field_type):\n",
    "    print(f_type)\n",
    "    f.write('|%s|%s|%s|-|\\n'%(f_name,f_type.split(':')[0],f_type.split(':')[1]))\n",
    "f.write('\\n')\n",
    "f.write('* 分类信息:\\n')\n",
    "f.write('* 相关图表:')\n",
    "f.write('![](img/china_county_geo.png)\\n')\n",
    "f.write('\\n')\n",
    "f.write('### 7.数据加工方法:\\n')\n",
    "f.write('%s\\n\\n'%(data_process))\n",
    "f.write('### 8.数据源:\\n')\n",
    "for item in data_source:\n",
    "    print(item)\n",
    "    f.write('* %s\\n'%(item))\n",
    "f.write('\\n')\n",
    "f.write('### 9.数据质量描述:\\n')\n",
    "f.write('%s\\n'%(data_quality))\n",
    "f.write('![](img/fig_1.png)')\n",
    "f.write('\\n')\n",
    "f.write('### 10.数据应用说明:\\n')\n",
    "f.write('%s\\n\\n'%(application_info))\n",
    "f.write('### 11.数据的引用格式:\\n')\n",
    "f.write('### 12.知识产权信息:\\n')\n",
    "f.write('### 致谢\\n')\n",
    "f.write('* 中文:%s\\n'%(acknowledgement_zh))\n",
    "f.write('* 英文:%s\\n'%(acknowledgement_en))\n",
    "f.write('\\n')\n",
    "f.write('### 13.数据使用联系信息:\\n')\n",
    "f.write('* 联系人:\\n')\n",
    "f.write('* 通讯地址:\\n')\n",
    "f.write('* 邮编:\\n')\n",
    "f.write('* E-mail:\\n')\n",
    "f.write('* 电话:\\n')\n",
    "f.close()"
   ]
  },
  {
   "cell_type": "code",
   "execution_count": 13,
   "metadata": {
    "collapsed": false
   },
   "outputs": [
    {
     "name": "stdout",
     "output_type": "stream",
     "text": [
      "gbk\n",
      "ESRI Shapefile\n"
     ]
    }
   ],
   "source": []
  },
  {
   "cell_type": "code",
   "execution_count": null,
   "metadata": {
    "collapsed": true
   },
   "outputs": [],
   "source": [
    "\n",
    "         "
   ]
  },
  {
   "cell_type": "code",
   "execution_count": null,
   "metadata": {
    "collapsed": true
   },
   "outputs": [],
   "source": []
  }
 ],
 "metadata": {
  "anaconda-cloud": {},
  "kernelspec": {
   "display_name": "Python [Root]",
   "language": "python",
   "name": "Python [Root]"
  },
  "language_info": {
   "codemirror_mode": {
    "name": "ipython",
    "version": 3
   },
   "file_extension": ".py",
   "mimetype": "text/x-python",
   "name": "python",
   "nbconvert_exporter": "python",
   "pygments_lexer": "ipython3",
   "version": "3.5.1"
  }
 },
 "nbformat": 4,
 "nbformat_minor": 0
}
