{
 "cells": [
  {
   "cell_type": "markdown",
   "metadata": {},
   "source": [
    "<h1 align=center>文本数据的清洗5：获取元数据信息</h1>\n",
    "----\n",
    "* 作者: 吴立宗\n",
    "* 日期：2016-7-2\n",
    "* 目标：\n",
    " * 基本信息\n",
    " * 字段信息\n",
    " * 统计数据中的缺失数据情况"
   ]
  },
  {
   "cell_type": "markdown",
   "metadata": {},
   "source": [
    "## 1.获取基本元数据信息"
   ]
  },
  {
   "cell_type": "markdown",
   "metadata": {},
   "source": [
    "指在不打开文件的前提先获得的数据信息，包括：\n",
    "* 文件名\n",
    "* 文件所在目录\n",
    "* 文件大小\n",
    "* 文件格式\n",
    "* 文件md5编码\n"
   ]
  },
  {
   "cell_type": "code",
   "execution_count": 18,
   "metadata": {
    "collapsed": true
   },
   "outputs": [],
   "source": [
    "#encoding=utf8\n",
    "import os\n",
    "import hashlib\n",
    "\n",
    "filename='data/weather_jiulong_all.csv'"
   ]
  },
  {
   "cell_type": "code",
   "execution_count": 20,
   "metadata": {
    "collapsed": false
   },
   "outputs": [
    {
     "data": {
      "text/plain": [
       "('weather_jiulong_all.csv',\n",
       " 'c:\\\\westcode\\\\Jupyter\\\\GeoData\\\\Day_2\\\\data\\\\weather_jiulong_all.csv',\n",
       " 'c:\\\\westcode\\\\Jupyter\\\\GeoData\\\\Day_2\\\\data',\n",
       " 34.8544921875,\n",
       " 'csv',\n",
       " '5b6a53cdb5475567bafe5349efe82fbf')"
      ]
     },
     "execution_count": 20,
     "metadata": {},
     "output_type": "execute_result"
    }
   ],
   "source": [
    "basename = os.path.basename(filename)\n",
    "fullname = os.path.abspath(filename)\n",
    "filepath = os.path.split(fullname)[0]\n",
    "filesize = os.path.getsize(filename)/1024.0\n",
    "file_format=os.path.splitext(filename)[1].replace('.','')\n",
    "file_md5=hashlib.md5(open(filename, 'rb').read()).hexdigest()\n",
    "basename,fullname,filepath,filesize,file_format,file_md5"
   ]
  },
  {
   "cell_type": "markdown",
   "metadata": {},
   "source": [
    "## 2 数据结构信息\n",
    "用于数据读取，也可以数据在不同系统之间的转换，包括如下信息：\n",
    "* 文件编码------需要用户指定，很多情况下系统无法自动判断\n",
    "* 字段数量\n",
    "* 字段名称\n",
    "* 字段类型\n",
    "* 字段分割符----需要用户指定，很多情况下系统无法自动判断\n",
    "* 记录长度\n"
   ]
  },
  {
   "cell_type": "code",
   "execution_count": 23,
   "metadata": {
    "collapsed": true
   },
   "outputs": [],
   "source": [
    "import pandas as pd\n"
   ]
  },
  {
   "cell_type": "code",
   "execution_count": 137,
   "metadata": {
    "collapsed": false
   },
   "outputs": [],
   "source": [
    "encoding='utf8'\n",
    "sep=','\n",
    "df=pd.read_csv(filename,sep=',',encoding=encoding)"
   ]
  },
  {
   "cell_type": "code",
   "execution_count": 28,
   "metadata": {
    "collapsed": false
   },
   "outputs": [],
   "source": [
    "col_name=list(df.columns)\n",
    "col_count=len(list(df.columns))"
   ]
  },
  {
   "cell_type": "code",
   "execution_count": 77,
   "metadata": {
    "collapsed": false
   },
   "outputs": [
    {
     "data": {
      "text/html": [
       "<div>\n",
       "<table border=\"1\" class=\"dataframe\">\n",
       "  <thead>\n",
       "    <tr style=\"text-align: right;\">\n",
       "      <th></th>\n",
       "      <th>Date</th>\n",
       "      <th>Air_press</th>\n",
       "      <th>Temp</th>\n",
       "      <th>Temp_max</th>\n",
       "      <th>Temp_min</th>\n",
       "      <th>Humidity</th>\n",
       "      <th>Humi_min</th>\n",
       "      <th>Pre</th>\n",
       "      <th>Pre_max</th>\n",
       "      <th>Sunshine</th>\n",
       "      <th>Evaporation</th>\n",
       "      <th>G_Temp</th>\n",
       "      <th>G_Temp_max</th>\n",
       "      <th>G_Temp_min</th>\n",
       "      <th>WindSpeed</th>\n",
       "      <th>Cloud_total</th>\n",
       "      <th>Cloud_low</th>\n",
       "    </tr>\n",
       "  </thead>\n",
       "  <tbody>\n",
       "    <tr>\n",
       "      <th>0</th>\n",
       "      <td>1952-01-01</td>\n",
       "      <td>NaN</td>\n",
       "      <td>NaN</td>\n",
       "      <td>NaN</td>\n",
       "      <td>NaN</td>\n",
       "      <td>NaN</td>\n",
       "      <td>NaN</td>\n",
       "      <td>NaN</td>\n",
       "      <td>NaN</td>\n",
       "      <td>NaN</td>\n",
       "      <td>NaN</td>\n",
       "      <td>NaN</td>\n",
       "      <td>NaN</td>\n",
       "      <td>NaN</td>\n",
       "      <td>NaN</td>\n",
       "      <td>NaN</td>\n",
       "      <td>NaN</td>\n",
       "    </tr>\n",
       "    <tr>\n",
       "      <th>1</th>\n",
       "      <td>1952-02-01</td>\n",
       "      <td>NaN</td>\n",
       "      <td>NaN</td>\n",
       "      <td>NaN</td>\n",
       "      <td>NaN</td>\n",
       "      <td>NaN</td>\n",
       "      <td>NaN</td>\n",
       "      <td>NaN</td>\n",
       "      <td>NaN</td>\n",
       "      <td>NaN</td>\n",
       "      <td>NaN</td>\n",
       "      <td>NaN</td>\n",
       "      <td>NaN</td>\n",
       "      <td>NaN</td>\n",
       "      <td>NaN</td>\n",
       "      <td>NaN</td>\n",
       "      <td>NaN</td>\n",
       "    </tr>\n",
       "    <tr>\n",
       "      <th>2</th>\n",
       "      <td>1952-03-01</td>\n",
       "      <td>NaN</td>\n",
       "      <td>NaN</td>\n",
       "      <td>NaN</td>\n",
       "      <td>NaN</td>\n",
       "      <td>NaN</td>\n",
       "      <td>NaN</td>\n",
       "      <td>NaN</td>\n",
       "      <td>NaN</td>\n",
       "      <td>NaN</td>\n",
       "      <td>NaN</td>\n",
       "      <td>NaN</td>\n",
       "      <td>NaN</td>\n",
       "      <td>NaN</td>\n",
       "      <td>NaN</td>\n",
       "      <td>NaN</td>\n",
       "      <td>NaN</td>\n",
       "    </tr>\n",
       "    <tr>\n",
       "      <th>3</th>\n",
       "      <td>1952-04-01</td>\n",
       "      <td>NaN</td>\n",
       "      <td>NaN</td>\n",
       "      <td>NaN</td>\n",
       "      <td>NaN</td>\n",
       "      <td>NaN</td>\n",
       "      <td>NaN</td>\n",
       "      <td>NaN</td>\n",
       "      <td>NaN</td>\n",
       "      <td>NaN</td>\n",
       "      <td>NaN</td>\n",
       "      <td>NaN</td>\n",
       "      <td>NaN</td>\n",
       "      <td>NaN</td>\n",
       "      <td>NaN</td>\n",
       "      <td>NaN</td>\n",
       "      <td>NaN</td>\n",
       "    </tr>\n",
       "    <tr>\n",
       "      <th>4</th>\n",
       "      <td>1952-05-01</td>\n",
       "      <td>NaN</td>\n",
       "      <td>NaN</td>\n",
       "      <td>NaN</td>\n",
       "      <td>NaN</td>\n",
       "      <td>NaN</td>\n",
       "      <td>NaN</td>\n",
       "      <td>NaN</td>\n",
       "      <td>NaN</td>\n",
       "      <td>NaN</td>\n",
       "      <td>NaN</td>\n",
       "      <td>NaN</td>\n",
       "      <td>NaN</td>\n",
       "      <td>NaN</td>\n",
       "      <td>NaN</td>\n",
       "      <td>NaN</td>\n",
       "      <td>NaN</td>\n",
       "    </tr>\n",
       "  </tbody>\n",
       "</table>\n",
       "</div>"
      ],
      "text/plain": [
       "         Date  Air_press  Temp  Temp_max  Temp_min  Humidity  Humi_min  Pre  \\\n",
       "0  1952-01-01        NaN   NaN       NaN       NaN       NaN       NaN  NaN   \n",
       "1  1952-02-01        NaN   NaN       NaN       NaN       NaN       NaN  NaN   \n",
       "2  1952-03-01        NaN   NaN       NaN       NaN       NaN       NaN  NaN   \n",
       "3  1952-04-01        NaN   NaN       NaN       NaN       NaN       NaN  NaN   \n",
       "4  1952-05-01        NaN   NaN       NaN       NaN       NaN       NaN  NaN   \n",
       "\n",
       "   Pre_max  Sunshine  Evaporation  G_Temp G_Temp_max  G_Temp_min  WindSpeed  \\\n",
       "0      NaN       NaN          NaN     NaN        NaN         NaN        NaN   \n",
       "1      NaN       NaN          NaN     NaN        NaN         NaN        NaN   \n",
       "2      NaN       NaN          NaN     NaN        NaN         NaN        NaN   \n",
       "3      NaN       NaN          NaN     NaN        NaN         NaN        NaN   \n",
       "4      NaN       NaN          NaN     NaN        NaN         NaN        NaN   \n",
       "\n",
       "   Cloud_total  Cloud_low  \n",
       "0          NaN        NaN  \n",
       "1          NaN        NaN  \n",
       "2          NaN        NaN  \n",
       "3          NaN        NaN  \n",
       "4          NaN        NaN  "
      ]
     },
     "execution_count": 77,
     "metadata": {},
     "output_type": "execute_result"
    }
   ],
   "source": [
    "df.head()"
   ]
  },
  {
   "cell_type": "code",
   "execution_count": 102,
   "metadata": {
    "collapsed": false
   },
   "outputs": [
    {
     "data": {
      "text/plain": [
       "Date            object\n",
       "Air_press      float64\n",
       "Temp           float64\n",
       "Temp_max       float64\n",
       "Temp_min       float64\n",
       "Humidity       float64\n",
       "Humi_min       float64\n",
       "Pre            float64\n",
       "Pre_max        float64\n",
       "Sunshine       float64\n",
       "Evaporation    float64\n",
       "G_Temp         float64\n",
       "G_Temp_max      object\n",
       "G_Temp_min     float64\n",
       "WindSpeed      float64\n",
       "Cloud_total    float64\n",
       "Cloud_low      float64\n",
       "dtype: object"
      ]
     },
     "execution_count": 102,
     "metadata": {},
     "output_type": "execute_result"
    }
   ],
   "source": [
    "df.dtypes"
   ]
  },
  {
   "cell_type": "code",
   "execution_count": 135,
   "metadata": {
    "collapsed": false
   },
   "outputs": [
    {
     "name": "stdout",
     "output_type": "stream",
     "text": [
      "Date:str10\n",
      "  valid_count: 504\n",
      "  min_length: 10\n",
      "  max_length: 10\n",
      "  value_counts: 504\n",
      "  numeric_counts: 0\n",
      "  None_counts: 0\n",
      "Air_press:float5.1\n",
      "  valid_counts: 264\n",
      "  min: 707.3\n",
      "  max: 719.4\n",
      "  mean: 713.637878787879\n",
      "  std: 2.342418570818877\n",
      "  None_counts: 240\n",
      "  first_valid_count_index: 38\n",
      "  last_valid_count_index: 347\n",
      "Temp:float4.1\n",
      "  valid_counts: 498\n",
      "  min: -1.1\n",
      "  max: 16.6\n",
      "  mean: 8.802409638554217\n",
      "  std: 5.203136553738384\n",
      "  None_counts: 6\n",
      "  first_valid_count_index: 6\n",
      "  last_valid_count_index: 503\n",
      "Temp_max:float4.1\n",
      "  valid_counts: 342\n",
      "  min: 12.3\n",
      "  max: 31.0\n",
      "  mean: 22.79269005847954\n",
      "  std: 4.054334679390794\n",
      "  None_counts: 162\n",
      "  first_valid_count_index: 6\n",
      "  last_valid_count_index: 347\n",
      "Temp_min:float5.1\n",
      "  valid_counts: 342\n",
      "  min: -14.9\n",
      "  max: 10.4\n",
      "  mean: -2.656432748538011\n",
      "  std: 6.649397663712505\n",
      "  None_counts: 162\n",
      "  first_valid_count_index: 6\n",
      "  last_valid_count_index: 347\n",
      "Humidity:float4.1\n",
      "  valid_counts: 300\n",
      "  min: 33.0\n",
      "  max: 83.0\n",
      "  mean: 61.28666666666667\n",
      "  std: 14.702097166476978\n",
      "  None_counts: 204\n",
      "  first_valid_count_index: 6\n",
      "  last_valid_count_index: 347\n",
      "Humi_min:float4.1\n",
      "  valid_counts: 300\n",
      "  min: 0.0\n",
      "  max: 39.0\n",
      "  mean: 10.593333333333334\n",
      "  std: 10.847743267713794\n",
      "  None_counts: 204\n",
      "  first_valid_count_index: 6\n",
      "  last_valid_count_index: 347\n",
      "Pre:float5.1\n",
      "  valid_counts: 498\n",
      "  min: 0.0\n",
      "  max: 347.2\n",
      "  mean: 75.9893574297188\n",
      "  std: 80.20331926871273\n",
      "  None_counts: 6\n",
      "  first_valid_count_index: 6\n",
      "  last_valid_count_index: 503\n",
      "Pre_max:float4.1\n",
      "  valid_counts: 337\n",
      "  min: 0.0\n",
      "  max: 53.0\n",
      "  mean: 15.107418397626104\n",
      "  std: 12.663214377677475\n",
      "  None_counts: 167\n",
      "  first_valid_count_index: 6\n",
      "  last_valid_count_index: 347\n",
      "Sunshine:float5.1\n",
      "  valid_counts: 444\n",
      "  min: 71.5\n",
      "  max: 235.1\n",
      "  mean: 164.32815315315304\n",
      "  std: 30.212742968240725\n",
      "  None_counts: 60\n",
      "  first_valid_count_index: 24\n",
      "  last_valid_count_index: 467\n",
      "Evaporation:float5.1\n",
      "  valid_counts: 342\n",
      "  min: 77.0\n",
      "  max: 307.0\n",
      "  mean: 150.36754385964906\n",
      "  std: 42.59500713298873\n",
      "  None_counts: 162\n",
      "  first_valid_count_index: 6\n",
      "  last_valid_count_index: 347\n",
      "G_Temp:float4.1\n",
      "  valid_counts: 286\n",
      "  min: 2.3\n",
      "  max: 21.3\n",
      "  mean: 12.729720279720285\n",
      "  std: 5.591440004595487\n",
      "  None_counts: 218\n",
      "  first_valid_count_index: 60\n",
      "  last_valid_count_index: 347\n",
      "G_Temp_max:str5.0\n",
      "  valid_count: 273\n",
      "  min_length: 2.0\n",
      "  max_length: 5.0\n",
      "  value_counts: 180\n",
      "  numeric_counts: 19\n",
      "  None_counts: 231\n",
      "G_Temp_min:float5.1\n",
      "  valid_counts: 318\n",
      "  min: -18.1\n",
      "  max: 10.5\n",
      "  mean: -3.172955974842768\n",
      "  std: 7.267456395805389\n",
      "  None_counts: 186\n",
      "  first_valid_count_index: 24\n",
      "  last_valid_count_index: 347\n",
      "WindSpeed:float3.1\n",
      "  valid_counts: 223\n",
      "  min: 1.1\n",
      "  max: 3.4\n",
      "  mean: 2.092825112107622\n",
      "  std: 0.40961704912528835\n",
      "  None_counts: 281\n",
      "  first_valid_count_index: 6\n",
      "  last_valid_count_index: 228\n",
      "Cloud_total:float3.1\n",
      "  valid_counts: 462\n",
      "  min: 0.8\n",
      "  max: 9.8\n",
      "  mean: 6.226406926406926\n",
      "  std: 2.4555651237549787\n",
      "  None_counts: 42\n",
      "  first_valid_count_index: 6\n",
      "  last_valid_count_index: 467\n",
      "Cloud_low:float3.1\n",
      "  valid_counts: 324\n",
      "  min: 0.4\n",
      "  max: 9.4\n",
      "  mean: 5.325000000000001\n",
      "  std: 2.3704106710074537\n",
      "  None_counts: 180\n",
      "  first_valid_count_index: 24\n",
      "  last_valid_count_index: 347\n"
     ]
    }
   ],
   "source": [
    "for col in df.columns:\n",
    "    ds=df[col]\n",
    "    if ds.dtypes == object:\n",
    "        max_length=ds.str.len().max()\n",
    "        print(col+\":str\"+str(max_length))\n",
    "        print('  valid_count:',ds.count())\n",
    "        print('  min_length:',ds.str.len().min())\n",
    "        print('  max_length:',ds.str.len().max())\n",
    "        print('  value_counts:',len(ds.value_counts()))\n",
    "        print('  numeric_counts:',len(list(ds[ds.str.isdigit()==True])))\n",
    "        print('  None_counts:',ds.isnull().values.sum())\n",
    "    if ds.dtypes=='float64':\n",
    "        max_length=ds.astype(str).str.len().max()\n",
    "        max_int=ds.fillna(0.0).astype(np.int).astype(str).str.len().max()\n",
    "        #print('  length:',max_length)\n",
    "        #print('  precision:',max_length-max_int-1)\n",
    "        print(col+':float'+str(max_length)+'.'+str(max_length-max_int-1))\n",
    "        print('  valid_counts:',ds.count())\n",
    "        print('  min:',ds.min())\n",
    "        print('  max:',ds.max())\n",
    "        print('  mean:',ds.mean())\n",
    "        print('  std:',ds.std())\n",
    "        print('  None_counts:',ds.isnull().sum())\n",
    "        print('  first_valid_count_index:',ds.first_valid_index())\n",
    "        print('  last_valid_count_index:',ds.last_valid_index())\n",
    "        \n",
    "        \n"
   ]
  },
  {
   "cell_type": "markdown",
   "metadata": {},
   "source": [
    "## 3.数据内容信息\n",
    "* 变量单位-------需用户填写\n",
    "* 变量意义-------需用户填写\n",
    "* 空间范围-------用户填写，或者用户指出对应的空间字段(long,lat)\n",
    "* 时间范围-------用户填写，或用户支持对应的时间字段及时间格式\n",
    "* 分类与分类意义---用户填写,包括如下类型\n",
    " * 分类-----------如土地利用分类\n",
    " * 特征值---------如降水数据中的，雪、冰雹等\n"
   ]
  },
  {
   "cell_type": "code",
   "execution_count": null,
   "metadata": {
    "collapsed": true
   },
   "outputs": [],
   "source": []
  },
  {
   "cell_type": "markdown",
   "metadata": {},
   "source": [
    "## 4.应用：统计数据缺失信息"
   ]
  },
  {
   "cell_type": "code",
   "execution_count": 136,
   "metadata": {
    "collapsed": false
   },
   "outputs": [
    {
     "data": {
      "text/html": [
       "<div>\n",
       "<table border=\"1\" class=\"dataframe\">\n",
       "  <thead>\n",
       "    <tr style=\"text-align: right;\">\n",
       "      <th></th>\n",
       "      <th>var</th>\n",
       "      <th>date_range</th>\n",
       "      <th>miss_count</th>\n",
       "    </tr>\n",
       "  </thead>\n",
       "  <tbody>\n",
       "    <tr>\n",
       "      <th>0</th>\n",
       "      <td>Air_press</td>\n",
       "      <td>1955-03-01--1980-12-01</td>\n",
       "      <td>9143</td>\n",
       "    </tr>\n",
       "    <tr>\n",
       "      <th>1</th>\n",
       "      <td>Temp</td>\n",
       "      <td>1952-07-01--1993-12-01</td>\n",
       "      <td>14630</td>\n",
       "    </tr>\n",
       "    <tr>\n",
       "      <th>2</th>\n",
       "      <td>Temp_max</td>\n",
       "      <td>1952-07-01--1980-12-01</td>\n",
       "      <td>10038</td>\n",
       "    </tr>\n",
       "    <tr>\n",
       "      <th>3</th>\n",
       "      <td>Temp_min</td>\n",
       "      <td>1952-07-01--1980-12-01</td>\n",
       "      <td>10038</td>\n",
       "    </tr>\n",
       "    <tr>\n",
       "      <th>4</th>\n",
       "      <td>Humidity</td>\n",
       "      <td>1952-07-01--1980-12-01</td>\n",
       "      <td>10080</td>\n",
       "    </tr>\n",
       "    <tr>\n",
       "      <th>5</th>\n",
       "      <td>Humi_min</td>\n",
       "      <td>1952-07-01--1980-12-01</td>\n",
       "      <td>10080</td>\n",
       "    </tr>\n",
       "    <tr>\n",
       "      <th>6</th>\n",
       "      <td>Pre</td>\n",
       "      <td>1952-07-01--1993-12-01</td>\n",
       "      <td>14630</td>\n",
       "    </tr>\n",
       "    <tr>\n",
       "      <th>7</th>\n",
       "      <td>Pre_max</td>\n",
       "      <td>1952-07-01--1980-12-01</td>\n",
       "      <td>10043</td>\n",
       "    </tr>\n",
       "    <tr>\n",
       "      <th>8</th>\n",
       "      <td>Sunshine</td>\n",
       "      <td>1954-01-01--1990-12-01</td>\n",
       "      <td>13039</td>\n",
       "    </tr>\n",
       "    <tr>\n",
       "      <th>9</th>\n",
       "      <td>Evaporation</td>\n",
       "      <td>1952-07-01--1980-12-01</td>\n",
       "      <td>10038</td>\n",
       "    </tr>\n",
       "    <tr>\n",
       "      <th>10</th>\n",
       "      <td>G_Temp</td>\n",
       "      <td>1957-01-01--1980-12-01</td>\n",
       "      <td>8449</td>\n",
       "    </tr>\n",
       "    <tr>\n",
       "      <th>11</th>\n",
       "      <td>G_Temp_max</td>\n",
       "      <td>1958-02-01--1980-12-01</td>\n",
       "      <td>8066</td>\n",
       "    </tr>\n",
       "    <tr>\n",
       "      <th>12</th>\n",
       "      <td>G_Temp_min</td>\n",
       "      <td>1954-01-01--1980-12-01</td>\n",
       "      <td>9513</td>\n",
       "    </tr>\n",
       "    <tr>\n",
       "      <th>13</th>\n",
       "      <td>WindSpeed</td>\n",
       "      <td>1952-07-01--1971-01-01</td>\n",
       "      <td>6535</td>\n",
       "    </tr>\n",
       "    <tr>\n",
       "      <th>14</th>\n",
       "      <td>Cloud_total</td>\n",
       "      <td>1952-07-01--1990-12-01</td>\n",
       "      <td>13570</td>\n",
       "    </tr>\n",
       "    <tr>\n",
       "      <th>15</th>\n",
       "      <td>Cloud_low</td>\n",
       "      <td>1954-01-01--1980-12-01</td>\n",
       "      <td>9507</td>\n",
       "    </tr>\n",
       "  </tbody>\n",
       "</table>\n",
       "</div>"
      ],
      "text/plain": [
       "            var              date_range miss_count\n",
       "0     Air_press  1955-03-01--1980-12-01       9143\n",
       "1          Temp  1952-07-01--1993-12-01      14630\n",
       "2      Temp_max  1952-07-01--1980-12-01      10038\n",
       "3      Temp_min  1952-07-01--1980-12-01      10038\n",
       "4      Humidity  1952-07-01--1980-12-01      10080\n",
       "5      Humi_min  1952-07-01--1980-12-01      10080\n",
       "6           Pre  1952-07-01--1993-12-01      14630\n",
       "7       Pre_max  1952-07-01--1980-12-01      10043\n",
       "8      Sunshine  1954-01-01--1990-12-01      13039\n",
       "9   Evaporation  1952-07-01--1980-12-01      10038\n",
       "10       G_Temp  1957-01-01--1980-12-01       8449\n",
       "11   G_Temp_max  1958-02-01--1980-12-01       8066\n",
       "12   G_Temp_min  1954-01-01--1980-12-01       9513\n",
       "13    WindSpeed  1952-07-01--1971-01-01       6535\n",
       "14  Cloud_total  1952-07-01--1990-12-01      13570\n",
       "15    Cloud_low  1954-01-01--1980-12-01       9507"
      ]
     },
     "execution_count": 136,
     "metadata": {},
     "output_type": "execute_result"
    }
   ],
   "source": [
    "import numpy as np\n",
    "import pandas as pd\n",
    "encoding='utf8'\n",
    "df=pd.read_csv(filename,encoding=encoding)\n",
    "##miss_data=df['Date']\n",
    "df_new=df.set_index('Date')\n",
    "col_name=['要素','时间范围','缺失数据条数']\n",
    "var_list=[]\n",
    "date_range=[]\n",
    "invalid_count=[]\n",
    "for col in df_new.columns:\n",
    "    valid_first=df_new[col].first_valid_index()\n",
    "    valid_last=df_new[col].last_valid_index()\n",
    "    valid_count=df_new[col].notnull().value_counts()[True]\n",
    "    td=pd.to_datetime(valid_last)- pd.to_datetime(valid_first)\n",
    "    count=str((td / np.timedelta64(1, 'D')).astype(int)-valid_count)\n",
    "    invalid_count.append(count)\n",
    "    var_list.append(col)\n",
    "    date_range.append(valid_first+'--'+valid_last)\n",
    "miss_data=pd.DataFrame(var_list,columns=['var'])\n",
    "miss_data['date_range']=date_range\n",
    "miss_data['miss_count']=invalid_count\n",
    "miss_data"
   ]
  },
  {
   "cell_type": "markdown",
   "metadata": {},
   "source": []
  },
  {
   "cell_type": "code",
   "execution_count": 2,
   "metadata": {
    "collapsed": false
   },
   "outputs": [],
   "source": [
    "import platform\n",
    "platform.system()"
   ]
  },
  {
   "cell_type": "code",
   "execution_count": 3,
   "metadata": {
    "collapsed": false
   },
   "outputs": [
    {
     "data": {
      "text/plain": [
       "'Windows'"
      ]
     },
     "execution_count": 3,
     "metadata": {},
     "output_type": "execute_result"
    }
   ],
   "source": [
    "platform.system()"
   ]
  },
  {
   "cell_type": "code",
   "execution_count": 4,
   "metadata": {
    "collapsed": true
   },
   "outputs": [],
   "source": [
    "import collections"
   ]
  },
  {
   "cell_type": "code",
   "execution_count": 5,
   "metadata": {
    "collapsed": true
   },
   "outputs": [],
   "source": [
    "dd=collections.defaultdict(dict)"
   ]
  },
  {
   "cell_type": "code",
   "execution_count": 6,
   "metadata": {
    "collapsed": true
   },
   "outputs": [],
   "source": [
    "dd['title']['id']=1\n"
   ]
  },
  {
   "cell_type": "code",
   "execution_count": 9,
   "metadata": {
    "collapsed": true
   },
   "outputs": [],
   "source": [
    "dd['title1']['id']=2"
   ]
  },
  {
   "cell_type": "code",
   "execution_count": 15,
   "metadata": {
    "collapsed": false
   },
   "outputs": [],
   "source": [
    "dd['title']['b']=3"
   ]
  },
  {
   "cell_type": "code",
   "execution_count": 18,
   "metadata": {
    "collapsed": false
   },
   "outputs": [],
   "source": [
    "c=collections.defaultdict(dict)\n",
    "c['tt']['bb']=4\n",
    "c['tt1']['bb']=5"
   ]
  },
  {
   "cell_type": "code",
   "execution_count": 19,
   "metadata": {
    "collapsed": true
   },
   "outputs": [],
   "source": [
    "dd['title']=c"
   ]
  },
  {
   "cell_type": "code",
   "execution_count": 20,
   "metadata": {
    "collapsed": false
   },
   "outputs": [
    {
     "data": {
      "text/plain": [
       "defaultdict(dict,\n",
       "            {'title': defaultdict(dict, {'tt': {'bb': 4}, 'tt1': {'bb': 5}}),\n",
       "             'title1': {'id': 2}})"
      ]
     },
     "execution_count": 20,
     "metadata": {},
     "output_type": "execute_result"
    }
   ],
   "source": [
    "dd"
   ]
  },
  {
   "cell_type": "code",
   "execution_count": 11,
   "metadata": {
    "collapsed": true
   },
   "outputs": [],
   "source": [
    "a={'basename':'aa', 'fullname':'rel_path', 'filepath':'filepath', \"filesize\":3.0,\n",
    "              'file_format':'csv', 'md5':'sssss'}\n"
   ]
  },
  {
   "cell_type": "code",
   "execution_count": 12,
   "metadata": {
    "collapsed": true
   },
   "outputs": [],
   "source": [
    "b=a"
   ]
  },
  {
   "cell_type": "code",
   "execution_count": 13,
   "metadata": {
    "collapsed": false
   },
   "outputs": [
    {
     "data": {
      "text/plain": [
       "{'basename': 'aa',\n",
       " 'file_format': 'csv',\n",
       " 'filepath': 'filepath',\n",
       " 'filesize': 3.0,\n",
       " 'fullname': 'rel_path',\n",
       " 'md5': 'sssss'}"
      ]
     },
     "execution_count": 13,
     "metadata": {},
     "output_type": "execute_result"
    }
   ],
   "source": [
    "b"
   ]
  },
  {
   "cell_type": "code",
   "execution_count": null,
   "metadata": {
    "collapsed": true
   },
   "outputs": [],
   "source": []
  }
 ],
 "metadata": {
  "anaconda-cloud": {},
  "kernelspec": {
   "display_name": "Python [Root]",
   "language": "python",
   "name": "Python [Root]"
  },
  "language_info": {
   "codemirror_mode": {
    "name": "ipython",
    "version": 3
   },
   "file_extension": ".py",
   "mimetype": "text/x-python",
   "name": "python",
   "nbconvert_exporter": "python",
   "pygments_lexer": "ipython3",
   "version": "3.5.1"
  }
 },
 "nbformat": 4,
 "nbformat_minor": 0
}
