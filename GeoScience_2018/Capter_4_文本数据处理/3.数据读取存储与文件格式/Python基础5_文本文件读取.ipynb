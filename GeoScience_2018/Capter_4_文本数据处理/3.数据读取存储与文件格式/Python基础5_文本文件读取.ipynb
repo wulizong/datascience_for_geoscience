{
 "cells": [
  {
   "cell_type": "markdown",
   "metadata": {},
   "source": [
    "<h1 align=center>Python基础5:文本文件读取</h1>\n",
    "----\n",
    "* 作者：吴立宗\n",
    "* 日期：2016-7-3\n",
    "* 目标：熟悉文本文件读取\n",
    " * 以landsat元数据文件为例\n",
    " * 从元数据文件中提取遥感传感器、接收日期、path、row和四角坐标\n",
    " * 将坐标信息转换为矢量格式，形成索引图"
   ]
  },
  {
   "cell_type": "markdown",
   "metadata": {},
   "source": [
    "## 1.一般文件读取"
   ]
  },
  {
   "cell_type": "code",
   "execution_count": 10,
   "metadata": {
    "collapsed": false
   },
   "outputs": [
    {
     "data": {
      "text/plain": [
       "['GROUP = METADATA_FILE\\n',\n",
       " '\\tPRODUCT_CREATION_TIME = 2004-02-12T15:23:05Z\\n',\n",
       " '\\tPRODUCT_FILE_SIZE = 695.2\\n',\n",
       " '\\tSTATION_ID = \"EDC\"\\n',\n",
       " '\\tGROUND_STATION = \"SGS\"\\n',\n",
       " '\\tGROUP = ORTHO_PRODUCT_METADATA \\n',\n",
       " '\\t\\tSPACECRAFT_ID = \"Landsat7\" \\n',\n",
       " '\\t\\tSENSOR_ID = \"ETM+\" \\n',\n",
       " '\\t\\tACQUISITION_DATE = 2002-06-28\\n',\n",
       " '\\t\\tWRS_PATH = 142\\n']"
      ]
     },
     "execution_count": 10,
     "metadata": {},
     "output_type": "execute_result"
    }
   ],
   "source": [
    "filename='data/p142r029_7x20020628.met'\n",
    "f=open(filename,'r')\n",
    "# 读取全部数据\n",
    "data=f.readlines()\n",
    "f.close()\n",
    "data[0:10]"
   ]
  },
  {
   "cell_type": "markdown",
   "metadata": {},
   "source": [
    "* 逐行读取"
   ]
  },
  {
   "cell_type": "code",
   "execution_count": 11,
   "metadata": {
    "collapsed": false
   },
   "outputs": [
    {
     "name": "stdout",
     "output_type": "stream",
     "text": [
      "GROUP = METADATA_FILE\n",
      "\n",
      "\tPRODUCT_CREATION_TIME = 2004-02-12T15:23:05Z\n",
      "\n",
      "\tPRODUCT_FILE_SIZE = 695.2\n",
      "\n",
      "\tSTATION_ID = \"EDC\"\n",
      "\n",
      "\tGROUND_STATION = \"SGS\"\n",
      "\n",
      "\tGROUP = ORTHO_PRODUCT_METADATA \n",
      "\n",
      "\t\tSPACECRAFT_ID = \"Landsat7\" \n",
      "\n",
      "\t\tSENSOR_ID = \"ETM+\" \n",
      "\n",
      "\t\tACQUISITION_DATE = 2002-06-28\n",
      "\n",
      "\t\tWRS_PATH = 142\n",
      "\n"
     ]
    }
   ],
   "source": [
    "filename='data/p142r029_7x20020628.met'\n",
    "f=open(filename,'r')\n",
    "index=0\n",
    "for line in f:\n",
    "    if index<10:\n",
    "        print(line)\n",
    "    index=index+1\n",
    "f.close()\n"
   ]
  },
  {
   "cell_type": "code",
   "execution_count": 12,
   "metadata": {
    "collapsed": false
   },
   "outputs": [
    {
     "name": "stdout",
     "output_type": "stream",
     "text": [
      "GROUP = METADATA_FILE\n",
      "\n",
      "\tPRODUCT_CREATION_TIME = 2004-02-12T15:23:05Z\n",
      "\n",
      "\tPRODUCT_FILE_SIZE = 695.2\n",
      "\n",
      "\tSTATION_ID = \"EDC\"\n",
      "\n",
      "\tGROUND_STATION = \"SGS\"\n",
      "\n",
      "\tGROUP = ORTHO_PRODUCT_METADATA \n",
      "\n",
      "\t\tSPACECRAFT_ID = \"Landsat7\" \n",
      "\n",
      "\t\tSENSOR_ID = \"ETM+\" \n",
      "\n",
      "\t\tACQUISITION_DATE = 2002-06-28\n",
      "\n",
      "\t\tWRS_PATH = 142\n",
      "\n"
     ]
    }
   ],
   "source": [
    "filename='data/p142r029_7x20020628.met'\n",
    "f=open(filename,'r')\n",
    "data=f.readlines()\n",
    "f.close()\n",
    "index=0\n",
    "for line in data:\n",
    "    if index<10:\n",
    "        print(line)\n",
    "    index=index+1"
   ]
  },
  {
   "cell_type": "code",
   "execution_count": 19,
   "metadata": {
    "collapsed": false
   },
   "outputs": [
    {
     "name": "stdout",
     "output_type": "stream",
     "text": [
      "['\\tPRODUCT_CREATION_TIME = 2004-02-12T15:23:05Z\\n', '\\tPRODUCT_FILE_SIZE = 695.2\\n', '\\tSTATION_ID = \"EDC\"\\n', '\\tGROUND_STATION = \"SGS\"\\n', '\\tGROUP = ORTHO_PRODUCT_METADATA \\n', '\\t\\tSPACECRAFT_ID = \"Landsat7\" \\n', '\\t\\tSENSOR_ID = \"ETM+\" \\n', '\\t\\tACQUISITION_DATE = 2002-06-28\\n', '\\t\\tWRS_PATH = 142\\n']\n"
     ]
    }
   ],
   "source": [
    "with open(filename,'r') as f:\n",
    "    data=f.readlines()\n",
    "    print(data[1:10])"
   ]
  },
  {
   "cell_type": "markdown",
   "metadata": {},
   "source": [
    "* 常用字符操作"
   ]
  },
  {
   "cell_type": "code",
   "execution_count": 20,
   "metadata": {
    "collapsed": false
   },
   "outputs": [
    {
     "name": "stdout",
     "output_type": "stream",
     "text": [
      "['GROUP', 'METADATA_FILE']\n",
      "['PRODUCT_CREATION_TIME', '2004-02-12T15:23:05Z']\n",
      "['PRODUCT_FILE_SIZE', '695.2']\n",
      "['STATION_ID', '\"EDC\"']\n",
      "['GROUND_STATION', '\"SGS\"']\n",
      "['GROUP', 'ORTHO_PRODUCT_METADATA']\n",
      "['SPACECRAFT_ID', '\"Landsat7\"']\n",
      "['SENSOR_ID', '\"ETM+\"']\n",
      "['ACQUISITION_DATE', '2002-06-28']\n",
      "['WRS_PATH', '142']\n",
      "['WRS_ROW', '029']\n",
      "['SCENE_CENTER_LAT', '+44.6221476']\n",
      "['SCENE_CENTER_LON', '+88.7393630']\n",
      "['SCENE_UL_CORNER_LAT', '+45.5889201']\n",
      "['SCENE_UL_CORNER_LON', '+87.8736448']\n",
      "['SCENE_UR_CORNER_LAT', '+45.2517356']\n",
      "['SCENE_UR_CORNER_LON', '+90.1776901']\n",
      "['SCENE_LL_CORNER_LAT', '+43.9743940']\n",
      "['SCENE_LL_CORNER_LON', '+87.3322773']\n",
      "['SCENE_LR_CORNER_LAT', '+43.6491893']\n",
      "['SCENE_LR_CORNER_LON', '+89.5766520']\n",
      "['SCENE_UL_CORNER_MAPX', '568147.500']\n",
      "['SCENE_UL_CORNER_MAPY', '5048746.500']\n",
      "['SCENE_UR_CORNER_MAPX', '749350.500']\n",
      "['SCENE_UR_CORNER_MAPY', '5015829.000']\n",
      "['SCENE_LL_CORNER_MAPX', '526651.500']\n",
      "['SCENE_LL_CORNER_MAPY', '4869082.500']\n",
      "['SCENE_LR_CORNER_MAPX', '707797.500']\n",
      "['SCENE_LR_CORNER_MAPY', '4836136.500']\n",
      "['BAND1_FILE_NAME', '\"p142r029_7t20020628_z45_nn10.tif\"']\n",
      "['BAND2_FILE_NAME', '\"p142r029_7t20020628_z45_nn20.tif\"']\n",
      "['BAND3_FILE_NAME', '\"p142r029_7t20020628_z45_nn30.tif\"']\n",
      "['BAND4_FILE_NAME', '\"p142r029_7t20020628_z45_nn40.tif\"']\n",
      "['BAND5_FILE_NAME', '\"p142r029_7t20020628_z45_nn50.tif\"']\n",
      "['BAND61_FILE_NAME', '\"p142r029_7k20020628_z45_nn61.tif\"']\n",
      "['BAND62_FILE_NAME', '\"p142r029_7k20020628_z45_nn62.tif\"']\n",
      "['BAND7_FILE_NAME', '\"p142r029_7t20020628_z45_nn70.tif\"']\n",
      "['BAND8_FILE_NAME', '\"p142r029_7p20020628_z45_nn80.tif\"']\n",
      "['GROUP', 'PROJECTION_PARAMETERS']\n",
      "['REFERENCE_DATUM', '\"WGS84\"']\n",
      "['REFERENCE_ELLIPSOID', '\"WGS84\"']\n",
      "['GRID_CELL_ORIGIN', '\"Center\"']\n",
      "['UL_GRID_LINE_NUMBER', '1']\n",
      "['UL_GRID_SAMPLE_NUMBER', '1']\n",
      "['GRID_INCREMENT_UNIT', '\"Meters\"']\n",
      "['GRID_CELL_SIZE_PAN', '14.250']\n",
      "['GRID_CELL_SIZE_THM', '57.000']\n",
      "['GRID_CELL_SIZE_REF', '28.500']\n",
      "['FALSE_NORTHING', '0']\n",
      "['ORIENTATION', '\"NUP\"']\n",
      "['RESAMPLING_OPTION', '\"NN\"']\n",
      "['MAP_PROJECTION', '\"UTM\"']\n",
      "['END_GROUP', 'PROJECTION_PARAMETERS']\n",
      "['GROUP', 'UTM_PARAMETERS']\n",
      "['ZONE_NUMBER', '+45']\n",
      "['END_GROUP', 'UTM_PARAMETERS']\n",
      "['SUN_AZIMUTH', '131.7599828']\n",
      "['SUN_ELEVATION', '61.8356970']\n",
      "['QA_PERCENT_MISSING_DATA', '0']\n",
      "['CLOUD_COVER', '0']\n",
      "['PRODUCT_SAMPLES_PAN', '17536']\n",
      "['PRODUCT_LINES_PAN', '15824']\n",
      "['PRODUCT_SAMPLES_REF', '8768']\n",
      "['PRODUCT_LINES_REF', '7912']\n",
      "['PRODUCT_SAMPLES_THM', '4384']\n",
      "['PRODUCT_LINES_THM', '3956']\n",
      "['OUTPUT_FORMAT', '\"GEOTIFF\"']\n",
      "['END_GROUP', 'ORTHO_PRODUCT_METADATA']\n",
      "['GROUP', 'L1G_PRODUCT_METADATA']\n",
      "['BAND_COMBINATION', '\"123456678\"']\n",
      "['CPF_FILE_NAME', '\"L7CPF20020401_20020630_02\"']\n",
      "['GROUP', 'MIN_MAX_RADIANCE']\n",
      "['LMAX_BAND1', '293.700']\n",
      "['LMIN_BAND1', '-6.200']\n",
      "['LMAX_BAND2', '300.900']\n",
      "['LMIN_BAND2', '-6.400']\n",
      "['LMAX_BAND3', '234.400']\n",
      "['LMIN_BAND3', '-5.000']\n",
      "['LMAX_BAND4', '241.100']\n",
      "['LMIN_BAND4', '-5.100']\n",
      "['LMAX_BAND5', '47.570']\n",
      "['LMIN_BAND5', '-1.000']\n",
      "['LMAX_BAND61', '17.040']\n",
      "['LMIN_BAND61', '0.000']\n",
      "['LMAX_BAND62', '12.650']\n",
      "['LMIN_BAND62', '3.200']\n",
      "['LMAX_BAND7', '16.540']\n",
      "['LMIN_BAND7', '-0.350']\n",
      "['LMAX_BAND8', '243.100']\n",
      "['LMIN_BAND8', '-4.700']\n",
      "['END_GROUP', 'MIN_MAX_RADIANCE']\n",
      "['GROUP', 'MIN_MAX_PIXEL_VALUE']\n",
      "['QCALMAX_BAND1', '255.0']\n",
      "['QCALMIN_BAND1', '1.0']\n",
      "['QCALMAX_BAND2', '255.0']\n",
      "['QCALMIN_BAND2', '1.0']\n",
      "['QCALMAX_BAND3', '255.0']\n",
      "['QCALMIN_BAND3', '1.0']\n",
      "['QCALMAX_BAND4', '255.0']\n",
      "['QCALMIN_BAND4', '1.0']\n",
      "['QCALMAX_BAND5', '255.0']\n",
      "['QCALMIN_BAND5', '1.0']\n",
      "['QCALMAX_BAND61', '255.0']\n",
      "['QCALMIN_BAND61', '1.0']\n",
      "['QCALMAX_BAND62', '255.0']\n",
      "['QCALMIN_BAND62', '1.0']\n",
      "['QCALMAX_BAND7', '255.0']\n",
      "['QCALMIN_BAND7', '1.0']\n",
      "['QCALMAX_BAND8', '255.0']\n",
      "['QCALMIN_BAND8', '1.0']\n",
      "['END_GROUP', 'MIN_MAX_PIXEL_VALUE']\n",
      "['GROUP', 'PRODUCT_PARAMETERS']\n",
      "['CORRECTION_METHOD_GAIN_BAND1', '\"CPF\"']\n",
      "['CORRECTION_METHOD_GAIN_BAND2', '\"CPF\"']\n",
      "['CORRECTION_METHOD_GAIN_BAND3', '\"CPF\"']\n",
      "['CORRECTION_METHOD_GAIN_BAND4', '\"CPF\"']\n",
      "['CORRECTION_METHOD_GAIN_BAND5', '\"CPF\"']\n",
      "['CORRECTION_METHOD_GAIN_BAND61', '\"CPF\"']\n",
      "['CORRECTION_METHOD_GAIN_BAND62', '\"CPF\"']\n",
      "['CORRECTION_METHOD_GAIN_BAND7', '\"CPF\"']\n",
      "['CORRECTION_METHOD_GAIN_BAND8', '\"CPF\"']\n",
      "['CORRECTION_METHOD_BIAS', '\"IC\"']\n",
      "['BAND1_GAIN', '\"L\"']\n",
      "['BAND2_GAIN', '\"L\"']\n",
      "['BAND3_GAIN', '\"L\"']\n",
      "['BAND4_GAIN', '\"L\"']\n",
      "['BAND5_GAIN', '\"L\"']\n",
      "['BAND6_GAIN1', '\"L\"']\n",
      "['BAND6_GAIN2', '\"H\"']\n",
      "['BAND7_GAIN', '\"L\"']\n",
      "['BAND8_GAIN', '\"L\"']\n",
      "['BAND1_GAIN_CHANGE', '\"0\"']\n",
      "['BAND2_GAIN_CHANGE', '\"0\"']\n",
      "['BAND3_GAIN_CHANGE', '\"0\"']\n",
      "['BAND4_GAIN_CHANGE', '\"0\"']\n",
      "['BAND5_GAIN_CHANGE', '\"0\"']\n",
      "['BAND6_GAIN_CHANGE1', '\"0\"']\n",
      "['BAND6_GAIN_CHANGE2', '\"0\"']\n",
      "['BAND7_GAIN_CHANGE', '\"0\"']\n",
      "['BAND8_GAIN_CHANGE', '\"0\"']\n",
      "['BAND1_SL_GAIN_CHANGE', '\"0\"']\n",
      "['BAND2_SL_GAIN_CHANGE', '\"0\"']\n",
      "['BAND3_SL_GAIN_CHANGE', '\"0\"']\n",
      "['BAND4_SL_GAIN_CHANGE', '\"0\"']\n",
      "['BAND5_SL_GAIN_CHANGE', '\"0\"']\n",
      "['BAND6_SL_GAIN_CHANGE1', '\"0\"']\n",
      "['BAND6_SL_GAIN_CHANGE2', '\"0\"']\n",
      "['BAND7_SL_GAIN_CHANGE', '\"0\"']\n",
      "['BAND8_SL_GAIN_CHANGE', '\"0\"']\n",
      "['END_GROUP', 'PRODUCT_PARAMETERS']\n",
      "['GROUP', 'CORRECTIONS_APPLIED']\n",
      "['STRIPING_BAND1', '\"NONE\"']\n",
      "['STRIPING_BAND2', '\"NONE\"']\n",
      "['STRIPING_BAND3', '\"NONE\"']\n",
      "['STRIPING_BAND4', '\"NONE\"']\n",
      "['STRIPING_BAND5', '\"NONE\"']\n",
      "['STRIPING_BAND61', '\"NONE\"']\n",
      "['STRIPING_BAND62', '\"NONE\"']\n",
      "['STRIPING_BAND7', '\"NONE\"']\n",
      "['STRIPING_BAND8', '\"NONE\"']\n",
      "['BANDING', '\"N\"']\n",
      "['COHERENT_NOISE', '\"N\"']\n",
      "['MEMORY_EFFECT', '\"N\"']\n",
      "['SCAN_CORRELATED_SHIFT', '\"N\"']\n",
      "['INOPERABLE_DETECTORS', '\"N\"']\n",
      "['DROPPED_LINES', 'N']\n",
      "['END_GROUP', 'CORRECTIONS_APPLIED']\n",
      "['END_GROUP', 'L1G_PRODUCT_METADATA']\n",
      "['END_GROUP', 'METADATA_FILE']\n",
      "['END']\n"
     ]
    }
   ],
   "source": [
    "with open(filename,'r') as f:\n",
    "    for line in f:\n",
    "        line = line.replace('\\t','')     # 去掉tab符号\n",
    "        line = line.replace(' ','')      # 去掉所有空格\n",
    "        line = line.replace('\\r','')\n",
    "        line = line.replace('\\n','')     #去掉所有回车符\n",
    "        line = line.split('=')           # 用=分割字符串  \n",
    "        print(line)"
   ]
  },
  {
   "cell_type": "markdown",
   "metadata": {},
   "source": [
    "## 2.中文文件读取\n",
    "* 有中文的情况下，用一般的模式打开文件，中文显示通常为乱码\n",
    "* 在这种情况下，通常需要指定文件打开时的字符集\n",
    "* 中文字符通常用两种方式存储，即GB2312或utf8\n",
    "* 通常使用codecs模块\n",
    "* excel 存储的数据，通常以gb2312编码保存"
   ]
  },
  {
   "cell_type": "code",
   "execution_count": 25,
   "metadata": {
    "collapsed": false
   },
   "outputs": [
    {
     "name": "stdout",
     "output_type": "stream",
     "text": [
      "站号:54123\r\n",
      "\n",
      "站名:康桥\r\n",
      "\n",
      "年,日,1月,2月,3月,4月,5月,6月,7月,8月,9月,10月,11月,12月\r\n",
      "\n",
      "2000,1,85,59,76,36,55,54,84,85,77,80,79,74\r\n",
      "\n",
      "2000,2,87,79,73,76,40,57,72,84,78,79,84,67\r\n",
      "\n",
      "2000,3,87,79,80,83,59,47,73,83,79,67,74,48\r\n",
      "\n",
      "2000,4,85,79,64,43,49,51,85,76,77,63,96,52\r\n",
      "\n",
      "2000,5,84,81,67,42,36,53,61,76,70,61,88,59\r\n",
      "\n",
      "2000,6,89,81,70,53,26,66,80,91,74,76,85,72\r\n",
      "\n",
      "2000,7,91,75,51,60,42,60,76,87,90,75,72,73\r\n",
      "\n",
      "2000,8,85,74,46,57,36,55,64,91,95,90,64,68\r\n",
      "\n",
      "2000,9,81,76,53,87,52,63,82,83,95,75,71,64\r\n",
      "\n",
      "2000,10,81,73,59,71,58,62,83,77,88,70,72,55\r\n",
      "\n",
      "2000,11,85,74,53,56,58,55,85,76,84,54,75,47\r\n",
      "\n",
      "2000,12,81,64,69,48,81,44,73,74,74,49,75,53\r\n",
      "\n",
      "2000,13,80,74,71,55,73,52,78,79,73,71,78,74\r\n",
      "\n",
      "2000,14,83,69,72,54,70,63,81,88,79,70,78,75\r\n",
      "\n",
      "2000,15,83,58,74,59,69,60,86,89,75,58,68,75\r\n",
      "\n",
      "2000,16,83,63,73,61,51,61,88,85,71,74,72,72\r\n",
      "\n",
      "2000,17,83,72,71,65,39,56,77,95,72,55,72,76\r\n",
      "\n",
      "2000,18,81,73,68,61,31,56,79,76,72,67,66,73\r\n",
      "\n",
      "2000,19,81,74,67,84,45,58,88,74,72,61,68,73\r\n",
      "\n",
      "2000,20,81,76,68,65,45,60,96,77,58,63,71,73\r\n",
      "\n",
      "2000,21,79,74,64,89,45,66,89,80,59,82,72,74\r\n",
      "\n",
      "2000,22,74,73,70,95,59,72,85,93,57,74,73,75\r\n",
      "\n",
      "2000,23,69,72,57,91,65,93,83,92,75,77,74,72\r\n",
      "\n",
      "2000,24,71,70,58,88,76,94,71,91,70,93,70,74\r\n",
      "\n",
      "2000,25,64,72,64,71,58,82,79,81,76,60,72,72\r\n",
      "\n",
      "2000,26,54,75,70,64,49,80,93,80,77,39,72,71\r\n",
      "\n",
      "2000,27,67,72,79,53,53,77,85,81,75,65,69,73\r\n",
      "\n",
      "2000,28,80,80,71,41,42,63,94,83,53,60,71,72\r\n",
      "\n",
      "2000,29,65,66,70,43,49,84,94,86,66,59,73,74\r\n",
      "\n",
      "2000,30,71,,81,48,59,91,95,79,86,75,75,73\r\n",
      "\n",
      "2000,31,66,,45,,70,,90,81,,76,,74\r\n",
      "\n"
     ]
    }
   ],
   "source": [
    "import codecs\n",
    "filename='data/weather_data.txt'\n",
    "with codecs.open(filename,'r',encoding='gb2312') as f:\n",
    "    for line in f:\n",
    "        print(line)"
   ]
  },
  {
   "cell_type": "markdown",
   "metadata": {},
   "source": [
    "## 3.创建新文件"
   ]
  },
  {
   "cell_type": "code",
   "execution_count": 29,
   "metadata": {
    "collapsed": false
   },
   "outputs": [
    {
     "name": "stdout",
     "output_type": "stream",
     "text": [
      "年,日,1月,2月,3月,4月,5月,6月,7月,8月,9月,10月,11月,12月\r\n",
      "\n",
      "2000,1,85,59,76,36,55,54,84,85,77,80,79,74\r\n",
      "\n",
      "2000,2,87,79,73,76,40,57,72,84,78,79,84,67\r\n",
      "\n",
      "2000,3,87,79,80,83,59,47,73,83,79,67,74,48\r\n",
      "\n",
      "2000,4,85,79,64,43,49,51,85,76,77,63,96,52\r\n",
      "\n",
      "2000,5,84,81,67,42,36,53,61,76,70,61,88,59\r\n",
      "\n",
      "2000,6,89,81,70,53,26,66,80,91,74,76,85,72\r\n",
      "\n",
      "2000,7,91,75,51,60,42,60,76,87,90,75,72,73\r\n",
      "\n",
      "2000,8,85,74,46,57,36,55,64,91,95,90,64,68\r\n",
      "\n",
      "2000,9,81,76,53,87,52,63,82,83,95,75,71,64\r\n",
      "\n",
      "2000,10,81,73,59,71,58,62,83,77,88,70,72,55\r\n",
      "\n",
      "2000,11,85,74,53,56,58,55,85,76,84,54,75,47\r\n",
      "\n",
      "2000,12,81,64,69,48,81,44,73,74,74,49,75,53\r\n",
      "\n",
      "2000,13,80,74,71,55,73,52,78,79,73,71,78,74\r\n",
      "\n",
      "2000,14,83,69,72,54,70,63,81,88,79,70,78,75\r\n",
      "\n",
      "2000,15,83,58,74,59,69,60,86,89,75,58,68,75\r\n",
      "\n",
      "2000,16,83,63,73,61,51,61,88,85,71,74,72,72\r\n",
      "\n",
      "2000,17,83,72,71,65,39,56,77,95,72,55,72,76\r\n",
      "\n",
      "2000,18,81,73,68,61,31,56,79,76,72,67,66,73\r\n",
      "\n",
      "2000,19,81,74,67,84,45,58,88,74,72,61,68,73\r\n",
      "\n",
      "2000,20,81,76,68,65,45,60,96,77,58,63,71,73\r\n",
      "\n",
      "2000,21,79,74,64,89,45,66,89,80,59,82,72,74\r\n",
      "\n",
      "2000,22,74,73,70,95,59,72,85,93,57,74,73,75\r\n",
      "\n",
      "2000,23,69,72,57,91,65,93,83,92,75,77,74,72\r\n",
      "\n",
      "2000,24,71,70,58,88,76,94,71,91,70,93,70,74\r\n",
      "\n",
      "2000,25,64,72,64,71,58,82,79,81,76,60,72,72\r\n",
      "\n",
      "2000,26,54,75,70,64,49,80,93,80,77,39,72,71\r\n",
      "\n",
      "2000,27,67,72,79,53,53,77,85,81,75,65,69,73\r\n",
      "\n",
      "2000,28,80,80,71,41,42,63,94,83,53,60,71,72\r\n",
      "\n",
      "2000,29,65,66,70,43,49,84,94,86,66,59,73,74\r\n",
      "\n",
      "2000,30,71,,81,48,59,91,95,79,86,75,75,73\r\n",
      "\n",
      "2000,31,66,,45,,70,,90,81,,76,,74\r\n",
      "\n"
     ]
    }
   ],
   "source": [
    "import codecs\n",
    "filename='data/weather_data.txt'\n",
    "outfile='data/new_file.txt'\n",
    "with codecs.open(outfile,'w',encoding='utf8') as f_new:\n",
    "    with codecs.open(filename,'r',encoding='gb2312') as f:\n",
    "        index=0\n",
    "        for line in f:\n",
    "            if index>=2:\n",
    "                print(line)\n",
    "                line=line.replace('年','Year')\n",
    "                line=line.replace('月','')\n",
    "                line=line.replace('日','Day')\n",
    "                f_new.write(line)\n",
    "            index=index+1"
   ]
  },
  {
   "cell_type": "markdown",
   "metadata": {},
   "source": [
    "## 4.综合应用\n",
    "* 遍历landsat的头文件\n",
    "* 从met文件中提取中提取：\n",
    " * 卫星平台\n",
    " * 传感器类型\n",
    " * 卫星接收时间\n",
    " * 遥感数据所在路径\n",
    " * Path\n",
    " * Row\n",
    " * 四角坐标\n",
    "* 利用坐标信息，制作Landsat索引图"
   ]
  },
  {
   "cell_type": "markdown",
   "metadata": {},
   "source": [
    "\n",
    "### 4.1wkt格式\n",
    "* WKT，是一种文本标记语言，用于表示矢量几何对象、空间参照系统及空间参照系统之间的转换。\n",
    "* 它的二进制表示方式，亦即WKB(well-known binary)则胜于在传输和在数据库中存储相同的信息。\n",
    "* 该格式由开放地理空间联盟(OGC)制定。\n",
    "* 大多GIS软件都可以导入wkt格式的数据，即不需要GIS专业函数库，即可将数据转为GIS数据\n"
   ]
  },
  {
   "cell_type": "markdown",
   "metadata": {},
   "source": [
    "* 常用点线面wkt格式"
   ]
  },
  {
   "cell_type": "raw",
   "metadata": {},
   "source": [
    "POINT(6 10)\n",
    "LINESTRING(3 4,10 50,20 25)\n",
    "POLYGON((1 1,5 1,5 5,1 5,1 1),(2 2,2 3,3 3,3 2,2 2))"
   ]
  },
  {
   "cell_type": "markdown",
   "metadata": {
    "collapsed": true
   },
   "source": [
    "* 带有属性的WKT数据格式"
   ]
  },
  {
   "cell_type": "raw",
   "metadata": {},
   "source": [
    "name,Geom\n",
    "my_name,\"POLYGON((-125 52, -125 21, -98 21, -98 52, -125 52),(-120 50, -120 35, -100 35, -100 50, -120 50))\""
   ]
  },
  {
   "cell_type": "code",
   "execution_count": 34,
   "metadata": {
    "collapsed": false
   },
   "outputs": [],
   "source": [
    "import glob\n",
    "import os"
   ]
  },
  {
   "cell_type": "code",
   "execution_count": 35,
   "metadata": {
    "collapsed": false
   },
   "outputs": [
    {
     "name": "stdout",
     "output_type": "stream",
     "text": [
      "ok\n"
     ]
    }
   ],
   "source": [
    "file_path='data/landsat_met/'\n",
    "file_list =glob.glob(os.path.join(file_path,'*.met'))\n",
    "header='file_id,spacecraft_id,sensor_id,acquisition_date,wrs_path,wrs_row,image_size,geom'\n",
    "\n",
    "f_out= open('data/landsat_indexmap.txt','w')\n",
    "f_out.write(header+'\\n')\n",
    "for filename in file_list:\n",
    "    file_id=os.path.basename(filename).replace('.met','')\n",
    "    with open(filename,'r') as f:\n",
    "        for line in f:\n",
    "            line = line.replace('\\t','')     # 去掉tab符号\n",
    "            line = line.replace(' ','')      # 去掉所有空格\n",
    "            line = line.replace('\\r','')\n",
    "            line = line.replace('\\n','')     #去掉所有回车符\n",
    "            line = line.split('=')           # 用=分割字符串  \n",
    "            if line[0]=='PRODUCT_FILE_SIZE': # 获取遥感数据大小\n",
    "                image_size=line[1]\n",
    "            if line[0]=='SPACECRAFT_ID':     #获取卫星平台\n",
    "                spacecraft_id=line[1] \n",
    "            if line[0]=='SENSOR_ID':         #传感器编号      \n",
    "                sensor_id=line[1]\n",
    "            if line[0]=='ACQUISITION_DATE':  #接收日期\n",
    "                acquisition_date=line[1]  \n",
    "            if line[0]=='WRS_PATH':          #path\n",
    "                wrs_path=line[1]\n",
    "            if line[0]=='WRS_ROW':           #row\n",
    "                wrs_row=line[1]\n",
    "            if line[0]=='SCENE_UL_CORNER_LAT': #左上角经度\n",
    "                UL_x=line[1]\n",
    "            if line[0]=='SCENE_UL_CORNER_LON': #左上角纬度\n",
    "                UL_y=line[1]\n",
    "            if line[0]=='SCENE_UR_CORNER_LAT': #右上角经度\n",
    "                UR_x=line[1]\n",
    "            if line[0]=='SCENE_UR_CORNER_LON': #右上角纬度\n",
    "                UR_y=line[1]\n",
    "            if line[0]=='SCENE_LL_CORNER_LAT': #左下角经度\n",
    "                LL_x=line[1]\n",
    "            if line[0]=='SCENE_LL_CORNER_LON': #左下角纬度\n",
    "                LL_y=line[1]\n",
    "            if line[0]=='SCENE_LR_CORNER_LAT': #右下角经度\n",
    "                LR_x=line[1]\n",
    "            if line[0]=='SCENE_LR_CORNER_LON': #右下角纬度\n",
    "                LR_y=line[1]\n",
    "    the_geom='\"POLYGON(('+UL_x+' '+UL_y+','+UR_x+' '+UR_y+','+\\\n",
    "                LR_x+' '+LR_y+','+LL_x+' '+LL_y+','+UL_x+' '+UL_y+'))\"'\n",
    "    #print the_geom\n",
    "    landsat_info=[file_id,spacecraft_id,sensor_id,acquisition_date,wrs_path,\\\n",
    "                      wrs_row,image_size,the_geom]\n",
    "    landsat_info=','.join(landsat_info)\n",
    "    f_out.write(landsat_info+'\\n')\n",
    "f_out.close()\n",
    "print('ok')"
   ]
  },
  {
   "cell_type": "markdown",
   "metadata": {},
   "source": [
    "### 4.2导入到QGIS中\n",
    "* 用Add delimited Text Layer的方法导入数据\n",
    "* 设置对应的字段\n",
    "![](img/add_delimited_text_file.png)"
   ]
  },
  {
   "cell_type": "markdown",
   "metadata": {},
   "source": [
    "* 结果如下\n",
    "![](img/landsat_indexmap.png)\n",
    "![](img/landsat_indexmap_attribution.png)"
   ]
  },
  {
   "cell_type": "code",
   "execution_count": null,
   "metadata": {
    "collapsed": true
   },
   "outputs": [],
   "source": []
  }
 ],
 "metadata": {
  "anaconda-cloud": {},
  "kernelspec": {
   "display_name": "Python [Root]",
   "language": "python",
   "name": "Python [Root]"
  },
  "language_info": {
   "codemirror_mode": {
    "name": "ipython",
    "version": 3
   },
   "file_extension": ".py",
   "mimetype": "text/x-python",
   "name": "python",
   "nbconvert_exporter": "python",
   "pygments_lexer": "ipython3",
   "version": "3.5.1"
  }
 },
 "nbformat": 4,
 "nbformat_minor": 0
}
