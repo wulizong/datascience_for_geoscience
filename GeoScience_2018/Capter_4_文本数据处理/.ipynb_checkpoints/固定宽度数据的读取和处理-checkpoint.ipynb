{
 "cells": [
  {
   "cell_type": "markdown",
   "metadata": {},
   "source": [
    "<h1 aling=center>文本数据清洗4：读取和清洗固定宽度的数据</h1>\n",
    "-----\n",
    "* 作者: 吴立宗\n",
    "* 日期: 2-16-6-29\n",
    "* 目标:\n",
    " * 读取固定宽度的数据\n",
    " * 数据清洗\n",
    " * 获取特定站点的数据"
   ]
  },
  {
   "cell_type": "markdown",
   "metadata": {},
   "source": [
    "### 特征值说明：\n",
    "* 台站海拔高度：+100000\t当台站海拔高度为估测值时，在估测数据基础上加100000\n",
    "* 各要素项：32766\t数据缺测或无观测任务\n",
    "* 气压日极值：+20000\t气压极值取自定时值，在原值上加20000\n",
    "* 日最小相对湿度：+300\t最小相对湿度取自定时值，在原值上加300\n",
    "* 风速：+1000\t当风速超过仪器测量上限时，在上限数据基础上加1000\n",
    "* 风向\t\n",
    " * 1-17\t用数字表示风向方位，17表示静风\n",
    " * +100\t当表示风向为八风向时，在原值上加100\n",
    " * 90X\t风向出现X个时，风向数据用个数X表示\n",
    " * 95X\t风向至少出现X个时，风向数据用个数X表示\n",
    "* 降水量\t\n",
    " * 32700\t表示降水\"微量\"\n",
    " * 32XXX\tXXX为纯雾露霜\n",
    " * 31XXX\tXXX为雨和雪的总量\n",
    " * 30XXX\tXXX为雪量(仅包括雨夹雪，雪暴）\n",
    "* 蒸发量\t\n",
    " * 32700\t表示蒸发器结冰\n",
    " * +1000\t蒸发器中注入的水全部蒸发，在注入的水量数据基础上加1000\n",
    " *  0cm地温\t+10000\t实际温度（零上）超仪器上限刻度，在上限数据基础上加10000\n",
    " * -10000\t实际温度（零下）超仪器下限刻度，在下限数据基础上减10000"
   ]
  },
  {
   "cell_type": "markdown",
   "metadata": {},
   "source": [
    "### 读取固定宽度的格式化数据\n",
    "> pandas.read_fwf(filepath_or_buffer, colspecs='infer', widths=None, **kwds)\n"
   ]
  },
  {
   "cell_type": "markdown",
   "metadata": {},
   "source": [
    "### 数据格式说明\n",
    "|序号|中文名|数据类型|单位|\n",
    "|----|------|--------|----|\n",
    "|1|区站号|Number(5)||\n",
    "|2|纬度|Number(5)|（度、分）|\n",
    "|3|经度|Number(6)|（度、分）|\n",
    "|4|观测场拔海高度|Number(7)|0.1米|\n",
    "|5|年|Number(5)|年|\n",
    "|6|月|Number(3)|月|\n",
    "|7|日|Number(3)|日|\n",
    "|8|平均气温|Number(7)|0.1℃|\n",
    "|9|日最高气温|Number(7)|0.1℃|\n",
    "|10|日最低气温|Number(7)|0.1℃|\n",
    "|11|平均气温质量控制码|Number(2)||\n",
    "|12|日最高气温质量控制码|Number(2)||\t\n",
    "|13|日最低气温质量控制码|Number(2)|||\n",
    "\n"
   ]
  },
  {
   "cell_type": "markdown",
   "metadata": {},
   "source": [
    "## 1.学习pandas.read_fwf()"
   ]
  },
  {
   "cell_type": "code",
   "execution_count": 7,
   "metadata": {
    "collapsed": true
   },
   "outputs": [],
   "source": [
    "#enconding=utf8\n",
    "import pandas as pd\n",
    "import matplotlib.pylab as plt\n",
    "import numpy as np\n",
    "%matplotlib inline"
   ]
  },
  {
   "cell_type": "markdown",
   "metadata": {
    "collapsed": true
   },
   "source": [
    "### 1.1 一般读取"
   ]
  },
  {
   "cell_type": "code",
   "execution_count": 13,
   "metadata": {
    "collapsed": false
   },
   "outputs": [
    {
     "data": {
      "text/html": [
       "<div>\n",
       "<table border=\"1\" class=\"dataframe\">\n",
       "  <thead>\n",
       "    <tr style=\"text-align: right;\">\n",
       "      <th></th>\n",
       "      <th>50136</th>\n",
       "      <th>5258</th>\n",
       "      <th>12231</th>\n",
       "      <th>4330</th>\n",
       "      <th>2010</th>\n",
       "      <th>1</th>\n",
       "      <th>1.1</th>\n",
       "      <th>-311</th>\n",
       "      <th>-254</th>\n",
       "      <th>-385</th>\n",
       "      <th>0</th>\n",
       "      <th>0.1</th>\n",
       "      <th>0.2</th>\n",
       "    </tr>\n",
       "  </thead>\n",
       "  <tbody>\n",
       "    <tr>\n",
       "      <th>0</th>\n",
       "      <td>50136</td>\n",
       "      <td>5258</td>\n",
       "      <td>12231</td>\n",
       "      <td>4330</td>\n",
       "      <td>2010</td>\n",
       "      <td>1</td>\n",
       "      <td>2</td>\n",
       "      <td>-314</td>\n",
       "      <td>-238</td>\n",
       "      <td>-367</td>\n",
       "      <td>0</td>\n",
       "      <td>0</td>\n",
       "      <td>0</td>\n",
       "    </tr>\n",
       "    <tr>\n",
       "      <th>1</th>\n",
       "      <td>50136</td>\n",
       "      <td>5258</td>\n",
       "      <td>12231</td>\n",
       "      <td>4330</td>\n",
       "      <td>2010</td>\n",
       "      <td>1</td>\n",
       "      <td>3</td>\n",
       "      <td>-288</td>\n",
       "      <td>-229</td>\n",
       "      <td>-332</td>\n",
       "      <td>0</td>\n",
       "      <td>0</td>\n",
       "      <td>0</td>\n",
       "    </tr>\n",
       "    <tr>\n",
       "      <th>2</th>\n",
       "      <td>50136</td>\n",
       "      <td>5258</td>\n",
       "      <td>12231</td>\n",
       "      <td>4330</td>\n",
       "      <td>2010</td>\n",
       "      <td>1</td>\n",
       "      <td>4</td>\n",
       "      <td>-309</td>\n",
       "      <td>-227</td>\n",
       "      <td>-362</td>\n",
       "      <td>0</td>\n",
       "      <td>0</td>\n",
       "      <td>0</td>\n",
       "    </tr>\n",
       "    <tr>\n",
       "      <th>3</th>\n",
       "      <td>50136</td>\n",
       "      <td>5258</td>\n",
       "      <td>12231</td>\n",
       "      <td>4330</td>\n",
       "      <td>2010</td>\n",
       "      <td>1</td>\n",
       "      <td>5</td>\n",
       "      <td>-216</td>\n",
       "      <td>-184</td>\n",
       "      <td>-307</td>\n",
       "      <td>0</td>\n",
       "      <td>0</td>\n",
       "      <td>0</td>\n",
       "    </tr>\n",
       "    <tr>\n",
       "      <th>4</th>\n",
       "      <td>50136</td>\n",
       "      <td>5258</td>\n",
       "      <td>12231</td>\n",
       "      <td>4330</td>\n",
       "      <td>2010</td>\n",
       "      <td>1</td>\n",
       "      <td>6</td>\n",
       "      <td>-168</td>\n",
       "      <td>-127</td>\n",
       "      <td>-207</td>\n",
       "      <td>0</td>\n",
       "      <td>0</td>\n",
       "      <td>0</td>\n",
       "    </tr>\n",
       "  </tbody>\n",
       "</table>\n",
       "</div>"
      ],
      "text/plain": [
       "   50136  5258  12231  4330  2010  1  1.1  -311  -254  -385  0  0.1  0.2\n",
       "0  50136  5258  12231  4330  2010  1    2  -314  -238  -367  0    0    0\n",
       "1  50136  5258  12231  4330  2010  1    3  -288  -229  -332  0    0    0\n",
       "2  50136  5258  12231  4330  2010  1    4  -309  -227  -362  0    0    0\n",
       "3  50136  5258  12231  4330  2010  1    5  -216  -184  -307  0    0    0\n",
       "4  50136  5258  12231  4330  2010  1    6  -168  -127  -207  0    0    0"
      ]
     },
     "execution_count": 13,
     "metadata": {},
     "output_type": "execute_result"
    }
   ],
   "source": [
    "filename = 'data/TEMP_201001.txt'\n",
    "df = pd.read_fwf(filename)\n",
    "df.head()"
   ]
  },
  {
   "cell_type": "markdown",
   "metadata": {},
   "source": [
    "### 1.2 提前设定字段名称和字段宽度"
   ]
  },
  {
   "cell_type": "code",
   "execution_count": 15,
   "metadata": {
    "collapsed": false,
    "scrolled": true
   },
   "outputs": [
    {
     "data": {
      "text/html": [
       "<div>\n",
       "<table border=\"1\" class=\"dataframe\">\n",
       "  <thead>\n",
       "    <tr style=\"text-align: right;\">\n",
       "      <th></th>\n",
       "      <th>区站号</th>\n",
       "      <th>纬度</th>\n",
       "      <th>经度</th>\n",
       "      <th>观测场拔海高度</th>\n",
       "      <th>年</th>\n",
       "      <th>月</th>\n",
       "      <th>日</th>\n",
       "      <th>平均气温</th>\n",
       "      <th>日最高气温</th>\n",
       "      <th>日最低气温</th>\n",
       "      <th>平均气温质量控制码</th>\n",
       "      <th>日最高气温质量控制码</th>\n",
       "      <th>日最低气温质量控制码</th>\n",
       "    </tr>\n",
       "  </thead>\n",
       "  <tbody>\n",
       "    <tr>\n",
       "      <th>0</th>\n",
       "      <td>50136</td>\n",
       "      <td>5258</td>\n",
       "      <td>12231</td>\n",
       "      <td>4330</td>\n",
       "      <td>2010</td>\n",
       "      <td>1</td>\n",
       "      <td>2</td>\n",
       "      <td>-314</td>\n",
       "      <td>-238</td>\n",
       "      <td>-367</td>\n",
       "      <td>0</td>\n",
       "      <td>0</td>\n",
       "      <td>0</td>\n",
       "    </tr>\n",
       "    <tr>\n",
       "      <th>1</th>\n",
       "      <td>50136</td>\n",
       "      <td>5258</td>\n",
       "      <td>12231</td>\n",
       "      <td>4330</td>\n",
       "      <td>2010</td>\n",
       "      <td>1</td>\n",
       "      <td>3</td>\n",
       "      <td>-288</td>\n",
       "      <td>-229</td>\n",
       "      <td>-332</td>\n",
       "      <td>0</td>\n",
       "      <td>0</td>\n",
       "      <td>0</td>\n",
       "    </tr>\n",
       "    <tr>\n",
       "      <th>2</th>\n",
       "      <td>50136</td>\n",
       "      <td>5258</td>\n",
       "      <td>12231</td>\n",
       "      <td>4330</td>\n",
       "      <td>2010</td>\n",
       "      <td>1</td>\n",
       "      <td>4</td>\n",
       "      <td>-309</td>\n",
       "      <td>-227</td>\n",
       "      <td>-362</td>\n",
       "      <td>0</td>\n",
       "      <td>0</td>\n",
       "      <td>0</td>\n",
       "    </tr>\n",
       "    <tr>\n",
       "      <th>3</th>\n",
       "      <td>50136</td>\n",
       "      <td>5258</td>\n",
       "      <td>12231</td>\n",
       "      <td>4330</td>\n",
       "      <td>2010</td>\n",
       "      <td>1</td>\n",
       "      <td>5</td>\n",
       "      <td>-216</td>\n",
       "      <td>-184</td>\n",
       "      <td>-307</td>\n",
       "      <td>0</td>\n",
       "      <td>0</td>\n",
       "      <td>0</td>\n",
       "    </tr>\n",
       "    <tr>\n",
       "      <th>4</th>\n",
       "      <td>50136</td>\n",
       "      <td>5258</td>\n",
       "      <td>12231</td>\n",
       "      <td>4330</td>\n",
       "      <td>2010</td>\n",
       "      <td>1</td>\n",
       "      <td>6</td>\n",
       "      <td>-168</td>\n",
       "      <td>-127</td>\n",
       "      <td>-207</td>\n",
       "      <td>0</td>\n",
       "      <td>0</td>\n",
       "      <td>0</td>\n",
       "    </tr>\n",
       "  </tbody>\n",
       "</table>\n",
       "</div>"
      ],
      "text/plain": [
       "     区站号    纬度     经度  观测场拔海高度     年  月  日  平均气温  日最高气温  日最低气温  平均气温质量控制码  \\\n",
       "0  50136  5258  12231     4330  2010  1  2  -314   -238   -367          0   \n",
       "1  50136  5258  12231     4330  2010  1  3  -288   -229   -332          0   \n",
       "2  50136  5258  12231     4330  2010  1  4  -309   -227   -362          0   \n",
       "3  50136  5258  12231     4330  2010  1  5  -216   -184   -307          0   \n",
       "4  50136  5258  12231     4330  2010  1  6  -168   -127   -207          0   \n",
       "\n",
       "   日最高气温质量控制码  日最低气温质量控制码  \n",
       "0           0           0  \n",
       "1           0           0  \n",
       "2           0           0  \n",
       "3           0           0  \n",
       "4           0           0  "
      ]
     },
     "execution_count": 15,
     "metadata": {},
     "output_type": "execute_result"
    }
   ],
   "source": [
    "filename = 'data/TEMP_201001.txt'\n",
    "column_names =['区站号','纬度','经度','观测场拔海高度',\n",
    "               '年','月','日','平均气温','日最高气温',\n",
    "               '日最低气温','平均气温质量控制码','日最高气温质量控制码',\n",
    "               '日最低气温质量控制码']\n",
    "column_widths = [5,5,6,7,5,3,3,7,7,7,2,2,2]\n",
    "df = pd.read_fwf(filename,widths=column_widths,header=0,names=column_names)\n",
    "df.head()"
   ]
  },
  {
   "cell_type": "markdown",
   "metadata": {},
   "source": [
    "### 1.3在读取阶段，处理时间字段"
   ]
  },
  {
   "cell_type": "code",
   "execution_count": 22,
   "metadata": {
    "collapsed": false
   },
   "outputs": [
    {
     "data": {
      "text/html": [
       "<div>\n",
       "<table border=\"1\" class=\"dataframe\">\n",
       "  <thead>\n",
       "    <tr style=\"text-align: right;\">\n",
       "      <th></th>\n",
       "      <th>区站号</th>\n",
       "      <th>纬度</th>\n",
       "      <th>经度</th>\n",
       "      <th>观测场拔海高度</th>\n",
       "      <th>平均气温</th>\n",
       "      <th>日最高气温</th>\n",
       "      <th>日最低气温</th>\n",
       "      <th>平均气温质量控制码</th>\n",
       "      <th>日最高气温质量控制码</th>\n",
       "      <th>日最低气温质量控制码</th>\n",
       "    </tr>\n",
       "    <tr>\n",
       "      <th>date</th>\n",
       "      <th></th>\n",
       "      <th></th>\n",
       "      <th></th>\n",
       "      <th></th>\n",
       "      <th></th>\n",
       "      <th></th>\n",
       "      <th></th>\n",
       "      <th></th>\n",
       "      <th></th>\n",
       "      <th></th>\n",
       "    </tr>\n",
       "  </thead>\n",
       "  <tbody>\n",
       "    <tr>\n",
       "      <th>2010-01-02</th>\n",
       "      <td>50136</td>\n",
       "      <td>5258</td>\n",
       "      <td>12231</td>\n",
       "      <td>4330</td>\n",
       "      <td>-314</td>\n",
       "      <td>-238</td>\n",
       "      <td>-367</td>\n",
       "      <td>0</td>\n",
       "      <td>0</td>\n",
       "      <td>0</td>\n",
       "    </tr>\n",
       "    <tr>\n",
       "      <th>2010-01-03</th>\n",
       "      <td>50136</td>\n",
       "      <td>5258</td>\n",
       "      <td>12231</td>\n",
       "      <td>4330</td>\n",
       "      <td>-288</td>\n",
       "      <td>-229</td>\n",
       "      <td>-332</td>\n",
       "      <td>0</td>\n",
       "      <td>0</td>\n",
       "      <td>0</td>\n",
       "    </tr>\n",
       "    <tr>\n",
       "      <th>2010-01-04</th>\n",
       "      <td>50136</td>\n",
       "      <td>5258</td>\n",
       "      <td>12231</td>\n",
       "      <td>4330</td>\n",
       "      <td>-309</td>\n",
       "      <td>-227</td>\n",
       "      <td>-362</td>\n",
       "      <td>0</td>\n",
       "      <td>0</td>\n",
       "      <td>0</td>\n",
       "    </tr>\n",
       "    <tr>\n",
       "      <th>2010-01-05</th>\n",
       "      <td>50136</td>\n",
       "      <td>5258</td>\n",
       "      <td>12231</td>\n",
       "      <td>4330</td>\n",
       "      <td>-216</td>\n",
       "      <td>-184</td>\n",
       "      <td>-307</td>\n",
       "      <td>0</td>\n",
       "      <td>0</td>\n",
       "      <td>0</td>\n",
       "    </tr>\n",
       "    <tr>\n",
       "      <th>2010-01-06</th>\n",
       "      <td>50136</td>\n",
       "      <td>5258</td>\n",
       "      <td>12231</td>\n",
       "      <td>4330</td>\n",
       "      <td>-168</td>\n",
       "      <td>-127</td>\n",
       "      <td>-207</td>\n",
       "      <td>0</td>\n",
       "      <td>0</td>\n",
       "      <td>0</td>\n",
       "    </tr>\n",
       "  </tbody>\n",
       "</table>\n",
       "</div>"
      ],
      "text/plain": [
       "              区站号    纬度     经度  观测场拔海高度  平均气温  日最高气温  日最低气温  平均气温质量控制码  \\\n",
       "date                                                                     \n",
       "2010-01-02  50136  5258  12231     4330  -314   -238   -367          0   \n",
       "2010-01-03  50136  5258  12231     4330  -288   -229   -332          0   \n",
       "2010-01-04  50136  5258  12231     4330  -309   -227   -362          0   \n",
       "2010-01-05  50136  5258  12231     4330  -216   -184   -307          0   \n",
       "2010-01-06  50136  5258  12231     4330  -168   -127   -207          0   \n",
       "\n",
       "            日最高气温质量控制码  日最低气温质量控制码  \n",
       "date                                \n",
       "2010-01-02           0           0  \n",
       "2010-01-03           0           0  \n",
       "2010-01-04           0           0  \n",
       "2010-01-05           0           0  \n",
       "2010-01-06           0           0  "
      ]
     },
     "execution_count": 22,
     "metadata": {},
     "output_type": "execute_result"
    }
   ],
   "source": [
    "filename = 'data/TEMP_201001.txt'\n",
    "column_names =['区站号','纬度','经度','观测场拔海高度',\n",
    "               '年','月','日','平均气温','日最高气温',\n",
    "               '日最低气温','平均气温质量控制码','日最高气温质量控制码',\n",
    "               '日最低气温质量控制码']\n",
    "column_widths = [5,5,6,7,5,3,3,7,7,7,2,2,2]\n",
    "df = pd.read_fwf(filename,widths=column_widths,header=0,names=column_names,\\\n",
    "                 parse_dates={'date':['年','月','日']},index_col='date')\n",
    "df.head()"
   ]
  },
  {
   "cell_type": "markdown",
   "metadata": {},
   "source": [
    "## 2.数据清洗"
   ]
  },
  {
   "cell_type": "code",
   "execution_count": 8,
   "metadata": {
    "collapsed": false
   },
   "outputs": [
    {
     "data": {
      "text/html": [
       "<div>\n",
       "<table border=\"1\" class=\"dataframe\">\n",
       "  <thead>\n",
       "    <tr style=\"text-align: right;\">\n",
       "      <th></th>\n",
       "      <th>区站号</th>\n",
       "      <th>纬度</th>\n",
       "      <th>经度</th>\n",
       "      <th>观测场拔海高度</th>\n",
       "      <th>年</th>\n",
       "      <th>月</th>\n",
       "      <th>日</th>\n",
       "      <th>平均气温</th>\n",
       "      <th>日最高气温</th>\n",
       "      <th>日最低气温</th>\n",
       "      <th>平均气温质量控制码</th>\n",
       "      <th>日最高气温质量控制码</th>\n",
       "      <th>日最低气温质量控制码</th>\n",
       "    </tr>\n",
       "  </thead>\n",
       "  <tbody>\n",
       "    <tr>\n",
       "      <th>0</th>\n",
       "      <td>50136</td>\n",
       "      <td>5258</td>\n",
       "      <td>12231</td>\n",
       "      <td>4330</td>\n",
       "      <td>2010</td>\n",
       "      <td>1</td>\n",
       "      <td>2</td>\n",
       "      <td>-314</td>\n",
       "      <td>-238</td>\n",
       "      <td>-367</td>\n",
       "      <td>0</td>\n",
       "      <td>0</td>\n",
       "      <td>0</td>\n",
       "    </tr>\n",
       "    <tr>\n",
       "      <th>1</th>\n",
       "      <td>50136</td>\n",
       "      <td>5258</td>\n",
       "      <td>12231</td>\n",
       "      <td>4330</td>\n",
       "      <td>2010</td>\n",
       "      <td>1</td>\n",
       "      <td>3</td>\n",
       "      <td>-288</td>\n",
       "      <td>-229</td>\n",
       "      <td>-332</td>\n",
       "      <td>0</td>\n",
       "      <td>0</td>\n",
       "      <td>0</td>\n",
       "    </tr>\n",
       "    <tr>\n",
       "      <th>2</th>\n",
       "      <td>50136</td>\n",
       "      <td>5258</td>\n",
       "      <td>12231</td>\n",
       "      <td>4330</td>\n",
       "      <td>2010</td>\n",
       "      <td>1</td>\n",
       "      <td>4</td>\n",
       "      <td>-309</td>\n",
       "      <td>-227</td>\n",
       "      <td>-362</td>\n",
       "      <td>0</td>\n",
       "      <td>0</td>\n",
       "      <td>0</td>\n",
       "    </tr>\n",
       "    <tr>\n",
       "      <th>3</th>\n",
       "      <td>50136</td>\n",
       "      <td>5258</td>\n",
       "      <td>12231</td>\n",
       "      <td>4330</td>\n",
       "      <td>2010</td>\n",
       "      <td>1</td>\n",
       "      <td>5</td>\n",
       "      <td>-216</td>\n",
       "      <td>-184</td>\n",
       "      <td>-307</td>\n",
       "      <td>0</td>\n",
       "      <td>0</td>\n",
       "      <td>0</td>\n",
       "    </tr>\n",
       "    <tr>\n",
       "      <th>4</th>\n",
       "      <td>50136</td>\n",
       "      <td>5258</td>\n",
       "      <td>12231</td>\n",
       "      <td>4330</td>\n",
       "      <td>2010</td>\n",
       "      <td>1</td>\n",
       "      <td>6</td>\n",
       "      <td>-168</td>\n",
       "      <td>-127</td>\n",
       "      <td>-207</td>\n",
       "      <td>0</td>\n",
       "      <td>0</td>\n",
       "      <td>0</td>\n",
       "    </tr>\n",
       "  </tbody>\n",
       "</table>\n",
       "</div>"
      ],
      "text/plain": [
       "     区站号    纬度     经度  观测场拔海高度     年  月  日  平均气温  日最高气温  日最低气温  平均气温质量控制码  \\\n",
       "0  50136  5258  12231     4330  2010  1  2  -314   -238   -367          0   \n",
       "1  50136  5258  12231     4330  2010  1  3  -288   -229   -332          0   \n",
       "2  50136  5258  12231     4330  2010  1  4  -309   -227   -362          0   \n",
       "3  50136  5258  12231     4330  2010  1  5  -216   -184   -307          0   \n",
       "4  50136  5258  12231     4330  2010  1  6  -168   -127   -207          0   \n",
       "\n",
       "   日最高气温质量控制码  日最低气温质量控制码  \n",
       "0           0           0  \n",
       "1           0           0  \n",
       "2           0           0  \n",
       "3           0           0  \n",
       "4           0           0  "
      ]
     },
     "execution_count": 8,
     "metadata": {},
     "output_type": "execute_result"
    }
   ],
   "source": [
    "filename = 'data/TEMP_201001.txt'\n",
    "column_names =['区站号','纬度','经度','观测场拔海高度',\n",
    "               '年','月','日','平均气温','日最高气温',\n",
    "               '日最低气温','平均气温质量控制码','日最高气温质量控制码',\n",
    "               '日最低气温质量控制码']\n",
    "column_widths = [5,5,6,7,5,3,3,7,7,7,2,2,2]\n",
    "df = pd.read_fwf(filename,widths=column_widths,header=0,names=column_names)\n",
    "df.head()"
   ]
  },
  {
   "cell_type": "markdown",
   "metadata": {},
   "source": [
    "### 2.1在读取数据后处理日期字段\n"
   ]
  },
  {
   "cell_type": "code",
   "execution_count": 9,
   "metadata": {
    "collapsed": false,
    "scrolled": true
   },
   "outputs": [
    {
     "data": {
      "text/html": [
       "<div>\n",
       "<table border=\"1\" class=\"dataframe\">\n",
       "  <thead>\n",
       "    <tr style=\"text-align: right;\">\n",
       "      <th></th>\n",
       "      <th>区站号</th>\n",
       "      <th>纬度</th>\n",
       "      <th>经度</th>\n",
       "      <th>观测场拔海高度</th>\n",
       "      <th>年</th>\n",
       "      <th>月</th>\n",
       "      <th>日</th>\n",
       "      <th>平均气温</th>\n",
       "      <th>日最高气温</th>\n",
       "      <th>日最低气温</th>\n",
       "      <th>平均气温质量控制码</th>\n",
       "      <th>日最高气温质量控制码</th>\n",
       "      <th>日最低气温质量控制码</th>\n",
       "      <th>date</th>\n",
       "    </tr>\n",
       "  </thead>\n",
       "  <tbody>\n",
       "    <tr>\n",
       "      <th>0</th>\n",
       "      <td>50136</td>\n",
       "      <td>5258</td>\n",
       "      <td>12231</td>\n",
       "      <td>4330</td>\n",
       "      <td>2010</td>\n",
       "      <td>1</td>\n",
       "      <td>2</td>\n",
       "      <td>-314</td>\n",
       "      <td>-238</td>\n",
       "      <td>-367</td>\n",
       "      <td>0</td>\n",
       "      <td>0</td>\n",
       "      <td>0</td>\n",
       "      <td>2010-01-02</td>\n",
       "    </tr>\n",
       "    <tr>\n",
       "      <th>1</th>\n",
       "      <td>50136</td>\n",
       "      <td>5258</td>\n",
       "      <td>12231</td>\n",
       "      <td>4330</td>\n",
       "      <td>2010</td>\n",
       "      <td>1</td>\n",
       "      <td>3</td>\n",
       "      <td>-288</td>\n",
       "      <td>-229</td>\n",
       "      <td>-332</td>\n",
       "      <td>0</td>\n",
       "      <td>0</td>\n",
       "      <td>0</td>\n",
       "      <td>2010-01-03</td>\n",
       "    </tr>\n",
       "    <tr>\n",
       "      <th>2</th>\n",
       "      <td>50136</td>\n",
       "      <td>5258</td>\n",
       "      <td>12231</td>\n",
       "      <td>4330</td>\n",
       "      <td>2010</td>\n",
       "      <td>1</td>\n",
       "      <td>4</td>\n",
       "      <td>-309</td>\n",
       "      <td>-227</td>\n",
       "      <td>-362</td>\n",
       "      <td>0</td>\n",
       "      <td>0</td>\n",
       "      <td>0</td>\n",
       "      <td>2010-01-04</td>\n",
       "    </tr>\n",
       "    <tr>\n",
       "      <th>3</th>\n",
       "      <td>50136</td>\n",
       "      <td>5258</td>\n",
       "      <td>12231</td>\n",
       "      <td>4330</td>\n",
       "      <td>2010</td>\n",
       "      <td>1</td>\n",
       "      <td>5</td>\n",
       "      <td>-216</td>\n",
       "      <td>-184</td>\n",
       "      <td>-307</td>\n",
       "      <td>0</td>\n",
       "      <td>0</td>\n",
       "      <td>0</td>\n",
       "      <td>2010-01-05</td>\n",
       "    </tr>\n",
       "    <tr>\n",
       "      <th>4</th>\n",
       "      <td>50136</td>\n",
       "      <td>5258</td>\n",
       "      <td>12231</td>\n",
       "      <td>4330</td>\n",
       "      <td>2010</td>\n",
       "      <td>1</td>\n",
       "      <td>6</td>\n",
       "      <td>-168</td>\n",
       "      <td>-127</td>\n",
       "      <td>-207</td>\n",
       "      <td>0</td>\n",
       "      <td>0</td>\n",
       "      <td>0</td>\n",
       "      <td>2010-01-06</td>\n",
       "    </tr>\n",
       "  </tbody>\n",
       "</table>\n",
       "</div>"
      ],
      "text/plain": [
       "     区站号    纬度     经度  观测场拔海高度     年  月  日  平均气温  日最高气温  日最低气温  平均气温质量控制码  \\\n",
       "0  50136  5258  12231     4330  2010  1  2  -314   -238   -367          0   \n",
       "1  50136  5258  12231     4330  2010  1  3  -288   -229   -332          0   \n",
       "2  50136  5258  12231     4330  2010  1  4  -309   -227   -362          0   \n",
       "3  50136  5258  12231     4330  2010  1  5  -216   -184   -307          0   \n",
       "4  50136  5258  12231     4330  2010  1  6  -168   -127   -207          0   \n",
       "\n",
       "   日最高气温质量控制码  日最低气温质量控制码       date  \n",
       "0           0           0 2010-01-02  \n",
       "1           0           0 2010-01-03  \n",
       "2           0           0 2010-01-04  \n",
       "3           0           0 2010-01-05  \n",
       "4           0           0 2010-01-06  "
      ]
     },
     "execution_count": 9,
     "metadata": {},
     "output_type": "execute_result"
    }
   ],
   "source": [
    "df['date']=pd.to_datetime({'year':df['年'],'month':df['月'],'day':df['日']})\n",
    "df.head()"
   ]
  },
  {
   "cell_type": "markdown",
   "metadata": {},
   "source": [
    "### 2.2转换数据类型"
   ]
  },
  {
   "cell_type": "code",
   "execution_count": 10,
   "metadata": {
    "collapsed": false
   },
   "outputs": [
    {
     "data": {
      "text/plain": [
       "区站号                    int64\n",
       "纬度                     int64\n",
       "经度                     int64\n",
       "观测场拔海高度                int64\n",
       "年                      int64\n",
       "月                      int64\n",
       "日                      int64\n",
       "平均气温                   int64\n",
       "日最高气温                  int64\n",
       "日最低气温                  int64\n",
       "平均气温质量控制码              int64\n",
       "日最高气温质量控制码             int64\n",
       "日最低气温质量控制码             int64\n",
       "date          datetime64[ns]\n",
       "dtype: object"
      ]
     },
     "execution_count": 10,
     "metadata": {},
     "output_type": "execute_result"
    }
   ],
   "source": [
    "df.dtypes"
   ]
  },
  {
   "cell_type": "code",
   "execution_count": 11,
   "metadata": {
    "collapsed": false,
    "scrolled": true
   },
   "outputs": [
    {
     "data": {
      "text/plain": [
       "区站号                   object\n",
       "纬度                     int64\n",
       "经度                     int64\n",
       "观测场拔海高度                int64\n",
       "年                      int64\n",
       "月                      int64\n",
       "日                      int64\n",
       "平均气温                   int64\n",
       "日最高气温                  int64\n",
       "日最低气温                  int64\n",
       "平均气温质量控制码              int64\n",
       "日最高气温质量控制码             int64\n",
       "日最低气温质量控制码             int64\n",
       "date          datetime64[ns]\n",
       "dtype: object"
      ]
     },
     "execution_count": 11,
     "metadata": {},
     "output_type": "execute_result"
    }
   ],
   "source": [
    "#为避免区站号第一位有0的情况，需将区站号转换为字符型\n",
    "df['区站号']=df['区站号'].astype(str)\n",
    "df.dtypes"
   ]
  },
  {
   "cell_type": "markdown",
   "metadata": {},
   "source": [
    "### 2.3处理经纬度"
   ]
  },
  {
   "cell_type": "code",
   "execution_count": 12,
   "metadata": {
    "collapsed": false
   },
   "outputs": [
    {
     "data": {
      "text/html": [
       "<div>\n",
       "<table border=\"1\" class=\"dataframe\">\n",
       "  <thead>\n",
       "    <tr style=\"text-align: right;\">\n",
       "      <th></th>\n",
       "      <th>区站号</th>\n",
       "      <th>纬度</th>\n",
       "      <th>经度</th>\n",
       "      <th>观测场拔海高度</th>\n",
       "      <th>年</th>\n",
       "      <th>月</th>\n",
       "      <th>日</th>\n",
       "      <th>平均气温</th>\n",
       "      <th>日最高气温</th>\n",
       "      <th>日最低气温</th>\n",
       "      <th>平均气温质量控制码</th>\n",
       "      <th>日最高气温质量控制码</th>\n",
       "      <th>日最低气温质量控制码</th>\n",
       "      <th>date</th>\n",
       "      <th>long</th>\n",
       "      <th>lat</th>\n",
       "    </tr>\n",
       "  </thead>\n",
       "  <tbody>\n",
       "    <tr>\n",
       "      <th>0</th>\n",
       "      <td>50136</td>\n",
       "      <td>5258</td>\n",
       "      <td>12231</td>\n",
       "      <td>4330</td>\n",
       "      <td>2010</td>\n",
       "      <td>1</td>\n",
       "      <td>2</td>\n",
       "      <td>-314</td>\n",
       "      <td>-238</td>\n",
       "      <td>-367</td>\n",
       "      <td>0</td>\n",
       "      <td>0</td>\n",
       "      <td>0</td>\n",
       "      <td>2010-01-02</td>\n",
       "      <td>122.31</td>\n",
       "      <td>52.58</td>\n",
       "    </tr>\n",
       "    <tr>\n",
       "      <th>1</th>\n",
       "      <td>50136</td>\n",
       "      <td>5258</td>\n",
       "      <td>12231</td>\n",
       "      <td>4330</td>\n",
       "      <td>2010</td>\n",
       "      <td>1</td>\n",
       "      <td>3</td>\n",
       "      <td>-288</td>\n",
       "      <td>-229</td>\n",
       "      <td>-332</td>\n",
       "      <td>0</td>\n",
       "      <td>0</td>\n",
       "      <td>0</td>\n",
       "      <td>2010-01-03</td>\n",
       "      <td>122.31</td>\n",
       "      <td>52.58</td>\n",
       "    </tr>\n",
       "    <tr>\n",
       "      <th>2</th>\n",
       "      <td>50136</td>\n",
       "      <td>5258</td>\n",
       "      <td>12231</td>\n",
       "      <td>4330</td>\n",
       "      <td>2010</td>\n",
       "      <td>1</td>\n",
       "      <td>4</td>\n",
       "      <td>-309</td>\n",
       "      <td>-227</td>\n",
       "      <td>-362</td>\n",
       "      <td>0</td>\n",
       "      <td>0</td>\n",
       "      <td>0</td>\n",
       "      <td>2010-01-04</td>\n",
       "      <td>122.31</td>\n",
       "      <td>52.58</td>\n",
       "    </tr>\n",
       "    <tr>\n",
       "      <th>3</th>\n",
       "      <td>50136</td>\n",
       "      <td>5258</td>\n",
       "      <td>12231</td>\n",
       "      <td>4330</td>\n",
       "      <td>2010</td>\n",
       "      <td>1</td>\n",
       "      <td>5</td>\n",
       "      <td>-216</td>\n",
       "      <td>-184</td>\n",
       "      <td>-307</td>\n",
       "      <td>0</td>\n",
       "      <td>0</td>\n",
       "      <td>0</td>\n",
       "      <td>2010-01-05</td>\n",
       "      <td>122.31</td>\n",
       "      <td>52.58</td>\n",
       "    </tr>\n",
       "    <tr>\n",
       "      <th>4</th>\n",
       "      <td>50136</td>\n",
       "      <td>5258</td>\n",
       "      <td>12231</td>\n",
       "      <td>4330</td>\n",
       "      <td>2010</td>\n",
       "      <td>1</td>\n",
       "      <td>6</td>\n",
       "      <td>-168</td>\n",
       "      <td>-127</td>\n",
       "      <td>-207</td>\n",
       "      <td>0</td>\n",
       "      <td>0</td>\n",
       "      <td>0</td>\n",
       "      <td>2010-01-06</td>\n",
       "      <td>122.31</td>\n",
       "      <td>52.58</td>\n",
       "    </tr>\n",
       "  </tbody>\n",
       "</table>\n",
       "</div>"
      ],
      "text/plain": [
       "     区站号    纬度     经度  观测场拔海高度     年  月  日  平均气温  日最高气温  日最低气温  平均气温质量控制码  \\\n",
       "0  50136  5258  12231     4330  2010  1  2  -314   -238   -367          0   \n",
       "1  50136  5258  12231     4330  2010  1  3  -288   -229   -332          0   \n",
       "2  50136  5258  12231     4330  2010  1  4  -309   -227   -362          0   \n",
       "3  50136  5258  12231     4330  2010  1  5  -216   -184   -307          0   \n",
       "4  50136  5258  12231     4330  2010  1  6  -168   -127   -207          0   \n",
       "\n",
       "   日最高气温质量控制码  日最低气温质量控制码       date    long    lat  \n",
       "0           0           0 2010-01-02  122.31  52.58  \n",
       "1           0           0 2010-01-03  122.31  52.58  \n",
       "2           0           0 2010-01-04  122.31  52.58  \n",
       "3           0           0 2010-01-05  122.31  52.58  \n",
       "4           0           0 2010-01-06  122.31  52.58  "
      ]
     },
     "execution_count": 12,
     "metadata": {},
     "output_type": "execute_result"
    }
   ],
   "source": [
    "##原始数据中，经纬度数据都在原始数据的基础上*100，以整形存储\n",
    "df['long']=df['经度']/100.0\n",
    "df['lat']=df['纬度']/100.0\n",
    "df.head()\n"
   ]
  },
  {
   "cell_type": "markdown",
   "metadata": {},
   "source": [
    "### 2.4处理温度值\n"
   ]
  },
  {
   "cell_type": "code",
   "execution_count": 13,
   "metadata": {
    "collapsed": false
   },
   "outputs": [
    {
     "data": {
      "text/html": [
       "<div>\n",
       "<table border=\"1\" class=\"dataframe\">\n",
       "  <thead>\n",
       "    <tr style=\"text-align: right;\">\n",
       "      <th></th>\n",
       "      <th>区站号</th>\n",
       "      <th>纬度</th>\n",
       "      <th>经度</th>\n",
       "      <th>观测场拔海高度</th>\n",
       "      <th>年</th>\n",
       "      <th>月</th>\n",
       "      <th>日</th>\n",
       "      <th>平均气温</th>\n",
       "      <th>日最高气温</th>\n",
       "      <th>日最低气温</th>\n",
       "      <th>平均气温质量控制码</th>\n",
       "      <th>日最高气温质量控制码</th>\n",
       "      <th>日最低气温质量控制码</th>\n",
       "      <th>date</th>\n",
       "      <th>long</th>\n",
       "      <th>lat</th>\n",
       "    </tr>\n",
       "  </thead>\n",
       "  <tbody>\n",
       "    <tr>\n",
       "      <th>0</th>\n",
       "      <td>50136</td>\n",
       "      <td>5258</td>\n",
       "      <td>12231</td>\n",
       "      <td>4330</td>\n",
       "      <td>2010</td>\n",
       "      <td>1</td>\n",
       "      <td>2</td>\n",
       "      <td>-31.4</td>\n",
       "      <td>-23.8</td>\n",
       "      <td>-36.7</td>\n",
       "      <td>0</td>\n",
       "      <td>0</td>\n",
       "      <td>0</td>\n",
       "      <td>2010-01-02</td>\n",
       "      <td>122.31</td>\n",
       "      <td>52.58</td>\n",
       "    </tr>\n",
       "    <tr>\n",
       "      <th>1</th>\n",
       "      <td>50136</td>\n",
       "      <td>5258</td>\n",
       "      <td>12231</td>\n",
       "      <td>4330</td>\n",
       "      <td>2010</td>\n",
       "      <td>1</td>\n",
       "      <td>3</td>\n",
       "      <td>-28.8</td>\n",
       "      <td>-22.9</td>\n",
       "      <td>-33.2</td>\n",
       "      <td>0</td>\n",
       "      <td>0</td>\n",
       "      <td>0</td>\n",
       "      <td>2010-01-03</td>\n",
       "      <td>122.31</td>\n",
       "      <td>52.58</td>\n",
       "    </tr>\n",
       "    <tr>\n",
       "      <th>2</th>\n",
       "      <td>50136</td>\n",
       "      <td>5258</td>\n",
       "      <td>12231</td>\n",
       "      <td>4330</td>\n",
       "      <td>2010</td>\n",
       "      <td>1</td>\n",
       "      <td>4</td>\n",
       "      <td>-30.9</td>\n",
       "      <td>-22.7</td>\n",
       "      <td>-36.2</td>\n",
       "      <td>0</td>\n",
       "      <td>0</td>\n",
       "      <td>0</td>\n",
       "      <td>2010-01-04</td>\n",
       "      <td>122.31</td>\n",
       "      <td>52.58</td>\n",
       "    </tr>\n",
       "    <tr>\n",
       "      <th>3</th>\n",
       "      <td>50136</td>\n",
       "      <td>5258</td>\n",
       "      <td>12231</td>\n",
       "      <td>4330</td>\n",
       "      <td>2010</td>\n",
       "      <td>1</td>\n",
       "      <td>5</td>\n",
       "      <td>-21.6</td>\n",
       "      <td>-18.4</td>\n",
       "      <td>-30.7</td>\n",
       "      <td>0</td>\n",
       "      <td>0</td>\n",
       "      <td>0</td>\n",
       "      <td>2010-01-05</td>\n",
       "      <td>122.31</td>\n",
       "      <td>52.58</td>\n",
       "    </tr>\n",
       "    <tr>\n",
       "      <th>4</th>\n",
       "      <td>50136</td>\n",
       "      <td>5258</td>\n",
       "      <td>12231</td>\n",
       "      <td>4330</td>\n",
       "      <td>2010</td>\n",
       "      <td>1</td>\n",
       "      <td>6</td>\n",
       "      <td>-16.8</td>\n",
       "      <td>-12.7</td>\n",
       "      <td>-20.7</td>\n",
       "      <td>0</td>\n",
       "      <td>0</td>\n",
       "      <td>0</td>\n",
       "      <td>2010-01-06</td>\n",
       "      <td>122.31</td>\n",
       "      <td>52.58</td>\n",
       "    </tr>\n",
       "  </tbody>\n",
       "</table>\n",
       "</div>"
      ],
      "text/plain": [
       "     区站号    纬度     经度  观测场拔海高度     年  月  日  平均气温  日最高气温  日最低气温  平均气温质量控制码  \\\n",
       "0  50136  5258  12231     4330  2010  1  2 -31.4  -23.8  -36.7          0   \n",
       "1  50136  5258  12231     4330  2010  1  3 -28.8  -22.9  -33.2          0   \n",
       "2  50136  5258  12231     4330  2010  1  4 -30.9  -22.7  -36.2          0   \n",
       "3  50136  5258  12231     4330  2010  1  5 -21.6  -18.4  -30.7          0   \n",
       "4  50136  5258  12231     4330  2010  1  6 -16.8  -12.7  -20.7          0   \n",
       "\n",
       "   日最高气温质量控制码  日最低气温质量控制码       date    long    lat  \n",
       "0           0           0 2010-01-02  122.31  52.58  \n",
       "1           0           0 2010-01-03  122.31  52.58  \n",
       "2           0           0 2010-01-04  122.31  52.58  \n",
       "3           0           0 2010-01-05  122.31  52.58  \n",
       "4           0           0 2010-01-06  122.31  52.58  "
      ]
     },
     "execution_count": 13,
     "metadata": {},
     "output_type": "execute_result"
    }
   ],
   "source": [
    "df['平均气温']=df['平均气温']/10.0\n",
    "df['日最高气温']=df['日最高气温']/10.0\n",
    "df['日最低气温']=df['日最低气温']/10.0\n",
    "df.head()"
   ]
  },
  {
   "cell_type": "markdown",
   "metadata": {},
   "source": [
    "### 2.5绘图查看处理结果"
   ]
  },
  {
   "cell_type": "code",
   "execution_count": 14,
   "metadata": {
    "collapsed": false,
    "scrolled": true
   },
   "outputs": [
    {
     "data": {
      "image/png": "[encoded data removed]",
      "text/plain": [
       "<matplotlib.figure.Figure at 0x1be01f13048>"
      ]
     },
     "metadata": {},
     "output_type": "display_data"
    }
   ],
   "source": [
    "df_new=df[df['区站号']=='50136']\n",
    "df_new.set_index('date')\n",
    "ax=df_new.plot(y='平均气温',color='black')\n",
    "ax1=df_new.plot(y='日最高气温',ax=ax,color='red')\n",
    "ax2=df_new.plot(y='日最低气温',ax=ax,color='blue')\n"
   ]
  },
  {
   "cell_type": "markdown",
   "metadata": {},
   "source": [
    "### 2.6读取合并全年的数据"
   ]
  },
  {
   "cell_type": "code",
   "execution_count": 15,
   "metadata": {
    "collapsed": false
   },
   "outputs": [],
   "source": [
    "import glob\n",
    "\n",
    "column_names =['区站号','纬度','经度','观测场拔海高度',\n",
    "               '年','月','日','平均气温','日最高气温',\n",
    "               '日最低气温','平均气温质量控制码','日最高气温质量控制码',\n",
    "               '日最低气温质量控制码']\n",
    "column_widths = [5,5,6,7,5,3,3,7,7,7,2,2,2]\n",
    "ds_all=[]\n",
    "filelist=glob.glob('data/TEMP_*.txt')\n",
    "for filename in filelist:\n",
    "    df=pd.read_fwf(filename,widths=column_widths,header=0,names=column_names,\\\n",
    "                 parse_dates={'date':['年','月','日']},index_col='date')\n",
    "    ds_all.append(df)"
   ]
  },
  {
   "cell_type": "markdown",
   "metadata": {},
   "source": [
    "* 合并数据"
   ]
  },
  {
   "cell_type": "code",
   "execution_count": 16,
   "metadata": {
    "collapsed": true
   },
   "outputs": [],
   "source": [
    "df_new = pd.concat(ds_all)"
   ]
  },
  {
   "cell_type": "code",
   "execution_count": 17,
   "metadata": {
    "collapsed": false
   },
   "outputs": [
    {
     "data": {
      "text/html": [
       "<div>\n",
       "<table border=\"1\" class=\"dataframe\">\n",
       "  <thead>\n",
       "    <tr style=\"text-align: right;\">\n",
       "      <th></th>\n",
       "      <th>区站号</th>\n",
       "      <th>纬度</th>\n",
       "      <th>经度</th>\n",
       "      <th>观测场拔海高度</th>\n",
       "      <th>平均气温</th>\n",
       "      <th>日最高气温</th>\n",
       "      <th>日最低气温</th>\n",
       "      <th>平均气温质量控制码</th>\n",
       "      <th>日最高气温质量控制码</th>\n",
       "      <th>日最低气温质量控制码</th>\n",
       "    </tr>\n",
       "    <tr>\n",
       "      <th>date</th>\n",
       "      <th></th>\n",
       "      <th></th>\n",
       "      <th></th>\n",
       "      <th></th>\n",
       "      <th></th>\n",
       "      <th></th>\n",
       "      <th></th>\n",
       "      <th></th>\n",
       "      <th></th>\n",
       "      <th></th>\n",
       "    </tr>\n",
       "  </thead>\n",
       "  <tbody>\n",
       "    <tr>\n",
       "      <th>2010-01-02</th>\n",
       "      <td>50136</td>\n",
       "      <td>52.58</td>\n",
       "      <td>122.31</td>\n",
       "      <td>4330</td>\n",
       "      <td>-31.4</td>\n",
       "      <td>-23.8</td>\n",
       "      <td>-36.7</td>\n",
       "      <td>0</td>\n",
       "      <td>0</td>\n",
       "      <td>0</td>\n",
       "    </tr>\n",
       "    <tr>\n",
       "      <th>2010-01-03</th>\n",
       "      <td>50136</td>\n",
       "      <td>52.58</td>\n",
       "      <td>122.31</td>\n",
       "      <td>4330</td>\n",
       "      <td>-28.8</td>\n",
       "      <td>-22.9</td>\n",
       "      <td>-33.2</td>\n",
       "      <td>0</td>\n",
       "      <td>0</td>\n",
       "      <td>0</td>\n",
       "    </tr>\n",
       "    <tr>\n",
       "      <th>2010-01-04</th>\n",
       "      <td>50136</td>\n",
       "      <td>52.58</td>\n",
       "      <td>122.31</td>\n",
       "      <td>4330</td>\n",
       "      <td>-30.9</td>\n",
       "      <td>-22.7</td>\n",
       "      <td>-36.2</td>\n",
       "      <td>0</td>\n",
       "      <td>0</td>\n",
       "      <td>0</td>\n",
       "    </tr>\n",
       "    <tr>\n",
       "      <th>2010-01-05</th>\n",
       "      <td>50136</td>\n",
       "      <td>52.58</td>\n",
       "      <td>122.31</td>\n",
       "      <td>4330</td>\n",
       "      <td>-21.6</td>\n",
       "      <td>-18.4</td>\n",
       "      <td>-30.7</td>\n",
       "      <td>0</td>\n",
       "      <td>0</td>\n",
       "      <td>0</td>\n",
       "    </tr>\n",
       "    <tr>\n",
       "      <th>2010-01-06</th>\n",
       "      <td>50136</td>\n",
       "      <td>52.58</td>\n",
       "      <td>122.31</td>\n",
       "      <td>4330</td>\n",
       "      <td>-16.8</td>\n",
       "      <td>-12.7</td>\n",
       "      <td>-20.7</td>\n",
       "      <td>0</td>\n",
       "      <td>0</td>\n",
       "      <td>0</td>\n",
       "    </tr>\n",
       "  </tbody>\n",
       "</table>\n",
       "</div>"
      ],
      "text/plain": [
       "              区站号     纬度      经度  观测场拔海高度  平均气温  日最高气温  日最低气温  平均气温质量控制码  \\\n",
       "date                                                                       \n",
       "2010-01-02  50136  52.58  122.31     4330 -31.4  -23.8  -36.7          0   \n",
       "2010-01-03  50136  52.58  122.31     4330 -28.8  -22.9  -33.2          0   \n",
       "2010-01-04  50136  52.58  122.31     4330 -30.9  -22.7  -36.2          0   \n",
       "2010-01-05  50136  52.58  122.31     4330 -21.6  -18.4  -30.7          0   \n",
       "2010-01-06  50136  52.58  122.31     4330 -16.8  -12.7  -20.7          0   \n",
       "\n",
       "            日最高气温质量控制码  日最低气温质量控制码  \n",
       "date                                \n",
       "2010-01-02           0           0  \n",
       "2010-01-03           0           0  \n",
       "2010-01-04           0           0  \n",
       "2010-01-05           0           0  \n",
       "2010-01-06           0           0  "
      ]
     },
     "execution_count": 17,
     "metadata": {},
     "output_type": "execute_result"
    }
   ],
   "source": [
    "##处理数据\n",
    "df_new['区站号']=df_new['区站号'].astype(str)\n",
    "df_new['经度']=df_new['经度']/100.0\n",
    "df_new['纬度']=df_new['纬度']/100.0\n",
    "df_new['平均气温']=df_new['平均气温']/10.0\n",
    "df_new['日最高气温']=df_new['日最高气温']/10.0\n",
    "df_new['日最低气温']=df_new['日最低气温']/10.0\n",
    "\n",
    "df_new.head()"
   ]
  },
  {
   "cell_type": "markdown",
   "metadata": {},
   "source": [
    "### 2.7处理或批量替换数据\n",
    "> 如将32766设置为无值na"
   ]
  },
  {
   "cell_type": "code",
   "execution_count": 19,
   "metadata": {
    "collapsed": false
   },
   "outputs": [
    {
     "data": {
      "text/html": [
       "<div>\n",
       "<table border=\"1\" class=\"dataframe\">\n",
       "  <thead>\n",
       "    <tr style=\"text-align: right;\">\n",
       "      <th></th>\n",
       "      <th>区站号</th>\n",
       "      <th>纬度</th>\n",
       "      <th>经度</th>\n",
       "      <th>观测场拔海高度</th>\n",
       "      <th>平均气温</th>\n",
       "      <th>日最高气温</th>\n",
       "      <th>日最低气温</th>\n",
       "      <th>平均气温质量控制码</th>\n",
       "      <th>日最高气温质量控制码</th>\n",
       "      <th>日最低气温质量控制码</th>\n",
       "    </tr>\n",
       "    <tr>\n",
       "      <th>date</th>\n",
       "      <th></th>\n",
       "      <th></th>\n",
       "      <th></th>\n",
       "      <th></th>\n",
       "      <th></th>\n",
       "      <th></th>\n",
       "      <th></th>\n",
       "      <th></th>\n",
       "      <th></th>\n",
       "      <th></th>\n",
       "    </tr>\n",
       "  </thead>\n",
       "  <tbody>\n",
       "    <tr>\n",
       "      <th>2010-01-02</th>\n",
       "      <td>50136</td>\n",
       "      <td>52.58</td>\n",
       "      <td>122.31</td>\n",
       "      <td>4330.0</td>\n",
       "      <td>-31.4</td>\n",
       "      <td>-23.8</td>\n",
       "      <td>-36.7</td>\n",
       "      <td>0.0</td>\n",
       "      <td>0.0</td>\n",
       "      <td>0.0</td>\n",
       "    </tr>\n",
       "    <tr>\n",
       "      <th>2010-01-03</th>\n",
       "      <td>50136</td>\n",
       "      <td>52.58</td>\n",
       "      <td>122.31</td>\n",
       "      <td>4330.0</td>\n",
       "      <td>-28.8</td>\n",
       "      <td>-22.9</td>\n",
       "      <td>-33.2</td>\n",
       "      <td>0.0</td>\n",
       "      <td>0.0</td>\n",
       "      <td>0.0</td>\n",
       "    </tr>\n",
       "    <tr>\n",
       "      <th>2010-01-04</th>\n",
       "      <td>50136</td>\n",
       "      <td>52.58</td>\n",
       "      <td>122.31</td>\n",
       "      <td>4330.0</td>\n",
       "      <td>-30.9</td>\n",
       "      <td>-22.7</td>\n",
       "      <td>-36.2</td>\n",
       "      <td>0.0</td>\n",
       "      <td>0.0</td>\n",
       "      <td>0.0</td>\n",
       "    </tr>\n",
       "    <tr>\n",
       "      <th>2010-01-05</th>\n",
       "      <td>50136</td>\n",
       "      <td>52.58</td>\n",
       "      <td>122.31</td>\n",
       "      <td>4330.0</td>\n",
       "      <td>-21.6</td>\n",
       "      <td>-18.4</td>\n",
       "      <td>-30.7</td>\n",
       "      <td>0.0</td>\n",
       "      <td>0.0</td>\n",
       "      <td>0.0</td>\n",
       "    </tr>\n",
       "    <tr>\n",
       "      <th>2010-01-06</th>\n",
       "      <td>50136</td>\n",
       "      <td>52.58</td>\n",
       "      <td>122.31</td>\n",
       "      <td>4330.0</td>\n",
       "      <td>-16.8</td>\n",
       "      <td>-12.7</td>\n",
       "      <td>-20.7</td>\n",
       "      <td>0.0</td>\n",
       "      <td>0.0</td>\n",
       "      <td>0.0</td>\n",
       "    </tr>\n",
       "  </tbody>\n",
       "</table>\n",
       "</div>"
      ],
      "text/plain": [
       "              区站号     纬度      经度  观测场拔海高度  平均气温  日最高气温  日最低气温  平均气温质量控制码  \\\n",
       "date                                                                       \n",
       "2010-01-02  50136  52.58  122.31   4330.0 -31.4  -23.8  -36.7        0.0   \n",
       "2010-01-03  50136  52.58  122.31   4330.0 -28.8  -22.9  -33.2        0.0   \n",
       "2010-01-04  50136  52.58  122.31   4330.0 -30.9  -22.7  -36.2        0.0   \n",
       "2010-01-05  50136  52.58  122.31   4330.0 -21.6  -18.4  -30.7        0.0   \n",
       "2010-01-06  50136  52.58  122.31   4330.0 -16.8  -12.7  -20.7        0.0   \n",
       "\n",
       "            日最高气温质量控制码  日最低气温质量控制码  \n",
       "date                                \n",
       "2010-01-02         0.0         0.0  \n",
       "2010-01-03         0.0         0.0  \n",
       "2010-01-04         0.0         0.0  \n",
       "2010-01-05         0.0         0.0  \n",
       "2010-01-06         0.0         0.0  "
      ]
     },
     "execution_count": 19,
     "metadata": {},
     "output_type": "execute_result"
    }
   ],
   "source": [
    "df_new[df_new['平均气温']==32766]=None\n",
    "df_new.head()"
   ]
  },
  {
   "cell_type": "markdown",
   "metadata": {},
   "source": [
    "### 2.8绘图查看清洗结果"
   ]
  },
  {
   "cell_type": "code",
   "execution_count": 20,
   "metadata": {
    "collapsed": false
   },
   "outputs": [
    {
     "data": {
      "text/plain": [
       "<matplotlib.legend.Legend at 0x1be066ae048>"
      ]
     },
     "execution_count": 20,
     "metadata": {},
     "output_type": "execute_result"
    },
    {
     "data": {
      "image/png": "[encoded data removed]",
      "text/plain": [
       "<matplotlib.figure.Figure at 0x1be066480f0>"
      ]
     },
     "metadata": {},
     "output_type": "display_data"
    }
   ],
   "source": [
    "df_50136=df_new[df_new['区站号']=='50136']\n",
    "ax=df_50136.plot(y='平均气温',figsize=(12,8),color='black',title='50136')\n",
    "ax1=df_50136.plot(y='日最高气温',ax=ax,color='red')\n",
    "ax2=df_50136.plot(y='日最低气温',ax=ax,color='blue')\n",
    "ax.set_ylabel(u'Temperature')\n",
    "ax.legend(('Temp_avg','Temp_max','Temp_min'))"
   ]
  },
  {
   "cell_type": "markdown",
   "metadata": {},
   "source": [
    "### 2.9 批量绘制所有站点的图"
   ]
  },
  {
   "cell_type": "code",
   "execution_count": 59,
   "metadata": {
    "collapsed": false
   },
   "outputs": [
    {
     "data": {
      "text/plain": [
       "56046    365\n",
       "59501    365\n",
       "57916    365\n",
       "58608    365\n",
       "56548    365\n",
       "Name: 区站号, dtype: int64"
      ]
     },
     "execution_count": 59,
     "metadata": {},
     "output_type": "execute_result"
    }
   ],
   "source": [
    "stations=df_new['区站号'].value_counts()\n",
    "stations.head()"
   ]
  },
  {
   "cell_type": "code",
   "execution_count": 63,
   "metadata": {
    "collapsed": false
   },
   "outputs": [
    {
     "name": "stdout",
     "output_type": "stream",
     "text": [
      "Using matplotlib backend: Qt4Agg\n"
     ]
    }
   ],
   "source": [
    "%matplotlib auto\n",
    "for station in stations.index:\n",
    "    df_sta = df_new[df_new['区站号']==station]\n",
    "    ax=df_sta.plot(y='平均气温',figsize=(12,8),color='black',title=station)\n",
    "    ax1=df_sta.plot(y='日最高气温',ax=ax,color='red')\n",
    "    ax2=df_sta.plot(y='日最低气温',ax=ax,color='blue')\n",
    "    ax.set_ylabel(u'Temperature')\n",
    "    ax.legend(('Temp_avg','Temp_max','Temp_min'))\n",
    "    plt.savefig('c:/temp/station/'+station+'.png')\n",
    "    plt.close()"
   ]
  },
  {
   "cell_type": "markdown",
   "metadata": {},
   "source": [
    "### 2.10保存清洗结果"
   ]
  },
  {
   "cell_type": "code",
   "execution_count": 31,
   "metadata": {
    "collapsed": true
   },
   "outputs": [],
   "source": [
    "df_new.to_csv('c:/temp/temp_2000.csv',index=False)"
   ]
  },
  {
   "cell_type": "markdown",
   "metadata": {},
   "source": [
    "### 3.整理站点分布信息"
   ]
  },
  {
   "cell_type": "code",
   "execution_count": 21,
   "metadata": {
    "collapsed": true
   },
   "outputs": [],
   "source": [
    "import geopandas as gp"
   ]
  },
  {
   "cell_type": "markdown",
   "metadata": {},
   "source": [
    "### 3.1显示站点分布图"
   ]
  },
  {
   "cell_type": "code",
   "execution_count": 32,
   "metadata": {
    "collapsed": false
   },
   "outputs": [
    {
     "data": {
      "text/html": [
       "<div>\n",
       "<table border=\"1\" class=\"dataframe\">\n",
       "  <thead>\n",
       "    <tr style=\"text-align: right;\">\n",
       "      <th></th>\n",
       "      <th>区站号</th>\n",
       "      <th>纬度</th>\n",
       "      <th>经度</th>\n",
       "      <th>观测场拔海高度</th>\n",
       "      <th>平均气温</th>\n",
       "      <th>日最高气温</th>\n",
       "      <th>日最低气温</th>\n",
       "      <th>平均气温质量控制码</th>\n",
       "      <th>日最高气温质量控制码</th>\n",
       "      <th>日最低气温质量控制码</th>\n",
       "    </tr>\n",
       "    <tr>\n",
       "      <th>date</th>\n",
       "      <th></th>\n",
       "      <th></th>\n",
       "      <th></th>\n",
       "      <th></th>\n",
       "      <th></th>\n",
       "      <th></th>\n",
       "      <th></th>\n",
       "      <th></th>\n",
       "      <th></th>\n",
       "      <th></th>\n",
       "    </tr>\n",
       "  </thead>\n",
       "  <tbody>\n",
       "    <tr>\n",
       "      <th>2010-01-02</th>\n",
       "      <td>50136</td>\n",
       "      <td>52.58</td>\n",
       "      <td>122.31</td>\n",
       "      <td>4330.0</td>\n",
       "      <td>-31.4</td>\n",
       "      <td>-23.8</td>\n",
       "      <td>-36.7</td>\n",
       "      <td>0.0</td>\n",
       "      <td>0.0</td>\n",
       "      <td>0.0</td>\n",
       "    </tr>\n",
       "    <tr>\n",
       "      <th>2010-01-03</th>\n",
       "      <td>50136</td>\n",
       "      <td>52.58</td>\n",
       "      <td>122.31</td>\n",
       "      <td>4330.0</td>\n",
       "      <td>-28.8</td>\n",
       "      <td>-22.9</td>\n",
       "      <td>-33.2</td>\n",
       "      <td>0.0</td>\n",
       "      <td>0.0</td>\n",
       "      <td>0.0</td>\n",
       "    </tr>\n",
       "    <tr>\n",
       "      <th>2010-01-04</th>\n",
       "      <td>50136</td>\n",
       "      <td>52.58</td>\n",
       "      <td>122.31</td>\n",
       "      <td>4330.0</td>\n",
       "      <td>-30.9</td>\n",
       "      <td>-22.7</td>\n",
       "      <td>-36.2</td>\n",
       "      <td>0.0</td>\n",
       "      <td>0.0</td>\n",
       "      <td>0.0</td>\n",
       "    </tr>\n",
       "    <tr>\n",
       "      <th>2010-01-05</th>\n",
       "      <td>50136</td>\n",
       "      <td>52.58</td>\n",
       "      <td>122.31</td>\n",
       "      <td>4330.0</td>\n",
       "      <td>-21.6</td>\n",
       "      <td>-18.4</td>\n",
       "      <td>-30.7</td>\n",
       "      <td>0.0</td>\n",
       "      <td>0.0</td>\n",
       "      <td>0.0</td>\n",
       "    </tr>\n",
       "    <tr>\n",
       "      <th>2010-01-06</th>\n",
       "      <td>50136</td>\n",
       "      <td>52.58</td>\n",
       "      <td>122.31</td>\n",
       "      <td>4330.0</td>\n",
       "      <td>-16.8</td>\n",
       "      <td>-12.7</td>\n",
       "      <td>-20.7</td>\n",
       "      <td>0.0</td>\n",
       "      <td>0.0</td>\n",
       "      <td>0.0</td>\n",
       "    </tr>\n",
       "  </tbody>\n",
       "</table>\n",
       "</div>"
      ],
      "text/plain": [
       "              区站号     纬度      经度  观测场拔海高度  平均气温  日最高气温  日最低气温  平均气温质量控制码  \\\n",
       "date                                                                       \n",
       "2010-01-02  50136  52.58  122.31   4330.0 -31.4  -23.8  -36.7        0.0   \n",
       "2010-01-03  50136  52.58  122.31   4330.0 -28.8  -22.9  -33.2        0.0   \n",
       "2010-01-04  50136  52.58  122.31   4330.0 -30.9  -22.7  -36.2        0.0   \n",
       "2010-01-05  50136  52.58  122.31   4330.0 -21.6  -18.4  -30.7        0.0   \n",
       "2010-01-06  50136  52.58  122.31   4330.0 -16.8  -12.7  -20.7        0.0   \n",
       "\n",
       "            日最高气温质量控制码  日最低气温质量控制码  \n",
       "date                                \n",
       "2010-01-02         0.0         0.0  \n",
       "2010-01-03         0.0         0.0  \n",
       "2010-01-04         0.0         0.0  \n",
       "2010-01-05         0.0         0.0  \n",
       "2010-01-06         0.0         0.0  "
      ]
     },
     "execution_count": 32,
     "metadata": {},
     "output_type": "execute_result"
    }
   ],
   "source": [
    "df_new.head()"
   ]
  },
  {
   "cell_type": "code",
   "execution_count": 33,
   "metadata": {
    "collapsed": false
   },
   "outputs": [
    {
     "data": {
      "image/png": "[encoded data removed]",
      "text/plain": [
       "<matplotlib.figure.Figure at 0x1be06ebaa90>"
      ]
     },
     "metadata": {},
     "output_type": "display_data"
    }
   ],
   "source": [
    "ax=df_new.plot(x='经度',y='纬度',kind='scatter',color='red',s=1)"
   ]
  },
  {
   "cell_type": "markdown",
   "metadata": {
    "collapsed": true
   },
   "source": [
    "### 3.2叠加行政区划数据"
   ]
  },
  {
   "cell_type": "code",
   "execution_count": 26,
   "metadata": {
    "collapsed": false
   },
   "outputs": [
    {
     "data": {
      "text/html": [
       "<div>\n",
       "<table border=\"1\" class=\"dataframe\">\n",
       "  <thead>\n",
       "    <tr style=\"text-align: right;\">\n",
       "      <th></th>\n",
       "      <th>CLASID</th>\n",
       "      <th>CLASID92</th>\n",
       "      <th>CLASID_XM</th>\n",
       "      <th>ELEMID</th>\n",
       "      <th>ENTIID</th>\n",
       "      <th>NAME</th>\n",
       "      <th>OBJECTID</th>\n",
       "      <th>Shape_Area</th>\n",
       "      <th>Shape_Leng</th>\n",
       "      <th>geometry</th>\n",
       "    </tr>\n",
       "  </thead>\n",
       "  <tbody>\n",
       "    <tr>\n",
       "      <th>0</th>\n",
       "      <td>630100</td>\n",
       "      <td>460000</td>\n",
       "      <td>1160301000</td>\n",
       "      <td>None</td>\n",
       "      <td>1CHN460000000</td>\n",
       "      <td>º£ÄÏÊ¡</td>\n",
       "      <td>1</td>\n",
       "      <td>0.001854</td>\n",
       "      <td>0.156253</td>\n",
       "      <td>POLYGON ((112.0391921999012 3.834796428673201,...</td>\n",
       "    </tr>\n",
       "    <tr>\n",
       "      <th>1</th>\n",
       "      <td>630100</td>\n",
       "      <td>460000</td>\n",
       "      <td>1160301000</td>\n",
       "      <td>None</td>\n",
       "      <td>1CHN460000000</td>\n",
       "      <td>º£ÄÏÊ¡</td>\n",
       "      <td>2</td>\n",
       "      <td>0.001574</td>\n",
       "      <td>0.142934</td>\n",
       "      <td>POLYGON ((112.2505187987997 3.863619565713237,...</td>\n",
       "    </tr>\n",
       "    <tr>\n",
       "      <th>2</th>\n",
       "      <td>630100</td>\n",
       "      <td>460000</td>\n",
       "      <td>1160301000</td>\n",
       "      <td>None</td>\n",
       "      <td>1CHN460000000</td>\n",
       "      <td>º£ÄÏÊ¡</td>\n",
       "      <td>3</td>\n",
       "      <td>0.001124</td>\n",
       "      <td>0.120940</td>\n",
       "      <td>POLYGON ((112.2637710571373 3.939680814520955,...</td>\n",
       "    </tr>\n",
       "    <tr>\n",
       "      <th>3</th>\n",
       "      <td>630100</td>\n",
       "      <td>460000</td>\n",
       "      <td>1160301000</td>\n",
       "      <td>None</td>\n",
       "      <td>1CHN460000000</td>\n",
       "      <td>º£ÄÏÊ¡</td>\n",
       "      <td>4</td>\n",
       "      <td>0.002346</td>\n",
       "      <td>0.180429</td>\n",
       "      <td>POLYGON ((112.944808960001 5.001026630564752, ...</td>\n",
       "    </tr>\n",
       "    <tr>\n",
       "      <th>4</th>\n",
       "      <td>630100</td>\n",
       "      <td>460000</td>\n",
       "      <td>1160301000</td>\n",
       "      <td>None</td>\n",
       "      <td>1CHN460000000</td>\n",
       "      <td>º£ÄÏÊ¡</td>\n",
       "      <td>5</td>\n",
       "      <td>0.002047</td>\n",
       "      <td>0.168232</td>\n",
       "      <td>POLYGON ((112.5897674560664 5.076359272046659,...</td>\n",
       "    </tr>\n",
       "  </tbody>\n",
       "</table>\n",
       "</div>"
      ],
      "text/plain": [
       "   CLASID CLASID92   CLASID_XM ELEMID         ENTIID    NAME  OBJECTID  \\\n",
       "0  630100   460000  1160301000   None  1CHN460000000  º£ÄÏÊ¡         1   \n",
       "1  630100   460000  1160301000   None  1CHN460000000  º£ÄÏÊ¡         2   \n",
       "2  630100   460000  1160301000   None  1CHN460000000  º£ÄÏÊ¡         3   \n",
       "3  630100   460000  1160301000   None  1CHN460000000  º£ÄÏÊ¡         4   \n",
       "4  630100   460000  1160301000   None  1CHN460000000  º£ÄÏÊ¡         5   \n",
       "\n",
       "   Shape_Area  Shape_Leng                                           geometry  \n",
       "0    0.001854    0.156253  POLYGON ((112.0391921999012 3.834796428673201,...  \n",
       "1    0.001574    0.142934  POLYGON ((112.2505187987997 3.863619565713237,...  \n",
       "2    0.001124    0.120940  POLYGON ((112.2637710571373 3.939680814520955,...  \n",
       "3    0.002346    0.180429  POLYGON ((112.944808960001 5.001026630564752, ...  \n",
       "4    0.002047    0.168232  POLYGON ((112.5897674560664 5.076359272046659,...  "
      ]
     },
     "execution_count": 26,
     "metadata": {},
     "output_type": "execute_result"
    }
   ],
   "source": [
    "shapefile='data/china_boundary_province.shp'\n",
    "gdf = gp.read_file(shapefile)\n",
    "gdf.head()"
   ]
  },
  {
   "cell_type": "code",
   "execution_count": 27,
   "metadata": {
    "collapsed": false
   },
   "outputs": [
    {
     "data": {
      "image/png": "[encoded data removed]",
      "text/plain": [
       "<matplotlib.figure.Figure at 0x1be06d48898>"
      ]
     },
     "metadata": {},
     "output_type": "display_data"
    }
   ],
   "source": [
    "ax=gdf.plot()"
   ]
  },
  {
   "cell_type": "code",
   "execution_count": 34,
   "metadata": {
    "collapsed": false
   },
   "outputs": [
    {
     "data": {
      "image/png": "[encoded data removed]",
      "text/plain": [
       "<matplotlib.figure.Figure at 0x1be06ea5128>"
      ]
     },
     "metadata": {},
     "output_type": "display_data"
    }
   ],
   "source": [
    "ax=gdf.plot(figsize=(10,10))\n",
    "ax2=df_new.plot(x='经度',y='纬度',kind='scatter',ax=ax,color='red',s=1)"
   ]
  },
  {
   "cell_type": "markdown",
   "metadata": {},
   "source": [
    "### 3.3输出站点分布图（shapefile格式）"
   ]
  },
  {
   "cell_type": "code",
   "execution_count": null,
   "metadata": {
    "collapsed": true
   },
   "outputs": [],
   "source": []
  },
  {
   "cell_type": "markdown",
   "metadata": {},
   "source": [
    "## 4.按要求输出结果"
   ]
  },
  {
   "cell_type": "markdown",
   "metadata": {
    "collapsed": true
   },
   "source": [
    "### 4.1输出所有站点的数据"
   ]
  },
  {
   "cell_type": "code",
   "execution_count": 36,
   "metadata": {
    "collapsed": false
   },
   "outputs": [
    {
     "data": {
      "text/plain": [
       "57313    365\n",
       "59303    365\n",
       "50915    365\n",
       "56178    365\n",
       "53547    365\n",
       "Name: 区站号, dtype: int64"
      ]
     },
     "execution_count": 36,
     "metadata": {},
     "output_type": "execute_result"
    }
   ],
   "source": [
    "stations = df_new['区站号'].value_counts()#.sort_index()\n",
    "stations.head()"
   ]
  },
  {
   "cell_type": "code",
   "execution_count": 38,
   "metadata": {
    "collapsed": false
   },
   "outputs": [
    {
     "name": "stdout",
     "output_type": "stream",
     "text": [
      "Using matplotlib backend: Qt4Agg\n"
     ]
    }
   ],
   "source": [
    "for station in stations.index:\n",
    "    df_sta = df_new[df_new['区站号']==station]\n",
    "    #存储文件\n",
    "    df_sta.to_csv('c:/temp/station/'+station+'.csv',index=False)\n",
    "    "
   ]
  },
  {
   "cell_type": "markdown",
   "metadata": {},
   "source": [
    "### 4.2输出制定站点的数据"
   ]
  },
  {
   "cell_type": "code",
   "execution_count": 39,
   "metadata": {
    "collapsed": true
   },
   "outputs": [],
   "source": [
    "stations_id=['57313','59303','50915','56178','53547']\n",
    "for station in stations_id:\n",
    "    df_sta = df_new[df_new['区站号']==station]\n",
    "    #存储文件\n",
    "    df_sta.to_csv('c:/temp/station/'+station+'.csv',index=False)"
   ]
  },
  {
   "cell_type": "markdown",
   "metadata": {
    "collapsed": true
   },
   "source": [
    "### 4.3输出特定区域的数据"
   ]
  },
  {
   "cell_type": "code",
   "execution_count": 42,
   "metadata": {
    "collapsed": false
   },
   "outputs": [
    {
     "data": {
      "text/html": [
       "<div>\n",
       "<table border=\"1\" class=\"dataframe\">\n",
       "  <thead>\n",
       "    <tr style=\"text-align: right;\">\n",
       "      <th></th>\n",
       "      <th>CLASID</th>\n",
       "      <th>CLASID92</th>\n",
       "      <th>CLASID_XM</th>\n",
       "      <th>ELEMID</th>\n",
       "      <th>ENTIID</th>\n",
       "      <th>NAME</th>\n",
       "      <th>OBJECTID</th>\n",
       "      <th>Shape_Area</th>\n",
       "      <th>Shape_Leng</th>\n",
       "      <th>geometry</th>\n",
       "    </tr>\n",
       "  </thead>\n",
       "  <tbody>\n",
       "    <tr>\n",
       "      <th>0</th>\n",
       "      <td>630100</td>\n",
       "      <td>460000</td>\n",
       "      <td>1160301000</td>\n",
       "      <td>None</td>\n",
       "      <td>1CHN460000000</td>\n",
       "      <td>海南省</td>\n",
       "      <td>1</td>\n",
       "      <td>0.001854</td>\n",
       "      <td>0.156253</td>\n",
       "      <td>POLYGON ((112.0391921999012 3.834796428673201,...</td>\n",
       "    </tr>\n",
       "    <tr>\n",
       "      <th>1</th>\n",
       "      <td>630100</td>\n",
       "      <td>460000</td>\n",
       "      <td>1160301000</td>\n",
       "      <td>None</td>\n",
       "      <td>1CHN460000000</td>\n",
       "      <td>海南省</td>\n",
       "      <td>2</td>\n",
       "      <td>0.001574</td>\n",
       "      <td>0.142934</td>\n",
       "      <td>POLYGON ((112.2505187987997 3.863619565713237,...</td>\n",
       "    </tr>\n",
       "    <tr>\n",
       "      <th>2</th>\n",
       "      <td>630100</td>\n",
       "      <td>460000</td>\n",
       "      <td>1160301000</td>\n",
       "      <td>None</td>\n",
       "      <td>1CHN460000000</td>\n",
       "      <td>海南省</td>\n",
       "      <td>3</td>\n",
       "      <td>0.001124</td>\n",
       "      <td>0.120940</td>\n",
       "      <td>POLYGON ((112.2637710571373 3.939680814520955,...</td>\n",
       "    </tr>\n",
       "    <tr>\n",
       "      <th>3</th>\n",
       "      <td>630100</td>\n",
       "      <td>460000</td>\n",
       "      <td>1160301000</td>\n",
       "      <td>None</td>\n",
       "      <td>1CHN460000000</td>\n",
       "      <td>海南省</td>\n",
       "      <td>4</td>\n",
       "      <td>0.002346</td>\n",
       "      <td>0.180429</td>\n",
       "      <td>POLYGON ((112.944808960001 5.001026630564752, ...</td>\n",
       "    </tr>\n",
       "    <tr>\n",
       "      <th>4</th>\n",
       "      <td>630100</td>\n",
       "      <td>460000</td>\n",
       "      <td>1160301000</td>\n",
       "      <td>None</td>\n",
       "      <td>1CHN460000000</td>\n",
       "      <td>海南省</td>\n",
       "      <td>5</td>\n",
       "      <td>0.002047</td>\n",
       "      <td>0.168232</td>\n",
       "      <td>POLYGON ((112.5897674560664 5.076359272046659,...</td>\n",
       "    </tr>\n",
       "  </tbody>\n",
       "</table>\n",
       "</div>"
      ],
      "text/plain": [
       "   CLASID CLASID92   CLASID_XM ELEMID         ENTIID NAME  OBJECTID  \\\n",
       "0  630100   460000  1160301000   None  1CHN460000000  海南省         1   \n",
       "1  630100   460000  1160301000   None  1CHN460000000  海南省         2   \n",
       "2  630100   460000  1160301000   None  1CHN460000000  海南省         3   \n",
       "3  630100   460000  1160301000   None  1CHN460000000  海南省         4   \n",
       "4  630100   460000  1160301000   None  1CHN460000000  海南省         5   \n",
       "\n",
       "   Shape_Area  Shape_Leng                                           geometry  \n",
       "0    0.001854    0.156253  POLYGON ((112.0391921999012 3.834796428673201,...  \n",
       "1    0.001574    0.142934  POLYGON ((112.2505187987997 3.863619565713237,...  \n",
       "2    0.001124    0.120940  POLYGON ((112.2637710571373 3.939680814520955,...  \n",
       "3    0.002346    0.180429  POLYGON ((112.944808960001 5.001026630564752, ...  \n",
       "4    0.002047    0.168232  POLYGON ((112.5897674560664 5.076359272046659,...  "
      ]
     },
     "execution_count": 42,
     "metadata": {},
     "output_type": "execute_result"
    }
   ],
   "source": [
    "import geopandas as gp\n",
    "shapefile='data/china_boundary_province.shp'\n",
    "gdf = gp.read_file(shapefile,encoding='gbk')\n",
    "gdf.head()"
   ]
  },
  {
   "cell_type": "code",
   "execution_count": 43,
   "metadata": {
    "collapsed": false
   },
   "outputs": [
    {
     "data": {
      "text/html": [
       "<div>\n",
       "<table border=\"1\" class=\"dataframe\">\n",
       "  <thead>\n",
       "    <tr style=\"text-align: right;\">\n",
       "      <th></th>\n",
       "      <th>CLASID</th>\n",
       "      <th>CLASID92</th>\n",
       "      <th>CLASID_XM</th>\n",
       "      <th>ELEMID</th>\n",
       "      <th>ENTIID</th>\n",
       "      <th>NAME</th>\n",
       "      <th>OBJECTID</th>\n",
       "      <th>Shape_Area</th>\n",
       "      <th>Shape_Leng</th>\n",
       "      <th>geometry</th>\n",
       "    </tr>\n",
       "  </thead>\n",
       "  <tbody>\n",
       "    <tr>\n",
       "      <th>577</th>\n",
       "      <td>630100</td>\n",
       "      <td>None</td>\n",
       "      <td>1160301000</td>\n",
       "      <td>None</td>\n",
       "      <td>1CHN530000000</td>\n",
       "      <td>云南省</td>\n",
       "      <td>866</td>\n",
       "      <td>34.276908</td>\n",
       "      <td>58.969367</td>\n",
       "      <td>POLYGON ((99.11814873462282 29.19243189650877,...</td>\n",
       "    </tr>\n",
       "    <tr>\n",
       "      <th>829</th>\n",
       "      <td>630100</td>\n",
       "      <td>None</td>\n",
       "      <td>1160301000</td>\n",
       "      <td>None</td>\n",
       "      <td>1CHN530000000</td>\n",
       "      <td>云南省</td>\n",
       "      <td>798</td>\n",
       "      <td>0.000000</td>\n",
       "      <td>0.000005</td>\n",
       "      <td>POLYGON ((105.2644582603499 27.99999887530169,...</td>\n",
       "    </tr>\n",
       "  </tbody>\n",
       "</table>\n",
       "</div>"
      ],
      "text/plain": [
       "     CLASID CLASID92   CLASID_XM ELEMID         ENTIID NAME  OBJECTID  \\\n",
       "577  630100     None  1160301000   None  1CHN530000000  云南省       866   \n",
       "829  630100     None  1160301000   None  1CHN530000000  云南省       798   \n",
       "\n",
       "     Shape_Area  Shape_Leng                                           geometry  \n",
       "577   34.276908   58.969367  POLYGON ((99.11814873462282 29.19243189650877,...  \n",
       "829    0.000000    0.000005  POLYGON ((105.2644582603499 27.99999887530169,...  "
      ]
     },
     "execution_count": 43,
     "metadata": {},
     "output_type": "execute_result"
    }
   ],
   "source": [
    "df_yn=gdf[gdf['NAME']=='云南省']\n",
    "df_yn"
   ]
  },
  {
   "cell_type": "code",
   "execution_count": 73,
   "metadata": {
    "collapsed": false
   },
   "outputs": [],
   "source": [
    "from shapely.geometry import Point\n",
    "stations=df_new.groupby(['区站号','经度','纬度']).count()\n",
    "station_id=[]\n",
    "points=[]\n",
    "for station,x,y in stations.index:\n",
    "    station_id.append(station)\n",
    "    points.append(Point(x,y))\n",
    "\n",
    "geom=gp.GeoSeries(points)"
   ]
  },
  {
   "cell_type": "code",
   "execution_count": 76,
   "metadata": {
    "collapsed": false
   },
   "outputs": [
    {
     "data": {
      "text/html": [
       "<div>\n",
       "<table border=\"1\" class=\"dataframe\">\n",
       "  <thead>\n",
       "    <tr style=\"text-align: right;\">\n",
       "      <th></th>\n",
       "      <th>geometry</th>\n",
       "      <th>station_id</th>\n",
       "    </tr>\n",
       "  </thead>\n",
       "  <tbody>\n",
       "    <tr>\n",
       "      <th>0</th>\n",
       "      <td>POINT (122.31 52.58)</td>\n",
       "      <td>50136</td>\n",
       "    </tr>\n",
       "    <tr>\n",
       "      <th>1</th>\n",
       "      <td>POINT (124.43 52.21)</td>\n",
       "      <td>50246</td>\n",
       "    </tr>\n",
       "    <tr>\n",
       "      <th>2</th>\n",
       "      <td>POINT (123.34 52.02)</td>\n",
       "      <td>50247</td>\n",
       "    </tr>\n",
       "    <tr>\n",
       "      <th>3</th>\n",
       "      <td>POINT (124.2 51.42)</td>\n",
       "      <td>50349</td>\n",
       "    </tr>\n",
       "    <tr>\n",
       "      <th>4</th>\n",
       "      <td>POINT (126.39 51.43)</td>\n",
       "      <td>50353</td>\n",
       "    </tr>\n",
       "  </tbody>\n",
       "</table>\n",
       "</div>"
      ],
      "text/plain": [
       "               geometry station_id\n",
       "0  POINT (122.31 52.58)      50136\n",
       "1  POINT (124.43 52.21)      50246\n",
       "2  POINT (123.34 52.02)      50247\n",
       "3   POINT (124.2 51.42)      50349\n",
       "4  POINT (126.39 51.43)      50353"
      ]
     },
     "execution_count": 76,
     "metadata": {},
     "output_type": "execute_result"
    }
   ],
   "source": [
    "df_sta=gp.GeoDataFrame(geom,columns=['geometry'])\n",
    "df_sta['station_id']=station_id\n",
    "df_sta.head()"
   ]
  },
  {
   "cell_type": "code",
   "execution_count": 77,
   "metadata": {
    "collapsed": false
   },
   "outputs": [
    {
     "data": {
      "text/plain": [
       "<matplotlib.axes._subplots.AxesSubplot at 0x1c2f321fe10>"
      ]
     },
     "execution_count": 77,
     "metadata": {},
     "output_type": "execute_result"
    },
    {
     "data": {
      "image/png": "[encoded data removed]",
      "text/plain": [
       "<matplotlib.figure.Figure at 0x1be06fd95f8>"
      ]
     },
     "metadata": {},
     "output_type": "display_data"
    }
   ],
   "source": [
    "%matplotlib inline\n",
    "df_sta.plot()"
   ]
  },
  {
   "cell_type": "code",
   "execution_count": 83,
   "metadata": {
    "collapsed": false
   },
   "outputs": [
    {
     "name": "stdout",
     "output_type": "stream",
     "text": [
      "Warning: CRS does not match!\n"
     ]
    },
    {
     "data": {
      "text/plain": [
       "56875    1\n",
       "56763    1\n",
       "56651    1\n",
       "56684    1\n",
       "56666    1\n",
       "56954    1\n",
       "59007    1\n",
       "57907    1\n",
       "56950    1\n",
       "56985    1\n",
       "56977    1\n",
       "56959    1\n",
       "56751    1\n",
       "56691    1\n",
       "56586    1\n",
       "56786    1\n",
       "59209    1\n",
       "56966    1\n",
       "56664    1\n",
       "56778    1\n",
       "56886    1\n",
       "56951    1\n",
       "56946    1\n",
       "56793    1\n",
       "56543    1\n",
       "56748    1\n",
       "56991    1\n",
       "56872    1\n",
       "56969    1\n",
       "56693    1\n",
       "56739    1\n",
       "56856    1\n",
       "56548    1\n",
       "56964    1\n",
       "56768    1\n",
       "56643    1\n",
       "Name: station_id, dtype: int64"
      ]
     },
     "execution_count": 83,
     "metadata": {},
     "output_type": "execute_result"
    }
   ],
   "source": [
    "from geopandas.tools import sjoin\n",
    "sta_yn=sjoin(df_sta,df_yn,how='inner')\n",
    "sta_yn['station_id'].value_counts()"
   ]
  },
  {
   "cell_type": "code",
   "execution_count": 81,
   "metadata": {
    "collapsed": false
   },
   "outputs": [
    {
     "data": {
      "image/png": "[encoded data removed]",
      "text/plain": [
       "<matplotlib.figure.Figure at 0x1c2f4baf7f0>"
      ]
     },
     "metadata": {},
     "output_type": "display_data"
    }
   ],
   "source": [
    "ax=df_yn.plot(figsize=(10,10))\n",
    "ax_2=sta_yn.plot(ax=ax)"
   ]
  },
  {
   "cell_type": "markdown",
   "metadata": {},
   "source": [
    "### 4.4 输出结果"
   ]
  },
  {
   "cell_type": "raw",
   "metadata": {},
   "source": [
    "Do it by yourself!"
   ]
  },
  {
   "cell_type": "code",
   "execution_count": null,
   "metadata": {
    "collapsed": true
   },
   "outputs": [],
   "source": []
  }
 ],
 "metadata": {
  "kernelspec": {
   "display_name": "Python [Root]",
   "language": "python",
   "name": "Python [Root]"
  },
  "language_info": {
   "codemirror_mode": {
    "name": "ipython",
    "version": 3
   },
   "file_extension": ".py",
   "mimetype": "text/x-python",
   "name": "python",
   "nbconvert_exporter": "python",
   "pygments_lexer": "ipython3",
   "version": "3.5.1"
  }
 },
 "nbformat": 4,
 "nbformat_minor": 0
}
