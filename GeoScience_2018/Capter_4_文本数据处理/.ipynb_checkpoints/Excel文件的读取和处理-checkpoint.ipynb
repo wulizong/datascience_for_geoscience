{
 "cells": [
  {
   "cell_type": "markdown",
   "metadata": {},
   "source": [
    "<h1 align=center>文本数据清洗2:读取和清洗excel数据</h1>\n",
    "----\n",
    "* 作者: 吴立宗\n",
    "* 日期: 2016-6-29\n",
    "* 目标：\n",
    " * 学习Pandas读取excel文件的方法\n",
    " * 清洗报表数据\n",
    " * 批量读取excel多个sheet数据\n"
   ]
  },
  {
   "cell_type": "markdown",
   "metadata": {},
   "source": [
    "## 1.read_excel方法\n",
    "> pandas.read_excel(io, sheetname=0, header=0, skiprows=None, skip_footer=0, index_col=None, names=None, parse_cols=None, parse_dates=False, date_parser=None, na_values=None, thousands=None, convert_float=True, has_index_names=None, converters=None, engine=None, squeeze=False, **kwds)\n",
    "Read an Excel table into a pandas DataFrame\n",
    "\n",
    "##### Parameters:\t\n",
    "* io : string, path object (pathlib.Path or py._path.local.LocalPath),\n",
    "file-like object, pandas ExcelFile, or xlrd workbook. The string could be a URL. Valid URL schemes include http, ftp, s3, and file. For file URLs, a host is expected. For instance, a local file could be file://localhost/path/to/workbook.xlsx\n",
    "* sheetname : string, int, mixed list of strings/ints, or None, default 0\n",
    "Strings are used for sheet names, Integers are used in zero-indexed sheet positions.\n",
    "Lists of strings/integers are used to request multiple sheets.\n",
    "Specify None to get all sheets.\n",
    "str|int -> DataFrame is returned. list|None -> Dict of DataFrames is returned, with keys representing sheets.\n",
    "Available Cases\n",
    " * Defaults to 0 -> 1st sheet as a DataFrame\n",
    " * 1 -> 2nd sheet as a DataFrame\n",
    " * “Sheet1” -> 1st sheet as a DataFrame\n",
    " * [0,1,”Sheet5”] -> 1st, 2nd & 5th sheet as a dictionary of DataFrames\n",
    " * None -> All sheets as a dictionary of DataFrames\n",
    "* header : int, list of ints, default 0\n",
    " Row (0-indexed) to use for the column labels of the parsed DataFrame. \n",
    " If a list of  integers is passed those row positions will be combined into a MultiIndex\n",
    "* skiprows : list-like\n",
    "Rows to skip at the beginning (0-indexed)\n",
    "* skip_footer : int, default 0\n",
    "Rows at the end to skip (0-indexed)\n",
    "* index_col : int, list of ints, default None\n",
    "Column (0-indexed) to use as the row labels of the DataFrame. Pass None if there is no such column. If a list is passed, those columns will be combined into a MultiIndex\n",
    "* names : array-like, default None\n",
    "List of column names to use. If file contains no header row, then you should explicitly pass header=None\n",
    "* converters : dict, default None\n",
    "Dict of functions for converting values in certain columns. Keys can either be integers or column labels, values are functions that take one input argument, the Excel cell content, and return the transformed content.\n",
    "* parse_cols : int or list, default None\n",
    " * If None then parse all columns,\n",
    " * If int then indicates last column to be parsed\n",
    " * If list of ints then indicates list of column numbers to be parsed\n",
    " * If string then indicates comma separated list of column names and column ranges (e.g. “A:E” or “A,C,E:F”)\n",
    "* squeeze : boolean, default False\n",
    "If the parsed data only contains one column then return a Series\n",
    "* na_values : list-like, default None\n",
    "List of additional strings to recognize as NA/NaN\n",
    "* thousands : str, default None\n",
    "Thousands separator for parsing string columns to numeric. Note that this parameter is only necessary for columns stored as TEXT in Excel, any numeric columns will automatically be parsed, regardless of display format.\n",
    "* keep_default_na : bool, default True\n",
    "If na_values are specified and keep_default_na is False the default NaN values are overridden, otherwise they’re appended to\n",
    "* verbose : boolean, default False\n",
    "Indicate number of NA values placed in non-numeric columns\n",
    "* engine: string, default None\n",
    "If io is not a buffer or path, this must be set to identify io. Acceptable values are None or xlrd\n",
    "* convert_float : boolean, default True\n",
    "convert integral floats to int (i.e., 1.0 –> 1). If False, all numeric data will be read in as floats: Excel stores all numbers as floats internally\n",
    "* has_index_names : boolean, default None\n",
    "DEPRECATED: for version 0.17+ index names will be automatically inferred based on  index_col. To read Excel output from 0.16.2 and prior that had saved index names, use True."
   ]
  },
  {
   "cell_type": "code",
   "execution_count": 1,
   "metadata": {
    "collapsed": true
   },
   "outputs": [],
   "source": []
  },
  {
   "cell_type": "markdown",
   "metadata": {},
   "source": [
    "### 2.读取清洗一个sheet数据"
   ]
  },
  {
   "cell_type": "code",
   "execution_count": null,
   "metadata": {
    "collapsed": true
   },
   "outputs": [],
   "source": [
    "import pandas as pd\n",
    "import matplotlib.pylab as plt\n",
    "%matplotlib inline"
   ]
  },
  {
   "cell_type": "markdown",
   "metadata": {},
   "source": [
    "### 2.1 数据预览"
   ]
  },
  {
   "cell_type": "code",
   "execution_count": 14,
   "metadata": {
    "collapsed": false
   },
   "outputs": [
    {
     "data": {
      "text/html": [
       "<div>\n",
       "<table border=\"1\" class=\"dataframe\">\n",
       "  <thead>\n",
       "    <tr style=\"text-align: right;\">\n",
       "      <th></th>\n",
       "      <th>年\\月</th>\n",
       "      <th>一月</th>\n",
       "      <th>二月</th>\n",
       "      <th>三月</th>\n",
       "      <th>四月</th>\n",
       "      <th>五月</th>\n",
       "      <th>六月</th>\n",
       "      <th>七月</th>\n",
       "      <th>八月</th>\n",
       "      <th>九月</th>\n",
       "      <th>十月</th>\n",
       "      <th>十一月</th>\n",
       "      <th>十二月</th>\n",
       "      <th>年平均</th>\n",
       "    </tr>\n",
       "  </thead>\n",
       "  <tbody>\n",
       "    <tr>\n",
       "      <th>0</th>\n",
       "      <td>1955</td>\n",
       "      <td>NaN</td>\n",
       "      <td>NaN</td>\n",
       "      <td>711.3</td>\n",
       "      <td>710.9</td>\n",
       "      <td>711.4</td>\n",
       "      <td>712.5</td>\n",
       "      <td>712.3</td>\n",
       "      <td>715.0</td>\n",
       "      <td>716.0</td>\n",
       "      <td>716.0</td>\n",
       "      <td>716.3</td>\n",
       "      <td>713.4</td>\n",
       "      <td>713.51</td>\n",
       "    </tr>\n",
       "    <tr>\n",
       "      <th>1</th>\n",
       "      <td>1956</td>\n",
       "      <td>708.2</td>\n",
       "      <td>709.0</td>\n",
       "      <td>710.8</td>\n",
       "      <td>711.7</td>\n",
       "      <td>712.1</td>\n",
       "      <td>711.6</td>\n",
       "      <td>714.3</td>\n",
       "      <td>714.5</td>\n",
       "      <td>716.3</td>\n",
       "      <td>717.6</td>\n",
       "      <td>716.5</td>\n",
       "      <td>713.6</td>\n",
       "      <td>713.017</td>\n",
       "    </tr>\n",
       "    <tr>\n",
       "      <th>2</th>\n",
       "      <td>1957</td>\n",
       "      <td>710.4</td>\n",
       "      <td>707.8</td>\n",
       "      <td>711.6</td>\n",
       "      <td>712.2</td>\n",
       "      <td>711.8</td>\n",
       "      <td>712.8</td>\n",
       "      <td>712.6</td>\n",
       "      <td>715.3</td>\n",
       "      <td>715.8</td>\n",
       "      <td>717.0</td>\n",
       "      <td>715.5</td>\n",
       "      <td>713.2</td>\n",
       "      <td>713</td>\n",
       "    </tr>\n",
       "    <tr>\n",
       "      <th>3</th>\n",
       "      <td>1958</td>\n",
       "      <td>712.2</td>\n",
       "      <td>711.0</td>\n",
       "      <td>712.5</td>\n",
       "      <td>713.1</td>\n",
       "      <td>712.0</td>\n",
       "      <td>712.4</td>\n",
       "      <td>713.0</td>\n",
       "      <td>714.4</td>\n",
       "      <td>716.1</td>\n",
       "      <td>716.6</td>\n",
       "      <td>715.5</td>\n",
       "      <td>713.6</td>\n",
       "      <td>713.533</td>\n",
       "    </tr>\n",
       "    <tr>\n",
       "      <th>4</th>\n",
       "      <td>1959</td>\n",
       "      <td>710.7</td>\n",
       "      <td>709.2</td>\n",
       "      <td>712.4</td>\n",
       "      <td>713.5</td>\n",
       "      <td>712.0</td>\n",
       "      <td>712.4</td>\n",
       "      <td>713.1</td>\n",
       "      <td>714.0</td>\n",
       "      <td>716.2</td>\n",
       "      <td>717.6</td>\n",
       "      <td>714.1</td>\n",
       "      <td>713.4</td>\n",
       "      <td>713.217</td>\n",
       "    </tr>\n",
       "  </tbody>\n",
       "</table>\n",
       "</div>"
      ],
      "text/plain": [
       "    年\\月     一月     二月     三月     四月     五月     六月     七月     八月     九月     十月  \\\n",
       "0  1955    NaN    NaN  711.3  710.9  711.4  712.5  712.3  715.0  716.0  716.0   \n",
       "1  1956  708.2  709.0  710.8  711.7  712.1  711.6  714.3  714.5  716.3  717.6   \n",
       "2  1957  710.4  707.8  711.6  712.2  711.8  712.8  712.6  715.3  715.8  717.0   \n",
       "3  1958  712.2  711.0  712.5  713.1  712.0  712.4  713.0  714.4  716.1  716.6   \n",
       "4  1959  710.7  709.2  712.4  713.5  712.0  712.4  713.1  714.0  716.2  717.6   \n",
       "\n",
       "     十一月    十二月      年平均  \n",
       "0  716.3  713.4   713.51  \n",
       "1  716.5  713.6  713.017  \n",
       "2  715.5  713.2      713  \n",
       "3  715.5  713.6  713.533  \n",
       "4  714.1  713.4  713.217  "
      ]
     },
     "execution_count": 14,
     "metadata": {},
     "output_type": "execute_result"
    }
   ],
   "source": [
    "filename='data/weather_jiulong.xls'\n",
    "ds=pd.read_excel(filename,sheetname=1)\n",
    "ds.head()"
   ]
  },
  {
   "cell_type": "code",
   "execution_count": 15,
   "metadata": {
    "collapsed": false
   },
   "outputs": [
    {
     "data": {
      "text/html": [
       "<div>\n",
       "<table border=\"1\" class=\"dataframe\">\n",
       "  <thead>\n",
       "    <tr style=\"text-align: right;\">\n",
       "      <th></th>\n",
       "      <th>年\\月</th>\n",
       "      <th>一月</th>\n",
       "      <th>二月</th>\n",
       "      <th>三月</th>\n",
       "      <th>四月</th>\n",
       "      <th>五月</th>\n",
       "      <th>六月</th>\n",
       "      <th>七月</th>\n",
       "      <th>八月</th>\n",
       "      <th>九月</th>\n",
       "      <th>十月</th>\n",
       "      <th>十一月</th>\n",
       "      <th>十二月</th>\n",
       "      <th>年平均</th>\n",
       "    </tr>\n",
       "  </thead>\n",
       "  <tbody>\n",
       "    <tr>\n",
       "      <th>19</th>\n",
       "      <td>1977</td>\n",
       "      <td>709.300000</td>\n",
       "      <td>711.500000</td>\n",
       "      <td>714.500000</td>\n",
       "      <td>711.900000</td>\n",
       "      <td>712.600000</td>\n",
       "      <td>712.600000</td>\n",
       "      <td>713.200000</td>\n",
       "      <td>715.500000</td>\n",
       "      <td>718.200000</td>\n",
       "      <td>718.600000</td>\n",
       "      <td>716.800000</td>\n",
       "      <td>714.300000</td>\n",
       "      <td>714.083</td>\n",
       "    </tr>\n",
       "    <tr>\n",
       "      <th>20</th>\n",
       "      <td>1978</td>\n",
       "      <td>711.400000</td>\n",
       "      <td>712.000000</td>\n",
       "      <td>710.400000</td>\n",
       "      <td>713.400000</td>\n",
       "      <td>713.600000</td>\n",
       "      <td>713.900000</td>\n",
       "      <td>714.100000</td>\n",
       "      <td>715.700000</td>\n",
       "      <td>717.000000</td>\n",
       "      <td>718.000000</td>\n",
       "      <td>715.100000</td>\n",
       "      <td>716.700000</td>\n",
       "      <td>714.275</td>\n",
       "    </tr>\n",
       "    <tr>\n",
       "      <th>21</th>\n",
       "      <td>1979</td>\n",
       "      <td>712.600000</td>\n",
       "      <td>710.900000</td>\n",
       "      <td>710.100000</td>\n",
       "      <td>713.200000</td>\n",
       "      <td>711.900000</td>\n",
       "      <td>714.800000</td>\n",
       "      <td>713.800000</td>\n",
       "      <td>715.000000</td>\n",
       "      <td>716.400000</td>\n",
       "      <td>719.400000</td>\n",
       "      <td>716.100000</td>\n",
       "      <td>714.600000</td>\n",
       "      <td>714.067</td>\n",
       "    </tr>\n",
       "    <tr>\n",
       "      <th>22</th>\n",
       "      <td>1980</td>\n",
       "      <td>710.200000</td>\n",
       "      <td>709.400000</td>\n",
       "      <td>711.100000</td>\n",
       "      <td>713.200000</td>\n",
       "      <td>713.600000</td>\n",
       "      <td>714.100000</td>\n",
       "      <td>713.900000</td>\n",
       "      <td>715.000000</td>\n",
       "      <td>716.800000</td>\n",
       "      <td>717.200000</td>\n",
       "      <td>716.700000</td>\n",
       "      <td>713.400000</td>\n",
       "      <td>713.717</td>\n",
       "    </tr>\n",
       "    <tr>\n",
       "      <th>23</th>\n",
       "      <td>平均</td>\n",
       "      <td>711.052381</td>\n",
       "      <td>710.519048</td>\n",
       "      <td>711.440909</td>\n",
       "      <td>712.604348</td>\n",
       "      <td>712.791304</td>\n",
       "      <td>713.140909</td>\n",
       "      <td>713.463636</td>\n",
       "      <td>715.109091</td>\n",
       "      <td>716.395455</td>\n",
       "      <td>717.295455</td>\n",
       "      <td>715.977273</td>\n",
       "      <td>713.690909</td>\n",
       "      <td>713.66</td>\n",
       "    </tr>\n",
       "  </tbody>\n",
       "</table>\n",
       "</div>"
      ],
      "text/plain": [
       "     年\\月          一月          二月          三月          四月          五月  \\\n",
       "19  1977  709.300000  711.500000  714.500000  711.900000  712.600000   \n",
       "20  1978  711.400000  712.000000  710.400000  713.400000  713.600000   \n",
       "21  1979  712.600000  710.900000  710.100000  713.200000  711.900000   \n",
       "22  1980  710.200000  709.400000  711.100000  713.200000  713.600000   \n",
       "23    平均  711.052381  710.519048  711.440909  712.604348  712.791304   \n",
       "\n",
       "            六月          七月          八月          九月          十月         十一月  \\\n",
       "19  712.600000  713.200000  715.500000  718.200000  718.600000  716.800000   \n",
       "20  713.900000  714.100000  715.700000  717.000000  718.000000  715.100000   \n",
       "21  714.800000  713.800000  715.000000  716.400000  719.400000  716.100000   \n",
       "22  714.100000  713.900000  715.000000  716.800000  717.200000  716.700000   \n",
       "23  713.140909  713.463636  715.109091  716.395455  717.295455  715.977273   \n",
       "\n",
       "           十二月      年平均  \n",
       "19  714.300000  714.083  \n",
       "20  716.700000  714.275  \n",
       "21  714.600000  714.067  \n",
       "22  713.400000  713.717  \n",
       "23  713.690909   713.66  "
      ]
     },
     "execution_count": 15,
     "metadata": {},
     "output_type": "execute_result"
    }
   ],
   "source": [
    "ds.tail()"
   ]
  },
  {
   "cell_type": "markdown",
   "metadata": {},
   "source": [
    "### 2.2去除需要排除的行和列"
   ]
  },
  {
   "cell_type": "code",
   "execution_count": 17,
   "metadata": {
    "collapsed": false
   },
   "outputs": [
    {
     "data": {
      "text/html": [
       "<div>\n",
       "<table border=\"1\" class=\"dataframe\">\n",
       "  <thead>\n",
       "    <tr style=\"text-align: right;\">\n",
       "      <th></th>\n",
       "      <th>年\\月</th>\n",
       "      <th>一月</th>\n",
       "      <th>二月</th>\n",
       "      <th>三月</th>\n",
       "      <th>四月</th>\n",
       "      <th>五月</th>\n",
       "      <th>六月</th>\n",
       "      <th>七月</th>\n",
       "      <th>八月</th>\n",
       "      <th>九月</th>\n",
       "      <th>十月</th>\n",
       "      <th>十一月</th>\n",
       "      <th>十二月</th>\n",
       "    </tr>\n",
       "  </thead>\n",
       "  <tbody>\n",
       "    <tr>\n",
       "      <th>0</th>\n",
       "      <td>1955</td>\n",
       "      <td>NaN</td>\n",
       "      <td>NaN</td>\n",
       "      <td>711.3</td>\n",
       "      <td>710.9</td>\n",
       "      <td>711.4</td>\n",
       "      <td>712.5</td>\n",
       "      <td>712.3</td>\n",
       "      <td>715.0</td>\n",
       "      <td>716.0</td>\n",
       "      <td>716.0</td>\n",
       "      <td>716.3</td>\n",
       "      <td>713.4</td>\n",
       "    </tr>\n",
       "    <tr>\n",
       "      <th>1</th>\n",
       "      <td>1956</td>\n",
       "      <td>708.2</td>\n",
       "      <td>709.0</td>\n",
       "      <td>710.8</td>\n",
       "      <td>711.7</td>\n",
       "      <td>712.1</td>\n",
       "      <td>711.6</td>\n",
       "      <td>714.3</td>\n",
       "      <td>714.5</td>\n",
       "      <td>716.3</td>\n",
       "      <td>717.6</td>\n",
       "      <td>716.5</td>\n",
       "      <td>713.6</td>\n",
       "    </tr>\n",
       "    <tr>\n",
       "      <th>2</th>\n",
       "      <td>1957</td>\n",
       "      <td>710.4</td>\n",
       "      <td>707.8</td>\n",
       "      <td>711.6</td>\n",
       "      <td>712.2</td>\n",
       "      <td>711.8</td>\n",
       "      <td>712.8</td>\n",
       "      <td>712.6</td>\n",
       "      <td>715.3</td>\n",
       "      <td>715.8</td>\n",
       "      <td>717.0</td>\n",
       "      <td>715.5</td>\n",
       "      <td>713.2</td>\n",
       "    </tr>\n",
       "    <tr>\n",
       "      <th>3</th>\n",
       "      <td>1958</td>\n",
       "      <td>712.2</td>\n",
       "      <td>711.0</td>\n",
       "      <td>712.5</td>\n",
       "      <td>713.1</td>\n",
       "      <td>712.0</td>\n",
       "      <td>712.4</td>\n",
       "      <td>713.0</td>\n",
       "      <td>714.4</td>\n",
       "      <td>716.1</td>\n",
       "      <td>716.6</td>\n",
       "      <td>715.5</td>\n",
       "      <td>713.6</td>\n",
       "    </tr>\n",
       "    <tr>\n",
       "      <th>4</th>\n",
       "      <td>1959</td>\n",
       "      <td>710.7</td>\n",
       "      <td>709.2</td>\n",
       "      <td>712.4</td>\n",
       "      <td>713.5</td>\n",
       "      <td>712.0</td>\n",
       "      <td>712.4</td>\n",
       "      <td>713.1</td>\n",
       "      <td>714.0</td>\n",
       "      <td>716.2</td>\n",
       "      <td>717.6</td>\n",
       "      <td>714.1</td>\n",
       "      <td>713.4</td>\n",
       "    </tr>\n",
       "  </tbody>\n",
       "</table>\n",
       "</div>"
      ],
      "text/plain": [
       "    年\\月     一月     二月     三月     四月     五月     六月     七月     八月     九月     十月  \\\n",
       "0  1955    NaN    NaN  711.3  710.9  711.4  712.5  712.3  715.0  716.0  716.0   \n",
       "1  1956  708.2  709.0  710.8  711.7  712.1  711.6  714.3  714.5  716.3  717.6   \n",
       "2  1957  710.4  707.8  711.6  712.2  711.8  712.8  712.6  715.3  715.8  717.0   \n",
       "3  1958  712.2  711.0  712.5  713.1  712.0  712.4  713.0  714.4  716.1  716.6   \n",
       "4  1959  710.7  709.2  712.4  713.5  712.0  712.4  713.1  714.0  716.2  717.6   \n",
       "\n",
       "     十一月    十二月  \n",
       "0  716.3  713.4  \n",
       "1  716.5  713.6  \n",
       "2  715.5  713.2  \n",
       "3  715.5  713.6  \n",
       "4  714.1  713.4  "
      ]
     },
     "execution_count": 17,
     "metadata": {},
     "output_type": "execute_result"
    }
   ],
   "source": [
    "ds=pd.read_excel(filename,sheetname=1,header=0,skip_footer=1,parse_cols=12)\n",
    "ds.head()"
   ]
  },
  {
   "cell_type": "markdown",
   "metadata": {},
   "source": [
    "### 注释\n",
    "* skip_footer: 去掉脚注的内容\n",
    "* parse_cols:解析的列数"
   ]
  },
  {
   "cell_type": "markdown",
   "metadata": {},
   "source": [
    "### 2.3数据结构转换"
   ]
  },
  {
   "cell_type": "code",
   "execution_count": 19,
   "metadata": {
    "collapsed": false
   },
   "outputs": [
    {
     "data": {
      "text/html": [
       "<div>\n",
       "<table border=\"1\" class=\"dataframe\">\n",
       "  <thead>\n",
       "    <tr style=\"text-align: right;\">\n",
       "      <th></th>\n",
       "      <th>Year</th>\n",
       "      <th>1</th>\n",
       "      <th>2</th>\n",
       "      <th>3</th>\n",
       "      <th>4</th>\n",
       "      <th>5</th>\n",
       "      <th>6</th>\n",
       "      <th>7</th>\n",
       "      <th>8</th>\n",
       "      <th>9</th>\n",
       "      <th>10</th>\n",
       "      <th>11</th>\n",
       "      <th>12</th>\n",
       "    </tr>\n",
       "  </thead>\n",
       "  <tbody>\n",
       "    <tr>\n",
       "      <th>0</th>\n",
       "      <td>1955</td>\n",
       "      <td>NaN</td>\n",
       "      <td>NaN</td>\n",
       "      <td>711.3</td>\n",
       "      <td>710.9</td>\n",
       "      <td>711.4</td>\n",
       "      <td>712.5</td>\n",
       "      <td>712.3</td>\n",
       "      <td>715.0</td>\n",
       "      <td>716.0</td>\n",
       "      <td>716.0</td>\n",
       "      <td>716.3</td>\n",
       "      <td>713.4</td>\n",
       "    </tr>\n",
       "    <tr>\n",
       "      <th>1</th>\n",
       "      <td>1956</td>\n",
       "      <td>708.2</td>\n",
       "      <td>709.0</td>\n",
       "      <td>710.8</td>\n",
       "      <td>711.7</td>\n",
       "      <td>712.1</td>\n",
       "      <td>711.6</td>\n",
       "      <td>714.3</td>\n",
       "      <td>714.5</td>\n",
       "      <td>716.3</td>\n",
       "      <td>717.6</td>\n",
       "      <td>716.5</td>\n",
       "      <td>713.6</td>\n",
       "    </tr>\n",
       "    <tr>\n",
       "      <th>2</th>\n",
       "      <td>1957</td>\n",
       "      <td>710.4</td>\n",
       "      <td>707.8</td>\n",
       "      <td>711.6</td>\n",
       "      <td>712.2</td>\n",
       "      <td>711.8</td>\n",
       "      <td>712.8</td>\n",
       "      <td>712.6</td>\n",
       "      <td>715.3</td>\n",
       "      <td>715.8</td>\n",
       "      <td>717.0</td>\n",
       "      <td>715.5</td>\n",
       "      <td>713.2</td>\n",
       "    </tr>\n",
       "    <tr>\n",
       "      <th>3</th>\n",
       "      <td>1958</td>\n",
       "      <td>712.2</td>\n",
       "      <td>711.0</td>\n",
       "      <td>712.5</td>\n",
       "      <td>713.1</td>\n",
       "      <td>712.0</td>\n",
       "      <td>712.4</td>\n",
       "      <td>713.0</td>\n",
       "      <td>714.4</td>\n",
       "      <td>716.1</td>\n",
       "      <td>716.6</td>\n",
       "      <td>715.5</td>\n",
       "      <td>713.6</td>\n",
       "    </tr>\n",
       "    <tr>\n",
       "      <th>4</th>\n",
       "      <td>1959</td>\n",
       "      <td>710.7</td>\n",
       "      <td>709.2</td>\n",
       "      <td>712.4</td>\n",
       "      <td>713.5</td>\n",
       "      <td>712.0</td>\n",
       "      <td>712.4</td>\n",
       "      <td>713.1</td>\n",
       "      <td>714.0</td>\n",
       "      <td>716.2</td>\n",
       "      <td>717.6</td>\n",
       "      <td>714.1</td>\n",
       "      <td>713.4</td>\n",
       "    </tr>\n",
       "  </tbody>\n",
       "</table>\n",
       "</div>"
      ],
      "text/plain": [
       "   Year      1      2      3      4      5      6      7      8      9     10  \\\n",
       "0  1955    NaN    NaN  711.3  710.9  711.4  712.5  712.3  715.0  716.0  716.0   \n",
       "1  1956  708.2  709.0  710.8  711.7  712.1  711.6  714.3  714.5  716.3  717.6   \n",
       "2  1957  710.4  707.8  711.6  712.2  711.8  712.8  712.6  715.3  715.8  717.0   \n",
       "3  1958  712.2  711.0  712.5  713.1  712.0  712.4  713.0  714.4  716.1  716.6   \n",
       "4  1959  710.7  709.2  712.4  713.5  712.0  712.4  713.1  714.0  716.2  717.6   \n",
       "\n",
       "      11     12  \n",
       "0  716.3  713.4  \n",
       "1  716.5  713.6  \n",
       "2  715.5  713.2  \n",
       "3  715.5  713.6  \n",
       "4  714.1  713.4  "
      ]
     },
     "execution_count": 19,
     "metadata": {},
     "output_type": "execute_result"
    }
   ],
   "source": [
    "#修改字段名称\n",
    "col_names=['Year',1,2,3,4,5,6,7,8,9,10,11,12]\n",
    "df.columns = col_names\n",
    "df.head()"
   ]
  },
  {
   "cell_type": "code",
   "execution_count": 20,
   "metadata": {
    "collapsed": false
   },
   "outputs": [],
   "source": [
    "## 转置\n",
    "month_list=[1,2,3,4,5,6,7,8,9,10,11,12]\n",
    "df_press = pd.melt(df,id_vars=['Year'],value_vars=month_list,\\\n",
    "                 var_name='Month',value_name='Air_Press')\n",
    "#添加一个新字段，默认为1\n",
    "df_press['Day']=1\n",
    "#转换month的字段类型，改为数值型\n",
    "df_press['Month']=pd.to_numeric(df_press['Month'])\n",
    "#将年月日三个字段合并为一个时间字段\n",
    "df_press['Date'] = pd.to_datetime(df_press.Year*10000+df_press.Month*100+df_press.Day,\\\n",
    "                                format='%Y%m%d')\n",
    "# 将日期设置\n",
    "df_press.set_index(df_press.Date,inplace=True)\n",
    "# 去掉无用的信息\n",
    "df_press=df_press[['Air_Press']]"
   ]
  },
  {
   "cell_type": "code",
   "execution_count": 21,
   "metadata": {
    "collapsed": false
   },
   "outputs": [
    {
     "data": {
      "text/html": [
       "<div>\n",
       "<table border=\"1\" class=\"dataframe\">\n",
       "  <thead>\n",
       "    <tr style=\"text-align: right;\">\n",
       "      <th></th>\n",
       "      <th>Air_Press</th>\n",
       "    </tr>\n",
       "    <tr>\n",
       "      <th>Date</th>\n",
       "      <th></th>\n",
       "    </tr>\n",
       "  </thead>\n",
       "  <tbody>\n",
       "    <tr>\n",
       "      <th>1955-01-01</th>\n",
       "      <td>NaN</td>\n",
       "    </tr>\n",
       "    <tr>\n",
       "      <th>1956-01-01</th>\n",
       "      <td>708.2</td>\n",
       "    </tr>\n",
       "    <tr>\n",
       "      <th>1957-01-01</th>\n",
       "      <td>710.4</td>\n",
       "    </tr>\n",
       "    <tr>\n",
       "      <th>1958-01-01</th>\n",
       "      <td>712.2</td>\n",
       "    </tr>\n",
       "    <tr>\n",
       "      <th>1959-01-01</th>\n",
       "      <td>710.7</td>\n",
       "    </tr>\n",
       "  </tbody>\n",
       "</table>\n",
       "</div>"
      ],
      "text/plain": [
       "            Air_Press\n",
       "Date                 \n",
       "1955-01-01        NaN\n",
       "1956-01-01      708.2\n",
       "1957-01-01      710.4\n",
       "1958-01-01      712.2\n",
       "1959-01-01      710.7"
      ]
     },
     "execution_count": 21,
     "metadata": {},
     "output_type": "execute_result"
    }
   ],
   "source": [
    "df_press.head()"
   ]
  },
  {
   "cell_type": "markdown",
   "metadata": {
    "collapsed": true
   },
   "source": [
    "### 2.4画图,浏览清洗结果"
   ]
  },
  {
   "cell_type": "code",
   "execution_count": 22,
   "metadata": {
    "collapsed": false
   },
   "outputs": [
    {
     "data": {
      "text/plain": [
       "<matplotlib.text.Text at 0x15af896b5f8>"
      ]
     },
     "execution_count": 22,
     "metadata": {},
     "output_type": "execute_result"
    },
    {
     "data": {
      "image/png": "[encoded data removed]",
      "text/plain": [
       "<matplotlib.figure.Figure at 0x15aff05def0>"
      ]
     },
     "metadata": {},
     "output_type": "display_data"
    }
   ],
   "source": [
    "ax=df_press.plot(y='Air_Press',figsize=(20,10),fontsize=14)\n",
    "ax.set_ylabel(\"Air Press\",fontsize=16)\n",
    "ax.set_xlabel('Date',fontsize=16)"
   ]
  },
  {
   "cell_type": "markdown",
   "metadata": {},
   "source": [
    "## 3.批量处理多个sheet表格数据"
   ]
  },
  {
   "cell_type": "markdown",
   "metadata": {},
   "source": [
    "### 3.1获取所有的sheetname"
   ]
  },
  {
   "cell_type": "code",
   "execution_count": 25,
   "metadata": {
    "collapsed": false
   },
   "outputs": [
    {
     "name": "stdout",
     "output_type": "stream",
     "text": [
      "九龙\n",
      "气压\n",
      "气温\n",
      "最高气温\n",
      "最低气温\n",
      "湿度\n",
      "最小湿度\n",
      "降水\n",
      "最大降水\n",
      "日照\n",
      "蒸发\n",
      "地温\n",
      "最高地温\n",
      "最低地温\n",
      "风速\n",
      "总云量\n",
      "低云量\n",
      "雾\n",
      "Sheet15\n"
     ]
    }
   ],
   "source": [
    "filename='data/weather_jiulong.xls'\n",
    "excel = pd.ExcelFile(filename)\n",
    "for sheet in excel.sheet_names:  \n",
    "    print(sheet)"
   ]
  },
  {
   "cell_type": "markdown",
   "metadata": {},
   "source": [
    "### 3.2批处理数据结构相同的数据"
   ]
  },
  {
   "cell_type": "code",
   "execution_count": 41,
   "metadata": {
    "collapsed": false
   },
   "outputs": [],
   "source": [
    "sheet_names=[u'气压',u'气温',u'最高气温',u'最低气温',u'湿度',u'最小湿度',\n",
    "            u'降水',u'最大降水',u'日照',u'蒸发',u'地温',u'最高地温',\n",
    "            u'最低地温',u'风速',u'总云量',u'低云量']\n",
    "field_names=['Air_press','Temp','Temp_max','Temp_min','Humidity','Humi_min',\n",
    "            'Pre','Pre_max','Sunshine','Evaporation','G_Temp','G_Temp_max',\n",
    "            'G_Temp_min','WindSpeed','Cloud_total','Cloud_low']\n",
    "col_names=['Year',1,2,3,4,5,6,7,8,9,10,11,12]\n",
    "ds_all=[]\n",
    "for sheet_name,field_name in zip(sheet_names,field_names):\n",
    "    df=excel.parse(sheetname=sheet_name,skip_footer=1,parse_cols=12)\n",
    "    df.columns = col_names\n",
    "    month_list=[1,2,3,4,5,6,7,8,9,10,11,12]\n",
    "    df_new = pd.melt(df,id_vars=['Year'],value_vars=month_list,\\\n",
    "                 var_name='Month',value_name=field_name)\n",
    "    df_new['Day']=1\n",
    "    df_new['Month']=pd.to_numeric(df_new['Month'])\n",
    "    df_new['Date'] = pd.to_datetime(df_new.Year*10000+df_new.Month*100+df_new.Day,\\\n",
    "                                format='%Y%m%d')\n",
    "    df_new.set_index(df_new.Date,inplace=True)\n",
    "    df_new=df_new[[field_name]]\n",
    "    ds_all.append(df_new)"
   ]
  },
  {
   "cell_type": "markdown",
   "metadata": {},
   "source": [
    "### 3.3处理其他结构不同的数据"
   ]
  },
  {
   "cell_type": "code",
   "execution_count": 42,
   "metadata": {
    "collapsed": true
   },
   "outputs": [],
   "source": [
    "df=excel.parse(sheetname=sheet_name,skip_footer=3,parse_cols=12)\n",
    "df.columns = col_names\n",
    "month_list=[1,2,3,4,5,6,7,8,9,10,11,12]\n",
    "df_new = pd.melt(df,id_vars=['Year'],value_vars=month_list,\\\n",
    "                 var_name='Month',value_name='Fog')\n",
    "df_new['Day']=1\n",
    "df_new['Month']=pd.to_numeric(df_new['Month'])\n",
    "df_new['Date'] = pd.to_datetime(df_new.Year*10000+df_new.Month*100+df_new.Day,\\\n",
    "                                format='%Y%m%d')\n",
    "df_new.set_index(df_new.Date,inplace=True)\n",
    "df_new=df_new[['Fog']]\n",
    "ds_all.append(df_new)"
   ]
  },
  {
   "cell_type": "markdown",
   "metadata": {},
   "source": [
    "### 3.4 结果合并"
   ]
  },
  {
   "cell_type": "code",
   "execution_count": 43,
   "metadata": {
    "collapsed": false
   },
   "outputs": [
    {
     "data": {
      "text/html": [
       "<div>\n",
       "<table border=\"1\" class=\"dataframe\">\n",
       "  <thead>\n",
       "    <tr style=\"text-align: right;\">\n",
       "      <th></th>\n",
       "      <th>Air_press</th>\n",
       "      <th>Temp</th>\n",
       "      <th>Temp_max</th>\n",
       "      <th>Temp_min</th>\n",
       "      <th>Humidity</th>\n",
       "      <th>Humi_min</th>\n",
       "      <th>Pre</th>\n",
       "      <th>Pre_max</th>\n",
       "      <th>Sunshine</th>\n",
       "      <th>Evaporation</th>\n",
       "      <th>G_Temp</th>\n",
       "      <th>G_Temp_max</th>\n",
       "      <th>G_Temp_min</th>\n",
       "      <th>WindSpeed</th>\n",
       "      <th>Cloud_total</th>\n",
       "      <th>Cloud_low</th>\n",
       "      <th>Fog</th>\n",
       "    </tr>\n",
       "    <tr>\n",
       "      <th>Date</th>\n",
       "      <th></th>\n",
       "      <th></th>\n",
       "      <th></th>\n",
       "      <th></th>\n",
       "      <th></th>\n",
       "      <th></th>\n",
       "      <th></th>\n",
       "      <th></th>\n",
       "      <th></th>\n",
       "      <th></th>\n",
       "      <th></th>\n",
       "      <th></th>\n",
       "      <th></th>\n",
       "      <th></th>\n",
       "      <th></th>\n",
       "      <th></th>\n",
       "      <th></th>\n",
       "    </tr>\n",
       "  </thead>\n",
       "  <tbody>\n",
       "    <tr>\n",
       "      <th>1952-01-01</th>\n",
       "      <td>NaN</td>\n",
       "      <td>NaN</td>\n",
       "      <td>NaN</td>\n",
       "      <td>NaN</td>\n",
       "      <td>NaN</td>\n",
       "      <td>NaN</td>\n",
       "      <td>NaN</td>\n",
       "      <td>NaN</td>\n",
       "      <td>NaN</td>\n",
       "      <td>NaN</td>\n",
       "      <td>NaN</td>\n",
       "      <td>NaN</td>\n",
       "      <td>NaN</td>\n",
       "      <td>NaN</td>\n",
       "      <td>NaN</td>\n",
       "      <td>NaN</td>\n",
       "      <td>NaN</td>\n",
       "    </tr>\n",
       "    <tr>\n",
       "      <th>1952-02-01</th>\n",
       "      <td>NaN</td>\n",
       "      <td>NaN</td>\n",
       "      <td>NaN</td>\n",
       "      <td>NaN</td>\n",
       "      <td>NaN</td>\n",
       "      <td>NaN</td>\n",
       "      <td>NaN</td>\n",
       "      <td>NaN</td>\n",
       "      <td>NaN</td>\n",
       "      <td>NaN</td>\n",
       "      <td>NaN</td>\n",
       "      <td>NaN</td>\n",
       "      <td>NaN</td>\n",
       "      <td>NaN</td>\n",
       "      <td>NaN</td>\n",
       "      <td>NaN</td>\n",
       "      <td>NaN</td>\n",
       "    </tr>\n",
       "    <tr>\n",
       "      <th>1952-03-01</th>\n",
       "      <td>NaN</td>\n",
       "      <td>NaN</td>\n",
       "      <td>NaN</td>\n",
       "      <td>NaN</td>\n",
       "      <td>NaN</td>\n",
       "      <td>NaN</td>\n",
       "      <td>NaN</td>\n",
       "      <td>NaN</td>\n",
       "      <td>NaN</td>\n",
       "      <td>NaN</td>\n",
       "      <td>NaN</td>\n",
       "      <td>NaN</td>\n",
       "      <td>NaN</td>\n",
       "      <td>NaN</td>\n",
       "      <td>NaN</td>\n",
       "      <td>NaN</td>\n",
       "      <td>NaN</td>\n",
       "    </tr>\n",
       "    <tr>\n",
       "      <th>1952-04-01</th>\n",
       "      <td>NaN</td>\n",
       "      <td>NaN</td>\n",
       "      <td>NaN</td>\n",
       "      <td>NaN</td>\n",
       "      <td>NaN</td>\n",
       "      <td>NaN</td>\n",
       "      <td>NaN</td>\n",
       "      <td>NaN</td>\n",
       "      <td>NaN</td>\n",
       "      <td>NaN</td>\n",
       "      <td>NaN</td>\n",
       "      <td>NaN</td>\n",
       "      <td>NaN</td>\n",
       "      <td>NaN</td>\n",
       "      <td>NaN</td>\n",
       "      <td>NaN</td>\n",
       "      <td>NaN</td>\n",
       "    </tr>\n",
       "    <tr>\n",
       "      <th>1952-05-01</th>\n",
       "      <td>NaN</td>\n",
       "      <td>NaN</td>\n",
       "      <td>NaN</td>\n",
       "      <td>NaN</td>\n",
       "      <td>NaN</td>\n",
       "      <td>NaN</td>\n",
       "      <td>NaN</td>\n",
       "      <td>NaN</td>\n",
       "      <td>NaN</td>\n",
       "      <td>NaN</td>\n",
       "      <td>NaN</td>\n",
       "      <td>NaN</td>\n",
       "      <td>NaN</td>\n",
       "      <td>NaN</td>\n",
       "      <td>NaN</td>\n",
       "      <td>NaN</td>\n",
       "      <td>NaN</td>\n",
       "    </tr>\n",
       "  </tbody>\n",
       "</table>\n",
       "</div>"
      ],
      "text/plain": [
       "            Air_press  Temp  Temp_max  Temp_min  Humidity  Humi_min  Pre  \\\n",
       "Date                                                                       \n",
       "1952-01-01        NaN   NaN       NaN       NaN       NaN       NaN  NaN   \n",
       "1952-02-01        NaN   NaN       NaN       NaN       NaN       NaN  NaN   \n",
       "1952-03-01        NaN   NaN       NaN       NaN       NaN       NaN  NaN   \n",
       "1952-04-01        NaN   NaN       NaN       NaN       NaN       NaN  NaN   \n",
       "1952-05-01        NaN   NaN       NaN       NaN       NaN       NaN  NaN   \n",
       "\n",
       "            Pre_max  Sunshine  Evaporation  G_Temp G_Temp_max  G_Temp_min  \\\n",
       "Date                                                                        \n",
       "1952-01-01      NaN       NaN          NaN     NaN        NaN         NaN   \n",
       "1952-02-01      NaN       NaN          NaN     NaN        NaN         NaN   \n",
       "1952-03-01      NaN       NaN          NaN     NaN        NaN         NaN   \n",
       "1952-04-01      NaN       NaN          NaN     NaN        NaN         NaN   \n",
       "1952-05-01      NaN       NaN          NaN     NaN        NaN         NaN   \n",
       "\n",
       "            WindSpeed  Cloud_total  Cloud_low  Fog  \n",
       "Date                                                \n",
       "1952-01-01        NaN          NaN        NaN  NaN  \n",
       "1952-02-01        NaN          NaN        NaN  NaN  \n",
       "1952-03-01        NaN          NaN        NaN  NaN  \n",
       "1952-04-01        NaN          NaN        NaN  NaN  \n",
       "1952-05-01        NaN          NaN        NaN  NaN  "
      ]
     },
     "execution_count": 43,
     "metadata": {},
     "output_type": "execute_result"
    }
   ],
   "source": [
    "ds=pd.concat(ds_all,axis=1)\n",
    "ds.head()"
   ]
  },
  {
   "cell_type": "code",
   "execution_count": 48,
   "metadata": {
    "collapsed": false
   },
   "outputs": [
    {
     "data": {
      "text/plain": [
       "Air_press      float64\n",
       "Temp           float64\n",
       "Temp_max       float64\n",
       "Temp_min       float64\n",
       "Humidity       float64\n",
       "Humi_min       float64\n",
       "Pre            float64\n",
       "Pre_max        float64\n",
       "Sunshine       float64\n",
       "Evaporation    float64\n",
       "G_Temp         float64\n",
       "G_Temp_max      object\n",
       "G_Temp_min     float64\n",
       "WindSpeed      float64\n",
       "Cloud_total    float64\n",
       "Cloud_low      float64\n",
       "Fog            float64\n",
       "dtype: object"
      ]
     },
     "execution_count": 48,
     "metadata": {},
     "output_type": "execute_result"
    }
   ],
   "source": [
    "ds.dtypes"
   ]
  },
  {
   "cell_type": "markdown",
   "metadata": {},
   "source": [
    "### 3.5制图浏览清洗结果"
   ]
  },
  {
   "cell_type": "code",
   "execution_count": 44,
   "metadata": {
    "collapsed": false
   },
   "outputs": [
    {
     "data": {
      "text/plain": [
       "<matplotlib.axes._subplots.AxesSubplot at 0x15afed6e438>"
      ]
     },
     "execution_count": 44,
     "metadata": {},
     "output_type": "execute_result"
    },
    {
     "data": {
      "image/png": "[encoded data removed]",
      "text/plain": [
       "<matplotlib.figure.Figure at 0x15a81572fd0>"
      ]
     },
     "metadata": {},
     "output_type": "display_data"
    }
   ],
   "source": [
    "%matplotlib inline\n",
    "ds.plot(figsize=(12,6))"
   ]
  },
  {
   "cell_type": "markdown",
   "metadata": {},
   "source": [
    "## 4.保存清洗结果"
   ]
  },
  {
   "cell_type": "code",
   "execution_count": 29,
   "metadata": {
    "collapsed": false
   },
   "outputs": [],
   "source": [
    "ds.to_csv('data/weather_jiulong_all.csv',index_label='Date')"
   ]
  },
  {
   "cell_type": "markdown",
   "metadata": {},
   "source": [
    "## 5.批处理输出缩略图"
   ]
  },
  {
   "cell_type": "code",
   "execution_count": 45,
   "metadata": {
    "collapsed": false
   },
   "outputs": [
    {
     "data": {
      "text/plain": [
       "Index(['Air_press', 'Temp', 'Temp_max', 'Temp_min', 'Humidity', 'Humi_min',\n",
       "       'Pre', 'Pre_max', 'Sunshine', 'Evaporation', 'G_Temp', 'G_Temp_max',\n",
       "       'G_Temp_min', 'WindSpeed', 'Cloud_total', 'Cloud_low', 'Fog'],\n",
       "      dtype='object')"
      ]
     },
     "execution_count": 45,
     "metadata": {},
     "output_type": "execute_result"
    }
   ],
   "source": [
    "ds.columns"
   ]
  },
  {
   "cell_type": "code",
   "execution_count": 50,
   "metadata": {
    "collapsed": false
   },
   "outputs": [
    {
     "name": "stdout",
     "output_type": "stream",
     "text": [
      "Using matplotlib backend: Qt4Agg\n",
      "Air_press\n",
      "Temp\n",
      "Temp_max\n",
      "Temp_min\n",
      "Humidity\n",
      "Humi_min\n",
      "Pre\n",
      "Pre_max\n",
      "Sunshine\n",
      "Evaporation\n",
      "G_Temp\n",
      "G_Temp_min\n",
      "WindSpeed\n",
      "Cloud_total\n",
      "Cloud_low\n",
      "Fog\n"
     ]
    }
   ],
   "source": [
    "import matplotlib.pylab as plt\n",
    "%matplotlib auto\n",
    "col_names=['Air_press', 'Temp', 'Temp_max', 'Temp_min', 'Humidity', 'Humi_min',\n",
    "       'Pre', 'Pre_max', 'Sunshine', 'Evaporation', 'G_Temp', \n",
    "       'G_Temp_min', 'WindSpeed', 'Cloud_total', 'Cloud_low', 'Fog']\n",
    "for col in col_names:\n",
    "    print(col)\n",
    "    fig=plt.figure()\n",
    "    ax=ds[col].plot(figsize=(12,6))\n",
    "    ax.set_ylabel(col)\n",
    "    ax.set_title(col)\n",
    "    outfile='images/'+col+'.png'\n",
    "    #print(outfile)\n",
    "    plt.savefig(outfile)\n",
    "    plt.close()"
   ]
  },
  {
   "cell_type": "code",
   "execution_count": null,
   "metadata": {
    "collapsed": true
   },
   "outputs": [],
   "source": []
  }
 ],
 "metadata": {
  "kernelspec": {
   "display_name": "Python [Root]",
   "language": "python",
   "name": "Python [Root]"
  },
  "language_info": {
   "codemirror_mode": {
    "name": "ipython",
    "version": 3
   },
   "file_extension": ".py",
   "mimetype": "text/x-python",
   "name": "python",
   "nbconvert_exporter": "python",
   "pygments_lexer": "ipython3",
   "version": "3.5.1"
  }
 },
 "nbformat": 4,
 "nbformat_minor": 0
}
