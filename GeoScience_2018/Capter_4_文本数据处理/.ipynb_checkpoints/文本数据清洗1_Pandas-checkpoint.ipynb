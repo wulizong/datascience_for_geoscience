{
 "cells": [
  {
   "cell_type": "markdown",
   "metadata": {},
   "source": [
    "<h1 align=center>文本数据清洗1:Pandas</h1>\n",
    "----\n",
    "* 作者: 吴立宗\n",
    "* 日期: 2016-7-7\n",
    "* 目标: 学习文本数据清洗的利器Pandas\n",
    " * Pandas Series\n",
    " * Pandas DataFrame\n"
   ]
  },
  {
   "cell_type": "markdown",
   "metadata": {},
   "source": [
    "## 1.Pandas简介\n",
    "* Pandas是python的一个数据分析包\n",
    "* 由AQR Capital Management于2008年4月开发，2009年开源；\n",
    "* 属于PyData项目。\n",
    "* Pandas最初被作为金融数据分析工具开发出来，具有很强的时间序列分析能力\n",
    "* 围绕Pandas，形成了一系列Python工具，形成了非常好大数据应用生态\n",
    "* Pandas集数据清洗、数据分析和数据可视化于一体，是数据中心居家、旅游、办公和休闲于一体的必备用品\n",
    "* Series,DataFrame,和Panel 是Pandas最基本的数据类型，最常用的是DataFrame"
   ]
  },
  {
   "cell_type": "markdown",
   "metadata": {},
   "source": [
    "## 2.DataSeries\n",
    "* 一维数据类型(数据表中的一列或一行,观测向量,一维数组…)\n",
    "* 类似python的字典"
   ]
  },
  {
   "cell_type": "markdown",
   "metadata": {},
   "source": [
    "![](images/series2.jpg)"
   ]
  },
  {
   "cell_type": "code",
   "execution_count": 9,
   "metadata": {
    "collapsed": false
   },
   "outputs": [],
   "source": [
    "import pandas as pd\n",
    "import numpy as np\n",
    "%matplotlib inline"
   ]
  },
  {
   "cell_type": "code",
   "execution_count": 57,
   "metadata": {
    "collapsed": false
   },
   "outputs": [
    {
     "data": {
      "text/plain": [
       "0    33\n",
       "1    19\n",
       "2    15\n",
       "3    89\n",
       "4    11\n",
       "5    -5\n",
       "6     9\n",
       "dtype: int64"
      ]
     },
     "execution_count": 57,
     "metadata": {},
     "output_type": "execute_result"
    }
   ],
   "source": [
    "s1 = pd.Series([33, 19, 15, 89, 11, -5, 9])\n",
    "s1"
   ]
  },
  {
   "cell_type": "markdown",
   "metadata": {},
   "source": [
    "## 3.DataFrame"
   ]
  },
  {
   "cell_type": "markdown",
   "metadata": {},
   "source": [
    "* DataFrame是二维的数据结构，其本质是Series的容器。\n",
    "* Pandas 为DataFrame创建了一个索引，通过这个索引把不同的Series联合在一起。\n",
    "* DataFrame每一列（即每一个Series）的数据类型是相同的\n",
    "* DataFrame不同列的数据结构可以不同\n",
    "* 以数据库进行类比，DataFrame中的每一行是一个记录，名称为Index的一个元素，而每一列则为一个字段，是这个记录的一个属性。"
   ]
  },
  {
   "cell_type": "code",
   "execution_count": 102,
   "metadata": {
    "collapsed": false
   },
   "outputs": [],
   "source": [
    "import pandas as pd\n",
    "import datetime\n",
    "\n",
    "year=[2014,2013,2012,2011,2010,2009,2008,2007,2006,2005]\n",
    "pop_1 = {'Year': year, \n",
    "     '北京市':[2152,2115,2069,2019,1962,1860,1771,1676,1601,1538], \n",
    "     '天津市':[1517,1472,1413,1355,1299,1228,1176,1115,1075,1043],\n",
    "     '河北省':[7384,7333,7288,7241,7194,7034,6989,6943,6898,6851],\n",
    "     '山西省':[3648,3630,3611,3593,3574,3427,3411,3393,3375,3355],\n",
    "     '内蒙古自治区':[2505,2498,2490,2482,2472,2458,2444,2429,2415,2403] }\n",
    "df_1=pd.DataFrame(pop_1)\n",
    "pop_2={'Year': year,\n",
    "       '辽宁省':[4391,4390,4389,4383,4375,4341,4315,4298,4271,4221],\n",
    "       '吉林省':[2752,2751,2750,2749,2747,2740,2734,2730,2723,2716],\n",
    "       '黑龙江省':[3833,3835,3834,3834,3833,3826,3825,3824,3823,3820],\n",
    "       '上海市':[2426,2415,2380,2347,2303,2210,2141,2064,1964,1890],\n",
    "       '江苏省':[7960,7939,7920,7899,7869,7810,7762,7723,7656,7588],\n",
    "       '浙江省':[5508,5498,5477,5463,5447,5276,5212,5155,5072,4991],\n",
    "       '安徽省':[6083,6030,5988,5968,5957,6131,6135,6118,6110,6120],\n",
    "       '福建省':[3806,3774,3748,3720,3693,3666,3639,3612,3585,3557],\n",
    "       '江西省':[4542,4522,4504,4488,4462,4432,4400,4368,4339,4311],\n",
    "       '山东省':[9789,9733,9685,9637,9588,9470,9417,9367,9309,9248]}\n",
    "df_2=pd.DataFrame(pop_2)\n"
   ]
  },
  {
   "cell_type": "markdown",
   "metadata": {},
   "source": [
    "### 3.1 索引 \n",
    "\n",
    "* 索引负责管理pandas的轴标签和其他元数据(如轴名称)\n",
    "* 任何数组或序列都可以被转换为index\n",
    "<img src=\"files/images/df1.jpg\">"
   ]
  },
  {
   "cell_type": "code",
   "execution_count": 96,
   "metadata": {
    "collapsed": false
   },
   "outputs": [
    {
     "data": {
      "text/html": [
       "<div>\n",
       "<table border=\"1\" class=\"dataframe\">\n",
       "  <thead>\n",
       "    <tr style=\"text-align: right;\">\n",
       "      <th></th>\n",
       "      <th>Year</th>\n",
       "      <th>内蒙古自治区</th>\n",
       "      <th>北京市</th>\n",
       "      <th>天津市</th>\n",
       "      <th>山西省</th>\n",
       "      <th>河北省</th>\n",
       "    </tr>\n",
       "  </thead>\n",
       "  <tbody>\n",
       "    <tr>\n",
       "      <th>0</th>\n",
       "      <td>2014</td>\n",
       "      <td>2505</td>\n",
       "      <td>2152</td>\n",
       "      <td>1517</td>\n",
       "      <td>3648</td>\n",
       "      <td>7384</td>\n",
       "    </tr>\n",
       "    <tr>\n",
       "      <th>1</th>\n",
       "      <td>2013</td>\n",
       "      <td>2498</td>\n",
       "      <td>2115</td>\n",
       "      <td>1472</td>\n",
       "      <td>3630</td>\n",
       "      <td>7333</td>\n",
       "    </tr>\n",
       "    <tr>\n",
       "      <th>2</th>\n",
       "      <td>2012</td>\n",
       "      <td>2490</td>\n",
       "      <td>2069</td>\n",
       "      <td>1413</td>\n",
       "      <td>3611</td>\n",
       "      <td>7288</td>\n",
       "    </tr>\n",
       "    <tr>\n",
       "      <th>3</th>\n",
       "      <td>2011</td>\n",
       "      <td>2482</td>\n",
       "      <td>2019</td>\n",
       "      <td>1355</td>\n",
       "      <td>3593</td>\n",
       "      <td>7241</td>\n",
       "    </tr>\n",
       "    <tr>\n",
       "      <th>4</th>\n",
       "      <td>2010</td>\n",
       "      <td>2472</td>\n",
       "      <td>1962</td>\n",
       "      <td>1299</td>\n",
       "      <td>3574</td>\n",
       "      <td>7194</td>\n",
       "    </tr>\n",
       "    <tr>\n",
       "      <th>5</th>\n",
       "      <td>2009</td>\n",
       "      <td>2458</td>\n",
       "      <td>1860</td>\n",
       "      <td>1228</td>\n",
       "      <td>3427</td>\n",
       "      <td>7034</td>\n",
       "    </tr>\n",
       "    <tr>\n",
       "      <th>6</th>\n",
       "      <td>2008</td>\n",
       "      <td>2444</td>\n",
       "      <td>1771</td>\n",
       "      <td>1176</td>\n",
       "      <td>3411</td>\n",
       "      <td>6989</td>\n",
       "    </tr>\n",
       "    <tr>\n",
       "      <th>7</th>\n",
       "      <td>2007</td>\n",
       "      <td>2429</td>\n",
       "      <td>1676</td>\n",
       "      <td>1115</td>\n",
       "      <td>3393</td>\n",
       "      <td>6943</td>\n",
       "    </tr>\n",
       "    <tr>\n",
       "      <th>8</th>\n",
       "      <td>2006</td>\n",
       "      <td>2415</td>\n",
       "      <td>1601</td>\n",
       "      <td>1075</td>\n",
       "      <td>3375</td>\n",
       "      <td>6898</td>\n",
       "    </tr>\n",
       "    <tr>\n",
       "      <th>9</th>\n",
       "      <td>2005</td>\n",
       "      <td>2403</td>\n",
       "      <td>1538</td>\n",
       "      <td>1043</td>\n",
       "      <td>3355</td>\n",
       "      <td>6851</td>\n",
       "    </tr>\n",
       "  </tbody>\n",
       "</table>\n",
       "</div>"
      ],
      "text/plain": [
       "   Year  内蒙古自治区   北京市   天津市   山西省   河北省\n",
       "0  2014    2505  2152  1517  3648  7384\n",
       "1  2013    2498  2115  1472  3630  7333\n",
       "2  2012    2490  2069  1413  3611  7288\n",
       "3  2011    2482  2019  1355  3593  7241\n",
       "4  2010    2472  1962  1299  3574  7194\n",
       "5  2009    2458  1860  1228  3427  7034\n",
       "6  2008    2444  1771  1176  3411  6989\n",
       "7  2007    2429  1676  1115  3393  6943\n",
       "8  2006    2415  1601  1075  3375  6898\n",
       "9  2005    2403  1538  1043  3355  6851"
      ]
     },
     "execution_count": 96,
     "metadata": {},
     "output_type": "execute_result"
    }
   ],
   "source": [
    "df_1"
   ]
  },
  {
   "cell_type": "code",
   "execution_count": 76,
   "metadata": {
    "collapsed": false
   },
   "outputs": [
    {
     "data": {
      "text/plain": [
       "RangeIndex(start=0, stop=10, step=1)"
      ]
     },
     "execution_count": 76,
     "metadata": {},
     "output_type": "execute_result"
    }
   ],
   "source": [
    "df_1.index"
   ]
  },
  {
   "cell_type": "markdown",
   "metadata": {},
   "source": [
    "* 重新索引"
   ]
  },
  {
   "cell_type": "code",
   "execution_count": 81,
   "metadata": {
    "collapsed": false
   },
   "outputs": [
    {
     "data": {
      "text/plain": [
       "Int64Index([2014, 2013, 2012, 2011, 2010, 2009, 2008, 2007, 2006, 2005], dtype='int64', name='Year')"
      ]
     },
     "execution_count": 81,
     "metadata": {},
     "output_type": "execute_result"
    }
   ],
   "source": [
    "df_new=df_1.set_index(['Year'])\n",
    "df_new.index"
   ]
  },
  {
   "cell_type": "code",
   "execution_count": 103,
   "metadata": {
    "collapsed": false
   },
   "outputs": [
    {
     "data": {
      "text/html": [
       "<div>\n",
       "<table border=\"1\" class=\"dataframe\">\n",
       "  <thead>\n",
       "    <tr style=\"text-align: right;\">\n",
       "      <th></th>\n",
       "      <th>内蒙古自治区</th>\n",
       "      <th>北京市</th>\n",
       "      <th>天津市</th>\n",
       "      <th>山西省</th>\n",
       "      <th>河北省</th>\n",
       "    </tr>\n",
       "    <tr>\n",
       "      <th>Year</th>\n",
       "      <th></th>\n",
       "      <th></th>\n",
       "      <th></th>\n",
       "      <th></th>\n",
       "      <th></th>\n",
       "    </tr>\n",
       "  </thead>\n",
       "  <tbody>\n",
       "    <tr>\n",
       "      <th>2014</th>\n",
       "      <td>2505</td>\n",
       "      <td>2152</td>\n",
       "      <td>1517</td>\n",
       "      <td>3648</td>\n",
       "      <td>7384</td>\n",
       "    </tr>\n",
       "    <tr>\n",
       "      <th>2013</th>\n",
       "      <td>2498</td>\n",
       "      <td>2115</td>\n",
       "      <td>1472</td>\n",
       "      <td>3630</td>\n",
       "      <td>7333</td>\n",
       "    </tr>\n",
       "    <tr>\n",
       "      <th>2012</th>\n",
       "      <td>2490</td>\n",
       "      <td>2069</td>\n",
       "      <td>1413</td>\n",
       "      <td>3611</td>\n",
       "      <td>7288</td>\n",
       "    </tr>\n",
       "    <tr>\n",
       "      <th>2011</th>\n",
       "      <td>2482</td>\n",
       "      <td>2019</td>\n",
       "      <td>1355</td>\n",
       "      <td>3593</td>\n",
       "      <td>7241</td>\n",
       "    </tr>\n",
       "    <tr>\n",
       "      <th>2010</th>\n",
       "      <td>2472</td>\n",
       "      <td>1962</td>\n",
       "      <td>1299</td>\n",
       "      <td>3574</td>\n",
       "      <td>7194</td>\n",
       "    </tr>\n",
       "    <tr>\n",
       "      <th>2009</th>\n",
       "      <td>2458</td>\n",
       "      <td>1860</td>\n",
       "      <td>1228</td>\n",
       "      <td>3427</td>\n",
       "      <td>7034</td>\n",
       "    </tr>\n",
       "    <tr>\n",
       "      <th>2008</th>\n",
       "      <td>2444</td>\n",
       "      <td>1771</td>\n",
       "      <td>1176</td>\n",
       "      <td>3411</td>\n",
       "      <td>6989</td>\n",
       "    </tr>\n",
       "    <tr>\n",
       "      <th>2007</th>\n",
       "      <td>2429</td>\n",
       "      <td>1676</td>\n",
       "      <td>1115</td>\n",
       "      <td>3393</td>\n",
       "      <td>6943</td>\n",
       "    </tr>\n",
       "    <tr>\n",
       "      <th>2006</th>\n",
       "      <td>2415</td>\n",
       "      <td>1601</td>\n",
       "      <td>1075</td>\n",
       "      <td>3375</td>\n",
       "      <td>6898</td>\n",
       "    </tr>\n",
       "    <tr>\n",
       "      <th>2005</th>\n",
       "      <td>2403</td>\n",
       "      <td>1538</td>\n",
       "      <td>1043</td>\n",
       "      <td>3355</td>\n",
       "      <td>6851</td>\n",
       "    </tr>\n",
       "  </tbody>\n",
       "</table>\n",
       "</div>"
      ],
      "text/plain": [
       "      内蒙古自治区   北京市   天津市   山西省   河北省\n",
       "Year                                \n",
       "2014    2505  2152  1517  3648  7384\n",
       "2013    2498  2115  1472  3630  7333\n",
       "2012    2490  2069  1413  3611  7288\n",
       "2011    2482  2019  1355  3593  7241\n",
       "2010    2472  1962  1299  3574  7194\n",
       "2009    2458  1860  1228  3427  7034\n",
       "2008    2444  1771  1176  3411  6989\n",
       "2007    2429  1676  1115  3393  6943\n",
       "2006    2415  1601  1075  3375  6898\n",
       "2005    2403  1538  1043  3355  6851"
      ]
     },
     "execution_count": 103,
     "metadata": {},
     "output_type": "execute_result"
    }
   ],
   "source": [
    "df_1.set_index(['Year'],inplace=True)\n",
    "df_1"
   ]
  },
  {
   "cell_type": "markdown",
   "metadata": {
    "collapsed": false
   },
   "source": [
    "### 3.2 查看数据"
   ]
  },
  {
   "cell_type": "code",
   "execution_count": null,
   "metadata": {
    "collapsed": true
   },
   "outputs": [],
   "source": [
    "* 快速查看数据"
   ]
  },
  {
   "cell_type": "code",
   "execution_count": 83,
   "metadata": {
    "collapsed": false
   },
   "outputs": [
    {
     "data": {
      "text/html": [
       "<div>\n",
       "<table border=\"1\" class=\"dataframe\">\n",
       "  <thead>\n",
       "    <tr style=\"text-align: right;\">\n",
       "      <th></th>\n",
       "      <th>Year</th>\n",
       "      <th>内蒙古自治区</th>\n",
       "      <th>北京市</th>\n",
       "      <th>天津市</th>\n",
       "      <th>山西省</th>\n",
       "      <th>河北省</th>\n",
       "    </tr>\n",
       "  </thead>\n",
       "  <tbody>\n",
       "    <tr>\n",
       "      <th>0</th>\n",
       "      <td>2014</td>\n",
       "      <td>2505</td>\n",
       "      <td>2152</td>\n",
       "      <td>1517</td>\n",
       "      <td>3648</td>\n",
       "      <td>7384</td>\n",
       "    </tr>\n",
       "    <tr>\n",
       "      <th>1</th>\n",
       "      <td>2013</td>\n",
       "      <td>2498</td>\n",
       "      <td>2115</td>\n",
       "      <td>1472</td>\n",
       "      <td>3630</td>\n",
       "      <td>7333</td>\n",
       "    </tr>\n",
       "    <tr>\n",
       "      <th>2</th>\n",
       "      <td>2012</td>\n",
       "      <td>2490</td>\n",
       "      <td>2069</td>\n",
       "      <td>1413</td>\n",
       "      <td>3611</td>\n",
       "      <td>7288</td>\n",
       "    </tr>\n",
       "    <tr>\n",
       "      <th>3</th>\n",
       "      <td>2011</td>\n",
       "      <td>2482</td>\n",
       "      <td>2019</td>\n",
       "      <td>1355</td>\n",
       "      <td>3593</td>\n",
       "      <td>7241</td>\n",
       "    </tr>\n",
       "    <tr>\n",
       "      <th>4</th>\n",
       "      <td>2010</td>\n",
       "      <td>2472</td>\n",
       "      <td>1962</td>\n",
       "      <td>1299</td>\n",
       "      <td>3574</td>\n",
       "      <td>7194</td>\n",
       "    </tr>\n",
       "    <tr>\n",
       "      <th>5</th>\n",
       "      <td>2009</td>\n",
       "      <td>2458</td>\n",
       "      <td>1860</td>\n",
       "      <td>1228</td>\n",
       "      <td>3427</td>\n",
       "      <td>7034</td>\n",
       "    </tr>\n",
       "    <tr>\n",
       "      <th>6</th>\n",
       "      <td>2008</td>\n",
       "      <td>2444</td>\n",
       "      <td>1771</td>\n",
       "      <td>1176</td>\n",
       "      <td>3411</td>\n",
       "      <td>6989</td>\n",
       "    </tr>\n",
       "    <tr>\n",
       "      <th>7</th>\n",
       "      <td>2007</td>\n",
       "      <td>2429</td>\n",
       "      <td>1676</td>\n",
       "      <td>1115</td>\n",
       "      <td>3393</td>\n",
       "      <td>6943</td>\n",
       "    </tr>\n",
       "    <tr>\n",
       "      <th>8</th>\n",
       "      <td>2006</td>\n",
       "      <td>2415</td>\n",
       "      <td>1601</td>\n",
       "      <td>1075</td>\n",
       "      <td>3375</td>\n",
       "      <td>6898</td>\n",
       "    </tr>\n",
       "    <tr>\n",
       "      <th>9</th>\n",
       "      <td>2005</td>\n",
       "      <td>2403</td>\n",
       "      <td>1538</td>\n",
       "      <td>1043</td>\n",
       "      <td>3355</td>\n",
       "      <td>6851</td>\n",
       "    </tr>\n",
       "  </tbody>\n",
       "</table>\n",
       "</div>"
      ],
      "text/plain": [
       "   Year  内蒙古自治区   北京市   天津市   山西省   河北省\n",
       "0  2014    2505  2152  1517  3648  7384\n",
       "1  2013    2498  2115  1472  3630  7333\n",
       "2  2012    2490  2069  1413  3611  7288\n",
       "3  2011    2482  2019  1355  3593  7241\n",
       "4  2010    2472  1962  1299  3574  7194\n",
       "5  2009    2458  1860  1228  3427  7034\n",
       "6  2008    2444  1771  1176  3411  6989\n",
       "7  2007    2429  1676  1115  3393  6943\n",
       "8  2006    2415  1601  1075  3375  6898\n",
       "9  2005    2403  1538  1043  3355  6851"
      ]
     },
     "execution_count": 83,
     "metadata": {},
     "output_type": "execute_result"
    }
   ],
   "source": [
    "df_1"
   ]
  },
  {
   "cell_type": "markdown",
   "metadata": {},
   "source": [
    "* 查看最前面几行"
   ]
  },
  {
   "cell_type": "code",
   "execution_count": 84,
   "metadata": {
    "collapsed": false
   },
   "outputs": [
    {
     "data": {
      "text/html": [
       "<div>\n",
       "<table border=\"1\" class=\"dataframe\">\n",
       "  <thead>\n",
       "    <tr style=\"text-align: right;\">\n",
       "      <th></th>\n",
       "      <th>Year</th>\n",
       "      <th>内蒙古自治区</th>\n",
       "      <th>北京市</th>\n",
       "      <th>天津市</th>\n",
       "      <th>山西省</th>\n",
       "      <th>河北省</th>\n",
       "    </tr>\n",
       "  </thead>\n",
       "  <tbody>\n",
       "    <tr>\n",
       "      <th>0</th>\n",
       "      <td>2014</td>\n",
       "      <td>2505</td>\n",
       "      <td>2152</td>\n",
       "      <td>1517</td>\n",
       "      <td>3648</td>\n",
       "      <td>7384</td>\n",
       "    </tr>\n",
       "    <tr>\n",
       "      <th>1</th>\n",
       "      <td>2013</td>\n",
       "      <td>2498</td>\n",
       "      <td>2115</td>\n",
       "      <td>1472</td>\n",
       "      <td>3630</td>\n",
       "      <td>7333</td>\n",
       "    </tr>\n",
       "    <tr>\n",
       "      <th>2</th>\n",
       "      <td>2012</td>\n",
       "      <td>2490</td>\n",
       "      <td>2069</td>\n",
       "      <td>1413</td>\n",
       "      <td>3611</td>\n",
       "      <td>7288</td>\n",
       "    </tr>\n",
       "    <tr>\n",
       "      <th>3</th>\n",
       "      <td>2011</td>\n",
       "      <td>2482</td>\n",
       "      <td>2019</td>\n",
       "      <td>1355</td>\n",
       "      <td>3593</td>\n",
       "      <td>7241</td>\n",
       "    </tr>\n",
       "    <tr>\n",
       "      <th>4</th>\n",
       "      <td>2010</td>\n",
       "      <td>2472</td>\n",
       "      <td>1962</td>\n",
       "      <td>1299</td>\n",
       "      <td>3574</td>\n",
       "      <td>7194</td>\n",
       "    </tr>\n",
       "  </tbody>\n",
       "</table>\n",
       "</div>"
      ],
      "text/plain": [
       "   Year  内蒙古自治区   北京市   天津市   山西省   河北省\n",
       "0  2014    2505  2152  1517  3648  7384\n",
       "1  2013    2498  2115  1472  3630  7333\n",
       "2  2012    2490  2069  1413  3611  7288\n",
       "3  2011    2482  2019  1355  3593  7241\n",
       "4  2010    2472  1962  1299  3574  7194"
      ]
     },
     "execution_count": 84,
     "metadata": {},
     "output_type": "execute_result"
    }
   ],
   "source": [
    "df_1.head()"
   ]
  },
  {
   "cell_type": "markdown",
   "metadata": {},
   "source": [
    "* 查看最后面几行"
   ]
  },
  {
   "cell_type": "code",
   "execution_count": 87,
   "metadata": {
    "collapsed": false
   },
   "outputs": [
    {
     "data": {
      "text/html": [
       "<div>\n",
       "<table border=\"1\" class=\"dataframe\">\n",
       "  <thead>\n",
       "    <tr style=\"text-align: right;\">\n",
       "      <th></th>\n",
       "      <th>Year</th>\n",
       "      <th>内蒙古自治区</th>\n",
       "      <th>北京市</th>\n",
       "      <th>天津市</th>\n",
       "      <th>山西省</th>\n",
       "      <th>河北省</th>\n",
       "    </tr>\n",
       "  </thead>\n",
       "  <tbody>\n",
       "    <tr>\n",
       "      <th>7</th>\n",
       "      <td>2007</td>\n",
       "      <td>2429</td>\n",
       "      <td>1676</td>\n",
       "      <td>1115</td>\n",
       "      <td>3393</td>\n",
       "      <td>6943</td>\n",
       "    </tr>\n",
       "    <tr>\n",
       "      <th>8</th>\n",
       "      <td>2006</td>\n",
       "      <td>2415</td>\n",
       "      <td>1601</td>\n",
       "      <td>1075</td>\n",
       "      <td>3375</td>\n",
       "      <td>6898</td>\n",
       "    </tr>\n",
       "    <tr>\n",
       "      <th>9</th>\n",
       "      <td>2005</td>\n",
       "      <td>2403</td>\n",
       "      <td>1538</td>\n",
       "      <td>1043</td>\n",
       "      <td>3355</td>\n",
       "      <td>6851</td>\n",
       "    </tr>\n",
       "  </tbody>\n",
       "</table>\n",
       "</div>"
      ],
      "text/plain": [
       "   Year  内蒙古自治区   北京市   天津市   山西省   河北省\n",
       "7  2007    2429  1676  1115  3393  6943\n",
       "8  2006    2415  1601  1075  3375  6898\n",
       "9  2005    2403  1538  1043  3355  6851"
      ]
     },
     "execution_count": 87,
     "metadata": {},
     "output_type": "execute_result"
    }
   ],
   "source": [
    "df_1.tail(3)"
   ]
  },
  {
   "cell_type": "markdown",
   "metadata": {},
   "source": [
    "* 查看数据类型"
   ]
  },
  {
   "cell_type": "code",
   "execution_count": 88,
   "metadata": {
    "collapsed": false
   },
   "outputs": [
    {
     "data": {
      "text/plain": [
       "Year      int64\n",
       "内蒙古自治区    int64\n",
       "北京市       int64\n",
       "天津市       int64\n",
       "山西省       int64\n",
       "河北省       int64\n",
       "dtype: object"
      ]
     },
     "execution_count": 88,
     "metadata": {},
     "output_type": "execute_result"
    }
   ],
   "source": [
    "df_1.dtypes"
   ]
  },
  {
   "cell_type": "markdown",
   "metadata": {},
   "source": [
    "* 查看汇总信息"
   ]
  },
  {
   "cell_type": "code",
   "execution_count": 128,
   "metadata": {
    "collapsed": false
   },
   "outputs": [
    {
     "data": {
      "text/html": [
       "<div>\n",
       "<table border=\"1\" class=\"dataframe\">\n",
       "  <thead>\n",
       "    <tr style=\"text-align: right;\">\n",
       "      <th></th>\n",
       "      <th>内蒙古自治区</th>\n",
       "      <th>北京市</th>\n",
       "      <th>天津市</th>\n",
       "      <th>山西省</th>\n",
       "      <th>河北省</th>\n",
       "      <th>chang</th>\n",
       "    </tr>\n",
       "  </thead>\n",
       "  <tbody>\n",
       "    <tr>\n",
       "      <th>count</th>\n",
       "      <td>10.000000</td>\n",
       "      <td>10.000000</td>\n",
       "      <td>10.000000</td>\n",
       "      <td>10.000000</td>\n",
       "      <td>10.000000</td>\n",
       "      <td>10.000000</td>\n",
       "    </tr>\n",
       "    <tr>\n",
       "      <th>mean</th>\n",
       "      <td>2459.600000</td>\n",
       "      <td>1876.300000</td>\n",
       "      <td>1269.300000</td>\n",
       "      <td>350.170000</td>\n",
       "      <td>7115.500000</td>\n",
       "      <td>607.000000</td>\n",
       "    </tr>\n",
       "    <tr>\n",
       "      <th>std</th>\n",
       "      <td>35.731094</td>\n",
       "      <td>220.992735</td>\n",
       "      <td>168.160671</td>\n",
       "      <td>11.858897</td>\n",
       "      <td>194.574893</td>\n",
       "      <td>60.420747</td>\n",
       "    </tr>\n",
       "    <tr>\n",
       "      <th>min</th>\n",
       "      <td>2403.000000</td>\n",
       "      <td>1538.000000</td>\n",
       "      <td>1043.000000</td>\n",
       "      <td>335.500000</td>\n",
       "      <td>6851.000000</td>\n",
       "      <td>495.000000</td>\n",
       "    </tr>\n",
       "    <tr>\n",
       "      <th>25%</th>\n",
       "      <td>2432.750000</td>\n",
       "      <td>1699.750000</td>\n",
       "      <td>1130.250000</td>\n",
       "      <td>339.750000</td>\n",
       "      <td>6954.500000</td>\n",
       "      <td>569.500000</td>\n",
       "    </tr>\n",
       "    <tr>\n",
       "      <th>50%</th>\n",
       "      <td>2465.000000</td>\n",
       "      <td>1911.000000</td>\n",
       "      <td>1263.500000</td>\n",
       "      <td>350.050000</td>\n",
       "      <td>7114.000000</td>\n",
       "      <td>633.500000</td>\n",
       "    </tr>\n",
       "    <tr>\n",
       "      <th>75%</th>\n",
       "      <td>2488.000000</td>\n",
       "      <td>2056.500000</td>\n",
       "      <td>1398.500000</td>\n",
       "      <td>360.650000</td>\n",
       "      <td>7276.250000</td>\n",
       "      <td>652.750000</td>\n",
       "    </tr>\n",
       "    <tr>\n",
       "      <th>max</th>\n",
       "      <td>2505.000000</td>\n",
       "      <td>2152.000000</td>\n",
       "      <td>1517.000000</td>\n",
       "      <td>364.800000</td>\n",
       "      <td>7384.000000</td>\n",
       "      <td>664.000000</td>\n",
       "    </tr>\n",
       "  </tbody>\n",
       "</table>\n",
       "</div>"
      ],
      "text/plain": [
       "            内蒙古自治区          北京市          天津市         山西省          河北省  \\\n",
       "count    10.000000    10.000000    10.000000   10.000000    10.000000   \n",
       "mean   2459.600000  1876.300000  1269.300000  350.170000  7115.500000   \n",
       "std      35.731094   220.992735   168.160671   11.858897   194.574893   \n",
       "min    2403.000000  1538.000000  1043.000000  335.500000  6851.000000   \n",
       "25%    2432.750000  1699.750000  1130.250000  339.750000  6954.500000   \n",
       "50%    2465.000000  1911.000000  1263.500000  350.050000  7114.000000   \n",
       "75%    2488.000000  2056.500000  1398.500000  360.650000  7276.250000   \n",
       "max    2505.000000  2152.000000  1517.000000  364.800000  7384.000000   \n",
       "\n",
       "            chang  \n",
       "count   10.000000  \n",
       "mean   607.000000  \n",
       "std     60.420747  \n",
       "min    495.000000  \n",
       "25%    569.500000  \n",
       "50%    633.500000  \n",
       "75%    652.750000  \n",
       "max    664.000000  "
      ]
     },
     "execution_count": 128,
     "metadata": {},
     "output_type": "execute_result"
    }
   ],
   "source": [
    "df_1.describe()"
   ]
  },
  {
   "cell_type": "markdown",
   "metadata": {},
   "source": [
    "### 3.3 索引、选取和过滤"
   ]
  },
  {
   "cell_type": "code",
   "execution_count": 104,
   "metadata": {
    "collapsed": false
   },
   "outputs": [
    {
     "data": {
      "text/plain": [
       "Year\n",
       "2014    2152\n",
       "2013    2115\n",
       "2012    2069\n",
       "2011    2019\n",
       "2010    1962\n",
       "2009    1860\n",
       "2008    1771\n",
       "2007    1676\n",
       "2006    1601\n",
       "2005    1538\n",
       "Name: 北京市, dtype: int64"
      ]
     },
     "execution_count": 104,
     "metadata": {},
     "output_type": "execute_result"
    }
   ],
   "source": [
    "df_beijing=df_1['北京市']\n",
    "df_beijing"
   ]
  },
  {
   "cell_type": "code",
   "execution_count": 106,
   "metadata": {
    "collapsed": false
   },
   "outputs": [
    {
     "data": {
      "text/html": [
       "<div>\n",
       "<table border=\"1\" class=\"dataframe\">\n",
       "  <thead>\n",
       "    <tr style=\"text-align: right;\">\n",
       "      <th></th>\n",
       "      <th>北京市</th>\n",
       "      <th>天津市</th>\n",
       "    </tr>\n",
       "    <tr>\n",
       "      <th>Year</th>\n",
       "      <th></th>\n",
       "      <th></th>\n",
       "    </tr>\n",
       "  </thead>\n",
       "  <tbody>\n",
       "    <tr>\n",
       "      <th>2014</th>\n",
       "      <td>2152</td>\n",
       "      <td>1517</td>\n",
       "    </tr>\n",
       "    <tr>\n",
       "      <th>2013</th>\n",
       "      <td>2115</td>\n",
       "      <td>1472</td>\n",
       "    </tr>\n",
       "    <tr>\n",
       "      <th>2012</th>\n",
       "      <td>2069</td>\n",
       "      <td>1413</td>\n",
       "    </tr>\n",
       "    <tr>\n",
       "      <th>2011</th>\n",
       "      <td>2019</td>\n",
       "      <td>1355</td>\n",
       "    </tr>\n",
       "    <tr>\n",
       "      <th>2010</th>\n",
       "      <td>1962</td>\n",
       "      <td>1299</td>\n",
       "    </tr>\n",
       "    <tr>\n",
       "      <th>2009</th>\n",
       "      <td>1860</td>\n",
       "      <td>1228</td>\n",
       "    </tr>\n",
       "    <tr>\n",
       "      <th>2008</th>\n",
       "      <td>1771</td>\n",
       "      <td>1176</td>\n",
       "    </tr>\n",
       "    <tr>\n",
       "      <th>2007</th>\n",
       "      <td>1676</td>\n",
       "      <td>1115</td>\n",
       "    </tr>\n",
       "    <tr>\n",
       "      <th>2006</th>\n",
       "      <td>1601</td>\n",
       "      <td>1075</td>\n",
       "    </tr>\n",
       "    <tr>\n",
       "      <th>2005</th>\n",
       "      <td>1538</td>\n",
       "      <td>1043</td>\n",
       "    </tr>\n",
       "  </tbody>\n",
       "</table>\n",
       "</div>"
      ],
      "text/plain": [
       "       北京市   天津市\n",
       "Year            \n",
       "2014  2152  1517\n",
       "2013  2115  1472\n",
       "2012  2069  1413\n",
       "2011  2019  1355\n",
       "2010  1962  1299\n",
       "2009  1860  1228\n",
       "2008  1771  1176\n",
       "2007  1676  1115\n",
       "2006  1601  1075\n",
       "2005  1538  1043"
      ]
     },
     "execution_count": 106,
     "metadata": {},
     "output_type": "execute_result"
    }
   ],
   "source": [
    "df_part=df_1[['北京市','天津市']]\n",
    "df_part"
   ]
  },
  {
   "cell_type": "markdown",
   "metadata": {},
   "source": [
    "* 切片"
   ]
  },
  {
   "cell_type": "code",
   "execution_count": 115,
   "metadata": {
    "collapsed": false
   },
   "outputs": [
    {
     "data": {
      "text/html": [
       "<div>\n",
       "<table border=\"1\" class=\"dataframe\">\n",
       "  <thead>\n",
       "    <tr style=\"text-align: right;\">\n",
       "      <th></th>\n",
       "      <th>内蒙古自治区</th>\n",
       "      <th>北京市</th>\n",
       "      <th>天津市</th>\n",
       "      <th>山西省</th>\n",
       "      <th>河北省</th>\n",
       "    </tr>\n",
       "    <tr>\n",
       "      <th>Year</th>\n",
       "      <th></th>\n",
       "      <th></th>\n",
       "      <th></th>\n",
       "      <th></th>\n",
       "      <th></th>\n",
       "    </tr>\n",
       "  </thead>\n",
       "  <tbody>\n",
       "    <tr>\n",
       "      <th>2014</th>\n",
       "      <td>2505</td>\n",
       "      <td>2152</td>\n",
       "      <td>1517</td>\n",
       "      <td>3648</td>\n",
       "      <td>7384</td>\n",
       "    </tr>\n",
       "    <tr>\n",
       "      <th>2013</th>\n",
       "      <td>2498</td>\n",
       "      <td>2115</td>\n",
       "      <td>1472</td>\n",
       "      <td>3630</td>\n",
       "      <td>7333</td>\n",
       "    </tr>\n",
       "    <tr>\n",
       "      <th>2012</th>\n",
       "      <td>2490</td>\n",
       "      <td>2069</td>\n",
       "      <td>1413</td>\n",
       "      <td>3611</td>\n",
       "      <td>7288</td>\n",
       "    </tr>\n",
       "    <tr>\n",
       "      <th>2011</th>\n",
       "      <td>2482</td>\n",
       "      <td>2019</td>\n",
       "      <td>1355</td>\n",
       "      <td>3593</td>\n",
       "      <td>7241</td>\n",
       "    </tr>\n",
       "    <tr>\n",
       "      <th>2010</th>\n",
       "      <td>2472</td>\n",
       "      <td>1962</td>\n",
       "      <td>1299</td>\n",
       "      <td>3574</td>\n",
       "      <td>7194</td>\n",
       "    </tr>\n",
       "    <tr>\n",
       "      <th>2009</th>\n",
       "      <td>2458</td>\n",
       "      <td>1860</td>\n",
       "      <td>1228</td>\n",
       "      <td>3427</td>\n",
       "      <td>7034</td>\n",
       "    </tr>\n",
       "    <tr>\n",
       "      <th>2008</th>\n",
       "      <td>2444</td>\n",
       "      <td>1771</td>\n",
       "      <td>1176</td>\n",
       "      <td>3411</td>\n",
       "      <td>6989</td>\n",
       "    </tr>\n",
       "    <tr>\n",
       "      <th>2007</th>\n",
       "      <td>2429</td>\n",
       "      <td>1676</td>\n",
       "      <td>1115</td>\n",
       "      <td>3393</td>\n",
       "      <td>6943</td>\n",
       "    </tr>\n",
       "    <tr>\n",
       "      <th>2006</th>\n",
       "      <td>2415</td>\n",
       "      <td>1601</td>\n",
       "      <td>1075</td>\n",
       "      <td>3375</td>\n",
       "      <td>6898</td>\n",
       "    </tr>\n",
       "    <tr>\n",
       "      <th>2005</th>\n",
       "      <td>2403</td>\n",
       "      <td>1538</td>\n",
       "      <td>1043</td>\n",
       "      <td>3355</td>\n",
       "      <td>6851</td>\n",
       "    </tr>\n",
       "  </tbody>\n",
       "</table>\n",
       "</div>"
      ],
      "text/plain": [
       "      内蒙古自治区   北京市   天津市   山西省   河北省\n",
       "Year                                \n",
       "2014    2505  2152  1517  3648  7384\n",
       "2013    2498  2115  1472  3630  7333\n",
       "2012    2490  2069  1413  3611  7288\n",
       "2011    2482  2019  1355  3593  7241\n",
       "2010    2472  1962  1299  3574  7194\n",
       "2009    2458  1860  1228  3427  7034\n",
       "2008    2444  1771  1176  3411  6989\n",
       "2007    2429  1676  1115  3393  6943\n",
       "2006    2415  1601  1075  3375  6898\n",
       "2005    2403  1538  1043  3355  6851"
      ]
     },
     "execution_count": 115,
     "metadata": {},
     "output_type": "execute_result"
    }
   ],
   "source": [
    "df_1"
   ]
  },
  {
   "cell_type": "code",
   "execution_count": 118,
   "metadata": {
    "collapsed": false
   },
   "outputs": [
    {
     "data": {
      "text/html": [
       "<div>\n",
       "<table border=\"1\" class=\"dataframe\">\n",
       "  <thead>\n",
       "    <tr style=\"text-align: right;\">\n",
       "      <th></th>\n",
       "      <th>内蒙古自治区</th>\n",
       "      <th>北京市</th>\n",
       "      <th>天津市</th>\n",
       "      <th>山西省</th>\n",
       "      <th>河北省</th>\n",
       "    </tr>\n",
       "    <tr>\n",
       "      <th>Year</th>\n",
       "      <th></th>\n",
       "      <th></th>\n",
       "      <th></th>\n",
       "      <th></th>\n",
       "      <th></th>\n",
       "    </tr>\n",
       "  </thead>\n",
       "  <tbody>\n",
       "    <tr>\n",
       "      <th>2014</th>\n",
       "      <td>2505</td>\n",
       "      <td>2152</td>\n",
       "      <td>1517</td>\n",
       "      <td>3648</td>\n",
       "      <td>7384</td>\n",
       "    </tr>\n",
       "    <tr>\n",
       "      <th>2013</th>\n",
       "      <td>2498</td>\n",
       "      <td>2115</td>\n",
       "      <td>1472</td>\n",
       "      <td>3630</td>\n",
       "      <td>7333</td>\n",
       "    </tr>\n",
       "    <tr>\n",
       "      <th>2012</th>\n",
       "      <td>2490</td>\n",
       "      <td>2069</td>\n",
       "      <td>1413</td>\n",
       "      <td>3611</td>\n",
       "      <td>7288</td>\n",
       "    </tr>\n",
       "    <tr>\n",
       "      <th>2011</th>\n",
       "      <td>2482</td>\n",
       "      <td>2019</td>\n",
       "      <td>1355</td>\n",
       "      <td>3593</td>\n",
       "      <td>7241</td>\n",
       "    </tr>\n",
       "    <tr>\n",
       "      <th>2010</th>\n",
       "      <td>2472</td>\n",
       "      <td>1962</td>\n",
       "      <td>1299</td>\n",
       "      <td>3574</td>\n",
       "      <td>7194</td>\n",
       "    </tr>\n",
       "  </tbody>\n",
       "</table>\n",
       "</div>"
      ],
      "text/plain": [
       "      内蒙古自治区   北京市   天津市   山西省   河北省\n",
       "Year                                \n",
       "2014    2505  2152  1517  3648  7384\n",
       "2013    2498  2115  1472  3630  7333\n",
       "2012    2490  2069  1413  3611  7288\n",
       "2011    2482  2019  1355  3593  7241\n",
       "2010    2472  1962  1299  3574  7194"
      ]
     },
     "execution_count": 118,
     "metadata": {},
     "output_type": "execute_result"
    }
   ],
   "source": [
    "df_new=df_1.ix[2014:2010]\n",
    "df_new"
   ]
  },
  {
   "cell_type": "markdown",
   "metadata": {},
   "source": [
    "### 3.4运算"
   ]
  },
  {
   "cell_type": "code",
   "execution_count": 119,
   "metadata": {
    "collapsed": false
   },
   "outputs": [
    {
     "data": {
      "text/html": [
       "<div>\n",
       "<table border=\"1\" class=\"dataframe\">\n",
       "  <thead>\n",
       "    <tr style=\"text-align: right;\">\n",
       "      <th></th>\n",
       "      <th>内蒙古自治区</th>\n",
       "      <th>北京市</th>\n",
       "      <th>天津市</th>\n",
       "      <th>山西省</th>\n",
       "      <th>河北省</th>\n",
       "      <th>chang</th>\n",
       "    </tr>\n",
       "    <tr>\n",
       "      <th>Year</th>\n",
       "      <th></th>\n",
       "      <th></th>\n",
       "      <th></th>\n",
       "      <th></th>\n",
       "      <th></th>\n",
       "      <th></th>\n",
       "    </tr>\n",
       "  </thead>\n",
       "  <tbody>\n",
       "    <tr>\n",
       "      <th>2014</th>\n",
       "      <td>2505</td>\n",
       "      <td>2152</td>\n",
       "      <td>1517</td>\n",
       "      <td>3648</td>\n",
       "      <td>7384</td>\n",
       "      <td>635</td>\n",
       "    </tr>\n",
       "    <tr>\n",
       "      <th>2013</th>\n",
       "      <td>2498</td>\n",
       "      <td>2115</td>\n",
       "      <td>1472</td>\n",
       "      <td>3630</td>\n",
       "      <td>7333</td>\n",
       "      <td>643</td>\n",
       "    </tr>\n",
       "    <tr>\n",
       "      <th>2012</th>\n",
       "      <td>2490</td>\n",
       "      <td>2069</td>\n",
       "      <td>1413</td>\n",
       "      <td>3611</td>\n",
       "      <td>7288</td>\n",
       "      <td>656</td>\n",
       "    </tr>\n",
       "    <tr>\n",
       "      <th>2011</th>\n",
       "      <td>2482</td>\n",
       "      <td>2019</td>\n",
       "      <td>1355</td>\n",
       "      <td>3593</td>\n",
       "      <td>7241</td>\n",
       "      <td>664</td>\n",
       "    </tr>\n",
       "    <tr>\n",
       "      <th>2010</th>\n",
       "      <td>2472</td>\n",
       "      <td>1962</td>\n",
       "      <td>1299</td>\n",
       "      <td>3574</td>\n",
       "      <td>7194</td>\n",
       "      <td>663</td>\n",
       "    </tr>\n",
       "    <tr>\n",
       "      <th>2009</th>\n",
       "      <td>2458</td>\n",
       "      <td>1860</td>\n",
       "      <td>1228</td>\n",
       "      <td>3427</td>\n",
       "      <td>7034</td>\n",
       "      <td>632</td>\n",
       "    </tr>\n",
       "    <tr>\n",
       "      <th>2008</th>\n",
       "      <td>2444</td>\n",
       "      <td>1771</td>\n",
       "      <td>1176</td>\n",
       "      <td>3411</td>\n",
       "      <td>6989</td>\n",
       "      <td>595</td>\n",
       "    </tr>\n",
       "    <tr>\n",
       "      <th>2007</th>\n",
       "      <td>2429</td>\n",
       "      <td>1676</td>\n",
       "      <td>1115</td>\n",
       "      <td>3393</td>\n",
       "      <td>6943</td>\n",
       "      <td>561</td>\n",
       "    </tr>\n",
       "    <tr>\n",
       "      <th>2006</th>\n",
       "      <td>2415</td>\n",
       "      <td>1601</td>\n",
       "      <td>1075</td>\n",
       "      <td>3375</td>\n",
       "      <td>6898</td>\n",
       "      <td>526</td>\n",
       "    </tr>\n",
       "    <tr>\n",
       "      <th>2005</th>\n",
       "      <td>2403</td>\n",
       "      <td>1538</td>\n",
       "      <td>1043</td>\n",
       "      <td>3355</td>\n",
       "      <td>6851</td>\n",
       "      <td>495</td>\n",
       "    </tr>\n",
       "  </tbody>\n",
       "</table>\n",
       "</div>"
      ],
      "text/plain": [
       "      内蒙古自治区   北京市   天津市   山西省   河北省  chang\n",
       "Year                                       \n",
       "2014    2505  2152  1517  3648  7384    635\n",
       "2013    2498  2115  1472  3630  7333    643\n",
       "2012    2490  2069  1413  3611  7288    656\n",
       "2011    2482  2019  1355  3593  7241    664\n",
       "2010    2472  1962  1299  3574  7194    663\n",
       "2009    2458  1860  1228  3427  7034    632\n",
       "2008    2444  1771  1176  3411  6989    595\n",
       "2007    2429  1676  1115  3393  6943    561\n",
       "2006    2415  1601  1075  3375  6898    526\n",
       "2005    2403  1538  1043  3355  6851    495"
      ]
     },
     "execution_count": 119,
     "metadata": {},
     "output_type": "execute_result"
    }
   ],
   "source": [
    "df_1['chang']=df_1['北京市']-df_1['天津市']\n",
    "df_1"
   ]
  },
  {
   "cell_type": "code",
   "execution_count": 121,
   "metadata": {
    "collapsed": false
   },
   "outputs": [
    {
     "data": {
      "text/html": [
       "<div>\n",
       "<table border=\"1\" class=\"dataframe\">\n",
       "  <thead>\n",
       "    <tr style=\"text-align: right;\">\n",
       "      <th></th>\n",
       "      <th>内蒙古自治区</th>\n",
       "      <th>北京市</th>\n",
       "      <th>天津市</th>\n",
       "      <th>山西省</th>\n",
       "      <th>河北省</th>\n",
       "      <th>chang</th>\n",
       "    </tr>\n",
       "    <tr>\n",
       "      <th>Year</th>\n",
       "      <th></th>\n",
       "      <th></th>\n",
       "      <th></th>\n",
       "      <th></th>\n",
       "      <th></th>\n",
       "      <th></th>\n",
       "    </tr>\n",
       "  </thead>\n",
       "  <tbody>\n",
       "    <tr>\n",
       "      <th>2014</th>\n",
       "      <td>2505</td>\n",
       "      <td>2152</td>\n",
       "      <td>1517</td>\n",
       "      <td>364.8</td>\n",
       "      <td>7384</td>\n",
       "      <td>635</td>\n",
       "    </tr>\n",
       "    <tr>\n",
       "      <th>2013</th>\n",
       "      <td>2498</td>\n",
       "      <td>2115</td>\n",
       "      <td>1472</td>\n",
       "      <td>363.0</td>\n",
       "      <td>7333</td>\n",
       "      <td>643</td>\n",
       "    </tr>\n",
       "    <tr>\n",
       "      <th>2012</th>\n",
       "      <td>2490</td>\n",
       "      <td>2069</td>\n",
       "      <td>1413</td>\n",
       "      <td>361.1</td>\n",
       "      <td>7288</td>\n",
       "      <td>656</td>\n",
       "    </tr>\n",
       "    <tr>\n",
       "      <th>2011</th>\n",
       "      <td>2482</td>\n",
       "      <td>2019</td>\n",
       "      <td>1355</td>\n",
       "      <td>359.3</td>\n",
       "      <td>7241</td>\n",
       "      <td>664</td>\n",
       "    </tr>\n",
       "    <tr>\n",
       "      <th>2010</th>\n",
       "      <td>2472</td>\n",
       "      <td>1962</td>\n",
       "      <td>1299</td>\n",
       "      <td>357.4</td>\n",
       "      <td>7194</td>\n",
       "      <td>663</td>\n",
       "    </tr>\n",
       "    <tr>\n",
       "      <th>2009</th>\n",
       "      <td>2458</td>\n",
       "      <td>1860</td>\n",
       "      <td>1228</td>\n",
       "      <td>342.7</td>\n",
       "      <td>7034</td>\n",
       "      <td>632</td>\n",
       "    </tr>\n",
       "    <tr>\n",
       "      <th>2008</th>\n",
       "      <td>2444</td>\n",
       "      <td>1771</td>\n",
       "      <td>1176</td>\n",
       "      <td>341.1</td>\n",
       "      <td>6989</td>\n",
       "      <td>595</td>\n",
       "    </tr>\n",
       "    <tr>\n",
       "      <th>2007</th>\n",
       "      <td>2429</td>\n",
       "      <td>1676</td>\n",
       "      <td>1115</td>\n",
       "      <td>339.3</td>\n",
       "      <td>6943</td>\n",
       "      <td>561</td>\n",
       "    </tr>\n",
       "    <tr>\n",
       "      <th>2006</th>\n",
       "      <td>2415</td>\n",
       "      <td>1601</td>\n",
       "      <td>1075</td>\n",
       "      <td>337.5</td>\n",
       "      <td>6898</td>\n",
       "      <td>526</td>\n",
       "    </tr>\n",
       "    <tr>\n",
       "      <th>2005</th>\n",
       "      <td>2403</td>\n",
       "      <td>1538</td>\n",
       "      <td>1043</td>\n",
       "      <td>335.5</td>\n",
       "      <td>6851</td>\n",
       "      <td>495</td>\n",
       "    </tr>\n",
       "  </tbody>\n",
       "</table>\n",
       "</div>"
      ],
      "text/plain": [
       "      内蒙古自治区   北京市   天津市    山西省   河北省  chang\n",
       "Year                                        \n",
       "2014    2505  2152  1517  364.8  7384    635\n",
       "2013    2498  2115  1472  363.0  7333    643\n",
       "2012    2490  2069  1413  361.1  7288    656\n",
       "2011    2482  2019  1355  359.3  7241    664\n",
       "2010    2472  1962  1299  357.4  7194    663\n",
       "2009    2458  1860  1228  342.7  7034    632\n",
       "2008    2444  1771  1176  341.1  6989    595\n",
       "2007    2429  1676  1115  339.3  6943    561\n",
       "2006    2415  1601  1075  337.5  6898    526\n",
       "2005    2403  1538  1043  335.5  6851    495"
      ]
     },
     "execution_count": 121,
     "metadata": {},
     "output_type": "execute_result"
    }
   ],
   "source": [
    "df_1['山西省']=df_1['山西省']/10.0\n",
    "df_1"
   ]
  },
  {
   "cell_type": "markdown",
   "metadata": {},
   "source": [
    "###  3.5排序"
   ]
  },
  {
   "cell_type": "code",
   "execution_count": 123,
   "metadata": {
    "collapsed": false
   },
   "outputs": [
    {
     "data": {
      "text/html": [
       "<div>\n",
       "<table border=\"1\" class=\"dataframe\">\n",
       "  <thead>\n",
       "    <tr style=\"text-align: right;\">\n",
       "      <th></th>\n",
       "      <th>内蒙古自治区</th>\n",
       "      <th>北京市</th>\n",
       "      <th>天津市</th>\n",
       "      <th>山西省</th>\n",
       "      <th>河北省</th>\n",
       "      <th>chang</th>\n",
       "    </tr>\n",
       "    <tr>\n",
       "      <th>Year</th>\n",
       "      <th></th>\n",
       "      <th></th>\n",
       "      <th></th>\n",
       "      <th></th>\n",
       "      <th></th>\n",
       "      <th></th>\n",
       "    </tr>\n",
       "  </thead>\n",
       "  <tbody>\n",
       "    <tr>\n",
       "      <th>2005</th>\n",
       "      <td>2403</td>\n",
       "      <td>1538</td>\n",
       "      <td>1043</td>\n",
       "      <td>335.5</td>\n",
       "      <td>6851</td>\n",
       "      <td>495</td>\n",
       "    </tr>\n",
       "    <tr>\n",
       "      <th>2006</th>\n",
       "      <td>2415</td>\n",
       "      <td>1601</td>\n",
       "      <td>1075</td>\n",
       "      <td>337.5</td>\n",
       "      <td>6898</td>\n",
       "      <td>526</td>\n",
       "    </tr>\n",
       "    <tr>\n",
       "      <th>2007</th>\n",
       "      <td>2429</td>\n",
       "      <td>1676</td>\n",
       "      <td>1115</td>\n",
       "      <td>339.3</td>\n",
       "      <td>6943</td>\n",
       "      <td>561</td>\n",
       "    </tr>\n",
       "    <tr>\n",
       "      <th>2008</th>\n",
       "      <td>2444</td>\n",
       "      <td>1771</td>\n",
       "      <td>1176</td>\n",
       "      <td>341.1</td>\n",
       "      <td>6989</td>\n",
       "      <td>595</td>\n",
       "    </tr>\n",
       "    <tr>\n",
       "      <th>2009</th>\n",
       "      <td>2458</td>\n",
       "      <td>1860</td>\n",
       "      <td>1228</td>\n",
       "      <td>342.7</td>\n",
       "      <td>7034</td>\n",
       "      <td>632</td>\n",
       "    </tr>\n",
       "    <tr>\n",
       "      <th>2010</th>\n",
       "      <td>2472</td>\n",
       "      <td>1962</td>\n",
       "      <td>1299</td>\n",
       "      <td>357.4</td>\n",
       "      <td>7194</td>\n",
       "      <td>663</td>\n",
       "    </tr>\n",
       "    <tr>\n",
       "      <th>2011</th>\n",
       "      <td>2482</td>\n",
       "      <td>2019</td>\n",
       "      <td>1355</td>\n",
       "      <td>359.3</td>\n",
       "      <td>7241</td>\n",
       "      <td>664</td>\n",
       "    </tr>\n",
       "    <tr>\n",
       "      <th>2012</th>\n",
       "      <td>2490</td>\n",
       "      <td>2069</td>\n",
       "      <td>1413</td>\n",
       "      <td>361.1</td>\n",
       "      <td>7288</td>\n",
       "      <td>656</td>\n",
       "    </tr>\n",
       "    <tr>\n",
       "      <th>2013</th>\n",
       "      <td>2498</td>\n",
       "      <td>2115</td>\n",
       "      <td>1472</td>\n",
       "      <td>363.0</td>\n",
       "      <td>7333</td>\n",
       "      <td>643</td>\n",
       "    </tr>\n",
       "    <tr>\n",
       "      <th>2014</th>\n",
       "      <td>2505</td>\n",
       "      <td>2152</td>\n",
       "      <td>1517</td>\n",
       "      <td>364.8</td>\n",
       "      <td>7384</td>\n",
       "      <td>635</td>\n",
       "    </tr>\n",
       "  </tbody>\n",
       "</table>\n",
       "</div>"
      ],
      "text/plain": [
       "      内蒙古自治区   北京市   天津市    山西省   河北省  chang\n",
       "Year                                        \n",
       "2005    2403  1538  1043  335.5  6851    495\n",
       "2006    2415  1601  1075  337.5  6898    526\n",
       "2007    2429  1676  1115  339.3  6943    561\n",
       "2008    2444  1771  1176  341.1  6989    595\n",
       "2009    2458  1860  1228  342.7  7034    632\n",
       "2010    2472  1962  1299  357.4  7194    663\n",
       "2011    2482  2019  1355  359.3  7241    664\n",
       "2012    2490  2069  1413  361.1  7288    656\n",
       "2013    2498  2115  1472  363.0  7333    643\n",
       "2014    2505  2152  1517  364.8  7384    635"
      ]
     },
     "execution_count": 123,
     "metadata": {},
     "output_type": "execute_result"
    }
   ],
   "source": [
    "df_sorted=df_1.sort_index()\n",
    "df_sorted"
   ]
  },
  {
   "cell_type": "markdown",
   "metadata": {},
   "source": [
    "* 唯一值"
   ]
  },
  {
   "cell_type": "markdown",
   "metadata": {
    "collapsed": false
   },
   "source": [
    "* 计数"
   ]
  },
  {
   "cell_type": "markdown",
   "metadata": {},
   "source": [
    "* 替换"
   ]
  },
  {
   "cell_type": "markdown",
   "metadata": {},
   "source": [
    "* 修改字段名称"
   ]
  },
  {
   "cell_type": "markdown",
   "metadata": {},
   "source": [
    "### 3.5 转置"
   ]
  },
  {
   "cell_type": "code",
   "execution_count": 135,
   "metadata": {
    "collapsed": false
   },
   "outputs": [
    {
     "data": {
      "text/html": [
       "<div>\n",
       "<table border=\"1\" class=\"dataframe\">\n",
       "  <thead>\n",
       "    <tr style=\"text-align: right;\">\n",
       "      <th>Year</th>\n",
       "      <th>2014</th>\n",
       "      <th>2013</th>\n",
       "      <th>2012</th>\n",
       "      <th>2011</th>\n",
       "      <th>2010</th>\n",
       "      <th>2009</th>\n",
       "      <th>2008</th>\n",
       "      <th>2007</th>\n",
       "      <th>2006</th>\n",
       "      <th>2005</th>\n",
       "    </tr>\n",
       "  </thead>\n",
       "  <tbody>\n",
       "    <tr>\n",
       "      <th>内蒙古自治区</th>\n",
       "      <td>2505.0</td>\n",
       "      <td>2498.0</td>\n",
       "      <td>2490.0</td>\n",
       "      <td>2482.0</td>\n",
       "      <td>2472.0</td>\n",
       "      <td>2458.0</td>\n",
       "      <td>2444.0</td>\n",
       "      <td>2429.0</td>\n",
       "      <td>2415.0</td>\n",
       "      <td>2403.0</td>\n",
       "    </tr>\n",
       "    <tr>\n",
       "      <th>北京市</th>\n",
       "      <td>2152.0</td>\n",
       "      <td>2115.0</td>\n",
       "      <td>2069.0</td>\n",
       "      <td>2019.0</td>\n",
       "      <td>1962.0</td>\n",
       "      <td>1860.0</td>\n",
       "      <td>1771.0</td>\n",
       "      <td>1676.0</td>\n",
       "      <td>1601.0</td>\n",
       "      <td>1538.0</td>\n",
       "    </tr>\n",
       "    <tr>\n",
       "      <th>天津市</th>\n",
       "      <td>1517.0</td>\n",
       "      <td>1472.0</td>\n",
       "      <td>1413.0</td>\n",
       "      <td>1355.0</td>\n",
       "      <td>1299.0</td>\n",
       "      <td>1228.0</td>\n",
       "      <td>1176.0</td>\n",
       "      <td>1115.0</td>\n",
       "      <td>1075.0</td>\n",
       "      <td>1043.0</td>\n",
       "    </tr>\n",
       "    <tr>\n",
       "      <th>山西省</th>\n",
       "      <td>364.8</td>\n",
       "      <td>363.0</td>\n",
       "      <td>361.1</td>\n",
       "      <td>359.3</td>\n",
       "      <td>357.4</td>\n",
       "      <td>342.7</td>\n",
       "      <td>341.1</td>\n",
       "      <td>339.3</td>\n",
       "      <td>337.5</td>\n",
       "      <td>335.5</td>\n",
       "    </tr>\n",
       "    <tr>\n",
       "      <th>河北省</th>\n",
       "      <td>7384.0</td>\n",
       "      <td>7333.0</td>\n",
       "      <td>7288.0</td>\n",
       "      <td>7241.0</td>\n",
       "      <td>7194.0</td>\n",
       "      <td>7034.0</td>\n",
       "      <td>6989.0</td>\n",
       "      <td>6943.0</td>\n",
       "      <td>6898.0</td>\n",
       "      <td>6851.0</td>\n",
       "    </tr>\n",
       "    <tr>\n",
       "      <th>chang</th>\n",
       "      <td>635.0</td>\n",
       "      <td>643.0</td>\n",
       "      <td>656.0</td>\n",
       "      <td>664.0</td>\n",
       "      <td>663.0</td>\n",
       "      <td>632.0</td>\n",
       "      <td>595.0</td>\n",
       "      <td>561.0</td>\n",
       "      <td>526.0</td>\n",
       "      <td>495.0</td>\n",
       "    </tr>\n",
       "  </tbody>\n",
       "</table>\n",
       "</div>"
      ],
      "text/plain": [
       "Year      2014    2013    2012    2011    2010    2009    2008    2007  \\\n",
       "内蒙古自治区  2505.0  2498.0  2490.0  2482.0  2472.0  2458.0  2444.0  2429.0   \n",
       "北京市     2152.0  2115.0  2069.0  2019.0  1962.0  1860.0  1771.0  1676.0   \n",
       "天津市     1517.0  1472.0  1413.0  1355.0  1299.0  1228.0  1176.0  1115.0   \n",
       "山西省      364.8   363.0   361.1   359.3   357.4   342.7   341.1   339.3   \n",
       "河北省     7384.0  7333.0  7288.0  7241.0  7194.0  7034.0  6989.0  6943.0   \n",
       "chang    635.0   643.0   656.0   664.0   663.0   632.0   595.0   561.0   \n",
       "\n",
       "Year      2006    2005  \n",
       "内蒙古自治区  2415.0  2403.0  \n",
       "北京市     1601.0  1538.0  \n",
       "天津市     1075.0  1043.0  \n",
       "山西省      337.5   335.5  \n",
       "河北省     6898.0  6851.0  \n",
       "chang    526.0   495.0  "
      ]
     },
     "execution_count": 135,
     "metadata": {},
     "output_type": "execute_result"
    }
   ],
   "source": [
    "df_1.T"
   ]
  },
  {
   "cell_type": "markdown",
   "metadata": {
    "collapsed": false
   },
   "source": [
    "### 3.6合并数据集"
   ]
  },
  {
   "cell_type": "markdown",
   "metadata": {},
   "source": [
    "* merge\n",
    "* concat\n",
    "* join"
   ]
  },
  {
   "cell_type": "markdown",
   "metadata": {},
   "source": [
    "![](images/concat.png)"
   ]
  },
  {
   "cell_type": "markdown",
   "metadata": {
    "collapsed": true
   },
   "source": [
    "### 3.7快速制图"
   ]
  },
  {
   "cell_type": "code",
   "execution_count": 46,
   "metadata": {
    "collapsed": false
   },
   "outputs": [
    {
     "data": {
      "text/plain": [
       "<matplotlib.axes._subplots.AxesSubplot at 0x1418b6f7390>"
      ]
     },
     "execution_count": 46,
     "metadata": {},
     "output_type": "execute_result"
    },
    {
     "data": {
      "image/png": "[encoded data removed]",
      "text/plain": [
       "<matplotlib.figure.Figure at 0x1418b6a47f0>"
      ]
     },
     "metadata": {},
     "output_type": "display_data"
    }
   ],
   "source": [
    "df.plot()"
   ]
  },
  {
   "cell_type": "markdown",
   "metadata": {},
   "source": []
  },
  {
   "cell_type": "code",
   "execution_count": 47,
   "metadata": {
    "collapsed": false
   },
   "outputs": [
    {
     "data": {
      "text/html": [
       "<div>\n",
       "<table border=\"1\" class=\"dataframe\">\n",
       "  <thead>\n",
       "    <tr style=\"text-align: right;\">\n",
       "      <th>Date</th>\n",
       "      <th>2013-12-1</th>\n",
       "      <th>2013-12-2</th>\n",
       "      <th>2013-12-3</th>\n",
       "      <th>2013-12-4</th>\n",
       "      <th>2013-12-5</th>\n",
       "      <th>2013-12-6</th>\n",
       "      <th>2013-12-7</th>\n",
       "    </tr>\n",
       "  </thead>\n",
       "  <tbody>\n",
       "    <tr>\n",
       "      <th>Beijing</th>\n",
       "      <td>20</td>\n",
       "      <td>18</td>\n",
       "      <td>23</td>\n",
       "      <td>19</td>\n",
       "      <td>25</td>\n",
       "      <td>27</td>\n",
       "      <td>23</td>\n",
       "    </tr>\n",
       "    <tr>\n",
       "      <th>Paris</th>\n",
       "      <td>-2</td>\n",
       "      <td>0</td>\n",
       "      <td>2</td>\n",
       "      <td>5</td>\n",
       "      <td>7</td>\n",
       "      <td>-5</td>\n",
       "      <td>-3</td>\n",
       "    </tr>\n",
       "    <tr>\n",
       "      <th>Tokyo</th>\n",
       "      <td>15</td>\n",
       "      <td>19</td>\n",
       "      <td>15</td>\n",
       "      <td>11</td>\n",
       "      <td>9</td>\n",
       "      <td>8</td>\n",
       "      <td>13</td>\n",
       "    </tr>\n",
       "  </tbody>\n",
       "</table>\n",
       "</div>"
      ],
      "text/plain": [
       "Date     2013-12-1  2013-12-2  2013-12-3  2013-12-4  2013-12-5  2013-12-6  \\\n",
       "Beijing         20         18         23         19         25         27   \n",
       "Paris           -2          0          2          5          7         -5   \n",
       "Tokyo           15         19         15         11          9          8   \n",
       "\n",
       "Date     2013-12-7  \n",
       "Beijing         23  \n",
       "Paris           -3  \n",
       "Tokyo           13  "
      ]
     },
     "execution_count": 47,
     "metadata": {},
     "output_type": "execute_result"
    }
   ],
   "source": [
    "df.T"
   ]
  },
  {
   "cell_type": "markdown",
   "metadata": {},
   "source": [
    "* 类型转换"
   ]
  },
  {
   "cell_type": "code",
   "execution_count": 50,
   "metadata": {
    "collapsed": false
   },
   "outputs": [
    {
     "data": {
      "text/plain": [
       "Beijing    int64\n",
       "Paris      int64\n",
       "Tokyo      int64\n",
       "dtype: object"
      ]
     },
     "execution_count": 50,
     "metadata": {},
     "output_type": "execute_result"
    }
   ],
   "source": [
    "df.dtypes"
   ]
  },
  {
   "cell_type": "code",
   "execution_count": 53,
   "metadata": {
    "collapsed": false
   },
   "outputs": [
    {
     "data": {
      "text/plain": [
       "Beijing    float64\n",
       "Paris        int64\n",
       "Tokyo        int64\n",
       "dtype: object"
      ]
     },
     "execution_count": 53,
     "metadata": {},
     "output_type": "execute_result"
    }
   ],
   "source": [
    "df['Beijing']=df['Beijing'].astype(float)\n",
    "df.dtypes\n"
   ]
  },
  {
   "cell_type": "markdown",
   "metadata": {},
   "source": [
    "## 参考资料:\n",
    "\n",
    "* 利用Python进行数据分析.pdf"
   ]
  },
  {
   "cell_type": "code",
   "execution_count": null,
   "metadata": {
    "collapsed": true
   },
   "outputs": [],
   "source": []
  }
 ],
 "metadata": {
  "kernelspec": {
   "display_name": "Python [Root]",
   "language": "python",
   "name": "Python [Root]"
  },
  "language_info": {
   "codemirror_mode": {
    "name": "ipython",
    "version": 3
   },
   "file_extension": ".py",
   "mimetype": "text/x-python",
   "name": "python",
   "nbconvert_exporter": "python",
   "pygments_lexer": "ipython3",
   "version": "3.5.1"
  }
 },
 "nbformat": 4,
 "nbformat_minor": 0
}
