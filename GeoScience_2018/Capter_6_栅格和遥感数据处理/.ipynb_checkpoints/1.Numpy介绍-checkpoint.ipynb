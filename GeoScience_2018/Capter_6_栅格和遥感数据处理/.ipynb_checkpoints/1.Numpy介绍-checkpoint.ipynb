{
 "cells": [
  {
   "cell_type": "code",
   "execution_count": 1,
   "metadata": {
    "collapsed": true
   },
   "outputs": [],
   "source": [
    "import rasterio"
   ]
  },
  {
   "cell_type": "code",
   "execution_count": 5,
   "metadata": {
    "collapsed": true
   },
   "outputs": [],
   "source": [
    "filename=r'data\\raster\\s_temp0cm\\hdr.adf'"
   ]
  },
  {
   "cell_type": "code",
   "execution_count": 6,
   "metadata": {
    "collapsed": false
   },
   "outputs": [],
   "source": [
    "src = rasterio.open(filename)"
   ]
  },
  {
   "cell_type": "code",
   "execution_count": 7,
   "metadata": {
    "collapsed": false
   },
   "outputs": [
    {
     "data": {
      "text/plain": [
       "{'affine': Affine(2000.0, 0.0, -2697837.909214747,\n",
       "       0.0, -2000.0, 5966325.0),\n",
       " 'count': 1,\n",
       " 'crs': {'ellps': 'krass',\n",
       "  'lat_0': 0,\n",
       "  'lat_1': 25,\n",
       "  'lat_2': 47,\n",
       "  'lon_0': 105,\n",
       "  'no_defs': True,\n",
       "  'proj': 'aea',\n",
       "  'units': 'm',\n",
       "  'x_0': 0,\n",
       "  'y_0': 0},\n",
       " 'driver': 'AIG',\n",
       " 'dtype': 'float32',\n",
       " 'height': 2044,\n",
       " 'nodata': -3.4028234663852886e+38,\n",
       " 'transform': (-2697837.909214747, 2000.0, 0.0, 5966325.0, 0.0, -2000.0),\n",
       " 'width': 2541}"
      ]
     },
     "execution_count": 7,
     "metadata": {},
     "output_type": "execute_result"
    }
   ],
   "source": [
    "src.meta\n"
   ]
  },
  {
   "cell_type": "code",
   "execution_count": 8,
   "metadata": {
    "collapsed": false
   },
   "outputs": [
    {
     "data": {
      "text/plain": [
       "BoundingBox(left=-2697837.909214747, bottom=1878325.0, right=2384162.090785253, top=5966325.0)"
      ]
     },
     "execution_count": 8,
     "metadata": {},
     "output_type": "execute_result"
    }
   ],
   "source": [
    "src.bounds"
   ]
  },
  {
   "cell_type": "code",
   "execution_count": 11,
   "metadata": {
    "collapsed": false
   },
   "outputs": [
    {
     "name": "stdout",
     "output_type": "stream",
     "text": [
      "格式： AIG\n"
     ]
    }
   ],
   "source": [
    "print('格式：',src.driver)"
   ]
  },
  {
   "cell_type": "code",
   "execution_count": 12,
   "metadata": {
    "collapsed": true
   },
   "outputs": [],
   "source": [
    "\n"
   ]
  },
  {
   "cell_type": "code",
   "execution_count": 28,
   "metadata": {
    "collapsed": false
   },
   "outputs": [],
   "source": [
    "import rasterio\n",
    "filename=r'data\\raster\\s_temp0cm\\hdr.adf'\n",
    "src = rasterio.open(filename)\n",
    "src.meta\n",
    "f=open('c:/temp/meta.txt','w')\n",
    "\n",
    "f.write('格式:%s\\n'%(src.driver))\n",
    "f.write('地图投影:%s\\n'%(src.crs_wkt))\n",
    "f.write('宽度：%s\\n'%(src.width))\n",
    "f.write('高度：%s\\n'%(src.height))\n",
    "f.write('波段数:%s\\n'%(src.count))\n",
    "f.write('分辨率:(x:%s,y:%s)\\n'%(src.res[0],src.res[1]))\n",
    "f.write('Nodata:%s\\n'%(src.nodata))\n",
    "f.write('空间范围:(west:%s,south:%s,east:%s,north:%s)\\n'%\n",
    "        (src.bounds[0],src.bounds[1],src.bounds[2],src.bounds[3]))\n",
    "\n",
    "f.close()"
   ]
  },
  {
   "cell_type": "code",
   "execution_count": null,
   "metadata": {
    "collapsed": true
   },
   "outputs": [],
   "source": []
  }
 ],
 "metadata": {
  "kernelspec": {
   "display_name": "Python [Root]",
   "language": "python",
   "name": "Python [Root]"
  },
  "language_info": {
   "codemirror_mode": {
    "name": "ipython",
    "version": 3
   },
   "file_extension": ".py",
   "mimetype": "text/x-python",
   "name": "python",
   "nbconvert_exporter": "python",
   "pygments_lexer": "ipython3",
   "version": "3.5.1"
  }
 },
 "nbformat": 4,
 "nbformat_minor": 0
}
