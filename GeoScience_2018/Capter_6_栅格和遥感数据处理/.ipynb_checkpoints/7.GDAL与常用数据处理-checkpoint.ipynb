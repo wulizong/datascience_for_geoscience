{
 "cells": [
  {
   "cell_type": "markdown",
   "metadata": {},
   "source": [
    "<h1 align=center>栅格数据清洗2：常用数据清洗方法</h1>\n",
    "----\n",
    "* 作者：吴立宗\n",
    "* 日期：2016年7月5日\n",
    "* 目标：批量开展数据处理\n",
    " * 格式转换\n",
    " * 投影转换\n",
    " * 裁切\n",
    " * 波段组合\n",
    " * 数据合并"
   ]
  },
  {
   "cell_type": "markdown",
   "metadata": {},
   "source": [
    "## 1.格式转换\n",
    "* 建议使用批处理模式\n",
    "* 建议使用的格式包括:\n",
    " * Geotif\n",
    " * HDF\n",
    " * NetCDF\n",
    " * ......\n",
    "* 不建议使用的格式：\n",
    " * Arcinfo的各种grid格式\n",
    " * 文本格式\n",
    " * 不含投影信息的图像格式，如bmp，jpg等"
   ]
  },
  {
   "cell_type": "markdown",
   "metadata": {},
   "source": [
    "### 1）专业软件(略)"
   ]
  },
  {
   "cell_type": "markdown",
   "metadata": {},
   "source": [
    "### 2）gdal_translate"
   ]
  },
  {
   "cell_type": "raw",
   "metadata": {},
   "source": [
    "gdal_translate [--help-general]\n",
    "       [-ot {Byte/Int16/UInt16/UInt32/Int32/Float32/Float64/\n",
    "             CInt16/CInt32/CFloat32/CFloat64}] [-strict]\n",
    "       [-of format] [-b band]* [-mask band] [-expand {gray|rgb|rgba}]\n",
    "       [-outsize xsize[%]|0 ysize[%]|0] [-tr xres yres]\n",
    "       [-r {nearest,bilinear,cubic,cubicspline,lanczos,average,mode}]\n",
    "       [-unscale] [-scale[_bn] [src_min src_max [dst_min dst_max]]]* [-exponent[_bn] exp_val]*\n",
    "       [-srcwin xoff yoff xsize ysize] [-epo] [-eco]\n",
    "       [-projwin ulx uly lrx lry] [-projwin_srs srs_def]\n",
    "       [-a_srs srs_def] [-a_ullr ulx uly lrx lry] [-a_nodata value]\n",
    "       [-gcp pixel line easting northing [elevation]]*\n",
    "       [-mo \"META-TAG=VALUE\"]* [-q] [-sds]\n",
    "       [-co \"NAME=VALUE\"]* [-stats] [-norat]\n",
    "       [-oo NAME=VALUE]*\n",
    "       src_dataset dst_dataset"
   ]
  },
  {
   "cell_type": "markdown",
   "metadata": {},
   "source": [
    "* 支持的格式:http://www.gdal.org/formats_list.html"
   ]
  },
  {
   "cell_type": "code",
   "execution_count": 1,
   "metadata": {
    "collapsed": true
   },
   "outputs": [],
   "source": [
    "import subprocess\n",
    "filename='C:/WestCode/Jupyter/GeoData/Day_4/data/raster/s_temp0cm'"
   ]
  },
  {
   "cell_type": "code",
   "execution_count": 2,
   "metadata": {
    "collapsed": false
   },
   "outputs": [
    {
     "data": {
      "text/plain": [
       "b'Input file size is 2541, 2044\\r\\n0...10...20...30...40...50...60...70...80...90...100 - done.\\r\\n'"
      ]
     },
     "execution_count": 2,
     "metadata": {},
     "output_type": "execute_result"
    }
   ],
   "source": [
    "geotif_file='c:/temp/china_soil_temp_0cm.tif'\n",
    "log=subprocess.check_output(\"gdal_translate \" + filename +' '+geotif_file)\n",
    "log"
   ]
  },
  {
   "cell_type": "markdown",
   "metadata": {},
   "source": [
    "### 3)批量格式转化"
   ]
  },
  {
   "cell_type": "markdown",
   "metadata": {},
   "source": [
    "* 批处理方式\n",
    "* 结合python脚本方式"
   ]
  },
  {
   "cell_type": "code",
   "execution_count": null,
   "metadata": {
    "collapsed": true
   },
   "outputs": [],
   "source": []
  },
  {
   "cell_type": "markdown",
   "metadata": {},
   "source": [
    "## 2.投影转换"
   ]
  },
  {
   "cell_type": "markdown",
   "metadata": {},
   "source": [
    "### 2.1专业软件"
   ]
  },
  {
   "cell_type": "markdown",
   "metadata": {},
   "source": [
    "### 2.2 gdal_warp命令"
   ]
  },
  {
   "cell_type": "code",
   "execution_count": 8,
   "metadata": {
    "collapsed": false
   },
   "outputs": [
    {
     "data": {
      "text/plain": [
       "b'Creating output file that is 4020P x 2835L.\\r\\nProcessing input file c:/temp/china_soil_temp_0cm.tif.\\r\\nUsing internal nodata values (e.g. -3.40282e+38) for image c:/temp/china_soil_temp_0cm.tif.\\r\\nCopying nodata values from source c:/temp/china_soil_temp_0cm.tif to destination c:/temp/file_3857.tif.\\r\\n0...10...20...30...40...50...60...70...80...90...100 - done.\\r\\n'"
      ]
     },
     "execution_count": 8,
     "metadata": {},
     "output_type": "execute_result"
    }
   ],
   "source": [
    "import subprocess\n",
    "file_3857='c:/temp/file_3857.tif'\n",
    "cmd_str=\"gdalwarp -t_srs epsg:3857 -tr 2000 2000 -r bilinear -overwrite %s %s\"%(geotif_file,file_3857)\n",
    "log=subprocess.check_output(cmd_str)\n",
    "log"
   ]
  },
  {
   "cell_type": "markdown",
   "metadata": {},
   "source": [
    "### 2.3批量投影转换"
   ]
  },
  {
   "cell_type": "markdown",
   "metadata": {},
   "source": [
    "* 批处理模式\n",
    "* 结合python脚本模式"
   ]
  },
  {
   "cell_type": "code",
   "execution_count": 55,
   "metadata": {
    "collapsed": true
   },
   "outputs": [],
   "source": []
  },
  {
   "cell_type": "markdown",
   "metadata": {},
   "source": [
    "### 3.图像裁切"
   ]
  },
  {
   "cell_type": "code",
   "execution_count": 62,
   "metadata": {
    "collapsed": true
   },
   "outputs": [],
   "source": [
    "import geopandas as gpd\n"
   ]
  },
  {
   "cell_type": "code",
   "execution_count": 66,
   "metadata": {
    "collapsed": false
   },
   "outputs": [
    {
     "data": {
      "text/html": [
       "<div>\n",
       "<table border=\"1\" class=\"dataframe\">\n",
       "  <thead>\n",
       "    <tr style=\"text-align: right;\">\n",
       "      <th></th>\n",
       "      <th>CLASID</th>\n",
       "      <th>CLASID92</th>\n",
       "      <th>CLASID_XM</th>\n",
       "      <th>ELEMID</th>\n",
       "      <th>ENTIID</th>\n",
       "      <th>NAME</th>\n",
       "      <th>OBJECTID</th>\n",
       "      <th>Shape_Area</th>\n",
       "      <th>Shape_Leng</th>\n",
       "      <th>geometry</th>\n",
       "    </tr>\n",
       "  </thead>\n",
       "  <tbody>\n",
       "    <tr>\n",
       "      <th>0</th>\n",
       "      <td>630100</td>\n",
       "      <td>460000</td>\n",
       "      <td>1160301000</td>\n",
       "      <td>None</td>\n",
       "      <td>1CHN460000000</td>\n",
       "      <td>海南省</td>\n",
       "      <td>1</td>\n",
       "      <td>0.001854</td>\n",
       "      <td>0.156253</td>\n",
       "      <td>POLYGON ((112.0391921999012 3.834796428673201,...</td>\n",
       "    </tr>\n",
       "    <tr>\n",
       "      <th>1</th>\n",
       "      <td>630100</td>\n",
       "      <td>460000</td>\n",
       "      <td>1160301000</td>\n",
       "      <td>None</td>\n",
       "      <td>1CHN460000000</td>\n",
       "      <td>海南省</td>\n",
       "      <td>2</td>\n",
       "      <td>0.001574</td>\n",
       "      <td>0.142934</td>\n",
       "      <td>POLYGON ((112.2505187987997 3.863619565713237,...</td>\n",
       "    </tr>\n",
       "    <tr>\n",
       "      <th>2</th>\n",
       "      <td>630100</td>\n",
       "      <td>460000</td>\n",
       "      <td>1160301000</td>\n",
       "      <td>None</td>\n",
       "      <td>1CHN460000000</td>\n",
       "      <td>海南省</td>\n",
       "      <td>3</td>\n",
       "      <td>0.001124</td>\n",
       "      <td>0.120940</td>\n",
       "      <td>POLYGON ((112.2637710571373 3.939680814520955,...</td>\n",
       "    </tr>\n",
       "    <tr>\n",
       "      <th>3</th>\n",
       "      <td>630100</td>\n",
       "      <td>460000</td>\n",
       "      <td>1160301000</td>\n",
       "      <td>None</td>\n",
       "      <td>1CHN460000000</td>\n",
       "      <td>海南省</td>\n",
       "      <td>4</td>\n",
       "      <td>0.002346</td>\n",
       "      <td>0.180429</td>\n",
       "      <td>POLYGON ((112.944808960001 5.001026630564752, ...</td>\n",
       "    </tr>\n",
       "    <tr>\n",
       "      <th>4</th>\n",
       "      <td>630100</td>\n",
       "      <td>460000</td>\n",
       "      <td>1160301000</td>\n",
       "      <td>None</td>\n",
       "      <td>1CHN460000000</td>\n",
       "      <td>海南省</td>\n",
       "      <td>5</td>\n",
       "      <td>0.002047</td>\n",
       "      <td>0.168232</td>\n",
       "      <td>POLYGON ((112.5897674560664 5.076359272046659,...</td>\n",
       "    </tr>\n",
       "  </tbody>\n",
       "</table>\n",
       "</div>"
      ],
      "text/plain": [
       "   CLASID CLASID92   CLASID_XM ELEMID         ENTIID NAME  OBJECTID  \\\n",
       "0  630100   460000  1160301000   None  1CHN460000000  海南省         1   \n",
       "1  630100   460000  1160301000   None  1CHN460000000  海南省         2   \n",
       "2  630100   460000  1160301000   None  1CHN460000000  海南省         3   \n",
       "3  630100   460000  1160301000   None  1CHN460000000  海南省         4   \n",
       "4  630100   460000  1160301000   None  1CHN460000000  海南省         5   \n",
       "\n",
       "   Shape_Area  Shape_Leng                                           geometry  \n",
       "0    0.001854    0.156253  POLYGON ((112.0391921999012 3.834796428673201,...  \n",
       "1    0.001574    0.142934  POLYGON ((112.2505187987997 3.863619565713237,...  \n",
       "2    0.001124    0.120940  POLYGON ((112.2637710571373 3.939680814520955,...  \n",
       "3    0.002346    0.180429  POLYGON ((112.944808960001 5.001026630564752, ...  \n",
       "4    0.002047    0.168232  POLYGON ((112.5897674560664 5.076359272046659,...  "
      ]
     },
     "execution_count": 66,
     "metadata": {},
     "output_type": "execute_result"
    }
   ],
   "source": [
    "shapefile='data/china_boundary_province.shp'\n",
    "df=gpd.read_file(shapefile,encoding='gbk')\n",
    "df.head()"
   ]
  },
  {
   "cell_type": "code",
   "execution_count": 68,
   "metadata": {
    "collapsed": false
   },
   "outputs": [
    {
     "data": {
      "text/html": [
       "<div>\n",
       "<table border=\"1\" class=\"dataframe\">\n",
       "  <thead>\n",
       "    <tr style=\"text-align: right;\">\n",
       "      <th></th>\n",
       "      <th>CLASID</th>\n",
       "      <th>CLASID92</th>\n",
       "      <th>CLASID_XM</th>\n",
       "      <th>ELEMID</th>\n",
       "      <th>ENTIID</th>\n",
       "      <th>NAME</th>\n",
       "      <th>OBJECTID</th>\n",
       "      <th>Shape_Area</th>\n",
       "      <th>Shape_Leng</th>\n",
       "      <th>geometry</th>\n",
       "    </tr>\n",
       "  </thead>\n",
       "  <tbody>\n",
       "    <tr>\n",
       "      <th>577</th>\n",
       "      <td>630100</td>\n",
       "      <td>None</td>\n",
       "      <td>1160301000</td>\n",
       "      <td>None</td>\n",
       "      <td>1CHN530000000</td>\n",
       "      <td>云南省</td>\n",
       "      <td>866</td>\n",
       "      <td>34.276908</td>\n",
       "      <td>58.969367</td>\n",
       "      <td>POLYGON ((99.11814873462282 29.19243189650877,...</td>\n",
       "    </tr>\n",
       "    <tr>\n",
       "      <th>829</th>\n",
       "      <td>630100</td>\n",
       "      <td>None</td>\n",
       "      <td>1160301000</td>\n",
       "      <td>None</td>\n",
       "      <td>1CHN530000000</td>\n",
       "      <td>云南省</td>\n",
       "      <td>798</td>\n",
       "      <td>0.000000</td>\n",
       "      <td>0.000005</td>\n",
       "      <td>POLYGON ((105.2644582603499 27.99999887530169,...</td>\n",
       "    </tr>\n",
       "  </tbody>\n",
       "</table>\n",
       "</div>"
      ],
      "text/plain": [
       "     CLASID CLASID92   CLASID_XM ELEMID         ENTIID NAME  OBJECTID  \\\n",
       "577  630100     None  1160301000   None  1CHN530000000  云南省       866   \n",
       "829  630100     None  1160301000   None  1CHN530000000  云南省       798   \n",
       "\n",
       "     Shape_Area  Shape_Leng                                           geometry  \n",
       "577   34.276908   58.969367  POLYGON ((99.11814873462282 29.19243189650877,...  \n",
       "829    0.000000    0.000005  POLYGON ((105.2644582603499 27.99999887530169,...  "
      ]
     },
     "execution_count": 68,
     "metadata": {},
     "output_type": "execute_result"
    }
   ],
   "source": [
    "prov_list=[u'云南省',u'四川省']\n",
    "df_new=df[df['NAME']==u'云南省']\n",
    "df_new"
   ]
  },
  {
   "cell_type": "code",
   "execution_count": 76,
   "metadata": {
    "collapsed": false
   },
   "outputs": [
    {
     "data": {
      "text/plain": [
       "(97.529113821655471,\n",
       " 21.144353624352789,\n",
       " 106.19421386692949,\n",
       " 29.251118565667699)"
      ]
     },
     "execution_count": 76,
     "metadata": {},
     "output_type": "execute_result"
    }
   ],
   "source": [
    "x_min,y_min,x_max,y_max=df_new.geometry.total_bounds\n",
    "x_min,y_min,x_max,y_max"
   ]
  },
  {
   "cell_type": "code",
   "execution_count": 81,
   "metadata": {
    "collapsed": false
   },
   "outputs": [
    {
     "data": {
      "text/plain": [
       "'-762179.307255 2195297.160423 122053.077698 3104525.896909'"
      ]
     },
     "execution_count": 81,
     "metadata": {},
     "output_type": "execute_result"
    }
   ],
   "source": [
    "crs=\"+ellps=krass +lat_0=0 +lat_1=25 +lat_2=47 +lon_0=105 +no_defs +proj=aea +units=m +x_0=0 +y_0=0\"\n",
    "df_albers=df_new.to_crs(crs)\n",
    "x_min,y_min,x_max,y_max=df_albers.geometry.total_bounds\n",
    "bounds = '%f %f %f %f'%(x_min,y_min,x_max,y_max)\n",
    "bounds"
   ]
  },
  {
   "cell_type": "code",
   "execution_count": 94,
   "metadata": {
    "collapsed": false
   },
   "outputs": [
    {
     "data": {
      "text/plain": [
       "<matplotlib.axes._subplots.AxesSubplot at 0x2846c31e2b0>"
      ]
     },
     "execution_count": 94,
     "metadata": {},
     "output_type": "execute_result"
    },
    {
     "data": {
      "image/png": "[encoded data removed]",
      "text/plain": [
       "<matplotlib.figure.Figure at 0x2846c3012e8>"
      ]
     },
     "metadata": {},
     "output_type": "display_data"
    }
   ],
   "source": [
    "%matplotlib inline\n",
    "df_albers.plot()"
   ]
  },
  {
   "cell_type": "code",
   "execution_count": 97,
   "metadata": {
    "collapsed": false
   },
   "outputs": [],
   "source": [
    "mask_file='c:/temp/mask.shp'\n",
    "df_albers.to_file(mask_file,encoding='gbk')"
   ]
  },
  {
   "cell_type": "code",
   "execution_count": 99,
   "metadata": {
    "collapsed": false
   },
   "outputs": [
    {
     "data": {
      "text/plain": [
       "b'Processing input file c:/temp/china_soil_temp_0cm.tif.\\r\\nUsing internal nodata values (e.g. -3.40282e+38) for image c:/temp/china_soil_temp_0cm.tif.\\r\\nCopying nodata values from source c:/temp/china_soil_temp_0cm.tif to destination c:/temp/yunnan.tif.\\r\\n0...10...20...30...40...50...60...70...80...90...100 - done.\\r\\n'"
      ]
     },
     "execution_count": 99,
     "metadata": {},
     "output_type": "execute_result"
    }
   ],
   "source": [
    "file_masked='c:/temp/yunnan_masked.tif'\n",
    "cmd_str=\"gdalwarp -cutline %s %s %s\"%(mask_file,geotif_file,file_yunnan)\n",
    "log=subprocess.check_output(cmd_str)\n",
    "log"
   ]
  },
  {
   "cell_type": "markdown",
   "metadata": {},
   "source": [
    "## 4. 波段组合"
   ]
  },
  {
   "cell_type": "code",
   "execution_count": 112,
   "metadata": {
    "collapsed": true
   },
   "outputs": [],
   "source": [
    "import os\n",
    "filepath='C:/WestCode/Jupyter/GeoData/Day_4/data/Landsat/p142r029_7k20020628_z45_GLCF/'\n",
    "file_5='p142r029_7t20020628_z45_nn50.tif'\n",
    "file_4='p142r029_7t20020628_z45_nn40.tif'\n",
    "file_3='p142r029_7t20020628_z45_nn30.tif'\n",
    "band_5=os.path.join(filepath,file_5)\n",
    "band_4=os.path.join(filepath,file_4)\n",
    "band_3=os.path.join(filepath,file_3)\n"
   ]
  },
  {
   "cell_type": "code",
   "execution_count": 117,
   "metadata": {
    "collapsed": false
   },
   "outputs": [
    {
     "name": "stdout",
     "output_type": "stream",
     "text": [
      "gdal_merge -separate -o c:/temp/rgb_file.tif C:/WestCode/Jupyter/GeoData/Day_4/data/Landsat/p142r029_7k20020628_z45_GLCF/p142r029_7t20020628_z45_nn50.tif C:/WestCode/Jupyter/GeoData/Day_4/data/Landsat/p142r029_7k20020628_z45_GLCF/p142r029_7t20020628_z45_nn40.tif C:/WestCode/Jupyter/GeoData/Day_4/data/Landsat/p142r029_7k20020628_z45_GLCF/p142r029_7t20020628_z45_nn30.tif\n"
     ]
    }
   ],
   "source": [
    "rgb_file='c:/temp/rgb_file.tif'\n",
    "cmd_str=\"gdal_merge -separate -o %s %s %s %s\"%(rgb_file,band_5,band_4,band_3)\n",
    "print(cmd_str)\n",
    "#log=subprocess.check_output(cmd_str)\n",
    "#log"
   ]
  },
  {
   "cell_type": "markdown",
   "metadata": {},
   "source": [
    "* 请在OSGEO4w_shell运行\n",
    "![](img/landsat_RGB.PNG)"
   ]
  },
  {
   "cell_type": "markdown",
   "metadata": {},
   "source": [
    "## 5.数据合并"
   ]
  },
  {
   "cell_type": "markdown",
   "metadata": {
    "collapsed": true
   },
   "source": [
    "* 使用同样的命令，不加-separate 参数"
   ]
  },
  {
   "cell_type": "code",
   "execution_count": null,
   "metadata": {
    "collapsed": true
   },
   "outputs": [],
   "source": []
  }
 ],
 "metadata": {
  "anaconda-cloud": {},
  "kernelspec": {
   "display_name": "Python [Root]",
   "language": "python",
   "name": "Python [Root]"
  },
  "language_info": {
   "codemirror_mode": {
    "name": "ipython",
    "version": 3
   },
   "file_extension": ".py",
   "mimetype": "text/x-python",
   "name": "python",
   "nbconvert_exporter": "python",
   "pygments_lexer": "ipython3",
   "version": "3.5.1"
  }
 },
 "nbformat": 4,
 "nbformat_minor": 0
}
