{
 "cells": [
  {
   "cell_type": "markdown",
   "metadata": {},
   "source": [
    "<h1 align=center>数据可视化:批量修改数据文档</h1>\n",
    "----\n",
    "* 作者：吴立宗\n",
    "* 日期：2016-7-12\n",
    "* 目标：批量修改数据文档"
   ]
  },
  {
   "cell_type": "markdown",
   "metadata": {},
   "source": [
    "## 1. 安装docx"
   ]
  },
  {
   "cell_type": "raw",
   "metadata": {},
   "source": [
    "pip install python-docx"
   ]
  },
  {
   "cell_type": "markdown",
   "metadata": {},
   "source": [
    "## 2. 批量修改文档"
   ]
  },
  {
   "cell_type": "code",
   "execution_count": 1,
   "metadata": {
    "collapsed": true
   },
   "outputs": [],
   "source": [
    "from docx import Document"
   ]
  },
  {
   "cell_type": "code",
   "execution_count": 2,
   "metadata": {
    "collapsed": true
   },
   "outputs": [],
   "source": [
    "filename=u'data/中国1：600万泥石流空间分布及其危险度区划数据（1989年）-数据文档.docx'"
   ]
  },
  {
   "cell_type": "code",
   "execution_count": 9,
   "metadata": {
    "collapsed": false
   },
   "outputs": [],
   "source": [
    "doc = Document(filename)\n",
    "p=doc.paragraphs[0]\n",
    "run=p.runs[0]\n",
    "run.text='ttileee'\n",
    "doc.save('c:/temp/test55.docx')"
   ]
  },
  {
   "cell_type": "code",
   "execution_count": 10,
   "metadata": {
    "collapsed": false
   },
   "outputs": [
    {
     "name": "stdout",
     "output_type": "stream",
     "text": [
      "项目\n",
      "1数据集名称\n",
      "2 数据集内容说明\n",
      "2.1 数据集内容一般描述\n",
      "2.2 字段（要素）名称解释\n",
      "3 数据源描述\n",
      "4 数据加工方法\n",
      "5 数据质量描述\n",
      "6数据集应用成果\n",
      "7 知识产权\n"
     ]
    }
   ],
   "source": [
    "table = doc.tables[0]\n",
    "\n",
    "for row in table.rows:\n",
    "    key=row.cells[0].paragraphs[0].text\n",
    "    print(key)"
   ]
  },
  {
   "cell_type": "code",
   "execution_count": 121,
   "metadata": {
    "collapsed": false
   },
   "outputs": [],
   "source": [
    "doc = Document(filename)\n",
    "new_title='云南1：600万泥石流空间分布及其危险度区划数据'\n",
    "new_year='（1986年）'\n",
    "pic_1='img/China_County_boundary_1986_Yunan.png'\n",
    "pic_2='img/China_County_boundary_1986_Qinghai.png'\n",
    "## 修改标题\n",
    "paragraph=doc.paragraphs[0]\n",
    "run=paragraph.runs[0]\n",
    "run.text=new_title\n",
    "##修改时间\n",
    "paragraph=doc.paragraphs[1]\n",
    "run=paragraph.runs[0]\n",
    "run.text=new_year\n",
    "\n",
    "#修改表格内的内容\n",
    "## 修改数据集名称\n",
    "tables = doc.tables\n",
    "for table in tables:\n",
    "    for row in table.rows:\n",
    "        key=row.cells[0].paragraphs[0].text\n",
    "        if key=='1数据集名称':\n",
    "            row.cells[1].paragraphs[0].text=new_title+new_year\n",
    "        \n",
    "        if key=='2.1 数据集内容一般描述':\n",
    "            paragraphs=row.cells[1].paragraphs\n",
    "            for index in range(len(paragraphs)):\n",
    "                text=paragraphs[index].text\n",
    "                ##批量替换数据内容中的关键词\n",
    "                if text=='a. 数据内容（数据文件、表名称，包含的观测指标内容）':\n",
    "                    p=paragraphs[index+1]\n",
    "                    text=p.text\n",
    "                    text=text.replace('中国','云南')\n",
    "                    p.text=text\n",
    "                ##替换缩略图\n",
    "                if text=='j. 缩略图（反应数据集内容或观测过程、场景等的示意图）':\n",
    "                    p=paragraphs[index+1]\n",
    "                    p.text=''\n",
    "                    run = p.add_run()\n",
    "                    run.add_picture(pic_1, width =1800000, height = 1800000)\n",
    "                    run.add_picture(pic_2, width =1800000, height = 1800000)\n",
    "## 批量修改支持产权信息\n",
    "doc.save('data/test.docx')"
   ]
  },
  {
   "cell_type": "code",
   "execution_count": null,
   "metadata": {
    "collapsed": true
   },
   "outputs": [],
   "source": []
  }
 ],
 "metadata": {
  "anaconda-cloud": {},
  "kernelspec": {
   "display_name": "Python [Root]",
   "language": "python",
   "name": "Python [Root]"
  },
  "language_info": {
   "codemirror_mode": {
    "name": "ipython",
    "version": 3
   },
   "file_extension": ".py",
   "mimetype": "text/x-python",
   "name": "python",
   "nbconvert_exporter": "python",
   "pygments_lexer": "ipython3",
   "version": "3.5.1"
  }
 },
 "nbformat": 4,
 "nbformat_minor": 0
}
