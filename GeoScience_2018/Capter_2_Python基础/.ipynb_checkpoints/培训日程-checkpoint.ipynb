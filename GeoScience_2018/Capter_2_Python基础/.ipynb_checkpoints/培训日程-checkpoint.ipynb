{
 "cells": [
  {
   "cell_type": "markdown",
   "metadata": {},
   "source": [
    "<h1 align=center>国家地球系统科学数据共享平台暑假培训班</h1>\n",
    "-----\n",
    "* 主题：数据清洗与数据可视化\n",
    "* 地点：云南·昆明\n",
    "* 时间：2016年7月18日-23日\n"
   ]
  },
  {
   "cell_type": "markdown",
   "metadata": {},
   "source": [
    "# 日程安排"
   ]
  },
  {
   "cell_type": "markdown",
   "metadata": {},
   "source": [
    "### 第一天：Python语言基础\n",
    "* Python安装\n",
    "* Python语法基础\n",
    "* Python文件与目录操作\n",
    "* Python处理文本数据"
   ]
  },
  {
   "cell_type": "markdown",
   "metadata": {},
   "source": [
    "### 第二天：文本类数据清洗\n",
    "* Pandas基础\n",
    "* 读取和清洗csv数据\n",
    "* 读取和清洗excel数据\n",
    "* 读取和清洗固定宽度数据\n",
    "* 自动提取元数据和数据文档所需的数据信息"
   ]
  },
  {
   "cell_type": "markdown",
   "metadata": {},
   "source": [
    "### 第三天：矢量数据清洗\n",
    "* 矢量数据元信息的获取\n",
    "* 矢量数据属性数据的清洗\n",
    "* 常用空间分析方法\n",
    "* 自动形成数据文档"
   ]
  },
  {
   "cell_type": "markdown",
   "metadata": {},
   "source": [
    "### 第四天：栅格数据清洗\n",
    "* 矢量数据元信息的自动获取\n",
    "* 常用属性数据批处理方法\n",
    "* DEM数据的处理\n",
    "* 自动形成数据文档"
   ]
  },
  {
   "cell_type": "markdown",
   "metadata": {},
   "source": [
    "### 第五天:可视化\n",
    "* 文本统计数据的可视化(matplotlib基础)\n",
    "* 地图数据的可视化(cartopy)\n",
    "* 栅格和遥感数据的可视化"
   ]
  },
  {
   "cell_type": "markdown",
   "metadata": {},
   "source": [
    "### 第六天：讨论\n",
    " * 数据完整性\n",
    " * 数据标准化\n",
    " * 各数据中心常见数据处理方法"
   ]
  },
  {
   "cell_type": "code",
   "execution_count": null,
   "metadata": {
    "collapsed": true
   },
   "outputs": [],
   "source": []
  }
 ],
 "metadata": {
  "kernelspec": {
   "display_name": "Python [Root]",
   "language": "python",
   "name": "Python [Root]"
  },
  "language_info": {
   "codemirror_mode": {
    "name": "ipython",
    "version": 3
   },
   "file_extension": ".py",
   "mimetype": "text/x-python",
   "name": "python",
   "nbconvert_exporter": "python",
   "pygments_lexer": "ipython3",
   "version": "3.5.1"
  }
 },
 "nbformat": 4,
 "nbformat_minor": 0
}
