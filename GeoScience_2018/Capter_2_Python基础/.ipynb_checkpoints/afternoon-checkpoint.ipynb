{
 "cells": [
  {
   "cell_type": "markdown",
   "metadata": {},
   "source": [
    "## 字符编码"
   ]
  },
  {
   "cell_type": "code",
   "execution_count": 19,
   "metadata": {
    "collapsed": false
   },
   "outputs": [
    {
     "ename": "UnicodeDecodeError",
     "evalue": "'gbk' codec can't decode byte 0xb4 in position 31: illegal multibyte sequence",
     "output_type": "error",
     "traceback": [
      "\u001b[1;31m---------------------------------------------------------------------------\u001b[0m",
      "\u001b[1;31mUnicodeDecodeError\u001b[0m                        Traceback (most recent call last)",
      "\u001b[1;32m<ipython-input-19-8228d4aafbfd>\u001b[0m in \u001b[0;36m<module>\u001b[1;34m()\u001b[0m\n\u001b[0;32m      1\u001b[0m \u001b[0mfilename\u001b[0m\u001b[1;33m=\u001b[0m\u001b[1;34m'data/weather_data.txt'\u001b[0m\u001b[1;33m\u001b[0m\u001b[0m\n\u001b[0;32m      2\u001b[0m \u001b[0mf\u001b[0m\u001b[1;33m=\u001b[0m\u001b[0mopen\u001b[0m\u001b[1;33m(\u001b[0m\u001b[0mfilename\u001b[0m\u001b[1;33m)\u001b[0m\u001b[1;33m\u001b[0m\u001b[0m\n\u001b[1;32m----> 3\u001b[1;33m \u001b[1;32mfor\u001b[0m \u001b[0mline\u001b[0m \u001b[1;32min\u001b[0m \u001b[0mf\u001b[0m\u001b[1;33m:\u001b[0m\u001b[1;33m\u001b[0m\u001b[0m\n\u001b[0m\u001b[0;32m      4\u001b[0m     \u001b[0mprint\u001b[0m\u001b[1;33m(\u001b[0m\u001b[0mline\u001b[0m\u001b[1;33m)\u001b[0m\u001b[1;33m\u001b[0m\u001b[0m\n",
      "\u001b[1;31mUnicodeDecodeError\u001b[0m: 'gbk' codec can't decode byte 0xb4 in position 31: illegal multibyte sequence"
     ]
    }
   ],
   "source": [
    "filename='data/weather_data.txt'\n",
    "f=open(filename)\n",
    "for line in f:\n",
    "    print(line)"
   ]
  },
  {
   "cell_type": "code",
   "execution_count": 3,
   "metadata": {
    "collapsed": true
   },
   "outputs": [],
   "source": [
    "import codecs"
   ]
  },
  {
   "cell_type": "code",
   "execution_count": 23,
   "metadata": {
    "collapsed": false
   },
   "outputs": [
    {
     "name": "stdout",
     "output_type": "stream",
     "text": [
      "站号:54123\r\n",
      "\n",
      "站名:康桥\r\n",
      "\n",
      "年,日,1月,2月,3月,4月,5月,6月,7月,8月,9月,10月,11月,12月\r\n",
      "\n",
      "2000,1,85,59,76,36,55,54,84,85,77,80,79,74\r\n",
      "\n",
      "2000,2,87,79,73,76,40,57,72,84,78,79,84,67\r\n",
      "\n",
      "2000,3,87,79,80,83,59,47,73,83,79,67,74,48\r\n",
      "\n",
      "2000,4,85,79,64,43,49,51,85,76,77,63,96,52\r\n",
      "\n",
      "2000,5,84,81,67,42,36,53,61,76,70,61,88,59\r\n",
      "\n",
      "2000,6,89,81,70,53,26,66,80,91,74,76,85,72\r\n",
      "\n",
      "2000,7,91,75,51,60,42,60,76,87,90,75,72,73\r\n",
      "\n",
      "2000,8,85,74,46,57,36,55,64,91,95,90,64,68\r\n",
      "\n",
      "2000,9,81,76,53,87,52,63,82,83,95,75,71,64\r\n",
      "\n",
      "2000,10,81,73,59,71,58,62,83,77,88,70,72,55\r\n",
      "\n",
      "2000,11,85,74,53,56,58,55,85,76,84,54,75,47\r\n",
      "\n",
      "2000,12,81,64,69,48,81,44,73,74,74,49,75,53\r\n",
      "\n",
      "2000,13,80,74,71,55,73,52,78,79,73,71,78,74\r\n",
      "\n",
      "2000,14,83,69,72,54,70,63,81,88,79,70,78,75\r\n",
      "\n",
      "2000,15,83,58,74,59,69,60,86,89,75,58,68,75\r\n",
      "\n",
      "2000,16,83,63,73,61,51,61,88,85,71,74,72,72\r\n",
      "\n",
      "2000,17,83,72,71,65,39,56,77,95,72,55,72,76\r\n",
      "\n",
      "2000,18,81,73,68,61,31,56,79,76,72,67,66,73\r\n",
      "\n",
      "2000,19,81,74,67,84,45,58,88,74,72,61,68,73\r\n",
      "\n",
      "2000,20,81,76,68,65,45,60,96,77,58,63,71,73\r\n",
      "\n",
      "2000,21,79,74,64,89,45,66,89,80,59,82,72,74\r\n",
      "\n",
      "2000,22,74,73,70,95,59,72,85,93,57,74,73,75\r\n",
      "\n",
      "2000,23,69,72,57,91,65,93,83,92,75,77,74,72\r\n",
      "\n",
      "2000,24,71,70,58,88,76,94,71,91,70,93,70,74\r\n",
      "\n",
      "2000,25,64,72,64,71,58,82,79,81,76,60,72,72\r\n",
      "\n",
      "2000,26,54,75,70,64,49,80,93,80,77,39,72,71\r\n",
      "\n",
      "2000,27,67,72,79,53,53,77,85,81,75,65,69,73\r\n",
      "\n",
      "2000,28,80,80,71,41,42,63,94,83,53,60,71,72\r\n",
      "\n",
      "2000,29,65,66,70,43,49,84,94,86,66,59,73,74\r\n",
      "\n",
      "2000,30,71,,81,48,59,91,95,79,86,75,75,73\r\n",
      "\n",
      "2000,31,66,,45,,70,,90,81,,76,,74\r\n",
      "\n"
     ]
    }
   ],
   "source": [
    "f=codecs.open(filename,encoding='utf8')\n",
    "for line in f:\n",
    "    print(line)\n"
   ]
  },
  {
   "cell_type": "code",
   "execution_count": 16,
   "metadata": {
    "collapsed": true
   },
   "outputs": [],
   "source": [
    "with open('c:/temp/test3.txt','w') as f:\n",
    "    f.write(u'中文')\n",
    "    "
   ]
  },
  {
   "cell_type": "code",
   "execution_count": 45,
   "metadata": {
    "collapsed": false
   },
   "outputs": [],
   "source": [
    "filename='data/p142r029_7x20020628.met'\n",
    "new_file='c:/temp/landsat_indexmap.txt'\n",
    "f_new=open(new_file,'w')\n",
    "with open(filename) as f:\n",
    "    for line in f:\n",
    "        line=line.replace('\\t','')\n",
    "        line=line.replace(' ','')\n",
    "        line=line.replace('\\r','')\n",
    "        line=line.replace('\\n','')\n",
    "        line=line.replace('\"','')\n",
    "        #print(line)\n",
    "        line=line.split('=')\n",
    "        if len(line)>1:\n",
    "            key=line[0]\n",
    "            value=line[1]\n",
    "            if key=='SPACECRAFT_ID':\n",
    "                f_new.write(value+',')\n",
    "            if key=='SENSOR_ID':\n",
    "                f_new.write(value+',')\n",
    "            if key=='ACQUISITION_DATE':\n",
    "                f_new.write(value+',')\n",
    "            if key=='WRS_PATH':\n",
    "                f_new.write(value+',')\n",
    "            if key=='WRS_ROW':\n",
    "                f_new.write(value+',')\n",
    "            if key =='SCENE_UL_CORNER_LON': \n",
    "                ul_x=value\n",
    "            if key =='SCENE_UL_CORNER_LAT': \n",
    "                ul_y=value\n",
    "            if key =='SCENE_UR_CORNER_LON':\n",
    "                ur_x=value\n",
    "            if key =='SCENE_UR_CORNER_LAT': \n",
    "                ur_y=value\n",
    "            if key =='SCENE_LR_CORNER_LON':\n",
    "                lr_x=value\n",
    "            if key =='SCENE_LR_CORNER_LAT':\n",
    "                lr_y=value\n",
    "            if key =='SCENE_LL_CORNER_LON':\n",
    "                ll_x=value\n",
    "            if key =='SCENE_LL_CORNER_LAT':\n",
    "                ll_y=value\n",
    "            if key =='SCENE_UL_CORNER_LON': \n",
    "                ul_x=value\n",
    "            if key =='SCENE_UL_CORNER_LAT':\n",
    "                ul_y=value\n",
    "    poly_str='\"POLYGON((%s %s,%s %s,%s %s,%s %s,%s %s))\"'%(ul_x,ul_y,ur_x,ur_y,lr_x,lr_y,ll_x,ll_y,ul_x,ul_y)\n",
    "    f_new.write(poly_str)\n",
    "f_new.close()"
   ]
  },
  {
   "cell_type": "code",
   "execution_count": null,
   "metadata": {
    "collapsed": true
   },
   "outputs": [],
   "source": []
  }
 ],
 "metadata": {
  "kernelspec": {
   "display_name": "Python [Root]",
   "language": "python",
   "name": "Python [Root]"
  },
  "language_info": {
   "codemirror_mode": {
    "name": "ipython",
    "version": 3
   },
   "file_extension": ".py",
   "mimetype": "text/x-python",
   "name": "python",
   "nbconvert_exporter": "python",
   "pygments_lexer": "ipython3",
   "version": "3.5.1"
  }
 },
 "nbformat": 4,
 "nbformat_minor": 0
}
