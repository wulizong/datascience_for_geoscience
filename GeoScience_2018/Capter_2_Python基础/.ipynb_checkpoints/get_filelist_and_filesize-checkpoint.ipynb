{
 "cells": [
  {
   "cell_type": "markdown",
   "metadata": {},
   "source": [
    "#get data list\n"
   ]
  },
  {
   "cell_type": "code",
   "execution_count": 20,
   "metadata": {
    "collapsed": false
   },
   "outputs": [
    {
     "name": "stdout",
     "output_type": "stream",
     "text": [
      "CSV\n",
      "CSV | ,c:/data\\CSV\\List_of_Nobel_Laureates.csv | 53.8\n",
      "db\n",
      "db | ,c:/data\\db\\collection-0--2277664235048482964.wt,c:/data\\db\\collection-0-6523052666768473615.wt,c:/data\\db\\diagnostic.data,c:/data\\db\\index-1--2277664235048482964.wt,c:/data\\db\\index-1-6523052666768473615.wt,c:/data\\db\\mongod.lock,c:/data\\db\\sizeStorer.wt,c:/data\\db\\storage.bson,c:/data\\db\\WiredTiger.lock,c:/data\\db\\WiredTiger.turtle,c:/data\\db\\WiredTiger.wt,c:/data\\db\\WiredTigerLAS.wt,c:/data\\db\\_mdb_catalog.wt | 213.0\n",
      "Natural_Earth_quick_start\n",
      "Natural_Earth_quick_start | ,c:/data\\Natural_Earth_quick_start\\Natural_Earth_quick_start_for_ArcMap.mxd,c:/data\\Natural_Earth_quick_start\\Natural_Earth_quick_start_for_QGIS.qgs,c:/data\\Natural_Earth_quick_start\\README.md | 1226.6\n",
      "ȫ����ֵ��������\n",
      "ȫ����ֵ�������� | ,c:/data\\ȫ����ֵ��������\\data.cma_surf_cli.��ֵ��������,c:/data\\ȫ����ֵ��������\\SURF_CLI_CHN_MUL_YER_DOCU_C.DOC,c:/data\\ȫ����ֵ��������\\SURF_CLI_CHN_MUL_YER_STATION.DOC,c:/data\\ȫ����ֵ��������\\SURF_CLI_CHN_MUL_YER_SURF_CLI_CHN_MUL_YER_DOCU_C.DOC,c:/data\\ȫ����ֵ��������\\SURF_CLI_CHN_MUL_YER_SURF_CLI_CHN_MUL_YER_STATION.DOC,c:/data\\ȫ����ֵ��������\\������-��������ˮ.txt,c:/data\\ȫ����ֵ��������\\������������.txt | 40959.8\n"
     ]
    }
   ],
   "source": [
    "import glob\n",
    "import os\n",
    "\n",
    "filepath='c:/data'\n",
    "folder_list = os.listdir(filepath)\n",
    "\n",
    "for sub_dir in folder_list:\n",
    "    sub_filepath= os.path.join(filepath,sub_dir)\n",
    "    if os.path.isdir(sub_filepath):\n",
    "        \n",
    "        filelist = glob.glob(os.path.join(sub_filepath,'*.*'))\n",
    "        print sub_dir\n",
    "        total_size= 0\n",
    "        filelist_str =''\n",
    "        for filename in filelist:\n",
    "            filesize = round(os.path.getsize(filename)/1024.,1)\n",
    "            total_size = total_size + filesize\n",
    "            filelist_str = filelist_str+','+filename\n",
    "        print sub_dir,'|',filelist_str,'|',total_size"
   ]
  },
  {
   "cell_type": "code",
   "execution_count": null,
   "metadata": {
    "collapsed": true
   },
   "outputs": [],
   "source": []
  }
 ],
 "metadata": {
  "kernelspec": {
   "display_name": "Python 2",
   "language": "python",
   "name": "python2"
  },
  "language_info": {
   "codemirror_mode": {
    "name": "ipython",
    "version": 2
   },
   "file_extension": ".py",
   "mimetype": "text/x-python",
   "name": "python",
   "nbconvert_exporter": "python",
   "pygments_lexer": "ipython2",
   "version": "2.7.11"
  }
 },
 "nbformat": 4,
 "nbformat_minor": 0
}
