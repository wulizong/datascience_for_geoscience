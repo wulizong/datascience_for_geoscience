{
 "cells": [
  {
   "cell_type": "markdown",
   "metadata": {},
   "source": [
    "# Python基础2：Jupyter与Markdown语法\n",
    "----\n",
    "* 作者：吴立宗\n",
    "* 日期：2016-4-25\n",
    "* 目标：\n",
    " * 学习使用Jupyter编译环境\n",
    " * 设置Jupyter工作目录\n",
    " * 学习Markdown语法"
   ]
  },
  {
   "cell_type": "markdown",
   "metadata": {},
   "source": [
    "## 1.修改Jupyter工作目录"
   ]
  },
  {
   "cell_type": "markdown",
   "metadata": {},
   "source": [
    "### 1.1形成Jupyter配置文件 \n",
    "> jupyter notebook --generate-config\n",
    "\n",
    "![](img/jupyter_generate_config.png)\n",
    "\n"
   ]
  },
  {
   "cell_type": "markdown",
   "metadata": {},
   "source": [
    "### 1.2修改配置文件\n",
    "> 文件路径：C:\\Users\\用户名\\\\.jupyter\\jupyter_notebook_config.py\n",
    "\n",
    "![目录](img/jupyter_config_filepath.png)\n",
    "![](img/jupyter_config_filename.png)"
   ]
  },
  {
   "cell_type": "markdown",
   "metadata": {},
   "source": [
    "### 1.3修改配置文件的内容\n",
    ">c.NotebookApp.notebook_dir = u'c:/westcode/Jupyter/'\n",
    "\n",
    "![](img/jupyter_config_edit.png)"
   ]
  },
  {
   "cell_type": "markdown",
   "metadata": {},
   "source": [
    "### 1.4重启Jupyter"
   ]
  },
  {
   "cell_type": "markdown",
   "metadata": {},
   "source": [
    "## 2.Markdown语法"
   ]
  },
  {
   "cell_type": "markdown",
   "metadata": {},
   "source": [
    "### 2.1代码"
   ]
  },
  {
   "cell_type": "code",
   "execution_count": 1,
   "metadata": {
    "collapsed": false
   },
   "outputs": [
    {
     "name": "stdout",
     "output_type": "stream",
     "text": [
      "hello world！\n"
     ]
    }
   ],
   "source": [
    "print('hello world！')"
   ]
  },
  {
   "cell_type": "markdown",
   "metadata": {},
   "source": [
    "### 2.2标题"
   ]
  },
  {
   "cell_type": "raw",
   "metadata": {},
   "source": [
    "# 一级标题\n",
    "\n",
    "## 二级标题\n",
    "\n",
    "### 三级标题"
   ]
  },
  {
   "cell_type": "markdown",
   "metadata": {},
   "source": [
    "# 一级标题\n",
    "\n",
    "## 二级标题\n",
    "\n",
    "### 三级标题"
   ]
  },
  {
   "cell_type": "markdown",
   "metadata": {},
   "source": [
    "### 2.3注释"
   ]
  },
  {
   "cell_type": "raw",
   "metadata": {},
   "source": [
    "> 如果你还熟悉在 email 信件中的引言部分，你就知道怎么在 Markdown 文件中建立一个区块引用，那会看起来像是你自己先断好行，然后在每行的最前面加上"
   ]
  },
  {
   "cell_type": "markdown",
   "metadata": {},
   "source": [
    "> 如果你还熟悉在 email 信件中的引言部分，你就知道怎么在 Markdown 文件中建立一个区块引用，那会看起来像是你自己先断好行，然后在每行的最前面加上"
   ]
  },
  {
   "cell_type": "markdown",
   "metadata": {},
   "source": [
    "### 2.4列表"
   ]
  },
  {
   "cell_type": "raw",
   "metadata": {},
   "source": [
    "* Red\n",
    "* Green\n",
    "* Blue\n",
    "\n",
    "- Red\n",
    "- Green\n",
    "- Blue\n",
    "\n",
    "+ Red\n",
    "+ Green\n",
    "+ Blue\n",
    "\n",
    "1. Red\n",
    "2. Green\n",
    "3. Blue\n",
    "\n",
    "1. Red\n",
    " * a\n",
    " * b\n",
    " * c\n",
    "2. Green\n",
    " 1. A\n",
    " 2. B\n",
    " 3. C\n",
    "3. Blue"
   ]
  },
  {
   "cell_type": "markdown",
   "metadata": {},
   "source": [
    "* Red\n",
    "* Green\n",
    "* Blue\n",
    "\n",
    "\n",
    "- Red\n",
    "- Green\n",
    "- Blue\n",
    "\n",
    "\n",
    "+ Red\n",
    "+ Green\n",
    "+ Blue\n",
    "\n",
    "\n",
    "1. Red\n",
    "2. Green\n",
    "3. Blue\n",
    "\n",
    "\n",
    "1. Red\n",
    " * a\n",
    " * b\n",
    " * c\n",
    "2. Green\n",
    " 1. A\n",
    " 2. B\n",
    " 3. C\n",
    "3. Blue\n",
    " 1. A\n",
    " 2. B\n",
    " 3. C"
   ]
  },
  {
   "cell_type": "markdown",
   "metadata": {},
   "source": [
    "### 2.5超级链接"
   ]
  },
  {
   "cell_type": "raw",
   "metadata": {},
   "source": [
    "<http://daringfireball.net/projects/markdown/>"
   ]
  },
  {
   "cell_type": "markdown",
   "metadata": {},
   "source": [
    "<http://daringfireball.net/projects/markdown/>"
   ]
  },
  {
   "cell_type": "markdown",
   "metadata": {},
   "source": [
    "### 2.6字体"
   ]
  },
  {
   "cell_type": "raw",
   "metadata": {},
   "source": [
    "你可以把文字设置为 *斜体* 或 **粗体**"
   ]
  },
  {
   "cell_type": "markdown",
   "metadata": {},
   "source": [
    "你可以把文字设置为 *斜体* 或 **粗体**"
   ]
  },
  {
   "cell_type": "markdown",
   "metadata": {},
   "source": [
    "### 2.7分割线"
   ]
  },
  {
   "cell_type": "raw",
   "metadata": {},
   "source": [
    "* * *\n",
    "***\n",
    "*****\n",
    "---\n",
    "---------------------------------------"
   ]
  },
  {
   "cell_type": "markdown",
   "metadata": {},
   "source": [
    "---"
   ]
  },
  {
   "cell_type": "markdown",
   "metadata": {},
   "source": [
    "### 2.8公式"
   ]
  },
  {
   "cell_type": "raw",
   "metadata": {},
   "source": [
    "公式与与文字一起\n",
    "$e^{i\\pi} + 1 = 0$  显示\n",
    "\n",
    "公式单独：\n",
    "\n",
    "$$e^x=\\sum_{i=0}^\\infty \\frac{1}{i!}x^i$$"
   ]
  },
  {
   "cell_type": "markdown",
   "metadata": {},
   "source": [
    "公式与与文字一起\n",
    "$e^{i\\pi} + 1 = 0$  显示\n",
    "\n",
    "公式单独：\n",
    "\n",
    "$$e^x=\\sum_{i=0}^\\infty \\frac{1}{i!}x^i$$"
   ]
  },
  {
   "cell_type": "markdown",
   "metadata": {},
   "source": [
    "### 2.9文字中显示代码"
   ]
  },
  {
   "cell_type": "raw",
   "metadata": {},
   "source": [
    "在文字中显示代码，可以根据不同语言高亮显示\n",
    "* 源码：\n",
    "\n",
    "<pre>\n",
    "```python\n",
    "print \"Hello World\"\n",
    "```\n",
    "\n",
    "```javascript\n",
    "console.log(\"Hello World\")\n",
    "```\n",
    "</pre>\n",
    "\n",
    "* 显示效果 \n",
    "```python\n",
    "print \"Hello World\"\n",
    "```\n",
    "\n",
    "```javascript\n",
    "console.log(\"Hello World\")\n",
    "```\n"
   ]
  },
  {
   "cell_type": "markdown",
   "metadata": {},
   "source": [
    "在文字中显示代码，可以根据不同语言高亮显示\n",
    "* 源码：\n",
    "\n",
    "<pre>\n",
    "```python\n",
    "print \"Hello World\"\n",
    "```\n",
    "\n",
    "```javascript\n",
    "console.log(\"Hello World\")\n",
    "```\n",
    "</pre>\n",
    "\n",
    "* 显示效果 \n",
    "```python\n",
    "print \"Hello World\"\n",
    "```\n",
    "\n",
    "```javascript\n",
    "console.log(\"Hello World\")\n",
    "```\n"
   ]
  },
  {
   "cell_type": "markdown",
   "metadata": {},
   "source": [
    "### 2.10表格"
   ]
  },
  {
   "cell_type": "raw",
   "metadata": {},
   "source": [
    "| 一个普通标题 | 一个普通标题 | 一个普通标题 |\n",
    "| ------| ------ | ------ |\n",
    "| 短文本 | 中等文本 | 稍微长一点的文本 |\n",
    "| 稍微长一点的文本 | 短文本 | 中等文本 |\n"
   ]
  },
  {
   "cell_type": "markdown",
   "metadata": {},
   "source": [
    "| 一个普通标题 | 一个普通标题 | 一个普通标题 |\n",
    "| ------| ------ | ------ |\n",
    "| 短文本 | 中等文本 | 稍微长一点的文本 |\n",
    "| 稍微长一点的文本 | 短文本 | 中等文本 |\n"
   ]
  },
  {
   "cell_type": "raw",
   "metadata": {},
   "source": [
    "| 左对齐标题 | 右对齐标题 | 居中对齐标题 |\n",
    "| :------| ------: | :------: |\n",
    "| 短文本 | 中等文本 | 稍微长一点的文本 |\n",
    "| 稍微长一点的文本 | 短文本 | 中等文本 |"
   ]
  },
  {
   "cell_type": "markdown",
   "metadata": {},
   "source": [
    "| 左对齐标题 | 右对齐标题 | 居中对齐标题 |\n",
    "| :------| ------: | :------: |\n",
    "| 短文本 | 中等文本 | 稍微长一点的文本 |\n",
    "| 稍微长一点的文本 | 短文本 | 中等文本 |"
   ]
  },
  {
   "cell_type": "markdown",
   "metadata": {},
   "source": [
    "### 2.11插入图片或附件"
   ]
  },
  {
   "cell_type": "raw",
   "metadata": {},
   "source": [
    "![Alt text](/path/to/img.jpg)\n",
    "\n",
    "![Alt text](/path/to/img.jpg \"Optional title\")"
   ]
  },
  {
   "cell_type": "markdown",
   "metadata": {},
   "source": [
    "* 一个惊叹号 !\n",
    "* 接着一个方括号，里面放上图片的替代文字，也就是当图片还未加载成功时显示的替换文本\n",
    "* 接着一个普通括号，里面放上图片的网址，以及可选的用双引号（或单引号或括弧）包住的’title’文字，两者之间用若干个空格分割开来，如果加上了’title’文字，那么鼠标移到该图片上就会显示出该文字"
   ]
  },
  {
   "cell_type": "markdown",
   "metadata": {},
   "source": [
    "![世界地图](img/World_map.jpg)"
   ]
  },
  {
   "cell_type": "code",
   "execution_count": null,
   "metadata": {
    "collapsed": true
   },
   "outputs": [],
   "source": []
  }
 ],
 "metadata": {
  "anaconda-cloud": {},
  "kernelspec": {
   "display_name": "Python 3",
   "language": "python",
   "name": "python3"
  },
  "language_info": {
   "codemirror_mode": {
    "name": "ipython",
    "version": 3
   },
   "file_extension": ".py",
   "mimetype": "text/x-python",
   "name": "python",
   "nbconvert_exporter": "python",
   "pygments_lexer": "ipython3",
   "version": "3.6.5"
  }
 },
 "nbformat": 4,
 "nbformat_minor": 2
}
