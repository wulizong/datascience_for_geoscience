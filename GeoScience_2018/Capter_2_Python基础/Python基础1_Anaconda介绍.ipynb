{
 "cells": [
  {
   "cell_type": "markdown",
   "metadata": {
    "nbpresent": {
     "id": "03e70f90-8e43-479d-b87c-b7c86eb1e433"
    },
    "slideshow": {
     "slide_type": "slide"
    }
   },
   "source": [
    "# Python基础1：Anaconda安装\n",
    "----\n",
    "* 作者：吴立宗\n",
    "* 日期：2016-7-7\n",
    "* 目标：\n",
    " * 学习安装Anaconda\n",
    " * 查看已安装模块\n",
    " * 安装新模块\n"
   ]
  },
  {
   "cell_type": "markdown",
   "metadata": {
    "nbpresent": {
     "id": "1cc95724-39fa-44a9-9167-ad637b905e8b"
    }
   },
   "source": [
    "## 1.Ananconda简介\n",
    "Python 是一种强大的编程语言，其提供了很多用于科学计算的模块，常见的包括 numpy、scipy 和 matplotlib。要利用 Python 进行科学计算，就需要一一安装所需的模块， 而这些模块可能又依赖于其它的软件包或库，因而安装和使用起来相对麻烦。幸好有人 专门在做这一类事情，将科学计算所需要的模块都编译好，然后打包以发行版的形式 供用户使用，Anaconda 就是其中一个常用的科学计算发行版。"
   ]
  },
  {
   "cell_type": "markdown",
   "metadata": {},
   "source": [
    "## 2.Anaconda 的特点\n",
    "* 包含了众多流行的科学、数学、工程、数据分析的 Python 包\n",
    "* 完全开源和免费\n",
    "* 额外的加速、优化是收费的，但对于学术用途可以申请免费的 License\n",
    "* 全平台支持：Linux、Windows、Mac\n",
    "* 支持 Python 2.6、2.7、3.3、3.4，可自由切换\n",
    "* 支持分布式计算\n",
    "* 支持多种编程语言"
   ]
  },
  {
   "cell_type": "markdown",
   "metadata": {
    "nbpresent": {
     "id": "c96af4aa-6dd8-49b4-9c1d-5fb3a544050c"
    }
   },
   "source": [
    "## 3.安装Anaconda\n",
    "* 主页：https://store.continuum.io/cshop/anaconda/\n",
    "* Python3.5与Python 2.7版区别\n",
    " * Python 3.5是面向函数编程(最大的区别就是print)\n",
    " * python 2.x下的很多库还没有移植到3.x下\n",
    " * Py3.X源码文件默认使用utf-8编码\n",
    " * 地学数据清洗所需的工具，在3.X环境下都能运行\n",
    " * 地学数据清洗所需的GeoPandas在2.7版本无法正常使用\n",
    "* 请下载 Anaconda 64位python3.5版本\n",
    " * windows版:http://repo.continuum.io/archive/Anaconda3-4.1.0-Windows-x86_64.exe\n",
    " * Mac版：http://repo.continuum.io/archive/Anaconda3-4.1.0-MacOSX-x86_64.pkg\n",
    " * Linux版：http://repo.continuum.io/archive/Anaconda3-4.1.0-Linux-x86_64.sh\n",
    " "
   ]
  },
  {
   "cell_type": "markdown",
   "metadata": {
    "nbpresent": {
     "id": "884c1bbf-b54c-430a-9b01-efe0ceb0bafb"
    }
   },
   "source": [
    "![](img/install_anaconda.png)"
   ]
  },
  {
   "cell_type": "markdown",
   "metadata": {},
   "source": [
    "### 3.1 安装版本"
   ]
  },
  {
   "cell_type": "code",
   "execution_count": null,
   "metadata": {},
   "outputs": [],
   "source": []
  },
  {
   "cell_type": "markdown",
   "metadata": {},
   "source": [
    "## 4.模块安装"
   ]
  },
  {
   "cell_type": "markdown",
   "metadata": {},
   "source": [
    "### 4.1 pip 安装"
   ]
  },
  {
   "cell_type": "code",
   "execution_count": null,
   "metadata": {},
   "outputs": [],
   "source": [
    "conda list"
   ]
  },
  {
   "cell_type": "markdown",
   "metadata": {},
   "source": [
    "### 4.2 conda install 安装"
   ]
  },
  {
   "cell_type": "raw",
   "metadata": {},
   "source": [
    "conda install python=3.5"
   ]
  },
  {
   "cell_type": "markdown",
   "metadata": {},
   "source": [
    "## 6.安装python环境"
   ]
  },
  {
   "cell_type": "code",
   "execution_count": null,
   "metadata": {},
   "outputs": [],
   "source": []
  }
 ],
 "metadata": {
  "anaconda-cloud": {},
  "kernelspec": {
   "display_name": "Python 3",
   "language": "python",
   "name": "python3"
  },
  "language_info": {
   "codemirror_mode": {
    "name": "ipython",
    "version": 3
   },
   "file_extension": ".py",
   "mimetype": "text/x-python",
   "name": "python",
   "nbconvert_exporter": "python",
   "pygments_lexer": "ipython3",
   "version": "3.6.5"
  },
  "nbpresent": {
   "slides": {
    "040ecdb5-1c27-481d-b7b5-c961b7f11256": {
     "id": "040ecdb5-1c27-481d-b7b5-c961b7f11256",
     "prev": "bd949542-a476-482d-b87d-fff096eaf3ef",
     "regions": {
      "3e86f2dd-a020-4d5f-aa04-a1f66b871db9": {
       "attrs": {
        "height": 0.8,
        "width": 0.8,
        "x": 0.1,
        "y": 0.1
       },
       "content": {
        "cell": "884c1bbf-b54c-430a-9b01-efe0ceb0bafb",
        "part": "whole"
       },
       "id": "3e86f2dd-a020-4d5f-aa04-a1f66b871db9"
      }
     }
    },
    "23163d12-4a5c-4525-a0ab-ac9c2c898236": {
     "id": "23163d12-4a5c-4525-a0ab-ac9c2c898236",
     "prev": "b919f4b2-e571-4e38-9f43-b4bfc1a36c92",
     "regions": {
      "e4da7887-ffe3-402c-920d-22d818494974": {
       "attrs": {
        "height": 0.8,
        "width": 0.8,
        "x": 0.1,
        "y": 0.1
       },
       "content": {
        "cell": "1cc95724-39fa-44a9-9167-ad637b905e8b",
        "part": "whole"
       },
       "id": "e4da7887-ffe3-402c-920d-22d818494974"
      }
     }
    },
    "b919f4b2-e571-4e38-9f43-b4bfc1a36c92": {
     "id": "b919f4b2-e571-4e38-9f43-b4bfc1a36c92",
     "prev": null,
     "regions": {
      "c09f2488-a2ef-4326-942d-7589e07ff40a": {
       "attrs": {
        "height": 0.8,
        "width": 0.8,
        "x": 0.1,
        "y": 0.1
       },
       "content": {
        "cell": "03e70f90-8e43-479d-b87c-b7c86eb1e433",
        "part": "whole"
       },
       "id": "c09f2488-a2ef-4326-942d-7589e07ff40a"
      }
     }
    },
    "bd949542-a476-482d-b87d-fff096eaf3ef": {
     "id": "bd949542-a476-482d-b87d-fff096eaf3ef",
     "prev": "23163d12-4a5c-4525-a0ab-ac9c2c898236",
     "regions": {
      "bb215cb1-2032-4985-8ea6-57c002dc354e": {
       "attrs": {
        "height": 0.8,
        "width": 0.8,
        "x": 0.1,
        "y": 0.1
       },
       "content": {
        "cell": "c96af4aa-6dd8-49b4-9c1d-5fb3a544050c",
        "part": "whole"
       },
       "id": "bb215cb1-2032-4985-8ea6-57c002dc354e"
      }
     }
    },
    "df00d08d-326d-41db-8634-f9a748811267": {
     "id": "df00d08d-326d-41db-8634-f9a748811267",
     "prev": "040ecdb5-1c27-481d-b7b5-c961b7f11256",
     "regions": {
      "26013618-f681-494f-8909-5aa0974cd866": {
       "attrs": {
        "height": 0.8,
        "width": 0.8,
        "x": 0.1,
        "y": 0.1
       },
       "content": {
        "cell": "582efd4d-0511-4969-8652-fe2cae8f0146",
        "part": "whole"
       },
       "id": "26013618-f681-494f-8909-5aa0974cd866"
      }
     }
    }
   },
   "themes": {}
  }
 },
 "nbformat": 4,
 "nbformat_minor": 2
}
